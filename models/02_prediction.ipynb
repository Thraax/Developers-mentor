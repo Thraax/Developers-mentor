{
 "cells": [
  {
   "cell_type": "code",
   "execution_count": 2,
   "metadata": {},
   "outputs": [],
   "source": [
    "DF_PATH       = \"../data/processed/cleaned_data.pkl\"\n",
    "ROLE_COLS      = ['DevType']\n",
    "TECH_COLS      = ['LanguageWorkedWith',    'DatabaseWorkedWith',    'WebframeWorkedWith',    'MiscTechWorkedWith']"
   ]
  },
  {
   "cell_type": "markdown",
   "metadata": {},
   "source": [
    "## Import tools"
   ]
  },
  {
   "cell_type": "code",
   "execution_count": 16,
   "metadata": {},
   "outputs": [],
   "source": [
    "# Load packages\n",
    "import pandas as pd \n",
    "import numpy as np\n",
    "import yaml\n",
    "import pickle\n",
    "import random\n",
    "import plotly \n",
    "import os\n",
    "\n",
    "import mlflow\n",
    "from mlflow.tracking import MlflowClient\n",
    "\n",
    "from sklearn.preprocessing import MultiLabelBinarizer\n",
    "from sklearn.preprocessing import StandardScaler, RobustScaler, MinMaxScaler\n",
    "from sklearn.pipeline import make_pipeline, FeatureUnion\n",
    "from sklearn.feature_selection import VarianceThreshold\n",
    "from sklearn.multioutput import MultiOutputClassifier\n",
    "from sklearn.model_selection import train_test_split\n",
    "from sklearn.model_selection import GridSearchCV\n",
    "\n",
    "from sklearn import metrics\n",
    "from sklearn.metrics import auc, accuracy_score, confusion_matrix, f1_score, precision_score, recall_score\n",
    "\n",
    "from sklearn.decomposition import PCA, KernelPCA\n",
    "\n",
    "from sklearn import tree\n",
    "from sklearn.linear_model import LogisticRegression\n",
    "from sklearn.ensemble import AdaBoostClassifier\n",
    "from sklearn.ensemble import RandomForestClassifier\n",
    "from sklearn.neighbors import KNeighborsClassifier\n",
    "\n",
    "from matplotlib import pyplot as plt\n"
   ]
  },
  {
   "cell_type": "code",
   "execution_count": 3,
   "metadata": {},
   "outputs": [],
   "source": [
    "# Read Data \n",
    "df = pd.read_pickle(DF_PATH)"
   ]
  },
  {
   "cell_type": "markdown",
   "metadata": {},
   "source": [
    "## Functions"
   ]
  },
  {
   "cell_type": "code",
   "execution_count": 12,
   "metadata": {},
   "outputs": [],
   "source": [
    "def calculate_quality(ground_truth, prediction, metric_function, sort_values=False):\n",
    "    quality_scores = {}\n",
    "    for col in prediction.columns:\n",
    "        role_pred  = prediction[col].copy()\n",
    "        role_truth = ground_truth[col].copy()\n",
    "        quality_scores[col] = round(metric_function(role_truth, role_pred) * 100, 2)\n",
    "        \n",
    "    quality_scores = pd.Series(quality_scores.values(), index=quality_scores.keys())\n",
    "    if sort_values:\n",
    "        quality_scores = quality_scores.sort_values()\n",
    "    return quality_scores\n"
   ]
  },
  {
   "cell_type": "markdown",
   "metadata": {},
   "source": [
    "## Balance classes"
   ]
  },
  {
   "cell_type": "code",
   "execution_count": 4,
   "metadata": {},
   "outputs": [
    {
     "data": {
      "text/plain": [
       "Academic researcher                               581\n",
       "Data or business analyst                          669\n",
       "Data scientist or machine learning specialist     799\n",
       "Database administrator                            296\n",
       "DevOps specialist                                 677\n",
       "Developer, QA or test                             493\n",
       "Developer, back-end                              5503\n",
       "Developer, desktop or enterprise applications    1671\n",
       "Developer, embedded applications or devices       795\n",
       "Developer, front-end                             2890\n",
       "Developer, full-stack                            5578\n",
       "Developer, game or graphics                       342\n",
       "Developer, mobile                                1859\n",
       "Engineer, data                                    483\n",
       "Scientist                                         292\n",
       "System administrator                              440\n",
       "dtype: int64"
      ]
     },
     "execution_count": 4,
     "metadata": {},
     "output_type": "execute_result"
    }
   ],
   "source": [
    "roles_df = df.iloc[:, :16].copy()\n",
    "role_sum = roles_df.sum(axis=0)\n",
    "role_sum"
   ]
  },
  {
   "cell_type": "code",
   "execution_count": 5,
   "metadata": {},
   "outputs": [],
   "source": [
    "# Resample roles\n",
    "samples_per_class = 500\n",
    "resampled_roles = []\n",
    "\n",
    "for role_col in roles_df.columns:\n",
    "    sub_df = roles_df.loc[roles_df[role_col] == 1].copy()\n",
    "    \n",
    "    if len(sub_df) < samples_per_class:\n",
    "        # Upsample\n",
    "        sub_df = sub_df.sample(samples_per_class, replace=True, random_state=0)\n",
    "    else:\n",
    "        # Downsample\n",
    "        sub_df = sub_df.sample(samples_per_class, random_state=0) \n",
    "    \n",
    "    resampled_roles.append(sub_df)\n"
   ]
  },
  {
   "cell_type": "code",
   "execution_count": 6,
   "metadata": {},
   "outputs": [],
   "source": [
    "# Construct dfs\n",
    "roles_df  = pd.concat(resampled_roles)\n",
    "df = df.loc[roles_df.index]"
   ]
  },
  {
   "cell_type": "code",
   "execution_count": 7,
   "metadata": {},
   "outputs": [
    {
     "data": {
      "text/plain": [
       "Academic researcher                               797\n",
       "Data or business analyst                          767\n",
       "Data scientist or machine learning specialist     871\n",
       "Database administrator                            588\n",
       "DevOps specialist                                 705\n",
       "Developer, QA or test                             590\n",
       "Developer, back-end                              1770\n",
       "Developer, desktop or enterprise applications     892\n",
       "Developer, embedded applications or devices       666\n",
       "Developer, front-end                              893\n",
       "Developer, full-stack                            1431\n",
       "Developer, game or graphics                       560\n",
       "Developer, mobile                                 800\n",
       "Engineer, data                                    631\n",
       "Scientist                                         642\n",
       "System administrator                              647\n",
       "dtype: int64"
      ]
     },
     "execution_count": 7,
     "metadata": {},
     "output_type": "execute_result"
    }
   ],
   "source": [
    "roles_df.sum(axis=0)"
   ]
  },
  {
   "cell_type": "code",
   "execution_count": 8,
   "metadata": {},
   "outputs": [],
   "source": [
    "X_train, X_test, Y_train, Y_test = train_test_split(df.iloc[:, 16:], df.iloc[:, :16], random_state=0)"
   ]
  },
  {
   "cell_type": "markdown",
   "metadata": {},
   "source": [
    "## Random forest with non-linearity"
   ]
  },
  {
   "cell_type": "code",
   "execution_count": 9,
   "metadata": {},
   "outputs": [
    {
     "data": {
      "text/plain": [
       "Pipeline(steps=[('standardscaler', StandardScaler()),\n",
       "                ('featureunion',\n",
       "                 FeatureUnion(transformer_list=[('linear_pca',\n",
       "                                                 PCA(n_components=40)),\n",
       "                                                ('kernel_pca',\n",
       "                                                 KernelPCA(kernel='rbf',\n",
       "                                                           n_components=40))])),\n",
       "                ('randomforestclassifier',\n",
       "                 RandomForestClassifier(random_state=0))])"
      ]
     },
     "execution_count": 9,
     "metadata": {},
     "output_type": "execute_result"
    }
   ],
   "source": [
    "rf_clf = make_pipeline(StandardScaler(), \n",
    "                       FeatureUnion([('linear_pca', PCA(n_components=40)), \n",
    "                                      ('kernel_pca', KernelPCA(n_components=40, \n",
    "                                                               kernel='rbf'))]),\n",
    "                       RandomForestClassifier(random_state=0))\n",
    "\n",
    "rf_clf.fit(X_train, Y_train)"
   ]
  },
  {
   "cell_type": "code",
   "execution_count": 13,
   "metadata": {},
   "outputs": [],
   "source": [
    "# Evaluate on train set\n",
    "predictions =  pd.DataFrame(rf_clf.predict(X_train), columns=Y_train.columns)\n",
    "train_scores = {score.__name__: calculate_quality(Y_train, predictions, score) \n",
    "                for score in [accuracy_score, precision_score, recall_score, f1_score]}\n",
    "train_scores = pd.concat(train_scores,axis=1)"
   ]
  },
  {
   "cell_type": "code",
   "execution_count": 14,
   "metadata": {},
   "outputs": [
    {
     "data": {
      "text/html": [
       "<div>\n",
       "<style scoped>\n",
       "    .dataframe tbody tr th:only-of-type {\n",
       "        vertical-align: middle;\n",
       "    }\n",
       "\n",
       "    .dataframe tbody tr th {\n",
       "        vertical-align: top;\n",
       "    }\n",
       "\n",
       "    .dataframe thead th {\n",
       "        text-align: right;\n",
       "    }\n",
       "</style>\n",
       "<table border=\"1\" class=\"dataframe\">\n",
       "  <thead>\n",
       "    <tr style=\"text-align: right;\">\n",
       "      <th></th>\n",
       "      <th>accuracy_score</th>\n",
       "      <th>precision_score</th>\n",
       "      <th>recall_score</th>\n",
       "      <th>f1_score</th>\n",
       "    </tr>\n",
       "  </thead>\n",
       "  <tbody>\n",
       "    <tr>\n",
       "      <th>Academic researcher</th>\n",
       "      <td>98.83</td>\n",
       "      <td>96.93</td>\n",
       "      <td>91.02</td>\n",
       "      <td>93.88</td>\n",
       "    </tr>\n",
       "    <tr>\n",
       "      <th>Data or business analyst</th>\n",
       "      <td>99.33</td>\n",
       "      <td>97.59</td>\n",
       "      <td>95.62</td>\n",
       "      <td>96.59</td>\n",
       "    </tr>\n",
       "    <tr>\n",
       "      <th>Data scientist or machine learning specialist</th>\n",
       "      <td>99.23</td>\n",
       "      <td>97.11</td>\n",
       "      <td>95.94</td>\n",
       "      <td>96.52</td>\n",
       "    </tr>\n",
       "    <tr>\n",
       "      <th>Database administrator</th>\n",
       "      <td>99.32</td>\n",
       "      <td>94.69</td>\n",
       "      <td>96.18</td>\n",
       "      <td>95.43</td>\n",
       "    </tr>\n",
       "    <tr>\n",
       "      <th>DevOps specialist</th>\n",
       "      <td>99.57</td>\n",
       "      <td>99.41</td>\n",
       "      <td>95.64</td>\n",
       "      <td>97.49</td>\n",
       "    </tr>\n",
       "    <tr>\n",
       "      <th>Developer, QA or test</th>\n",
       "      <td>99.40</td>\n",
       "      <td>99.49</td>\n",
       "      <td>92.06</td>\n",
       "      <td>95.63</td>\n",
       "    </tr>\n",
       "    <tr>\n",
       "      <th>Developer, back-end</th>\n",
       "      <td>98.67</td>\n",
       "      <td>98.98</td>\n",
       "      <td>94.94</td>\n",
       "      <td>96.92</td>\n",
       "    </tr>\n",
       "    <tr>\n",
       "      <th>Developer, desktop or enterprise applications</th>\n",
       "      <td>98.68</td>\n",
       "      <td>96.70</td>\n",
       "      <td>91.39</td>\n",
       "      <td>93.97</td>\n",
       "    </tr>\n",
       "    <tr>\n",
       "      <th>Developer, embedded applications or devices</th>\n",
       "      <td>98.78</td>\n",
       "      <td>94.23</td>\n",
       "      <td>91.04</td>\n",
       "      <td>92.60</td>\n",
       "    </tr>\n",
       "    <tr>\n",
       "      <th>Developer, front-end</th>\n",
       "      <td>99.43</td>\n",
       "      <td>97.53</td>\n",
       "      <td>97.53</td>\n",
       "      <td>97.53</td>\n",
       "    </tr>\n",
       "    <tr>\n",
       "      <th>Developer, full-stack</th>\n",
       "      <td>99.20</td>\n",
       "      <td>99.42</td>\n",
       "      <td>96.09</td>\n",
       "      <td>97.73</td>\n",
       "    </tr>\n",
       "    <tr>\n",
       "      <th>Developer, game or graphics</th>\n",
       "      <td>99.72</td>\n",
       "      <td>97.88</td>\n",
       "      <td>98.11</td>\n",
       "      <td>98.00</td>\n",
       "    </tr>\n",
       "    <tr>\n",
       "      <th>Developer, mobile</th>\n",
       "      <td>99.75</td>\n",
       "      <td>98.97</td>\n",
       "      <td>98.47</td>\n",
       "      <td>98.72</td>\n",
       "    </tr>\n",
       "    <tr>\n",
       "      <th>Engineer, data</th>\n",
       "      <td>99.40</td>\n",
       "      <td>97.37</td>\n",
       "      <td>94.88</td>\n",
       "      <td>96.11</td>\n",
       "    </tr>\n",
       "    <tr>\n",
       "      <th>Scientist</th>\n",
       "      <td>98.97</td>\n",
       "      <td>96.75</td>\n",
       "      <td>90.47</td>\n",
       "      <td>93.50</td>\n",
       "    </tr>\n",
       "    <tr>\n",
       "      <th>System administrator</th>\n",
       "      <td>99.65</td>\n",
       "      <td>99.35</td>\n",
       "      <td>96.23</td>\n",
       "      <td>97.77</td>\n",
       "    </tr>\n",
       "  </tbody>\n",
       "</table>\n",
       "</div>"
      ],
      "text/plain": [
       "                                               accuracy_score  \\\n",
       "Academic researcher                                     98.83   \n",
       "Data or business analyst                                99.33   \n",
       "Data scientist or machine learning specialist           99.23   \n",
       "Database administrator                                  99.32   \n",
       "DevOps specialist                                       99.57   \n",
       "Developer, QA or test                                   99.40   \n",
       "Developer, back-end                                     98.67   \n",
       "Developer, desktop or enterprise applications           98.68   \n",
       "Developer, embedded applications or devices             98.78   \n",
       "Developer, front-end                                    99.43   \n",
       "Developer, full-stack                                   99.20   \n",
       "Developer, game or graphics                             99.72   \n",
       "Developer, mobile                                       99.75   \n",
       "Engineer, data                                          99.40   \n",
       "Scientist                                               98.97   \n",
       "System administrator                                    99.65   \n",
       "\n",
       "                                               precision_score  recall_score  \\\n",
       "Academic researcher                                      96.93         91.02   \n",
       "Data or business analyst                                 97.59         95.62   \n",
       "Data scientist or machine learning specialist            97.11         95.94   \n",
       "Database administrator                                   94.69         96.18   \n",
       "DevOps specialist                                        99.41         95.64   \n",
       "Developer, QA or test                                    99.49         92.06   \n",
       "Developer, back-end                                      98.98         94.94   \n",
       "Developer, desktop or enterprise applications            96.70         91.39   \n",
       "Developer, embedded applications or devices              94.23         91.04   \n",
       "Developer, front-end                                     97.53         97.53   \n",
       "Developer, full-stack                                    99.42         96.09   \n",
       "Developer, game or graphics                              97.88         98.11   \n",
       "Developer, mobile                                        98.97         98.47   \n",
       "Engineer, data                                           97.37         94.88   \n",
       "Scientist                                                96.75         90.47   \n",
       "System administrator                                     99.35         96.23   \n",
       "\n",
       "                                               f1_score  \n",
       "Academic researcher                               93.88  \n",
       "Data or business analyst                          96.59  \n",
       "Data scientist or machine learning specialist     96.52  \n",
       "Database administrator                            95.43  \n",
       "DevOps specialist                                 97.49  \n",
       "Developer, QA or test                             95.63  \n",
       "Developer, back-end                               96.92  \n",
       "Developer, desktop or enterprise applications     93.97  \n",
       "Developer, embedded applications or devices       92.60  \n",
       "Developer, front-end                              97.53  \n",
       "Developer, full-stack                             97.73  \n",
       "Developer, game or graphics                       98.00  \n",
       "Developer, mobile                                 98.72  \n",
       "Engineer, data                                    96.11  \n",
       "Scientist                                         93.50  \n",
       "System administrator                              97.77  "
      ]
     },
     "execution_count": 14,
     "metadata": {},
     "output_type": "execute_result"
    }
   ],
   "source": [
    "train_scores"
   ]
  },
  {
   "cell_type": "markdown",
   "metadata": {},
   "source": [
    "## Predict sample entery"
   ]
  },
  {
   "cell_type": "code",
   "execution_count": 85,
   "metadata": {},
   "outputs": [
    {
     "data": {
      "text/plain": [
       "Developer, full-stack                            0.755000\n",
       "Developer, back-end                              0.703881\n",
       "Developer, front-end                             0.178690\n",
       "Database administrator                           0.073810\n",
       "Developer, mobile                                0.054333\n",
       "DevOps specialist                                0.030000\n",
       "Developer, QA or test                            0.021250\n",
       "Data scientist or machine learning specialist    0.020000\n",
       "System administrator                             0.012500\n",
       "Data or business analyst                         0.011250\n",
       "Academic researcher                              0.010000\n",
       "Developer, embedded applications or devices      0.010000\n",
       "Developer, game or graphics                      0.010000\n",
       "Engineer, data                                   0.010000\n",
       "Developer, desktop or enterprise applications    0.001250\n",
       "Scientist                                        0.001250\n",
       "dtype: float64"
      ]
     },
     "execution_count": 85,
     "metadata": {},
     "output_type": "execute_result"
    }
   ],
   "source": [
    "prediction = rf_clf.predict_proba(X_test.iloc[:1, :])\n",
    "positive_probs = [prob[0][1] for prob in prediction]\n",
    "pd.Series(positive_probs, \n",
    "          index=Y_train.columns).sort_values(ascending=False)\n"
   ]
  },
  {
   "cell_type": "code",
   "execution_count": null,
   "metadata": {},
   "outputs": [],
   "source": []
  }
 ],
 "metadata": {
  "interpreter": {
   "hash": "613f41dc82044734f3e085e0ad96926aab0df142e7f3bbb31dc019d59e11878b"
  },
  "kernelspec": {
   "display_name": "Python 3.9.7 ('base')",
   "language": "python",
   "name": "python3"
  },
  "language_info": {
   "codemirror_mode": {
    "name": "ipython",
    "version": 3
   },
   "file_extension": ".py",
   "mimetype": "text/x-python",
   "name": "python",
   "nbconvert_exporter": "python",
   "pygments_lexer": "ipython3",
   "version": "3.9.7"
  },
  "orig_nbformat": 4
 },
 "nbformat": 4,
 "nbformat_minor": 2
}
