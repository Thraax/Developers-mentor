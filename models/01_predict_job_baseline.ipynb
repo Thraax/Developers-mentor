{
 "cells": [
  {
   "cell_type": "markdown",
   "metadata": {},
   "source": [
    "## Constants"
   ]
  },
  {
   "cell_type": "code",
   "execution_count": 1,
   "metadata": {},
   "outputs": [],
   "source": [
    "DF_PATH       = \"../data/processed/cleaned_data.pkl\"\n",
    "ROLE_COLS      = ['DevType']\n",
    "TECH_COLS      = ['LanguageWorkedWith',    'DatabaseWorkedWith',    'WebframeWorkedWith',    'MiscTechWorkedWith']\n",
    "LOG_PATH = \"../models/temp/baseline/\"\n",
    "LOG_DATA_PKL    =  \"data.pkl\"\n",
    "LOG_MODEL_PKL   =  \"model.pkl\"\n"
   ]
  },
  {
   "cell_type": "markdown",
   "metadata": {},
   "source": [
    "## Import tools"
   ]
  },
  {
   "cell_type": "code",
   "execution_count": 2,
   "metadata": {},
   "outputs": [],
   "source": [
    "# Load packages\n",
    "import pandas as pd \n",
    "import numpy as np\n",
    "from sklearn.preprocessing import StandardScaler\n",
    "from sklearn.pipeline import make_pipeline\n",
    "from sklearn.multioutput import MultiOutputClassifier\n",
    "from sklearn.model_selection import train_test_split\n",
    "from sklearn.metrics import accuracy_score, f1_score, precision_score, recall_score\n",
    "from sklearn.linear_model import LogisticRegression\n"
   ]
  },
  {
   "cell_type": "markdown",
   "metadata": {},
   "source": [
    "## Load the data"
   ]
  },
  {
   "cell_type": "code",
   "execution_count": 3,
   "metadata": {},
   "outputs": [],
   "source": [
    "df = pd.read_pickle(DF_PATH)"
   ]
  },
  {
   "cell_type": "markdown",
   "metadata": {},
   "source": [
    "## Functions"
   ]
  },
  {
   "cell_type": "code",
   "execution_count": 36,
   "metadata": {},
   "outputs": [],
   "source": [
    "def calculate_quality(ground_truth, prediction, metric_function, sort_values=False):\n",
    "    quality_scores = {}\n",
    "    for col in prediction.columns:\n",
    "        role_pred  = prediction[col].copy()\n",
    "        role_truth = ground_truth[col].copy()\n",
    "        quality_scores[col] = round(metric_function(role_truth, role_pred) * 100, 2)\n",
    "        \n",
    "    quality_scores = pd.Series(quality_scores.values(), index=quality_scores.keys())\n",
    "    if sort_values:\n",
    "        quality_scores = quality_scores.sort_values()\n",
    "    \n",
    "    return quality_scores\n"
   ]
  },
  {
   "cell_type": "markdown",
   "metadata": {},
   "source": [
    "## Balance classes"
   ]
  },
  {
   "cell_type": "code",
   "execution_count": 11,
   "metadata": {},
   "outputs": [
    {
     "data": {
      "text/plain": [
       "Academic researcher                               581\n",
       "Data or business analyst                          669\n",
       "Data scientist or machine learning specialist     799\n",
       "Database administrator                            296\n",
       "DevOps specialist                                 677\n",
       "Developer, QA or test                             493\n",
       "Developer, back-end                              5503\n",
       "Developer, desktop or enterprise applications    1671\n",
       "Developer, embedded applications or devices       795\n",
       "Developer, front-end                             2890\n",
       "Developer, full-stack                            5578\n",
       "Developer, game or graphics                       342\n",
       "Developer, mobile                                1859\n",
       "Engineer, data                                    483\n",
       "Scientist                                         292\n",
       "System administrator                              440\n",
       "dtype: int64"
      ]
     },
     "execution_count": 11,
     "metadata": {},
     "output_type": "execute_result"
    }
   ],
   "source": [
    "roles_df = df.iloc[:, :16].copy()\n",
    "role_sum = roles_df.sum(axis=0)\n",
    "role_sum\n"
   ]
  },
  {
   "cell_type": "markdown",
   "metadata": {},
   "source": [
    "## Resample the data"
   ]
  },
  {
   "cell_type": "code",
   "execution_count": 12,
   "metadata": {},
   "outputs": [],
   "source": [
    "# Resample roles\n",
    "samples_per_class = 500\n",
    "resampled_roles = []\n",
    "\n",
    "for role_col in roles_df.columns:\n",
    "    sub_df = roles_df.loc[roles_df[role_col] == 1].copy()\n",
    "    \n",
    "    if len(sub_df) < samples_per_class:\n",
    "        # Upsample\n",
    "        sub_df = sub_df.sample(samples_per_class, replace=True, random_state=0)\n",
    "    else:\n",
    "        # Downsample\n",
    "        sub_df = sub_df.sample(samples_per_class, random_state=0) \n",
    "    \n",
    "    resampled_roles.append(sub_df)"
   ]
  },
  {
   "cell_type": "code",
   "execution_count": 21,
   "metadata": {},
   "outputs": [],
   "source": [
    "# Construct dfs\n",
    "roles_df  = pd.concat(resampled_roles)\n",
    "df = df.loc[roles_df.index]"
   ]
  },
  {
   "cell_type": "code",
   "execution_count": 25,
   "metadata": {},
   "outputs": [
    {
     "data": {
      "text/plain": [
       "Academic researcher                               797\n",
       "Data or business analyst                          767\n",
       "Data scientist or machine learning specialist     871\n",
       "Database administrator                            588\n",
       "DevOps specialist                                 705\n",
       "Developer, QA or test                             590\n",
       "Developer, back-end                              1770\n",
       "Developer, desktop or enterprise applications     892\n",
       "Developer, embedded applications or devices       666\n",
       "Developer, front-end                              893\n",
       "Developer, full-stack                            1431\n",
       "Developer, game or graphics                       560\n",
       "Developer, mobile                                 800\n",
       "Engineer, data                                    631\n",
       "Scientist                                         642\n",
       "System administrator                              647\n",
       "dtype: int64"
      ]
     },
     "execution_count": 25,
     "metadata": {},
     "output_type": "execute_result"
    }
   ],
   "source": [
    "roles_df.sum(axis=0)"
   ]
  },
  {
   "cell_type": "code",
   "execution_count": 27,
   "metadata": {},
   "outputs": [],
   "source": [
    "X_train, X_test, Y_train, Y_test = train_test_split(df.iloc[:, 16:], df.iloc[:, :16], random_state=0)"
   ]
  },
  {
   "cell_type": "code",
   "execution_count": 28,
   "metadata": {},
   "outputs": [
    {
     "data": {
      "text/plain": [
       "(10723, 91)"
      ]
     },
     "execution_count": 28,
     "metadata": {},
     "output_type": "execute_result"
    }
   ],
   "source": [
    "X_train.shape"
   ]
  },
  {
   "cell_type": "markdown",
   "metadata": {},
   "source": [
    "## Logistic regression"
   ]
  },
  {
   "cell_type": "code",
   "execution_count": 29,
   "metadata": {},
   "outputs": [],
   "source": [
    "clf = make_pipeline(StandardScaler(), \n",
    "                    MultiOutputClassifier(LogisticRegression()))\n",
    "\n",
    "clf.fit(X_train, Y_train)\n",
    "predictions =  pd.DataFrame(clf.predict(X_train), columns=Y_train.columns)"
   ]
  },
  {
   "cell_type": "code",
   "execution_count": 41,
   "metadata": {},
   "outputs": [],
   "source": [
    "# Evaluate on training set\n",
    "train_scores = {score.__name__: calculate_quality(Y_train, predictions, score) \n",
    "                for score in [accuracy_score, precision_score, recall_score, f1_score]}\n",
    "train_scores = pd.concat(train_scores,axis=1)\n"
   ]
  },
  {
   "cell_type": "code",
   "execution_count": 42,
   "metadata": {},
   "outputs": [
    {
     "data": {
      "text/html": [
       "<div>\n",
       "<style scoped>\n",
       "    .dataframe tbody tr th:only-of-type {\n",
       "        vertical-align: middle;\n",
       "    }\n",
       "\n",
       "    .dataframe tbody tr th {\n",
       "        vertical-align: top;\n",
       "    }\n",
       "\n",
       "    .dataframe thead th {\n",
       "        text-align: right;\n",
       "    }\n",
       "</style>\n",
       "<table border=\"1\" class=\"dataframe\">\n",
       "  <thead>\n",
       "    <tr style=\"text-align: right;\">\n",
       "      <th></th>\n",
       "      <th>accuracy_score</th>\n",
       "      <th>precision_score</th>\n",
       "      <th>recall_score</th>\n",
       "      <th>f1_score</th>\n",
       "    </tr>\n",
       "  </thead>\n",
       "  <tbody>\n",
       "    <tr>\n",
       "      <th>Academic researcher</th>\n",
       "      <td>89.42</td>\n",
       "      <td>62.47</td>\n",
       "      <td>23.76</td>\n",
       "      <td>34.43</td>\n",
       "    </tr>\n",
       "    <tr>\n",
       "      <th>Data or business analyst</th>\n",
       "      <td>93.13</td>\n",
       "      <td>77.91</td>\n",
       "      <td>43.26</td>\n",
       "      <td>55.63</td>\n",
       "    </tr>\n",
       "    <tr>\n",
       "      <th>Data scientist or machine learning specialist</th>\n",
       "      <td>93.02</td>\n",
       "      <td>74.47</td>\n",
       "      <td>49.96</td>\n",
       "      <td>59.80</td>\n",
       "    </tr>\n",
       "    <tr>\n",
       "      <th>Database administrator</th>\n",
       "      <td>89.89</td>\n",
       "      <td>65.18</td>\n",
       "      <td>42.18</td>\n",
       "      <td>51.22</td>\n",
       "    </tr>\n",
       "    <tr>\n",
       "      <th>DevOps specialist</th>\n",
       "      <td>93.96</td>\n",
       "      <td>76.43</td>\n",
       "      <td>41.17</td>\n",
       "      <td>53.52</td>\n",
       "    </tr>\n",
       "    <tr>\n",
       "      <th>Developer, QA or test</th>\n",
       "      <td>90.77</td>\n",
       "      <td>68.87</td>\n",
       "      <td>7.09</td>\n",
       "      <td>12.85</td>\n",
       "    </tr>\n",
       "    <tr>\n",
       "      <th>Developer, back-end</th>\n",
       "      <td>84.62</td>\n",
       "      <td>68.61</td>\n",
       "      <td>33.86</td>\n",
       "      <td>45.34</td>\n",
       "    </tr>\n",
       "    <tr>\n",
       "      <th>Developer, desktop or enterprise applications</th>\n",
       "      <td>90.19</td>\n",
       "      <td>46.11</td>\n",
       "      <td>8.58</td>\n",
       "      <td>14.47</td>\n",
       "    </tr>\n",
       "    <tr>\n",
       "      <th>Developer, embedded applications or devices</th>\n",
       "      <td>92.91</td>\n",
       "      <td>47.30</td>\n",
       "      <td>15.26</td>\n",
       "      <td>23.08</td>\n",
       "    </tr>\n",
       "    <tr>\n",
       "      <th>Developer, front-end</th>\n",
       "      <td>93.63</td>\n",
       "      <td>69.30</td>\n",
       "      <td>41.44</td>\n",
       "      <td>51.87</td>\n",
       "    </tr>\n",
       "    <tr>\n",
       "      <th>Developer, full-stack</th>\n",
       "      <td>86.57</td>\n",
       "      <td>57.71</td>\n",
       "      <td>28.13</td>\n",
       "      <td>37.82</td>\n",
       "    </tr>\n",
       "    <tr>\n",
       "      <th>Developer, game or graphics</th>\n",
       "      <td>94.78</td>\n",
       "      <td>87.17</td>\n",
       "      <td>57.51</td>\n",
       "      <td>69.30</td>\n",
       "    </tr>\n",
       "    <tr>\n",
       "      <th>Developer, mobile</th>\n",
       "      <td>95.54</td>\n",
       "      <td>80.31</td>\n",
       "      <td>59.61</td>\n",
       "      <td>68.43</td>\n",
       "    </tr>\n",
       "    <tr>\n",
       "      <th>Engineer, data</th>\n",
       "      <td>90.78</td>\n",
       "      <td>66.23</td>\n",
       "      <td>22.89</td>\n",
       "      <td>34.02</td>\n",
       "    </tr>\n",
       "    <tr>\n",
       "      <th>Scientist</th>\n",
       "      <td>89.14</td>\n",
       "      <td>69.13</td>\n",
       "      <td>38.56</td>\n",
       "      <td>49.50</td>\n",
       "    </tr>\n",
       "    <tr>\n",
       "      <th>System administrator</th>\n",
       "      <td>90.64</td>\n",
       "      <td>66.74</td>\n",
       "      <td>27.41</td>\n",
       "      <td>38.86</td>\n",
       "    </tr>\n",
       "  </tbody>\n",
       "</table>\n",
       "</div>"
      ],
      "text/plain": [
       "                                               accuracy_score  \\\n",
       "Academic researcher                                     89.42   \n",
       "Data or business analyst                                93.13   \n",
       "Data scientist or machine learning specialist           93.02   \n",
       "Database administrator                                  89.89   \n",
       "DevOps specialist                                       93.96   \n",
       "Developer, QA or test                                   90.77   \n",
       "Developer, back-end                                     84.62   \n",
       "Developer, desktop or enterprise applications           90.19   \n",
       "Developer, embedded applications or devices             92.91   \n",
       "Developer, front-end                                    93.63   \n",
       "Developer, full-stack                                   86.57   \n",
       "Developer, game or graphics                             94.78   \n",
       "Developer, mobile                                       95.54   \n",
       "Engineer, data                                          90.78   \n",
       "Scientist                                               89.14   \n",
       "System administrator                                    90.64   \n",
       "\n",
       "                                               precision_score  recall_score  \\\n",
       "Academic researcher                                      62.47         23.76   \n",
       "Data or business analyst                                 77.91         43.26   \n",
       "Data scientist or machine learning specialist            74.47         49.96   \n",
       "Database administrator                                   65.18         42.18   \n",
       "DevOps specialist                                        76.43         41.17   \n",
       "Developer, QA or test                                    68.87          7.09   \n",
       "Developer, back-end                                      68.61         33.86   \n",
       "Developer, desktop or enterprise applications            46.11          8.58   \n",
       "Developer, embedded applications or devices              47.30         15.26   \n",
       "Developer, front-end                                     69.30         41.44   \n",
       "Developer, full-stack                                    57.71         28.13   \n",
       "Developer, game or graphics                              87.17         57.51   \n",
       "Developer, mobile                                        80.31         59.61   \n",
       "Engineer, data                                           66.23         22.89   \n",
       "Scientist                                                69.13         38.56   \n",
       "System administrator                                     66.74         27.41   \n",
       "\n",
       "                                               f1_score  \n",
       "Academic researcher                               34.43  \n",
       "Data or business analyst                          55.63  \n",
       "Data scientist or machine learning specialist     59.80  \n",
       "Database administrator                            51.22  \n",
       "DevOps specialist                                 53.52  \n",
       "Developer, QA or test                             12.85  \n",
       "Developer, back-end                               45.34  \n",
       "Developer, desktop or enterprise applications     14.47  \n",
       "Developer, embedded applications or devices       23.08  \n",
       "Developer, front-end                              51.87  \n",
       "Developer, full-stack                             37.82  \n",
       "Developer, game or graphics                       69.30  \n",
       "Developer, mobile                                 68.43  \n",
       "Engineer, data                                    34.02  \n",
       "Scientist                                         49.50  \n",
       "System administrator                              38.86  "
      ]
     },
     "execution_count": 42,
     "metadata": {},
     "output_type": "execute_result"
    }
   ],
   "source": [
    "train_scores"
   ]
  },
  {
   "cell_type": "code",
   "execution_count": 43,
   "metadata": {},
   "outputs": [],
   "source": [
    "# Evaluate on test set\n",
    "predictions =  pd.DataFrame(clf.predict(X_test), columns=Y_test.columns)\n",
    "test_scores = {score.__name__: calculate_quality(Y_test, predictions, score) \n",
    "                for score in [accuracy_score, precision_score, recall_score, f1_score]}\n",
    "test_scores = pd.concat(test_scores,axis=1)\n",
    "mean_test_scores = test_scores.mean()"
   ]
  },
  {
   "cell_type": "code",
   "execution_count": 44,
   "metadata": {},
   "outputs": [
    {
     "data": {
      "text/plain": [
       "accuracy_score     91.123750\n",
       "precision_score    66.711250\n",
       "recall_score       32.980625\n",
       "f1_score           42.934375\n",
       "dtype: float64"
      ]
     },
     "execution_count": 44,
     "metadata": {},
     "output_type": "execute_result"
    }
   ],
   "source": [
    "mean_test_scores"
   ]
  },
  {
   "cell_type": "code",
   "execution_count": 45,
   "metadata": {},
   "outputs": [
    {
     "data": {
      "text/html": [
       "<div>\n",
       "<style scoped>\n",
       "    .dataframe tbody tr th:only-of-type {\n",
       "        vertical-align: middle;\n",
       "    }\n",
       "\n",
       "    .dataframe tbody tr th {\n",
       "        vertical-align: top;\n",
       "    }\n",
       "\n",
       "    .dataframe thead th {\n",
       "        text-align: right;\n",
       "    }\n",
       "</style>\n",
       "<table border=\"1\" class=\"dataframe\">\n",
       "  <thead>\n",
       "    <tr style=\"text-align: right;\">\n",
       "      <th></th>\n",
       "      <th>accuracy_score</th>\n",
       "      <th>precision_score</th>\n",
       "      <th>recall_score</th>\n",
       "      <th>f1_score</th>\n",
       "    </tr>\n",
       "  </thead>\n",
       "  <tbody>\n",
       "    <tr>\n",
       "      <th>Developer, QA or test</th>\n",
       "      <td>90.71</td>\n",
       "      <td>55.56</td>\n",
       "      <td>5.95</td>\n",
       "      <td>10.75</td>\n",
       "    </tr>\n",
       "    <tr>\n",
       "      <th>Developer, desktop or enterprise applications</th>\n",
       "      <td>89.51</td>\n",
       "      <td>41.94</td>\n",
       "      <td>7.12</td>\n",
       "      <td>12.18</td>\n",
       "    </tr>\n",
       "    <tr>\n",
       "      <th>Developer, embedded applications or devices</th>\n",
       "      <td>93.06</td>\n",
       "      <td>51.95</td>\n",
       "      <td>15.94</td>\n",
       "      <td>24.39</td>\n",
       "    </tr>\n",
       "    <tr>\n",
       "      <th>Engineer, data</th>\n",
       "      <td>91.13</td>\n",
       "      <td>68.64</td>\n",
       "      <td>22.44</td>\n",
       "      <td>33.82</td>\n",
       "    </tr>\n",
       "    <tr>\n",
       "      <th>System administrator</th>\n",
       "      <td>90.85</td>\n",
       "      <td>67.53</td>\n",
       "      <td>27.30</td>\n",
       "      <td>38.88</td>\n",
       "    </tr>\n",
       "    <tr>\n",
       "      <th>Developer, full-stack</th>\n",
       "      <td>86.24</td>\n",
       "      <td>57.19</td>\n",
       "      <td>29.89</td>\n",
       "      <td>39.26</td>\n",
       "    </tr>\n",
       "    <tr>\n",
       "      <th>Academic researcher</th>\n",
       "      <td>89.54</td>\n",
       "      <td>66.12</td>\n",
       "      <td>27.94</td>\n",
       "      <td>39.29</td>\n",
       "    </tr>\n",
       "    <tr>\n",
       "      <th>Developer, back-end</th>\n",
       "      <td>85.12</td>\n",
       "      <td>66.23</td>\n",
       "      <td>32.28</td>\n",
       "      <td>43.40</td>\n",
       "    </tr>\n",
       "    <tr>\n",
       "      <th>Database administrator</th>\n",
       "      <td>90.32</td>\n",
       "      <td>57.31</td>\n",
       "      <td>37.86</td>\n",
       "      <td>45.60</td>\n",
       "    </tr>\n",
       "    <tr>\n",
       "      <th>Scientist</th>\n",
       "      <td>88.84</td>\n",
       "      <td>69.52</td>\n",
       "      <td>39.57</td>\n",
       "      <td>50.43</td>\n",
       "    </tr>\n",
       "    <tr>\n",
       "      <th>Developer, front-end</th>\n",
       "      <td>93.29</td>\n",
       "      <td>71.58</td>\n",
       "      <td>41.07</td>\n",
       "      <td>52.19</td>\n",
       "    </tr>\n",
       "    <tr>\n",
       "      <th>DevOps specialist</th>\n",
       "      <td>93.99</td>\n",
       "      <td>79.73</td>\n",
       "      <td>38.94</td>\n",
       "      <td>52.33</td>\n",
       "    </tr>\n",
       "    <tr>\n",
       "      <th>Data or business analyst</th>\n",
       "      <td>93.73</td>\n",
       "      <td>79.10</td>\n",
       "      <td>42.81</td>\n",
       "      <td>55.56</td>\n",
       "    </tr>\n",
       "    <tr>\n",
       "      <th>Data scientist or machine learning specialist</th>\n",
       "      <td>92.98</td>\n",
       "      <td>76.68</td>\n",
       "      <td>46.22</td>\n",
       "      <td>57.67</td>\n",
       "    </tr>\n",
       "    <tr>\n",
       "      <th>Developer, mobile</th>\n",
       "      <td>94.80</td>\n",
       "      <td>73.57</td>\n",
       "      <td>57.00</td>\n",
       "      <td>64.23</td>\n",
       "    </tr>\n",
       "    <tr>\n",
       "      <th>Developer, game or graphics</th>\n",
       "      <td>93.87</td>\n",
       "      <td>84.73</td>\n",
       "      <td>55.36</td>\n",
       "      <td>66.97</td>\n",
       "    </tr>\n",
       "  </tbody>\n",
       "</table>\n",
       "</div>"
      ],
      "text/plain": [
       "                                               accuracy_score  \\\n",
       "Developer, QA or test                                   90.71   \n",
       "Developer, desktop or enterprise applications           89.51   \n",
       "Developer, embedded applications or devices             93.06   \n",
       "Engineer, data                                          91.13   \n",
       "System administrator                                    90.85   \n",
       "Developer, full-stack                                   86.24   \n",
       "Academic researcher                                     89.54   \n",
       "Developer, back-end                                     85.12   \n",
       "Database administrator                                  90.32   \n",
       "Scientist                                               88.84   \n",
       "Developer, front-end                                    93.29   \n",
       "DevOps specialist                                       93.99   \n",
       "Data or business analyst                                93.73   \n",
       "Data scientist or machine learning specialist           92.98   \n",
       "Developer, mobile                                       94.80   \n",
       "Developer, game or graphics                             93.87   \n",
       "\n",
       "                                               precision_score  recall_score  \\\n",
       "Developer, QA or test                                    55.56          5.95   \n",
       "Developer, desktop or enterprise applications            41.94          7.12   \n",
       "Developer, embedded applications or devices              51.95         15.94   \n",
       "Engineer, data                                           68.64         22.44   \n",
       "System administrator                                     67.53         27.30   \n",
       "Developer, full-stack                                    57.19         29.89   \n",
       "Academic researcher                                      66.12         27.94   \n",
       "Developer, back-end                                      66.23         32.28   \n",
       "Database administrator                                   57.31         37.86   \n",
       "Scientist                                                69.52         39.57   \n",
       "Developer, front-end                                     71.58         41.07   \n",
       "DevOps specialist                                        79.73         38.94   \n",
       "Data or business analyst                                 79.10         42.81   \n",
       "Data scientist or machine learning specialist            76.68         46.22   \n",
       "Developer, mobile                                        73.57         57.00   \n",
       "Developer, game or graphics                              84.73         55.36   \n",
       "\n",
       "                                               f1_score  \n",
       "Developer, QA or test                             10.75  \n",
       "Developer, desktop or enterprise applications     12.18  \n",
       "Developer, embedded applications or devices       24.39  \n",
       "Engineer, data                                    33.82  \n",
       "System administrator                              38.88  \n",
       "Developer, full-stack                             39.26  \n",
       "Academic researcher                               39.29  \n",
       "Developer, back-end                               43.40  \n",
       "Database administrator                            45.60  \n",
       "Scientist                                         50.43  \n",
       "Developer, front-end                              52.19  \n",
       "DevOps specialist                                 52.33  \n",
       "Data or business analyst                          55.56  \n",
       "Data scientist or machine learning specialist     57.67  \n",
       "Developer, mobile                                 64.23  \n",
       "Developer, game or graphics                       66.97  "
      ]
     },
     "execution_count": 45,
     "metadata": {},
     "output_type": "execute_result"
    }
   ],
   "source": [
    "test_scores.sort_values(\"f1_score\")\n"
   ]
  },
  {
   "cell_type": "code",
   "execution_count": null,
   "metadata": {},
   "outputs": [],
   "source": []
  }
 ],
 "metadata": {
  "interpreter": {
   "hash": "613f41dc82044734f3e085e0ad96926aab0df142e7f3bbb31dc019d59e11878b"
  },
  "kernelspec": {
   "display_name": "Python 3.9.7 ('base')",
   "language": "python",
   "name": "python3"
  },
  "language_info": {
   "codemirror_mode": {
    "name": "ipython",
    "version": 3
   },
   "file_extension": ".py",
   "mimetype": "text/x-python",
   "name": "python",
   "nbconvert_exporter": "python",
   "pygments_lexer": "ipython3",
   "version": "3.9.7"
  },
  "orig_nbformat": 4
 },
 "nbformat": 4,
 "nbformat_minor": 2
}
