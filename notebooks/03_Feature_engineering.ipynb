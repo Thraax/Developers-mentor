{
 "cells": [
  {
   "cell_type": "code",
   "execution_count": 116,
   "metadata": {},
   "outputs": [],
   "source": [
    "DATA_PATH = 'C:\\\\Users\\\\Thrax\\\\Stackover_survey\\\\Survey_analysis\\\\data\\\\processed\\\\preprocessed_df.pkl'\n",
    "EXPORT_DIR  = 'C:\\\\Users\\\\Thrax\\\\Stackover_survey\\\\Survey_analysis\\\\data\\\\processed\\\\'\n",
    "ROLE_COLS      = ['DevType']\n",
    "TECH_COLS      = ['LanguageWorkedWith',    'DatabaseWorkedWith',    'WebframeWorkedWith',    'MiscTechWorkedWith',    ]\n",
    "TECH_NEXT_COLS = ['LanguageDesireNextYear','DatabaseDesireNextYear','WebframeDesireNextYear','MiscTechDesireNextYear',]\n"
   ]
  },
  {
   "cell_type": "markdown",
   "metadata": {},
   "source": [
    "## Import tools"
   ]
  },
  {
   "cell_type": "code",
   "execution_count": 120,
   "metadata": {},
   "outputs": [],
   "source": [
    "# Reading data and preprocessing\n",
    "import pandas as pd\n",
    "import numpy as np\n",
    "import os\n",
    "from sklearn.preprocessing import MultiLabelBinarizer\n",
    "from sklearn.preprocessing import StandardScaler\n",
    "\n",
    "\n",
    "# visualize\n",
    "import matplotlib.pyplot as plt\n",
    "import seaborn as sns\n",
    "import plotly.express as px\n",
    "import plotly.graph_objects as go\n",
    "import plotly.figure_factory as ff\n",
    "sns.set()\n",
    "\n",
    "# clustering and PCA\n",
    "from sklearn.manifold import TSNE\n",
    "from sklearn.cluster import KMeans\n",
    "from sklearn.cluster import AgglomerativeClustering\n",
    "\n",
    "# Machine learning\n",
    "from sklearn.model_selection import train_test_split\n",
    "from sklearn.multioutput import MultiOutputClassifier\n",
    "from sklearn.linear_model import LogisticRegression\n",
    "\n",
    "\n",
    "# Model metrics\n",
    "\n",
    "from sklearn.metrics import f1_score\n",
    "from sklearn.metrics import classification_report\n",
    "from sklearn.metrics import silhouette_score\n",
    "\n",
    "# Avoid display warnings \n",
    "import warnings\n",
    "warnings.filterwarnings('ignore')\n",
    "pd.set_option('display.max_columns', 500)\n",
    "pd.set_option('display.max_rows', 300)"
   ]
  },
  {
   "cell_type": "markdown",
   "metadata": {},
   "source": [
    "## Read the data and preprocess"
   ]
  },
  {
   "cell_type": "code",
   "execution_count": 3,
   "metadata": {},
   "outputs": [
    {
     "data": {
      "text/html": [
       "<div>\n",
       "<style scoped>\n",
       "    .dataframe tbody tr th:only-of-type {\n",
       "        vertical-align: middle;\n",
       "    }\n",
       "\n",
       "    .dataframe tbody tr th {\n",
       "        vertical-align: top;\n",
       "    }\n",
       "\n",
       "    .dataframe thead th {\n",
       "        text-align: right;\n",
       "    }\n",
       "</style>\n",
       "<table border=\"1\" class=\"dataframe\">\n",
       "  <thead>\n",
       "    <tr style=\"text-align: right;\">\n",
       "      <th></th>\n",
       "      <th>Respondent</th>\n",
       "      <th>MainBranch</th>\n",
       "      <th>Hobbyist</th>\n",
       "      <th>Age</th>\n",
       "      <th>Age1stCode</th>\n",
       "      <th>CompFreq</th>\n",
       "      <th>CompTotal</th>\n",
       "      <th>ConvertedComp</th>\n",
       "      <th>Country</th>\n",
       "      <th>CurrencyDesc</th>\n",
       "      <th>CurrencySymbol</th>\n",
       "      <th>DatabaseDesireNextYear</th>\n",
       "      <th>DatabaseWorkedWith</th>\n",
       "      <th>DevType</th>\n",
       "      <th>EdLevel</th>\n",
       "      <th>Employment</th>\n",
       "      <th>Ethnicity</th>\n",
       "      <th>Gender</th>\n",
       "      <th>JobFactors</th>\n",
       "      <th>JobSat</th>\n",
       "      <th>JobSeek</th>\n",
       "      <th>LanguageDesireNextYear</th>\n",
       "      <th>LanguageWorkedWith</th>\n",
       "      <th>MiscTechDesireNextYear</th>\n",
       "      <th>MiscTechWorkedWith</th>\n",
       "      <th>NEWCollabToolsDesireNextYear</th>\n",
       "      <th>NEWCollabToolsWorkedWith</th>\n",
       "      <th>NEWDevOps</th>\n",
       "      <th>NEWDevOpsImpt</th>\n",
       "      <th>NEWEdImpt</th>\n",
       "      <th>NEWJobHunt</th>\n",
       "      <th>NEWJobHuntResearch</th>\n",
       "      <th>NEWLearn</th>\n",
       "      <th>NEWOffTopic</th>\n",
       "      <th>NEWOnboardGood</th>\n",
       "      <th>NEWOtherComms</th>\n",
       "      <th>NEWOvertime</th>\n",
       "      <th>NEWPurchaseResearch</th>\n",
       "      <th>NEWPurpleLink</th>\n",
       "      <th>NEWSOSites</th>\n",
       "      <th>NEWStuck</th>\n",
       "      <th>OpSys</th>\n",
       "      <th>OrgSize</th>\n",
       "      <th>PlatformDesireNextYear</th>\n",
       "      <th>PlatformWorkedWith</th>\n",
       "      <th>PurchaseWhat</th>\n",
       "      <th>Sexuality</th>\n",
       "      <th>SOAccount</th>\n",
       "      <th>SOComm</th>\n",
       "      <th>SOPartFreq</th>\n",
       "      <th>SOVisitFreq</th>\n",
       "      <th>SurveyEase</th>\n",
       "      <th>SurveyLength</th>\n",
       "      <th>Trans</th>\n",
       "      <th>UndergradMajor</th>\n",
       "      <th>WebframeDesireNextYear</th>\n",
       "      <th>WebframeWorkedWith</th>\n",
       "      <th>WelcomeChange</th>\n",
       "      <th>WorkWeekHrs</th>\n",
       "      <th>YearsCode</th>\n",
       "      <th>YearsCodePro</th>\n",
       "    </tr>\n",
       "  </thead>\n",
       "  <tbody>\n",
       "    <tr>\n",
       "      <th>0</th>\n",
       "      <td>1</td>\n",
       "      <td>I am a developer by profession</td>\n",
       "      <td>Yes</td>\n",
       "      <td>NaN</td>\n",
       "      <td>13.0</td>\n",
       "      <td>Monthly</td>\n",
       "      <td>NaN</td>\n",
       "      <td>NaN</td>\n",
       "      <td>Germany</td>\n",
       "      <td>European Euro</td>\n",
       "      <td>EUR</td>\n",
       "      <td>[Microsoft SQL Server]</td>\n",
       "      <td>[Elasticsearch, Microsoft SQL Server, Oracle]</td>\n",
       "      <td>[Developer, desktop or enterprise applications...</td>\n",
       "      <td>Master’s degree (M.A., M.S., M.Eng., MBA, etc.)</td>\n",
       "      <td>Independent contractor, freelancer, or self-em...</td>\n",
       "      <td>[White or of European descent]</td>\n",
       "      <td>[Man]</td>\n",
       "      <td>[Languages, frameworks, and other technologies...</td>\n",
       "      <td>Slightly satisfied</td>\n",
       "      <td>I am not interested in new job opportunities</td>\n",
       "      <td>[C#, HTML/CSS, JavaScript]</td>\n",
       "      <td>[C#, HTML/CSS, JavaScript]</td>\n",
       "      <td>[.NET Core, Xamarin]</td>\n",
       "      <td>[.NET, .NET Core]</td>\n",
       "      <td>[Microsoft Teams, Microsoft Azure, Trello]</td>\n",
       "      <td>[Confluence, Jira, Slack, Microsoft Azure, Tre...</td>\n",
       "      <td>No</td>\n",
       "      <td>Somewhat important</td>\n",
       "      <td>Fairly important</td>\n",
       "      <td>[]</td>\n",
       "      <td>[]</td>\n",
       "      <td>Once a year</td>\n",
       "      <td>Not sure</td>\n",
       "      <td>NaN</td>\n",
       "      <td>No</td>\n",
       "      <td>Often: 1-2 days per week or more</td>\n",
       "      <td>[Start a free trial, Ask developers I know/wor...</td>\n",
       "      <td>Amused</td>\n",
       "      <td>[Stack Overflow (public Q&amp;A for anyone who cod...</td>\n",
       "      <td>[Visit Stack Overflow, Go for a walk or other ...</td>\n",
       "      <td>Windows</td>\n",
       "      <td>2 to 9 employees</td>\n",
       "      <td>[Android, iOS, Kubernetes, Microsoft Azure, Wi...</td>\n",
       "      <td>[Windows]</td>\n",
       "      <td>NaN</td>\n",
       "      <td>[Straight / Heterosexual]</td>\n",
       "      <td>No</td>\n",
       "      <td>No, not at all</td>\n",
       "      <td>NaN</td>\n",
       "      <td>Multiple times per day</td>\n",
       "      <td>Neither easy nor difficult</td>\n",
       "      <td>Appropriate in length</td>\n",
       "      <td>No</td>\n",
       "      <td>Computer science, computer engineering, or sof...</td>\n",
       "      <td>[ASP.NET Core]</td>\n",
       "      <td>[ASP.NET, ASP.NET Core]</td>\n",
       "      <td>Just as welcome now as I felt last year</td>\n",
       "      <td>50.0</td>\n",
       "      <td>36.0</td>\n",
       "      <td>27.0</td>\n",
       "    </tr>\n",
       "    <tr>\n",
       "      <th>1</th>\n",
       "      <td>2</td>\n",
       "      <td>I am a developer by profession</td>\n",
       "      <td>No</td>\n",
       "      <td>NaN</td>\n",
       "      <td>19.0</td>\n",
       "      <td>NaN</td>\n",
       "      <td>NaN</td>\n",
       "      <td>NaN</td>\n",
       "      <td>United Kingdom</td>\n",
       "      <td>Pound sterling</td>\n",
       "      <td>GBP</td>\n",
       "      <td>[]</td>\n",
       "      <td>[]</td>\n",
       "      <td>[Developer, full-stack, Developer, mobile]</td>\n",
       "      <td>Bachelor’s degree (B.A., B.S., B.Eng., etc.)</td>\n",
       "      <td>Employed full-time</td>\n",
       "      <td>[]</td>\n",
       "      <td>[]</td>\n",
       "      <td>[]</td>\n",
       "      <td>Very dissatisfied</td>\n",
       "      <td>I am not interested in new job opportunities</td>\n",
       "      <td>[Python, Swift]</td>\n",
       "      <td>[JavaScript, Swift]</td>\n",
       "      <td>[React Native, TensorFlow, Unity 3D]</td>\n",
       "      <td>[React Native]</td>\n",
       "      <td>[Github, Slack]</td>\n",
       "      <td>[Confluence, Jira, Github, Gitlab, Slack]</td>\n",
       "      <td>NaN</td>\n",
       "      <td>NaN</td>\n",
       "      <td>Fairly important</td>\n",
       "      <td>[]</td>\n",
       "      <td>[]</td>\n",
       "      <td>Once a year</td>\n",
       "      <td>Not sure</td>\n",
       "      <td>NaN</td>\n",
       "      <td>No</td>\n",
       "      <td>NaN</td>\n",
       "      <td>[]</td>\n",
       "      <td>Amused</td>\n",
       "      <td>[Stack Overflow (public Q&amp;A for anyone who cod...</td>\n",
       "      <td>[Visit Stack Overflow, Go for a walk or other ...</td>\n",
       "      <td>MacOS</td>\n",
       "      <td>1,000 to 4,999 employees</td>\n",
       "      <td>[iOS, Kubernetes, Linux, MacOS]</td>\n",
       "      <td>[iOS]</td>\n",
       "      <td>I have little or no influence</td>\n",
       "      <td>[]</td>\n",
       "      <td>Yes</td>\n",
       "      <td>Yes, definitely</td>\n",
       "      <td>Less than once per month or monthly</td>\n",
       "      <td>Multiple times per day</td>\n",
       "      <td>NaN</td>\n",
       "      <td>NaN</td>\n",
       "      <td>NaN</td>\n",
       "      <td>Computer science, computer engineering, or sof...</td>\n",
       "      <td>[]</td>\n",
       "      <td>[]</td>\n",
       "      <td>Somewhat more welcome now than last year</td>\n",
       "      <td>NaN</td>\n",
       "      <td>7.0</td>\n",
       "      <td>4.0</td>\n",
       "    </tr>\n",
       "    <tr>\n",
       "      <th>2</th>\n",
       "      <td>3</td>\n",
       "      <td>I code primarily as a hobby</td>\n",
       "      <td>Yes</td>\n",
       "      <td>NaN</td>\n",
       "      <td>15.0</td>\n",
       "      <td>NaN</td>\n",
       "      <td>NaN</td>\n",
       "      <td>NaN</td>\n",
       "      <td>Russian Federation</td>\n",
       "      <td>NaN</td>\n",
       "      <td>NaN</td>\n",
       "      <td>[]</td>\n",
       "      <td>[]</td>\n",
       "      <td>[]</td>\n",
       "      <td>NaN</td>\n",
       "      <td>NaN</td>\n",
       "      <td>[]</td>\n",
       "      <td>[]</td>\n",
       "      <td>[]</td>\n",
       "      <td>NaN</td>\n",
       "      <td>NaN</td>\n",
       "      <td>[Objective-C, Python, Swift]</td>\n",
       "      <td>[Objective-C, Python, Swift]</td>\n",
       "      <td>[]</td>\n",
       "      <td>[]</td>\n",
       "      <td>[]</td>\n",
       "      <td>[]</td>\n",
       "      <td>NaN</td>\n",
       "      <td>NaN</td>\n",
       "      <td>NaN</td>\n",
       "      <td>[]</td>\n",
       "      <td>[]</td>\n",
       "      <td>Once a decade</td>\n",
       "      <td>NaN</td>\n",
       "      <td>NaN</td>\n",
       "      <td>No</td>\n",
       "      <td>NaN</td>\n",
       "      <td>[]</td>\n",
       "      <td>NaN</td>\n",
       "      <td>[Stack Overflow (public Q&amp;A for anyone who cod...</td>\n",
       "      <td>[]</td>\n",
       "      <td>Linux-based</td>\n",
       "      <td>NaN</td>\n",
       "      <td>[]</td>\n",
       "      <td>[]</td>\n",
       "      <td>NaN</td>\n",
       "      <td>[]</td>\n",
       "      <td>Yes</td>\n",
       "      <td>Yes, somewhat</td>\n",
       "      <td>A few times per month or weekly</td>\n",
       "      <td>Daily or almost daily</td>\n",
       "      <td>Neither easy nor difficult</td>\n",
       "      <td>Appropriate in length</td>\n",
       "      <td>NaN</td>\n",
       "      <td>NaN</td>\n",
       "      <td>[]</td>\n",
       "      <td>[]</td>\n",
       "      <td>Somewhat more welcome now than last year</td>\n",
       "      <td>NaN</td>\n",
       "      <td>4.0</td>\n",
       "      <td>NaN</td>\n",
       "    </tr>\n",
       "    <tr>\n",
       "      <th>3</th>\n",
       "      <td>4</td>\n",
       "      <td>I am a developer by profession</td>\n",
       "      <td>Yes</td>\n",
       "      <td>25.0</td>\n",
       "      <td>18.0</td>\n",
       "      <td>NaN</td>\n",
       "      <td>NaN</td>\n",
       "      <td>NaN</td>\n",
       "      <td>Albania</td>\n",
       "      <td>Albanian lek</td>\n",
       "      <td>ALL</td>\n",
       "      <td>[]</td>\n",
       "      <td>[]</td>\n",
       "      <td>[]</td>\n",
       "      <td>Master’s degree (M.A., M.S., M.Eng., MBA, etc.)</td>\n",
       "      <td>NaN</td>\n",
       "      <td>[White or of European descent]</td>\n",
       "      <td>[Man]</td>\n",
       "      <td>[Flex time or a flexible schedule, Office envi...</td>\n",
       "      <td>Slightly dissatisfied</td>\n",
       "      <td>I’m not actively looking, but I am open to new...</td>\n",
       "      <td>[]</td>\n",
       "      <td>[]</td>\n",
       "      <td>[]</td>\n",
       "      <td>[]</td>\n",
       "      <td>[]</td>\n",
       "      <td>[]</td>\n",
       "      <td>No</td>\n",
       "      <td>NaN</td>\n",
       "      <td>Not at all important/not necessary</td>\n",
       "      <td>[Curious about other opportunities, Wanting to...</td>\n",
       "      <td>[]</td>\n",
       "      <td>Once a year</td>\n",
       "      <td>Not sure</td>\n",
       "      <td>Yes</td>\n",
       "      <td>Yes</td>\n",
       "      <td>Occasionally: 1-2 days per quarter but less th...</td>\n",
       "      <td>[]</td>\n",
       "      <td>NaN</td>\n",
       "      <td>[Stack Overflow (public Q&amp;A for anyone who cod...</td>\n",
       "      <td>[]</td>\n",
       "      <td>Linux-based</td>\n",
       "      <td>20 to 99 employees</td>\n",
       "      <td>[]</td>\n",
       "      <td>[]</td>\n",
       "      <td>I have a great deal of influence</td>\n",
       "      <td>[Straight / Heterosexual]</td>\n",
       "      <td>Yes</td>\n",
       "      <td>Yes, definitely</td>\n",
       "      <td>A few times per month or weekly</td>\n",
       "      <td>Multiple times per day</td>\n",
       "      <td>NaN</td>\n",
       "      <td>NaN</td>\n",
       "      <td>No</td>\n",
       "      <td>Computer science, computer engineering, or sof...</td>\n",
       "      <td>[]</td>\n",
       "      <td>[]</td>\n",
       "      <td>Somewhat less welcome now than last year</td>\n",
       "      <td>40.0</td>\n",
       "      <td>7.0</td>\n",
       "      <td>4.0</td>\n",
       "    </tr>\n",
       "    <tr>\n",
       "      <th>4</th>\n",
       "      <td>5</td>\n",
       "      <td>I used to be a developer by profession, but no...</td>\n",
       "      <td>Yes</td>\n",
       "      <td>31.0</td>\n",
       "      <td>16.0</td>\n",
       "      <td>NaN</td>\n",
       "      <td>NaN</td>\n",
       "      <td>NaN</td>\n",
       "      <td>United States</td>\n",
       "      <td>NaN</td>\n",
       "      <td>NaN</td>\n",
       "      <td>[MySQL, PostgreSQL]</td>\n",
       "      <td>[MySQL, PostgreSQL, Redis, SQLite]</td>\n",
       "      <td>[]</td>\n",
       "      <td>Bachelor’s degree (B.A., B.S., B.Eng., etc.)</td>\n",
       "      <td>Employed full-time</td>\n",
       "      <td>[White or of European descent]</td>\n",
       "      <td>[Man]</td>\n",
       "      <td>[]</td>\n",
       "      <td>NaN</td>\n",
       "      <td>NaN</td>\n",
       "      <td>[Java, Ruby, Scala]</td>\n",
       "      <td>[HTML/CSS, Ruby, SQL]</td>\n",
       "      <td>[Ansible, Chef]</td>\n",
       "      <td>[Ansible]</td>\n",
       "      <td>[Github, Google Suite (Docs, Meet, etc)]</td>\n",
       "      <td>[Confluence, Jira, Github, Slack, Google Suite...</td>\n",
       "      <td>NaN</td>\n",
       "      <td>NaN</td>\n",
       "      <td>Very important</td>\n",
       "      <td>[]</td>\n",
       "      <td>[]</td>\n",
       "      <td>Once a year</td>\n",
       "      <td>No</td>\n",
       "      <td>NaN</td>\n",
       "      <td>Yes</td>\n",
       "      <td>NaN</td>\n",
       "      <td>[Start a free trial, Ask developers I know/wor...</td>\n",
       "      <td>Hello, old friend</td>\n",
       "      <td>[Stack Overflow (public Q&amp;A for anyone who cod...</td>\n",
       "      <td>[Call a coworker or friend, Visit Stack Overfl...</td>\n",
       "      <td>Windows</td>\n",
       "      <td>NaN</td>\n",
       "      <td>[Docker, Google Cloud Platform, Heroku, Linux,...</td>\n",
       "      <td>[AWS, Docker, Linux, MacOS, Windows]</td>\n",
       "      <td>NaN</td>\n",
       "      <td>[Straight / Heterosexual]</td>\n",
       "      <td>Yes</td>\n",
       "      <td>Yes, somewhat</td>\n",
       "      <td>Less than once per month or monthly</td>\n",
       "      <td>A few times per month or weekly</td>\n",
       "      <td>Easy</td>\n",
       "      <td>Too short</td>\n",
       "      <td>No</td>\n",
       "      <td>Computer science, computer engineering, or sof...</td>\n",
       "      <td>[Django, Ruby on Rails]</td>\n",
       "      <td>[Ruby on Rails]</td>\n",
       "      <td>Just as welcome now as I felt last year</td>\n",
       "      <td>NaN</td>\n",
       "      <td>15.0</td>\n",
       "      <td>8.0</td>\n",
       "    </tr>\n",
       "  </tbody>\n",
       "</table>\n",
       "</div>"
      ],
      "text/plain": [
       "   Respondent                                         MainBranch Hobbyist  \\\n",
       "0           1                     I am a developer by profession      Yes   \n",
       "1           2                     I am a developer by profession       No   \n",
       "2           3                        I code primarily as a hobby      Yes   \n",
       "3           4                     I am a developer by profession      Yes   \n",
       "4           5  I used to be a developer by profession, but no...      Yes   \n",
       "\n",
       "    Age  Age1stCode CompFreq  CompTotal  ConvertedComp             Country  \\\n",
       "0   NaN        13.0  Monthly        NaN            NaN             Germany   \n",
       "1   NaN        19.0      NaN        NaN            NaN      United Kingdom   \n",
       "2   NaN        15.0      NaN        NaN            NaN  Russian Federation   \n",
       "3  25.0        18.0      NaN        NaN            NaN             Albania   \n",
       "4  31.0        16.0      NaN        NaN            NaN       United States   \n",
       "\n",
       "     CurrencyDesc CurrencySymbol  DatabaseDesireNextYear  \\\n",
       "0   European Euro            EUR  [Microsoft SQL Server]   \n",
       "1  Pound sterling            GBP                      []   \n",
       "2             NaN            NaN                      []   \n",
       "3    Albanian lek            ALL                      []   \n",
       "4             NaN            NaN     [MySQL, PostgreSQL]   \n",
       "\n",
       "                              DatabaseWorkedWith  \\\n",
       "0  [Elasticsearch, Microsoft SQL Server, Oracle]   \n",
       "1                                             []   \n",
       "2                                             []   \n",
       "3                                             []   \n",
       "4             [MySQL, PostgreSQL, Redis, SQLite]   \n",
       "\n",
       "                                             DevType  \\\n",
       "0  [Developer, desktop or enterprise applications...   \n",
       "1         [Developer, full-stack, Developer, mobile]   \n",
       "2                                                 []   \n",
       "3                                                 []   \n",
       "4                                                 []   \n",
       "\n",
       "                                           EdLevel  \\\n",
       "0  Master’s degree (M.A., M.S., M.Eng., MBA, etc.)   \n",
       "1     Bachelor’s degree (B.A., B.S., B.Eng., etc.)   \n",
       "2                                              NaN   \n",
       "3  Master’s degree (M.A., M.S., M.Eng., MBA, etc.)   \n",
       "4     Bachelor’s degree (B.A., B.S., B.Eng., etc.)   \n",
       "\n",
       "                                          Employment  \\\n",
       "0  Independent contractor, freelancer, or self-em...   \n",
       "1                                 Employed full-time   \n",
       "2                                                NaN   \n",
       "3                                                NaN   \n",
       "4                                 Employed full-time   \n",
       "\n",
       "                        Ethnicity Gender  \\\n",
       "0  [White or of European descent]  [Man]   \n",
       "1                              []     []   \n",
       "2                              []     []   \n",
       "3  [White or of European descent]  [Man]   \n",
       "4  [White or of European descent]  [Man]   \n",
       "\n",
       "                                          JobFactors                 JobSat  \\\n",
       "0  [Languages, frameworks, and other technologies...     Slightly satisfied   \n",
       "1                                                 []      Very dissatisfied   \n",
       "2                                                 []                    NaN   \n",
       "3  [Flex time or a flexible schedule, Office envi...  Slightly dissatisfied   \n",
       "4                                                 []                    NaN   \n",
       "\n",
       "                                             JobSeek  \\\n",
       "0       I am not interested in new job opportunities   \n",
       "1       I am not interested in new job opportunities   \n",
       "2                                                NaN   \n",
       "3  I’m not actively looking, but I am open to new...   \n",
       "4                                                NaN   \n",
       "\n",
       "         LanguageDesireNextYear            LanguageWorkedWith  \\\n",
       "0    [C#, HTML/CSS, JavaScript]    [C#, HTML/CSS, JavaScript]   \n",
       "1               [Python, Swift]           [JavaScript, Swift]   \n",
       "2  [Objective-C, Python, Swift]  [Objective-C, Python, Swift]   \n",
       "3                            []                            []   \n",
       "4           [Java, Ruby, Scala]         [HTML/CSS, Ruby, SQL]   \n",
       "\n",
       "                 MiscTechDesireNextYear MiscTechWorkedWith  \\\n",
       "0                  [.NET Core, Xamarin]  [.NET, .NET Core]   \n",
       "1  [React Native, TensorFlow, Unity 3D]     [React Native]   \n",
       "2                                    []                 []   \n",
       "3                                    []                 []   \n",
       "4                       [Ansible, Chef]          [Ansible]   \n",
       "\n",
       "                 NEWCollabToolsDesireNextYear  \\\n",
       "0  [Microsoft Teams, Microsoft Azure, Trello]   \n",
       "1                             [Github, Slack]   \n",
       "2                                          []   \n",
       "3                                          []   \n",
       "4    [Github, Google Suite (Docs, Meet, etc)]   \n",
       "\n",
       "                            NEWCollabToolsWorkedWith NEWDevOps  \\\n",
       "0  [Confluence, Jira, Slack, Microsoft Azure, Tre...        No   \n",
       "1          [Confluence, Jira, Github, Gitlab, Slack]       NaN   \n",
       "2                                                 []       NaN   \n",
       "3                                                 []        No   \n",
       "4  [Confluence, Jira, Github, Slack, Google Suite...       NaN   \n",
       "\n",
       "        NEWDevOpsImpt                           NEWEdImpt  \\\n",
       "0  Somewhat important                    Fairly important   \n",
       "1                 NaN                    Fairly important   \n",
       "2                 NaN                                 NaN   \n",
       "3                 NaN  Not at all important/not necessary   \n",
       "4                 NaN                      Very important   \n",
       "\n",
       "                                          NEWJobHunt NEWJobHuntResearch  \\\n",
       "0                                                 []                 []   \n",
       "1                                                 []                 []   \n",
       "2                                                 []                 []   \n",
       "3  [Curious about other opportunities, Wanting to...                 []   \n",
       "4                                                 []                 []   \n",
       "\n",
       "        NEWLearn NEWOffTopic NEWOnboardGood NEWOtherComms  \\\n",
       "0    Once a year    Not sure            NaN            No   \n",
       "1    Once a year    Not sure            NaN            No   \n",
       "2  Once a decade         NaN            NaN            No   \n",
       "3    Once a year    Not sure            Yes           Yes   \n",
       "4    Once a year          No            NaN           Yes   \n",
       "\n",
       "                                         NEWOvertime  \\\n",
       "0                   Often: 1-2 days per week or more   \n",
       "1                                                NaN   \n",
       "2                                                NaN   \n",
       "3  Occasionally: 1-2 days per quarter but less th...   \n",
       "4                                                NaN   \n",
       "\n",
       "                                 NEWPurchaseResearch      NEWPurpleLink  \\\n",
       "0  [Start a free trial, Ask developers I know/wor...             Amused   \n",
       "1                                                 []             Amused   \n",
       "2                                                 []                NaN   \n",
       "3                                                 []                NaN   \n",
       "4  [Start a free trial, Ask developers I know/wor...  Hello, old friend   \n",
       "\n",
       "                                          NEWSOSites  \\\n",
       "0  [Stack Overflow (public Q&A for anyone who cod...   \n",
       "1  [Stack Overflow (public Q&A for anyone who cod...   \n",
       "2  [Stack Overflow (public Q&A for anyone who cod...   \n",
       "3  [Stack Overflow (public Q&A for anyone who cod...   \n",
       "4  [Stack Overflow (public Q&A for anyone who cod...   \n",
       "\n",
       "                                            NEWStuck        OpSys  \\\n",
       "0  [Visit Stack Overflow, Go for a walk or other ...      Windows   \n",
       "1  [Visit Stack Overflow, Go for a walk or other ...        MacOS   \n",
       "2                                                 []  Linux-based   \n",
       "3                                                 []  Linux-based   \n",
       "4  [Call a coworker or friend, Visit Stack Overfl...      Windows   \n",
       "\n",
       "                    OrgSize  \\\n",
       "0          2 to 9 employees   \n",
       "1  1,000 to 4,999 employees   \n",
       "2                       NaN   \n",
       "3        20 to 99 employees   \n",
       "4                       NaN   \n",
       "\n",
       "                              PlatformDesireNextYear  \\\n",
       "0  [Android, iOS, Kubernetes, Microsoft Azure, Wi...   \n",
       "1                    [iOS, Kubernetes, Linux, MacOS]   \n",
       "2                                                 []   \n",
       "3                                                 []   \n",
       "4  [Docker, Google Cloud Platform, Heroku, Linux,...   \n",
       "\n",
       "                     PlatformWorkedWith                      PurchaseWhat  \\\n",
       "0                             [Windows]                               NaN   \n",
       "1                                 [iOS]     I have little or no influence   \n",
       "2                                    []                               NaN   \n",
       "3                                    []  I have a great deal of influence   \n",
       "4  [AWS, Docker, Linux, MacOS, Windows]                               NaN   \n",
       "\n",
       "                   Sexuality SOAccount           SOComm  \\\n",
       "0  [Straight / Heterosexual]        No   No, not at all   \n",
       "1                         []       Yes  Yes, definitely   \n",
       "2                         []       Yes    Yes, somewhat   \n",
       "3  [Straight / Heterosexual]       Yes  Yes, definitely   \n",
       "4  [Straight / Heterosexual]       Yes    Yes, somewhat   \n",
       "\n",
       "                            SOPartFreq                      SOVisitFreq  \\\n",
       "0                                  NaN           Multiple times per day   \n",
       "1  Less than once per month or monthly           Multiple times per day   \n",
       "2      A few times per month or weekly            Daily or almost daily   \n",
       "3      A few times per month or weekly           Multiple times per day   \n",
       "4  Less than once per month or monthly  A few times per month or weekly   \n",
       "\n",
       "                   SurveyEase           SurveyLength Trans  \\\n",
       "0  Neither easy nor difficult  Appropriate in length    No   \n",
       "1                         NaN                    NaN   NaN   \n",
       "2  Neither easy nor difficult  Appropriate in length   NaN   \n",
       "3                         NaN                    NaN    No   \n",
       "4                        Easy              Too short    No   \n",
       "\n",
       "                                      UndergradMajor   WebframeDesireNextYear  \\\n",
       "0  Computer science, computer engineering, or sof...           [ASP.NET Core]   \n",
       "1  Computer science, computer engineering, or sof...                       []   \n",
       "2                                                NaN                       []   \n",
       "3  Computer science, computer engineering, or sof...                       []   \n",
       "4  Computer science, computer engineering, or sof...  [Django, Ruby on Rails]   \n",
       "\n",
       "        WebframeWorkedWith                             WelcomeChange  \\\n",
       "0  [ASP.NET, ASP.NET Core]   Just as welcome now as I felt last year   \n",
       "1                       []  Somewhat more welcome now than last year   \n",
       "2                       []  Somewhat more welcome now than last year   \n",
       "3                       []  Somewhat less welcome now than last year   \n",
       "4          [Ruby on Rails]   Just as welcome now as I felt last year   \n",
       "\n",
       "   WorkWeekHrs  YearsCode  YearsCodePro  \n",
       "0         50.0       36.0          27.0  \n",
       "1          NaN        7.0           4.0  \n",
       "2          NaN        4.0           NaN  \n",
       "3         40.0        7.0           4.0  \n",
       "4          NaN       15.0           8.0  "
      ]
     },
     "execution_count": 3,
     "metadata": {},
     "output_type": "execute_result"
    }
   ],
   "source": [
    "df = pd.read_pickle(DATA_PATH)\n",
    "df.head()"
   ]
  },
  {
   "cell_type": "code",
   "execution_count": 4,
   "metadata": {},
   "outputs": [
    {
     "data": {
      "text/html": [
       "<div>\n",
       "<style scoped>\n",
       "    .dataframe tbody tr th:only-of-type {\n",
       "        vertical-align: middle;\n",
       "    }\n",
       "\n",
       "    .dataframe tbody tr th {\n",
       "        vertical-align: top;\n",
       "    }\n",
       "\n",
       "    .dataframe thead th {\n",
       "        text-align: right;\n",
       "    }\n",
       "</style>\n",
       "<table border=\"1\" class=\"dataframe\">\n",
       "  <thead>\n",
       "    <tr style=\"text-align: right;\">\n",
       "      <th></th>\n",
       "      <th>Assembly</th>\n",
       "      <th>Bash/Shell/PowerShell</th>\n",
       "      <th>C</th>\n",
       "      <th>C#</th>\n",
       "      <th>C++</th>\n",
       "      <th>Dart</th>\n",
       "      <th>Go</th>\n",
       "      <th>HTML/CSS</th>\n",
       "      <th>Haskell</th>\n",
       "      <th>Java</th>\n",
       "      <th>JavaScript</th>\n",
       "      <th>Julia</th>\n",
       "      <th>Kotlin</th>\n",
       "      <th>Objective-C</th>\n",
       "      <th>PHP</th>\n",
       "      <th>Perl</th>\n",
       "      <th>Python</th>\n",
       "      <th>R</th>\n",
       "      <th>Ruby</th>\n",
       "      <th>Rust</th>\n",
       "      <th>SQL</th>\n",
       "      <th>Scala</th>\n",
       "      <th>Swift</th>\n",
       "      <th>TypeScript</th>\n",
       "      <th>VBA</th>\n",
       "      <th>Cassandra</th>\n",
       "      <th>Couchbase</th>\n",
       "      <th>DynamoDB</th>\n",
       "      <th>Elasticsearch</th>\n",
       "      <th>Firebase</th>\n",
       "      <th>IBM DB2</th>\n",
       "      <th>MariaDB</th>\n",
       "      <th>Microsoft SQL Server</th>\n",
       "      <th>MongoDB</th>\n",
       "      <th>MySQL</th>\n",
       "      <th>Oracle</th>\n",
       "      <th>PostgreSQL</th>\n",
       "      <th>Redis</th>\n",
       "      <th>SQLite</th>\n",
       "      <th>ASP.NET</th>\n",
       "      <th>ASP.NET Core</th>\n",
       "      <th>Angular</th>\n",
       "      <th>Angular.js</th>\n",
       "      <th>Django</th>\n",
       "      <th>Drupal</th>\n",
       "      <th>Express</th>\n",
       "      <th>Flask</th>\n",
       "      <th>Gatsby</th>\n",
       "      <th>Laravel</th>\n",
       "      <th>React.js</th>\n",
       "      <th>Ruby on Rails</th>\n",
       "      <th>Spring</th>\n",
       "      <th>Symfony</th>\n",
       "      <th>Vue.js</th>\n",
       "      <th>jQuery</th>\n",
       "      <th>.NET</th>\n",
       "      <th>.NET Core</th>\n",
       "      <th>Ansible</th>\n",
       "      <th>Apache Spark</th>\n",
       "      <th>Chef</th>\n",
       "      <th>Cordova</th>\n",
       "      <th>Flutter</th>\n",
       "      <th>Hadoop</th>\n",
       "      <th>Keras</th>\n",
       "      <th>Node.js</th>\n",
       "      <th>Pandas</th>\n",
       "      <th>Puppet</th>\n",
       "      <th>React Native</th>\n",
       "      <th>TensorFlow</th>\n",
       "      <th>Teraform</th>\n",
       "      <th>Torch/PyTorch</th>\n",
       "      <th>Unity 3D</th>\n",
       "      <th>Unreal Engine</th>\n",
       "      <th>Xamarin</th>\n",
       "    </tr>\n",
       "  </thead>\n",
       "  <tbody>\n",
       "    <tr>\n",
       "      <th>0</th>\n",
       "      <td>0</td>\n",
       "      <td>0</td>\n",
       "      <td>0</td>\n",
       "      <td>1</td>\n",
       "      <td>0</td>\n",
       "      <td>0</td>\n",
       "      <td>0</td>\n",
       "      <td>1</td>\n",
       "      <td>0</td>\n",
       "      <td>0</td>\n",
       "      <td>1</td>\n",
       "      <td>0</td>\n",
       "      <td>0</td>\n",
       "      <td>0</td>\n",
       "      <td>0</td>\n",
       "      <td>0</td>\n",
       "      <td>0</td>\n",
       "      <td>0</td>\n",
       "      <td>0</td>\n",
       "      <td>0</td>\n",
       "      <td>0</td>\n",
       "      <td>0</td>\n",
       "      <td>0</td>\n",
       "      <td>0</td>\n",
       "      <td>0</td>\n",
       "      <td>0</td>\n",
       "      <td>0</td>\n",
       "      <td>0</td>\n",
       "      <td>1</td>\n",
       "      <td>0</td>\n",
       "      <td>0</td>\n",
       "      <td>0</td>\n",
       "      <td>1</td>\n",
       "      <td>0</td>\n",
       "      <td>0</td>\n",
       "      <td>1</td>\n",
       "      <td>0</td>\n",
       "      <td>0</td>\n",
       "      <td>0</td>\n",
       "      <td>1</td>\n",
       "      <td>1</td>\n",
       "      <td>0</td>\n",
       "      <td>0</td>\n",
       "      <td>0</td>\n",
       "      <td>0</td>\n",
       "      <td>0</td>\n",
       "      <td>0</td>\n",
       "      <td>0</td>\n",
       "      <td>0</td>\n",
       "      <td>0</td>\n",
       "      <td>0</td>\n",
       "      <td>0</td>\n",
       "      <td>0</td>\n",
       "      <td>0</td>\n",
       "      <td>0</td>\n",
       "      <td>1</td>\n",
       "      <td>1</td>\n",
       "      <td>0</td>\n",
       "      <td>0</td>\n",
       "      <td>0</td>\n",
       "      <td>0</td>\n",
       "      <td>0</td>\n",
       "      <td>0</td>\n",
       "      <td>0</td>\n",
       "      <td>0</td>\n",
       "      <td>0</td>\n",
       "      <td>0</td>\n",
       "      <td>0</td>\n",
       "      <td>0</td>\n",
       "      <td>0</td>\n",
       "      <td>0</td>\n",
       "      <td>0</td>\n",
       "      <td>0</td>\n",
       "      <td>0</td>\n",
       "    </tr>\n",
       "    <tr>\n",
       "      <th>1</th>\n",
       "      <td>0</td>\n",
       "      <td>0</td>\n",
       "      <td>0</td>\n",
       "      <td>0</td>\n",
       "      <td>0</td>\n",
       "      <td>0</td>\n",
       "      <td>0</td>\n",
       "      <td>0</td>\n",
       "      <td>0</td>\n",
       "      <td>0</td>\n",
       "      <td>1</td>\n",
       "      <td>0</td>\n",
       "      <td>0</td>\n",
       "      <td>0</td>\n",
       "      <td>0</td>\n",
       "      <td>0</td>\n",
       "      <td>0</td>\n",
       "      <td>0</td>\n",
       "      <td>0</td>\n",
       "      <td>0</td>\n",
       "      <td>0</td>\n",
       "      <td>0</td>\n",
       "      <td>1</td>\n",
       "      <td>0</td>\n",
       "      <td>0</td>\n",
       "      <td>0</td>\n",
       "      <td>0</td>\n",
       "      <td>0</td>\n",
       "      <td>0</td>\n",
       "      <td>0</td>\n",
       "      <td>0</td>\n",
       "      <td>0</td>\n",
       "      <td>0</td>\n",
       "      <td>0</td>\n",
       "      <td>0</td>\n",
       "      <td>0</td>\n",
       "      <td>0</td>\n",
       "      <td>0</td>\n",
       "      <td>0</td>\n",
       "      <td>0</td>\n",
       "      <td>0</td>\n",
       "      <td>0</td>\n",
       "      <td>0</td>\n",
       "      <td>0</td>\n",
       "      <td>0</td>\n",
       "      <td>0</td>\n",
       "      <td>0</td>\n",
       "      <td>0</td>\n",
       "      <td>0</td>\n",
       "      <td>0</td>\n",
       "      <td>0</td>\n",
       "      <td>0</td>\n",
       "      <td>0</td>\n",
       "      <td>0</td>\n",
       "      <td>0</td>\n",
       "      <td>0</td>\n",
       "      <td>0</td>\n",
       "      <td>0</td>\n",
       "      <td>0</td>\n",
       "      <td>0</td>\n",
       "      <td>0</td>\n",
       "      <td>0</td>\n",
       "      <td>0</td>\n",
       "      <td>0</td>\n",
       "      <td>0</td>\n",
       "      <td>0</td>\n",
       "      <td>0</td>\n",
       "      <td>1</td>\n",
       "      <td>0</td>\n",
       "      <td>0</td>\n",
       "      <td>0</td>\n",
       "      <td>0</td>\n",
       "      <td>0</td>\n",
       "      <td>0</td>\n",
       "    </tr>\n",
       "    <tr>\n",
       "      <th>2</th>\n",
       "      <td>0</td>\n",
       "      <td>0</td>\n",
       "      <td>0</td>\n",
       "      <td>0</td>\n",
       "      <td>0</td>\n",
       "      <td>0</td>\n",
       "      <td>0</td>\n",
       "      <td>0</td>\n",
       "      <td>0</td>\n",
       "      <td>0</td>\n",
       "      <td>0</td>\n",
       "      <td>0</td>\n",
       "      <td>0</td>\n",
       "      <td>1</td>\n",
       "      <td>0</td>\n",
       "      <td>0</td>\n",
       "      <td>1</td>\n",
       "      <td>0</td>\n",
       "      <td>0</td>\n",
       "      <td>0</td>\n",
       "      <td>0</td>\n",
       "      <td>0</td>\n",
       "      <td>1</td>\n",
       "      <td>0</td>\n",
       "      <td>0</td>\n",
       "      <td>0</td>\n",
       "      <td>0</td>\n",
       "      <td>0</td>\n",
       "      <td>0</td>\n",
       "      <td>0</td>\n",
       "      <td>0</td>\n",
       "      <td>0</td>\n",
       "      <td>0</td>\n",
       "      <td>0</td>\n",
       "      <td>0</td>\n",
       "      <td>0</td>\n",
       "      <td>0</td>\n",
       "      <td>0</td>\n",
       "      <td>0</td>\n",
       "      <td>0</td>\n",
       "      <td>0</td>\n",
       "      <td>0</td>\n",
       "      <td>0</td>\n",
       "      <td>0</td>\n",
       "      <td>0</td>\n",
       "      <td>0</td>\n",
       "      <td>0</td>\n",
       "      <td>0</td>\n",
       "      <td>0</td>\n",
       "      <td>0</td>\n",
       "      <td>0</td>\n",
       "      <td>0</td>\n",
       "      <td>0</td>\n",
       "      <td>0</td>\n",
       "      <td>0</td>\n",
       "      <td>0</td>\n",
       "      <td>0</td>\n",
       "      <td>0</td>\n",
       "      <td>0</td>\n",
       "      <td>0</td>\n",
       "      <td>0</td>\n",
       "      <td>0</td>\n",
       "      <td>0</td>\n",
       "      <td>0</td>\n",
       "      <td>0</td>\n",
       "      <td>0</td>\n",
       "      <td>0</td>\n",
       "      <td>0</td>\n",
       "      <td>0</td>\n",
       "      <td>0</td>\n",
       "      <td>0</td>\n",
       "      <td>0</td>\n",
       "      <td>0</td>\n",
       "      <td>0</td>\n",
       "    </tr>\n",
       "    <tr>\n",
       "      <th>3</th>\n",
       "      <td>0</td>\n",
       "      <td>0</td>\n",
       "      <td>0</td>\n",
       "      <td>0</td>\n",
       "      <td>0</td>\n",
       "      <td>0</td>\n",
       "      <td>0</td>\n",
       "      <td>0</td>\n",
       "      <td>0</td>\n",
       "      <td>0</td>\n",
       "      <td>0</td>\n",
       "      <td>0</td>\n",
       "      <td>0</td>\n",
       "      <td>0</td>\n",
       "      <td>0</td>\n",
       "      <td>0</td>\n",
       "      <td>0</td>\n",
       "      <td>0</td>\n",
       "      <td>0</td>\n",
       "      <td>0</td>\n",
       "      <td>0</td>\n",
       "      <td>0</td>\n",
       "      <td>0</td>\n",
       "      <td>0</td>\n",
       "      <td>0</td>\n",
       "      <td>0</td>\n",
       "      <td>0</td>\n",
       "      <td>0</td>\n",
       "      <td>0</td>\n",
       "      <td>0</td>\n",
       "      <td>0</td>\n",
       "      <td>0</td>\n",
       "      <td>0</td>\n",
       "      <td>0</td>\n",
       "      <td>0</td>\n",
       "      <td>0</td>\n",
       "      <td>0</td>\n",
       "      <td>0</td>\n",
       "      <td>0</td>\n",
       "      <td>0</td>\n",
       "      <td>0</td>\n",
       "      <td>0</td>\n",
       "      <td>0</td>\n",
       "      <td>0</td>\n",
       "      <td>0</td>\n",
       "      <td>0</td>\n",
       "      <td>0</td>\n",
       "      <td>0</td>\n",
       "      <td>0</td>\n",
       "      <td>0</td>\n",
       "      <td>0</td>\n",
       "      <td>0</td>\n",
       "      <td>0</td>\n",
       "      <td>0</td>\n",
       "      <td>0</td>\n",
       "      <td>0</td>\n",
       "      <td>0</td>\n",
       "      <td>0</td>\n",
       "      <td>0</td>\n",
       "      <td>0</td>\n",
       "      <td>0</td>\n",
       "      <td>0</td>\n",
       "      <td>0</td>\n",
       "      <td>0</td>\n",
       "      <td>0</td>\n",
       "      <td>0</td>\n",
       "      <td>0</td>\n",
       "      <td>0</td>\n",
       "      <td>0</td>\n",
       "      <td>0</td>\n",
       "      <td>0</td>\n",
       "      <td>0</td>\n",
       "      <td>0</td>\n",
       "      <td>0</td>\n",
       "    </tr>\n",
       "    <tr>\n",
       "      <th>4</th>\n",
       "      <td>0</td>\n",
       "      <td>0</td>\n",
       "      <td>0</td>\n",
       "      <td>0</td>\n",
       "      <td>0</td>\n",
       "      <td>0</td>\n",
       "      <td>0</td>\n",
       "      <td>1</td>\n",
       "      <td>0</td>\n",
       "      <td>0</td>\n",
       "      <td>0</td>\n",
       "      <td>0</td>\n",
       "      <td>0</td>\n",
       "      <td>0</td>\n",
       "      <td>0</td>\n",
       "      <td>0</td>\n",
       "      <td>0</td>\n",
       "      <td>0</td>\n",
       "      <td>1</td>\n",
       "      <td>0</td>\n",
       "      <td>1</td>\n",
       "      <td>0</td>\n",
       "      <td>0</td>\n",
       "      <td>0</td>\n",
       "      <td>0</td>\n",
       "      <td>0</td>\n",
       "      <td>0</td>\n",
       "      <td>0</td>\n",
       "      <td>0</td>\n",
       "      <td>0</td>\n",
       "      <td>0</td>\n",
       "      <td>0</td>\n",
       "      <td>0</td>\n",
       "      <td>0</td>\n",
       "      <td>1</td>\n",
       "      <td>0</td>\n",
       "      <td>1</td>\n",
       "      <td>1</td>\n",
       "      <td>1</td>\n",
       "      <td>0</td>\n",
       "      <td>0</td>\n",
       "      <td>0</td>\n",
       "      <td>0</td>\n",
       "      <td>0</td>\n",
       "      <td>0</td>\n",
       "      <td>0</td>\n",
       "      <td>0</td>\n",
       "      <td>0</td>\n",
       "      <td>0</td>\n",
       "      <td>0</td>\n",
       "      <td>1</td>\n",
       "      <td>0</td>\n",
       "      <td>0</td>\n",
       "      <td>0</td>\n",
       "      <td>0</td>\n",
       "      <td>0</td>\n",
       "      <td>0</td>\n",
       "      <td>1</td>\n",
       "      <td>0</td>\n",
       "      <td>0</td>\n",
       "      <td>0</td>\n",
       "      <td>0</td>\n",
       "      <td>0</td>\n",
       "      <td>0</td>\n",
       "      <td>0</td>\n",
       "      <td>0</td>\n",
       "      <td>0</td>\n",
       "      <td>0</td>\n",
       "      <td>0</td>\n",
       "      <td>0</td>\n",
       "      <td>0</td>\n",
       "      <td>0</td>\n",
       "      <td>0</td>\n",
       "      <td>0</td>\n",
       "    </tr>\n",
       "  </tbody>\n",
       "</table>\n",
       "</div>"
      ],
      "text/plain": [
       "   Assembly  Bash/Shell/PowerShell  C  C#  C++  Dart  Go  HTML/CSS  Haskell  \\\n",
       "0         0                      0  0   1    0     0   0         1        0   \n",
       "1         0                      0  0   0    0     0   0         0        0   \n",
       "2         0                      0  0   0    0     0   0         0        0   \n",
       "3         0                      0  0   0    0     0   0         0        0   \n",
       "4         0                      0  0   0    0     0   0         1        0   \n",
       "\n",
       "   Java  JavaScript  Julia  Kotlin  Objective-C  PHP  Perl  Python  R  Ruby  \\\n",
       "0     0           1      0       0            0    0     0       0  0     0   \n",
       "1     0           1      0       0            0    0     0       0  0     0   \n",
       "2     0           0      0       0            1    0     0       1  0     0   \n",
       "3     0           0      0       0            0    0     0       0  0     0   \n",
       "4     0           0      0       0            0    0     0       0  0     1   \n",
       "\n",
       "   Rust  SQL  Scala  Swift  TypeScript  VBA  Cassandra  Couchbase  DynamoDB  \\\n",
       "0     0    0      0      0           0    0          0          0         0   \n",
       "1     0    0      0      1           0    0          0          0         0   \n",
       "2     0    0      0      1           0    0          0          0         0   \n",
       "3     0    0      0      0           0    0          0          0         0   \n",
       "4     0    1      0      0           0    0          0          0         0   \n",
       "\n",
       "   Elasticsearch  Firebase  IBM DB2  MariaDB  Microsoft SQL Server  MongoDB  \\\n",
       "0              1         0        0        0                     1        0   \n",
       "1              0         0        0        0                     0        0   \n",
       "2              0         0        0        0                     0        0   \n",
       "3              0         0        0        0                     0        0   \n",
       "4              0         0        0        0                     0        0   \n",
       "\n",
       "   MySQL  Oracle  PostgreSQL  Redis  SQLite  ASP.NET  ASP.NET Core  Angular  \\\n",
       "0      0       1           0      0       0        1             1        0   \n",
       "1      0       0           0      0       0        0             0        0   \n",
       "2      0       0           0      0       0        0             0        0   \n",
       "3      0       0           0      0       0        0             0        0   \n",
       "4      1       0           1      1       1        0             0        0   \n",
       "\n",
       "   Angular.js  Django  Drupal  Express  Flask  Gatsby  Laravel  React.js  \\\n",
       "0           0       0       0        0      0       0        0         0   \n",
       "1           0       0       0        0      0       0        0         0   \n",
       "2           0       0       0        0      0       0        0         0   \n",
       "3           0       0       0        0      0       0        0         0   \n",
       "4           0       0       0        0      0       0        0         0   \n",
       "\n",
       "   Ruby on Rails  Spring  Symfony  Vue.js  jQuery  .NET  .NET Core  Ansible  \\\n",
       "0              0       0        0       0       0     1          1        0   \n",
       "1              0       0        0       0       0     0          0        0   \n",
       "2              0       0        0       0       0     0          0        0   \n",
       "3              0       0        0       0       0     0          0        0   \n",
       "4              1       0        0       0       0     0          0        1   \n",
       "\n",
       "   Apache Spark  Chef  Cordova  Flutter  Hadoop  Keras  Node.js  Pandas  \\\n",
       "0             0     0        0        0       0      0        0       0   \n",
       "1             0     0        0        0       0      0        0       0   \n",
       "2             0     0        0        0       0      0        0       0   \n",
       "3             0     0        0        0       0      0        0       0   \n",
       "4             0     0        0        0       0      0        0       0   \n",
       "\n",
       "   Puppet  React Native  TensorFlow  Teraform  Torch/PyTorch  Unity 3D  \\\n",
       "0       0             0           0         0              0         0   \n",
       "1       0             1           0         0              0         0   \n",
       "2       0             0           0         0              0         0   \n",
       "3       0             0           0         0              0         0   \n",
       "4       0             0           0         0              0         0   \n",
       "\n",
       "   Unreal Engine  Xamarin  \n",
       "0              0        0  \n",
       "1              0        0  \n",
       "2              0        0  \n",
       "3              0        0  \n",
       "4              0        0  "
      ]
     },
     "execution_count": 4,
     "metadata": {},
     "output_type": "execute_result"
    }
   ],
   "source": [
    "# Enconde the important categorical columns by ' 1-hot encode '\n",
    "encoded_tech = pd.DataFrame()\n",
    "\n",
    "for col in TECH_COLS:\n",
    "    binarizer = MultiLabelBinarizer()\n",
    "    encoded_col = pd.DataFrame(binarizer.fit_transform(df[col]), columns=binarizer.classes_, index=df[col].index)\n",
    "    encoded_tech = pd.concat([encoded_tech, encoded_col], axis=1)\n",
    " \n",
    "\n",
    "encoded_tech.head()"
   ]
  },
  {
   "cell_type": "markdown",
   "metadata": {},
   "source": [
    "## Dimensionality reduction\n",
    "#### tnse is a good method for reduction, the technique grouping the data accourding to similarity after projection"
   ]
  },
  {
   "cell_type": "code",
   "execution_count": 5,
   "metadata": {},
   "outputs": [],
   "source": [
    "# Prepare sub data frames \n",
    "skills_encoded = encoded_tech.copy()\n",
    "std_skills = StandardScaler().fit_transform(skills_encoded) # Normalize the features\n"
   ]
  },
  {
   "cell_type": "code",
   "execution_count": 6,
   "metadata": {},
   "outputs": [],
   "source": [
    "tsne_projection = TSNE(n_components=2, \n",
    "                       perplexity=2.5, \n",
    "                       learning_rate=1, \n",
    "                       init='pca', \n",
    "                       method='barnes_hut', \n",
    "                       n_jobs=2, \n",
    "                       n_iter=10**4, \n",
    "                       random_state=0).fit_transform(std_skills.T) # Transpose the dataframe to label the skills\n"
   ]
  },
  {
   "cell_type": "code",
   "execution_count": 7,
   "metadata": {},
   "outputs": [
    {
     "data": {
      "text/plain": [
       "(74, 2)"
      ]
     },
     "execution_count": 7,
     "metadata": {},
     "output_type": "execute_result"
    }
   ],
   "source": [
    "# Make the projection as a data-frame\n",
    "tsne_df = pd.DataFrame(tsne_projection, index=skills_encoded.columns)\n",
    "tsne_df.shape"
   ]
  },
  {
   "cell_type": "code",
   "execution_count": 8,
   "metadata": {},
   "outputs": [
    {
     "data": {
      "application/vnd.plotly.v1+json": {
       "config": {
        "plotlyServerURL": "https://plot.ly"
       },
       "data": [
        {
         "hovertemplate": "x=%{x}<br>y=%{y}<br>text=%{text}<extra></extra>",
         "legendgroup": "",
         "marker": {
          "color": "#636efa",
          "symbol": "circle"
         },
         "mode": "markers+text",
         "name": "",
         "orientation": "v",
         "showlegend": false,
         "text": [
          "Assembly",
          "Bash/Shell/PowerShell",
          "C",
          "C#",
          "C++",
          "Dart",
          "Go",
          "HTML/CSS",
          "Haskell",
          "Java",
          "JavaScript",
          "Julia",
          "Kotlin",
          "Objective-C",
          "PHP",
          "Perl",
          "Python",
          "R",
          "Ruby",
          "Rust",
          "SQL",
          "Scala",
          "Swift",
          "TypeScript",
          "VBA",
          "Cassandra",
          "Couchbase",
          "DynamoDB",
          "Elasticsearch",
          "Firebase",
          "IBM DB2",
          "MariaDB",
          "Microsoft SQL Server",
          "MongoDB",
          "MySQL",
          "Oracle",
          "PostgreSQL",
          "Redis",
          "SQLite",
          "ASP.NET",
          "ASP.NET Core",
          "Angular",
          "Angular.js",
          "Django",
          "Drupal",
          "Express",
          "Flask",
          "Gatsby",
          "Laravel",
          "React.js",
          "Ruby on Rails",
          "Spring",
          "Symfony",
          "Vue.js",
          "jQuery",
          ".NET",
          ".NET Core",
          "Ansible",
          "Apache Spark",
          "Chef",
          "Cordova",
          "Flutter",
          "Hadoop",
          "Keras",
          "Node.js",
          "Pandas",
          "Puppet",
          "React Native",
          "TensorFlow",
          "Teraform",
          "Torch/PyTorch",
          "Unity 3D",
          "Unreal Engine",
          "Xamarin"
         ],
         "textposition": "top center",
         "type": "scatter",
         "x": [
          -7.812082767486572,
          -68.45719146728516,
          -3.2949328422546387,
          139.60635375976562,
          -0.10080476850271225,
          47.66816711425781,
          -67.74250030517578,
          33.551063537597656,
          -47.04152297973633,
          64.12539672851562,
          34.884498596191406,
          -55.21892547607422,
          59.10041046142578,
          28.823450088500977,
          6.504512786865234,
          -65.0364761352539,
          -73.34476470947266,
          -64.1828842163086,
          -54.92242431640625,
          -43.982704162597656,
          30.971227645874023,
          -35.71890640258789,
          31.242361068725586,
          65.7424545288086,
          132.85780334472656,
          -42.13129425048828,
          -45.1297721862793,
          -68.17266845703125,
          -59.625919342041016,
          41.42407989501953,
          69.5533218383789,
          1.7126257419586182,
          136.7709503173828,
          42.77492904663086,
          9.645268440246582,
          67.13389587402344,
          -56.222801208496094,
          -59.216365814208984,
          13.253203392028809,
          142.90647888183594,
          150.3373260498047,
          69.20958709716797,
          70.74749755859375,
          -78.28455352783203,
          -2.7448387145996094,
          38.00603103637695,
          -77.1269302368164,
          28.721431732177734,
          9.035504341125488,
          29.471315383911133,
          -52.010765075683594,
          67.25102996826172,
          1.4110206365585327,
          12.604844093322754,
          39.90288162231445,
          140.10122680664062,
          147.67857360839844,
          -76.51787567138672,
          -36.332427978515625,
          -87.0792007446289,
          73.26908111572266,
          45.230594635009766,
          -38.73408889770508,
          -74.75121307373047,
          34.59821701049805,
          -69.90327453613281,
          -89.44017028808594,
          25.418701171875,
          -72.98986053466797,
          -73.14019012451172,
          -75.02458953857422,
          24.58808708190918,
          21.418336868286133,
          143.42401123046875
         ],
         "xaxis": "x",
         "y": [
          -65.1879653930664,
          -46.87892532348633,
          -65.57910919189453,
          -72.17818450927734,
          -66.2465591430664,
          13.711568832397461,
          12.835077285766602,
          71.30870819091797,
          -69.05133819580078,
          -4.2080512046813965,
          74.39432525634766,
          -67.83853149414062,
          -1.864328145980835,
          -3.851057291030884,
          64.96280670166016,
          -43.10333251953125,
          -51.47899627685547,
          -65.24609375,
          33.75041198730469,
          -69.15847778320312,
          66.4024429321289,
          -13.453182220458984,
          -1.7540391683578491,
          86.3082504272461,
          -59.33415603637695,
          -9.098544120788574,
          -5.180241584777832,
          3.0138564109802246,
          7.383004665374756,
          18.661293029785156,
          -14.087262153625488,
          69.20433807373047,
          -62.576171875,
          98.58824920654297,
          61.9058723449707,
          -9.695650100708008,
          14.4913911819458,
          10.871177673339844,
          57.407100677490234,
          -65.18265533447266,
          -73.64229583740234,
          87.10218048095703,
          91.91151428222656,
          -48.91126251220703,
          58.02484130859375,
          97.7710952758789,
          -54.02163314819336,
          105.29151153564453,
          69.18051147460938,
          99.79804992675781,
          35.06214141845703,
          -3.057729959487915,
          61.4574089050293,
          74.60176849365234,
          74.81380462646484,
          -68.55265808105469,
          -75.85484313964844,
          6.855505466461182,
          -17.98939323425293,
          9.902036666870117,
          84.12967681884766,
          15.812664031982422,
          -20.20118522644043,
          -68.28205871582031,
          97.32028198242188,
          -64.73572540283203,
          7.538761615753174,
          97.20977020263672,
          -71.05618286132812,
          6.850765705108643,
          -75.45523071289062,
          -76.46759033203125,
          -75.83467102050781,
          -80.41372680664062
         ],
         "yaxis": "y"
        }
       ],
       "layout": {
        "height": 500,
        "legend": {
         "tracegroupgap": 0
        },
        "margin": {
         "t": 60
        },
        "template": {
         "data": {
          "bar": [
           {
            "error_x": {
             "color": "#2a3f5f"
            },
            "error_y": {
             "color": "#2a3f5f"
            },
            "marker": {
             "line": {
              "color": "#E5ECF6",
              "width": 0.5
             }
            },
            "type": "bar"
           }
          ],
          "barpolar": [
           {
            "marker": {
             "line": {
              "color": "#E5ECF6",
              "width": 0.5
             }
            },
            "type": "barpolar"
           }
          ],
          "carpet": [
           {
            "aaxis": {
             "endlinecolor": "#2a3f5f",
             "gridcolor": "white",
             "linecolor": "white",
             "minorgridcolor": "white",
             "startlinecolor": "#2a3f5f"
            },
            "baxis": {
             "endlinecolor": "#2a3f5f",
             "gridcolor": "white",
             "linecolor": "white",
             "minorgridcolor": "white",
             "startlinecolor": "#2a3f5f"
            },
            "type": "carpet"
           }
          ],
          "choropleth": [
           {
            "colorbar": {
             "outlinewidth": 0,
             "ticks": ""
            },
            "type": "choropleth"
           }
          ],
          "contour": [
           {
            "colorbar": {
             "outlinewidth": 0,
             "ticks": ""
            },
            "colorscale": [
             [
              0,
              "#0d0887"
             ],
             [
              0.1111111111111111,
              "#46039f"
             ],
             [
              0.2222222222222222,
              "#7201a8"
             ],
             [
              0.3333333333333333,
              "#9c179e"
             ],
             [
              0.4444444444444444,
              "#bd3786"
             ],
             [
              0.5555555555555556,
              "#d8576b"
             ],
             [
              0.6666666666666666,
              "#ed7953"
             ],
             [
              0.7777777777777778,
              "#fb9f3a"
             ],
             [
              0.8888888888888888,
              "#fdca26"
             ],
             [
              1,
              "#f0f921"
             ]
            ],
            "type": "contour"
           }
          ],
          "contourcarpet": [
           {
            "colorbar": {
             "outlinewidth": 0,
             "ticks": ""
            },
            "type": "contourcarpet"
           }
          ],
          "heatmap": [
           {
            "colorbar": {
             "outlinewidth": 0,
             "ticks": ""
            },
            "colorscale": [
             [
              0,
              "#0d0887"
             ],
             [
              0.1111111111111111,
              "#46039f"
             ],
             [
              0.2222222222222222,
              "#7201a8"
             ],
             [
              0.3333333333333333,
              "#9c179e"
             ],
             [
              0.4444444444444444,
              "#bd3786"
             ],
             [
              0.5555555555555556,
              "#d8576b"
             ],
             [
              0.6666666666666666,
              "#ed7953"
             ],
             [
              0.7777777777777778,
              "#fb9f3a"
             ],
             [
              0.8888888888888888,
              "#fdca26"
             ],
             [
              1,
              "#f0f921"
             ]
            ],
            "type": "heatmap"
           }
          ],
          "heatmapgl": [
           {
            "colorbar": {
             "outlinewidth": 0,
             "ticks": ""
            },
            "colorscale": [
             [
              0,
              "#0d0887"
             ],
             [
              0.1111111111111111,
              "#46039f"
             ],
             [
              0.2222222222222222,
              "#7201a8"
             ],
             [
              0.3333333333333333,
              "#9c179e"
             ],
             [
              0.4444444444444444,
              "#bd3786"
             ],
             [
              0.5555555555555556,
              "#d8576b"
             ],
             [
              0.6666666666666666,
              "#ed7953"
             ],
             [
              0.7777777777777778,
              "#fb9f3a"
             ],
             [
              0.8888888888888888,
              "#fdca26"
             ],
             [
              1,
              "#f0f921"
             ]
            ],
            "type": "heatmapgl"
           }
          ],
          "histogram": [
           {
            "marker": {
             "colorbar": {
              "outlinewidth": 0,
              "ticks": ""
             }
            },
            "type": "histogram"
           }
          ],
          "histogram2d": [
           {
            "colorbar": {
             "outlinewidth": 0,
             "ticks": ""
            },
            "colorscale": [
             [
              0,
              "#0d0887"
             ],
             [
              0.1111111111111111,
              "#46039f"
             ],
             [
              0.2222222222222222,
              "#7201a8"
             ],
             [
              0.3333333333333333,
              "#9c179e"
             ],
             [
              0.4444444444444444,
              "#bd3786"
             ],
             [
              0.5555555555555556,
              "#d8576b"
             ],
             [
              0.6666666666666666,
              "#ed7953"
             ],
             [
              0.7777777777777778,
              "#fb9f3a"
             ],
             [
              0.8888888888888888,
              "#fdca26"
             ],
             [
              1,
              "#f0f921"
             ]
            ],
            "type": "histogram2d"
           }
          ],
          "histogram2dcontour": [
           {
            "colorbar": {
             "outlinewidth": 0,
             "ticks": ""
            },
            "colorscale": [
             [
              0,
              "#0d0887"
             ],
             [
              0.1111111111111111,
              "#46039f"
             ],
             [
              0.2222222222222222,
              "#7201a8"
             ],
             [
              0.3333333333333333,
              "#9c179e"
             ],
             [
              0.4444444444444444,
              "#bd3786"
             ],
             [
              0.5555555555555556,
              "#d8576b"
             ],
             [
              0.6666666666666666,
              "#ed7953"
             ],
             [
              0.7777777777777778,
              "#fb9f3a"
             ],
             [
              0.8888888888888888,
              "#fdca26"
             ],
             [
              1,
              "#f0f921"
             ]
            ],
            "type": "histogram2dcontour"
           }
          ],
          "mesh3d": [
           {
            "colorbar": {
             "outlinewidth": 0,
             "ticks": ""
            },
            "type": "mesh3d"
           }
          ],
          "parcoords": [
           {
            "line": {
             "colorbar": {
              "outlinewidth": 0,
              "ticks": ""
             }
            },
            "type": "parcoords"
           }
          ],
          "pie": [
           {
            "automargin": true,
            "type": "pie"
           }
          ],
          "scatter": [
           {
            "marker": {
             "colorbar": {
              "outlinewidth": 0,
              "ticks": ""
             }
            },
            "type": "scatter"
           }
          ],
          "scatter3d": [
           {
            "line": {
             "colorbar": {
              "outlinewidth": 0,
              "ticks": ""
             }
            },
            "marker": {
             "colorbar": {
              "outlinewidth": 0,
              "ticks": ""
             }
            },
            "type": "scatter3d"
           }
          ],
          "scattercarpet": [
           {
            "marker": {
             "colorbar": {
              "outlinewidth": 0,
              "ticks": ""
             }
            },
            "type": "scattercarpet"
           }
          ],
          "scattergeo": [
           {
            "marker": {
             "colorbar": {
              "outlinewidth": 0,
              "ticks": ""
             }
            },
            "type": "scattergeo"
           }
          ],
          "scattergl": [
           {
            "marker": {
             "colorbar": {
              "outlinewidth": 0,
              "ticks": ""
             }
            },
            "type": "scattergl"
           }
          ],
          "scattermapbox": [
           {
            "marker": {
             "colorbar": {
              "outlinewidth": 0,
              "ticks": ""
             }
            },
            "type": "scattermapbox"
           }
          ],
          "scatterpolar": [
           {
            "marker": {
             "colorbar": {
              "outlinewidth": 0,
              "ticks": ""
             }
            },
            "type": "scatterpolar"
           }
          ],
          "scatterpolargl": [
           {
            "marker": {
             "colorbar": {
              "outlinewidth": 0,
              "ticks": ""
             }
            },
            "type": "scatterpolargl"
           }
          ],
          "scatterternary": [
           {
            "marker": {
             "colorbar": {
              "outlinewidth": 0,
              "ticks": ""
             }
            },
            "type": "scatterternary"
           }
          ],
          "surface": [
           {
            "colorbar": {
             "outlinewidth": 0,
             "ticks": ""
            },
            "colorscale": [
             [
              0,
              "#0d0887"
             ],
             [
              0.1111111111111111,
              "#46039f"
             ],
             [
              0.2222222222222222,
              "#7201a8"
             ],
             [
              0.3333333333333333,
              "#9c179e"
             ],
             [
              0.4444444444444444,
              "#bd3786"
             ],
             [
              0.5555555555555556,
              "#d8576b"
             ],
             [
              0.6666666666666666,
              "#ed7953"
             ],
             [
              0.7777777777777778,
              "#fb9f3a"
             ],
             [
              0.8888888888888888,
              "#fdca26"
             ],
             [
              1,
              "#f0f921"
             ]
            ],
            "type": "surface"
           }
          ],
          "table": [
           {
            "cells": {
             "fill": {
              "color": "#EBF0F8"
             },
             "line": {
              "color": "white"
             }
            },
            "header": {
             "fill": {
              "color": "#C8D4E3"
             },
             "line": {
              "color": "white"
             }
            },
            "type": "table"
           }
          ]
         },
         "layout": {
          "annotationdefaults": {
           "arrowcolor": "#2a3f5f",
           "arrowhead": 0,
           "arrowwidth": 1
          },
          "autotypenumbers": "strict",
          "coloraxis": {
           "colorbar": {
            "outlinewidth": 0,
            "ticks": ""
           }
          },
          "colorscale": {
           "diverging": [
            [
             0,
             "#8e0152"
            ],
            [
             0.1,
             "#c51b7d"
            ],
            [
             0.2,
             "#de77ae"
            ],
            [
             0.3,
             "#f1b6da"
            ],
            [
             0.4,
             "#fde0ef"
            ],
            [
             0.5,
             "#f7f7f7"
            ],
            [
             0.6,
             "#e6f5d0"
            ],
            [
             0.7,
             "#b8e186"
            ],
            [
             0.8,
             "#7fbc41"
            ],
            [
             0.9,
             "#4d9221"
            ],
            [
             1,
             "#276419"
            ]
           ],
           "sequential": [
            [
             0,
             "#0d0887"
            ],
            [
             0.1111111111111111,
             "#46039f"
            ],
            [
             0.2222222222222222,
             "#7201a8"
            ],
            [
             0.3333333333333333,
             "#9c179e"
            ],
            [
             0.4444444444444444,
             "#bd3786"
            ],
            [
             0.5555555555555556,
             "#d8576b"
            ],
            [
             0.6666666666666666,
             "#ed7953"
            ],
            [
             0.7777777777777778,
             "#fb9f3a"
            ],
            [
             0.8888888888888888,
             "#fdca26"
            ],
            [
             1,
             "#f0f921"
            ]
           ],
           "sequentialminus": [
            [
             0,
             "#0d0887"
            ],
            [
             0.1111111111111111,
             "#46039f"
            ],
            [
             0.2222222222222222,
             "#7201a8"
            ],
            [
             0.3333333333333333,
             "#9c179e"
            ],
            [
             0.4444444444444444,
             "#bd3786"
            ],
            [
             0.5555555555555556,
             "#d8576b"
            ],
            [
             0.6666666666666666,
             "#ed7953"
            ],
            [
             0.7777777777777778,
             "#fb9f3a"
            ],
            [
             0.8888888888888888,
             "#fdca26"
            ],
            [
             1,
             "#f0f921"
            ]
           ]
          },
          "colorway": [
           "#636efa",
           "#EF553B",
           "#00cc96",
           "#ab63fa",
           "#FFA15A",
           "#19d3f3",
           "#FF6692",
           "#B6E880",
           "#FF97FF",
           "#FECB52"
          ],
          "font": {
           "color": "#2a3f5f"
          },
          "geo": {
           "bgcolor": "white",
           "lakecolor": "white",
           "landcolor": "#E5ECF6",
           "showlakes": true,
           "showland": true,
           "subunitcolor": "white"
          },
          "hoverlabel": {
           "align": "left"
          },
          "hovermode": "closest",
          "mapbox": {
           "style": "light"
          },
          "paper_bgcolor": "white",
          "plot_bgcolor": "#E5ECF6",
          "polar": {
           "angularaxis": {
            "gridcolor": "white",
            "linecolor": "white",
            "ticks": ""
           },
           "bgcolor": "#E5ECF6",
           "radialaxis": {
            "gridcolor": "white",
            "linecolor": "white",
            "ticks": ""
           }
          },
          "scene": {
           "xaxis": {
            "backgroundcolor": "#E5ECF6",
            "gridcolor": "white",
            "gridwidth": 2,
            "linecolor": "white",
            "showbackground": true,
            "ticks": "",
            "zerolinecolor": "white"
           },
           "yaxis": {
            "backgroundcolor": "#E5ECF6",
            "gridcolor": "white",
            "gridwidth": 2,
            "linecolor": "white",
            "showbackground": true,
            "ticks": "",
            "zerolinecolor": "white"
           },
           "zaxis": {
            "backgroundcolor": "#E5ECF6",
            "gridcolor": "white",
            "gridwidth": 2,
            "linecolor": "white",
            "showbackground": true,
            "ticks": "",
            "zerolinecolor": "white"
           }
          },
          "shapedefaults": {
           "line": {
            "color": "#2a3f5f"
           }
          },
          "ternary": {
           "aaxis": {
            "gridcolor": "white",
            "linecolor": "white",
            "ticks": ""
           },
           "baxis": {
            "gridcolor": "white",
            "linecolor": "white",
            "ticks": ""
           },
           "bgcolor": "#E5ECF6",
           "caxis": {
            "gridcolor": "white",
            "linecolor": "white",
            "ticks": ""
           }
          },
          "title": {
           "x": 0.05
          },
          "xaxis": {
           "automargin": true,
           "gridcolor": "white",
           "linecolor": "white",
           "ticks": "",
           "title": {
            "standoff": 15
           },
           "zerolinecolor": "white",
           "zerolinewidth": 2
          },
          "yaxis": {
           "automargin": true,
           "gridcolor": "white",
           "linecolor": "white",
           "ticks": "",
           "title": {
            "standoff": 15
           },
           "zerolinecolor": "white",
           "zerolinewidth": 2
          }
         }
        },
        "title": {
         "text": "TSNE"
        },
        "width": 800,
        "xaxis": {
         "anchor": "y",
         "domain": [
          0,
          1
         ],
         "title": {
          "text": "x"
         }
        },
        "yaxis": {
         "anchor": "x",
         "domain": [
          0,
          1
         ],
         "title": {
          "text": "y"
         }
        }
       }
      }
     },
     "metadata": {},
     "output_type": "display_data"
    }
   ],
   "source": [
    "fig = px.scatter(x=tsne_df[0], y=tsne_df[1], text=tsne_df.index)\n",
    "fig.update_traces(textposition='top center')\n",
    "fig.update_layout(height=500, width=800, title_text='TSNE')\n",
    "fig.show()"
   ]
  },
  {
   "cell_type": "markdown",
   "metadata": {},
   "source": [
    "## K-mean clustering"
   ]
  },
  {
   "cell_type": "code",
   "execution_count": 9,
   "metadata": {},
   "outputs": [
    {
     "data": {
      "text/plain": [
       "<AxesSubplot:>"
      ]
     },
     "execution_count": 9,
     "metadata": {},
     "output_type": "execute_result"
    },
    {
     "data": {
      "image/png": "[encoded data removed]",
      "text/plain": [
       "<Figure size 720x720 with 1 Axes>"
      ]
     },
     "metadata": {},
     "output_type": "display_data"
    }
   ],
   "source": [
    "WCSS = []   # Within-Cluster Sum of Square\n",
    "\n",
    "for i in range(1,21):\n",
    "    clusters = KMeans(n_clusters=i, init='k-means++')\n",
    "    clusters.fit(tsne_df)\n",
    "    WCSS.append(clusters.inertia_)\n",
    "\n",
    "plt.figure(figsize=(10,10))\n",
    "sns.lineplot(range(1,21), WCSS)"
   ]
  },
  {
   "cell_type": "markdown",
   "metadata": {},
   "source": [
    "## Agglomerative Clustering"
   ]
  },
  {
   "cell_type": "code",
   "execution_count": 10,
   "metadata": {},
   "outputs": [],
   "source": [
    "sil_scores = []\n",
    "best_cluster_model = None\n",
    "best_score = 0\n",
    "\n",
    "for i in range(5,25):\n",
    "    cluster_model = AgglomerativeClustering(n_clusters=i, linkage='ward')\n",
    "    cluster_labels = cluster_model.fit_predict(tsne_df) # fit the model\n",
    "\n",
    "    silhouette_avg = silhouette_score(tsne_df, cluster_labels) # Get the silhouette score and append all results in list\n",
    "    sil_scores.append(silhouette_avg)\n",
    "\n",
    "    if silhouette_avg >= np.max(sil_scores):\n",
    "        best_cluster_model = cluster_model\n",
    "        best_score = i\n",
    "\n"
   ]
  },
  {
   "cell_type": "code",
   "execution_count": 11,
   "metadata": {},
   "outputs": [
    {
     "data": {
      "text/plain": [
       "<matplotlib.lines.Line2D at 0x21597d0f790>"
      ]
     },
     "execution_count": 11,
     "metadata": {},
     "output_type": "execute_result"
    },
    {
     "data": {
      "image/png": "[encoded data removed]",
      "text/plain": [
       "<Figure size 720x720 with 1 Axes>"
      ]
     },
     "metadata": {},
     "output_type": "display_data"
    }
   ],
   "source": [
    "# Plot the best N clusters\n",
    "plt.figure(figsize=(10,10))\n",
    "sns.lineplot(range(5,25), sil_scores)\n",
    "plt.axvline(best_score, color='black')\n"
   ]
  },
  {
   "cell_type": "code",
   "execution_count": 12,
   "metadata": {},
   "outputs": [],
   "source": [
    "tsne_df['label'] = best_cluster_model.labels_.tolist() # Adding the label to DataFrame\n",
    "\n",
    "for i in range(0,17):  # replace the numerical labels to real labels\n",
    "    tsne_df['label'].replace(i, 'skills_group_'+ str(i), inplace=True)\n"
   ]
  },
  {
   "cell_type": "code",
   "execution_count": 13,
   "metadata": {},
   "outputs": [
    {
     "data": {
      "application/vnd.plotly.v1+json": {
       "config": {
        "plotlyServerURL": "https://plot.ly"
       },
       "data": [
        {
         "hovertemplate": "color=skills_group_12<br>x=%{x}<br>y=%{y}<br>text=%{text}<extra></extra>",
         "legendgroup": "skills_group_12",
         "marker": {
          "color": "#636efa",
          "symbol": "circle"
         },
         "mode": "markers+text",
         "name": "skills_group_12",
         "orientation": "v",
         "showlegend": true,
         "text": [
          "Assembly",
          "C",
          "C++"
         ],
         "textposition": "top center",
         "type": "scatter",
         "x": [
          -7.812082767486572,
          -3.2949328422546387,
          -0.10080476850271225
         ],
         "xaxis": "x",
         "y": [
          -65.1879653930664,
          -65.57910919189453,
          -66.2465591430664
         ],
         "yaxis": "y"
        },
        {
         "hovertemplate": "color=skills_group_5<br>x=%{x}<br>y=%{y}<br>text=%{text}<extra></extra>",
         "legendgroup": "skills_group_5",
         "marker": {
          "color": "#EF553B",
          "symbol": "circle"
         },
         "mode": "markers+text",
         "name": "skills_group_5",
         "orientation": "v",
         "showlegend": true,
         "text": [
          "Bash/Shell/PowerShell",
          "Perl",
          "Python",
          "Django",
          "Flask"
         ],
         "textposition": "top center",
         "type": "scatter",
         "x": [
          -68.45719146728516,
          -65.0364761352539,
          -73.34476470947266,
          -78.28455352783203,
          -77.1269302368164
         ],
         "xaxis": "x",
         "y": [
          -46.87892532348633,
          -43.10333251953125,
          -51.47899627685547,
          -48.91126251220703,
          -54.02163314819336
         ],
         "yaxis": "y"
        },
        {
         "hovertemplate": "color=skills_group_0<br>x=%{x}<br>y=%{y}<br>text=%{text}<extra></extra>",
         "legendgroup": "skills_group_0",
         "marker": {
          "color": "#00cc96",
          "symbol": "circle"
         },
         "mode": "markers+text",
         "name": "skills_group_0",
         "orientation": "v",
         "showlegend": true,
         "text": [
          "C#",
          "VBA",
          "Microsoft SQL Server",
          "ASP.NET",
          "ASP.NET Core",
          ".NET",
          ".NET Core",
          "Xamarin"
         ],
         "textposition": "top center",
         "type": "scatter",
         "x": [
          139.60635375976562,
          132.85780334472656,
          136.7709503173828,
          142.90647888183594,
          150.3373260498047,
          140.10122680664062,
          147.67857360839844,
          143.42401123046875
         ],
         "xaxis": "x",
         "y": [
          -72.17818450927734,
          -59.33415603637695,
          -62.576171875,
          -65.18265533447266,
          -73.64229583740234,
          -68.55265808105469,
          -75.85484313964844,
          -80.41372680664062
         ],
         "yaxis": "y"
        },
        {
         "hovertemplate": "color=skills_group_14<br>x=%{x}<br>y=%{y}<br>text=%{text}<extra></extra>",
         "legendgroup": "skills_group_14",
         "marker": {
          "color": "#ab63fa",
          "symbol": "circle"
         },
         "mode": "markers+text",
         "name": "skills_group_14",
         "orientation": "v",
         "showlegend": true,
         "text": [
          "Dart",
          "Firebase",
          "Flutter"
         ],
         "textposition": "top center",
         "type": "scatter",
         "x": [
          47.66816711425781,
          41.42407989501953,
          45.230594635009766
         ],
         "xaxis": "x",
         "y": [
          13.711568832397461,
          18.661293029785156,
          15.812664031982422
         ],
         "yaxis": "y"
        },
        {
         "hovertemplate": "color=skills_group_1<br>x=%{x}<br>y=%{y}<br>text=%{text}<extra></extra>",
         "legendgroup": "skills_group_1",
         "marker": {
          "color": "#FFA15A",
          "symbol": "circle"
         },
         "mode": "markers+text",
         "name": "skills_group_1",
         "orientation": "v",
         "showlegend": true,
         "text": [
          "Go",
          "DynamoDB",
          "Elasticsearch",
          "PostgreSQL",
          "Redis",
          "Ansible",
          "Teraform"
         ],
         "textposition": "top center",
         "type": "scatter",
         "x": [
          -67.74250030517578,
          -68.17266845703125,
          -59.625919342041016,
          -56.222801208496094,
          -59.216365814208984,
          -76.51787567138672,
          -73.14019012451172
         ],
         "xaxis": "x",
         "y": [
          12.835077285766602,
          3.0138564109802246,
          7.383004665374756,
          14.4913911819458,
          10.871177673339844,
          6.855505466461182,
          6.850765705108643
         ],
         "yaxis": "y"
        },
        {
         "hovertemplate": "color=skills_group_10<br>x=%{x}<br>y=%{y}<br>text=%{text}<extra></extra>",
         "legendgroup": "skills_group_10",
         "marker": {
          "color": "#19d3f3",
          "symbol": "circle"
         },
         "mode": "markers+text",
         "name": "skills_group_10",
         "orientation": "v",
         "showlegend": true,
         "text": [
          "HTML/CSS",
          "JavaScript",
          "SQL",
          "jQuery"
         ],
         "textposition": "top center",
         "type": "scatter",
         "x": [
          33.551063537597656,
          34.884498596191406,
          30.971227645874023,
          39.90288162231445
         ],
         "xaxis": "x",
         "y": [
          71.30870819091797,
          74.39432525634766,
          66.4024429321289,
          74.81380462646484
         ],
         "yaxis": "y"
        },
        {
         "hovertemplate": "color=skills_group_6<br>x=%{x}<br>y=%{y}<br>text=%{text}<extra></extra>",
         "legendgroup": "skills_group_6",
         "marker": {
          "color": "#FF6692",
          "symbol": "circle"
         },
         "mode": "markers+text",
         "name": "skills_group_6",
         "orientation": "v",
         "showlegend": true,
         "text": [
          "Haskell",
          "Julia",
          "Rust"
         ],
         "textposition": "top center",
         "type": "scatter",
         "x": [
          -47.04152297973633,
          -55.21892547607422,
          -43.982704162597656
         ],
         "xaxis": "x",
         "y": [
          -69.05133819580078,
          -67.83853149414062,
          -69.15847778320312
         ],
         "yaxis": "y"
        },
        {
         "hovertemplate": "color=skills_group_9<br>x=%{x}<br>y=%{y}<br>text=%{text}<extra></extra>",
         "legendgroup": "skills_group_9",
         "marker": {
          "color": "#B6E880",
          "symbol": "circle"
         },
         "mode": "markers+text",
         "name": "skills_group_9",
         "orientation": "v",
         "showlegend": true,
         "text": [
          "Java",
          "Kotlin",
          "IBM DB2",
          "Oracle",
          "Spring"
         ],
         "textposition": "top center",
         "type": "scatter",
         "x": [
          64.12539672851562,
          59.10041046142578,
          69.5533218383789,
          67.13389587402344,
          67.25102996826172
         ],
         "xaxis": "x",
         "y": [
          -4.2080512046813965,
          -1.864328145980835,
          -14.087262153625488,
          -9.695650100708008,
          -3.057729959487915
         ],
         "yaxis": "y"
        },
        {
         "hovertemplate": "color=skills_group_16<br>x=%{x}<br>y=%{y}<br>text=%{text}<extra></extra>",
         "legendgroup": "skills_group_16",
         "marker": {
          "color": "#FF97FF",
          "symbol": "circle"
         },
         "mode": "markers+text",
         "name": "skills_group_16",
         "orientation": "v",
         "showlegend": true,
         "text": [
          "Objective-C",
          "Swift"
         ],
         "textposition": "top center",
         "type": "scatter",
         "x": [
          28.823450088500977,
          31.242361068725586
         ],
         "xaxis": "x",
         "y": [
          -3.851057291030884,
          -1.7540391683578491
         ],
         "yaxis": "y"
        },
        {
         "hovertemplate": "color=skills_group_2<br>x=%{x}<br>y=%{y}<br>text=%{text}<extra></extra>",
         "legendgroup": "skills_group_2",
         "marker": {
          "color": "#FECB52",
          "symbol": "circle"
         },
         "mode": "markers+text",
         "name": "skills_group_2",
         "orientation": "v",
         "showlegend": true,
         "text": [
          "PHP",
          "MariaDB",
          "MySQL",
          "SQLite",
          "Drupal",
          "Laravel",
          "Symfony",
          "Vue.js"
         ],
         "textposition": "top center",
         "type": "scatter",
         "x": [
          6.504512786865234,
          1.7126257419586182,
          9.645268440246582,
          13.253203392028809,
          -2.7448387145996094,
          9.035504341125488,
          1.4110206365585327,
          12.604844093322754
         ],
         "xaxis": "x",
         "y": [
          64.96280670166016,
          69.20433807373047,
          61.9058723449707,
          57.407100677490234,
          58.02484130859375,
          69.18051147460938,
          61.4574089050293,
          74.60176849365234
         ],
         "yaxis": "y"
        },
        {
         "hovertemplate": "color=skills_group_7<br>x=%{x}<br>y=%{y}<br>text=%{text}<extra></extra>",
         "legendgroup": "skills_group_7",
         "marker": {
          "color": "#636efa",
          "symbol": "circle"
         },
         "mode": "markers+text",
         "name": "skills_group_7",
         "orientation": "v",
         "showlegend": true,
         "text": [
          "R",
          "Keras",
          "Pandas",
          "TensorFlow",
          "Torch/PyTorch"
         ],
         "textposition": "top center",
         "type": "scatter",
         "x": [
          -64.1828842163086,
          -74.75121307373047,
          -69.90327453613281,
          -72.98986053466797,
          -75.02458953857422
         ],
         "xaxis": "x",
         "y": [
          -65.24609375,
          -68.28205871582031,
          -64.73572540283203,
          -71.05618286132812,
          -75.45523071289062
         ],
         "yaxis": "y"
        },
        {
         "hovertemplate": "color=skills_group_11<br>x=%{x}<br>y=%{y}<br>text=%{text}<extra></extra>",
         "legendgroup": "skills_group_11",
         "marker": {
          "color": "#EF553B",
          "symbol": "circle"
         },
         "mode": "markers+text",
         "name": "skills_group_11",
         "orientation": "v",
         "showlegend": true,
         "text": [
          "Ruby",
          "Ruby on Rails"
         ],
         "textposition": "top center",
         "type": "scatter",
         "x": [
          -54.92242431640625,
          -52.010765075683594
         ],
         "xaxis": "x",
         "y": [
          33.75041198730469,
          35.06214141845703
         ],
         "yaxis": "y"
        },
        {
         "hovertemplate": "color=skills_group_3<br>x=%{x}<br>y=%{y}<br>text=%{text}<extra></extra>",
         "legendgroup": "skills_group_3",
         "marker": {
          "color": "#00cc96",
          "symbol": "circle"
         },
         "mode": "markers+text",
         "name": "skills_group_3",
         "orientation": "v",
         "showlegend": true,
         "text": [
          "Scala",
          "Cassandra",
          "Couchbase",
          "Apache Spark",
          "Hadoop"
         ],
         "textposition": "top center",
         "type": "scatter",
         "x": [
          -35.71890640258789,
          -42.13129425048828,
          -45.1297721862793,
          -36.332427978515625,
          -38.73408889770508
         ],
         "xaxis": "x",
         "y": [
          -13.453182220458984,
          -9.098544120788574,
          -5.180241584777832,
          -17.98939323425293,
          -20.20118522644043
         ],
         "yaxis": "y"
        },
        {
         "hovertemplate": "color=skills_group_8<br>x=%{x}<br>y=%{y}<br>text=%{text}<extra></extra>",
         "legendgroup": "skills_group_8",
         "marker": {
          "color": "#ab63fa",
          "symbol": "circle"
         },
         "mode": "markers+text",
         "name": "skills_group_8",
         "orientation": "v",
         "showlegend": true,
         "text": [
          "TypeScript",
          "Angular",
          "Angular.js",
          "Cordova"
         ],
         "textposition": "top center",
         "type": "scatter",
         "x": [
          65.7424545288086,
          69.20958709716797,
          70.74749755859375,
          73.26908111572266
         ],
         "xaxis": "x",
         "y": [
          86.3082504272461,
          87.10218048095703,
          91.91151428222656,
          84.12967681884766
         ],
         "yaxis": "y"
        },
        {
         "hovertemplate": "color=skills_group_4<br>x=%{x}<br>y=%{y}<br>text=%{text}<extra></extra>",
         "legendgroup": "skills_group_4",
         "marker": {
          "color": "#FFA15A",
          "symbol": "circle"
         },
         "mode": "markers+text",
         "name": "skills_group_4",
         "orientation": "v",
         "showlegend": true,
         "text": [
          "MongoDB",
          "Express",
          "Gatsby",
          "React.js",
          "Node.js",
          "React Native"
         ],
         "textposition": "top center",
         "type": "scatter",
         "x": [
          42.77492904663086,
          38.00603103637695,
          28.721431732177734,
          29.471315383911133,
          34.59821701049805,
          25.418701171875
         ],
         "xaxis": "x",
         "y": [
          98.58824920654297,
          97.7710952758789,
          105.29151153564453,
          99.79804992675781,
          97.32028198242188,
          97.20977020263672
         ],
         "yaxis": "y"
        },
        {
         "hovertemplate": "color=skills_group_15<br>x=%{x}<br>y=%{y}<br>text=%{text}<extra></extra>",
         "legendgroup": "skills_group_15",
         "marker": {
          "color": "#19d3f3",
          "symbol": "circle"
         },
         "mode": "markers+text",
         "name": "skills_group_15",
         "orientation": "v",
         "showlegend": true,
         "text": [
          "Chef",
          "Puppet"
         ],
         "textposition": "top center",
         "type": "scatter",
         "x": [
          -87.0792007446289,
          -89.44017028808594
         ],
         "xaxis": "x",
         "y": [
          9.902036666870117,
          7.538761615753174
         ],
         "yaxis": "y"
        },
        {
         "hovertemplate": "color=skills_group_13<br>x=%{x}<br>y=%{y}<br>text=%{text}<extra></extra>",
         "legendgroup": "skills_group_13",
         "marker": {
          "color": "#FF6692",
          "symbol": "circle"
         },
         "mode": "markers+text",
         "name": "skills_group_13",
         "orientation": "v",
         "showlegend": true,
         "text": [
          "Unity 3D",
          "Unreal Engine"
         ],
         "textposition": "top center",
         "type": "scatter",
         "x": [
          24.58808708190918,
          21.418336868286133
         ],
         "xaxis": "x",
         "y": [
          -76.46759033203125,
          -75.83467102050781
         ],
         "yaxis": "y"
        }
       ],
       "layout": {
        "height": 800,
        "legend": {
         "title": {
          "text": "color"
         },
         "tracegroupgap": 0
        },
        "margin": {
         "t": 60
        },
        "template": {
         "data": {
          "bar": [
           {
            "error_x": {
             "color": "#2a3f5f"
            },
            "error_y": {
             "color": "#2a3f5f"
            },
            "marker": {
             "line": {
              "color": "#E5ECF6",
              "width": 0.5
             }
            },
            "type": "bar"
           }
          ],
          "barpolar": [
           {
            "marker": {
             "line": {
              "color": "#E5ECF6",
              "width": 0.5
             }
            },
            "type": "barpolar"
           }
          ],
          "carpet": [
           {
            "aaxis": {
             "endlinecolor": "#2a3f5f",
             "gridcolor": "white",
             "linecolor": "white",
             "minorgridcolor": "white",
             "startlinecolor": "#2a3f5f"
            },
            "baxis": {
             "endlinecolor": "#2a3f5f",
             "gridcolor": "white",
             "linecolor": "white",
             "minorgridcolor": "white",
             "startlinecolor": "#2a3f5f"
            },
            "type": "carpet"
           }
          ],
          "choropleth": [
           {
            "colorbar": {
             "outlinewidth": 0,
             "ticks": ""
            },
            "type": "choropleth"
           }
          ],
          "contour": [
           {
            "colorbar": {
             "outlinewidth": 0,
             "ticks": ""
            },
            "colorscale": [
             [
              0,
              "#0d0887"
             ],
             [
              0.1111111111111111,
              "#46039f"
             ],
             [
              0.2222222222222222,
              "#7201a8"
             ],
             [
              0.3333333333333333,
              "#9c179e"
             ],
             [
              0.4444444444444444,
              "#bd3786"
             ],
             [
              0.5555555555555556,
              "#d8576b"
             ],
             [
              0.6666666666666666,
              "#ed7953"
             ],
             [
              0.7777777777777778,
              "#fb9f3a"
             ],
             [
              0.8888888888888888,
              "#fdca26"
             ],
             [
              1,
              "#f0f921"
             ]
            ],
            "type": "contour"
           }
          ],
          "contourcarpet": [
           {
            "colorbar": {
             "outlinewidth": 0,
             "ticks": ""
            },
            "type": "contourcarpet"
           }
          ],
          "heatmap": [
           {
            "colorbar": {
             "outlinewidth": 0,
             "ticks": ""
            },
            "colorscale": [
             [
              0,
              "#0d0887"
             ],
             [
              0.1111111111111111,
              "#46039f"
             ],
             [
              0.2222222222222222,
              "#7201a8"
             ],
             [
              0.3333333333333333,
              "#9c179e"
             ],
             [
              0.4444444444444444,
              "#bd3786"
             ],
             [
              0.5555555555555556,
              "#d8576b"
             ],
             [
              0.6666666666666666,
              "#ed7953"
             ],
             [
              0.7777777777777778,
              "#fb9f3a"
             ],
             [
              0.8888888888888888,
              "#fdca26"
             ],
             [
              1,
              "#f0f921"
             ]
            ],
            "type": "heatmap"
           }
          ],
          "heatmapgl": [
           {
            "colorbar": {
             "outlinewidth": 0,
             "ticks": ""
            },
            "colorscale": [
             [
              0,
              "#0d0887"
             ],
             [
              0.1111111111111111,
              "#46039f"
             ],
             [
              0.2222222222222222,
              "#7201a8"
             ],
             [
              0.3333333333333333,
              "#9c179e"
             ],
             [
              0.4444444444444444,
              "#bd3786"
             ],
             [
              0.5555555555555556,
              "#d8576b"
             ],
             [
              0.6666666666666666,
              "#ed7953"
             ],
             [
              0.7777777777777778,
              "#fb9f3a"
             ],
             [
              0.8888888888888888,
              "#fdca26"
             ],
             [
              1,
              "#f0f921"
             ]
            ],
            "type": "heatmapgl"
           }
          ],
          "histogram": [
           {
            "marker": {
             "colorbar": {
              "outlinewidth": 0,
              "ticks": ""
             }
            },
            "type": "histogram"
           }
          ],
          "histogram2d": [
           {
            "colorbar": {
             "outlinewidth": 0,
             "ticks": ""
            },
            "colorscale": [
             [
              0,
              "#0d0887"
             ],
             [
              0.1111111111111111,
              "#46039f"
             ],
             [
              0.2222222222222222,
              "#7201a8"
             ],
             [
              0.3333333333333333,
              "#9c179e"
             ],
             [
              0.4444444444444444,
              "#bd3786"
             ],
             [
              0.5555555555555556,
              "#d8576b"
             ],
             [
              0.6666666666666666,
              "#ed7953"
             ],
             [
              0.7777777777777778,
              "#fb9f3a"
             ],
             [
              0.8888888888888888,
              "#fdca26"
             ],
             [
              1,
              "#f0f921"
             ]
            ],
            "type": "histogram2d"
           }
          ],
          "histogram2dcontour": [
           {
            "colorbar": {
             "outlinewidth": 0,
             "ticks": ""
            },
            "colorscale": [
             [
              0,
              "#0d0887"
             ],
             [
              0.1111111111111111,
              "#46039f"
             ],
             [
              0.2222222222222222,
              "#7201a8"
             ],
             [
              0.3333333333333333,
              "#9c179e"
             ],
             [
              0.4444444444444444,
              "#bd3786"
             ],
             [
              0.5555555555555556,
              "#d8576b"
             ],
             [
              0.6666666666666666,
              "#ed7953"
             ],
             [
              0.7777777777777778,
              "#fb9f3a"
             ],
             [
              0.8888888888888888,
              "#fdca26"
             ],
             [
              1,
              "#f0f921"
             ]
            ],
            "type": "histogram2dcontour"
           }
          ],
          "mesh3d": [
           {
            "colorbar": {
             "outlinewidth": 0,
             "ticks": ""
            },
            "type": "mesh3d"
           }
          ],
          "parcoords": [
           {
            "line": {
             "colorbar": {
              "outlinewidth": 0,
              "ticks": ""
             }
            },
            "type": "parcoords"
           }
          ],
          "pie": [
           {
            "automargin": true,
            "type": "pie"
           }
          ],
          "scatter": [
           {
            "marker": {
             "colorbar": {
              "outlinewidth": 0,
              "ticks": ""
             }
            },
            "type": "scatter"
           }
          ],
          "scatter3d": [
           {
            "line": {
             "colorbar": {
              "outlinewidth": 0,
              "ticks": ""
             }
            },
            "marker": {
             "colorbar": {
              "outlinewidth": 0,
              "ticks": ""
             }
            },
            "type": "scatter3d"
           }
          ],
          "scattercarpet": [
           {
            "marker": {
             "colorbar": {
              "outlinewidth": 0,
              "ticks": ""
             }
            },
            "type": "scattercarpet"
           }
          ],
          "scattergeo": [
           {
            "marker": {
             "colorbar": {
              "outlinewidth": 0,
              "ticks": ""
             }
            },
            "type": "scattergeo"
           }
          ],
          "scattergl": [
           {
            "marker": {
             "colorbar": {
              "outlinewidth": 0,
              "ticks": ""
             }
            },
            "type": "scattergl"
           }
          ],
          "scattermapbox": [
           {
            "marker": {
             "colorbar": {
              "outlinewidth": 0,
              "ticks": ""
             }
            },
            "type": "scattermapbox"
           }
          ],
          "scatterpolar": [
           {
            "marker": {
             "colorbar": {
              "outlinewidth": 0,
              "ticks": ""
             }
            },
            "type": "scatterpolar"
           }
          ],
          "scatterpolargl": [
           {
            "marker": {
             "colorbar": {
              "outlinewidth": 0,
              "ticks": ""
             }
            },
            "type": "scatterpolargl"
           }
          ],
          "scatterternary": [
           {
            "marker": {
             "colorbar": {
              "outlinewidth": 0,
              "ticks": ""
             }
            },
            "type": "scatterternary"
           }
          ],
          "surface": [
           {
            "colorbar": {
             "outlinewidth": 0,
             "ticks": ""
            },
            "colorscale": [
             [
              0,
              "#0d0887"
             ],
             [
              0.1111111111111111,
              "#46039f"
             ],
             [
              0.2222222222222222,
              "#7201a8"
             ],
             [
              0.3333333333333333,
              "#9c179e"
             ],
             [
              0.4444444444444444,
              "#bd3786"
             ],
             [
              0.5555555555555556,
              "#d8576b"
             ],
             [
              0.6666666666666666,
              "#ed7953"
             ],
             [
              0.7777777777777778,
              "#fb9f3a"
             ],
             [
              0.8888888888888888,
              "#fdca26"
             ],
             [
              1,
              "#f0f921"
             ]
            ],
            "type": "surface"
           }
          ],
          "table": [
           {
            "cells": {
             "fill": {
              "color": "#EBF0F8"
             },
             "line": {
              "color": "white"
             }
            },
            "header": {
             "fill": {
              "color": "#C8D4E3"
             },
             "line": {
              "color": "white"
             }
            },
            "type": "table"
           }
          ]
         },
         "layout": {
          "annotationdefaults": {
           "arrowcolor": "#2a3f5f",
           "arrowhead": 0,
           "arrowwidth": 1
          },
          "autotypenumbers": "strict",
          "coloraxis": {
           "colorbar": {
            "outlinewidth": 0,
            "ticks": ""
           }
          },
          "colorscale": {
           "diverging": [
            [
             0,
             "#8e0152"
            ],
            [
             0.1,
             "#c51b7d"
            ],
            [
             0.2,
             "#de77ae"
            ],
            [
             0.3,
             "#f1b6da"
            ],
            [
             0.4,
             "#fde0ef"
            ],
            [
             0.5,
             "#f7f7f7"
            ],
            [
             0.6,
             "#e6f5d0"
            ],
            [
             0.7,
             "#b8e186"
            ],
            [
             0.8,
             "#7fbc41"
            ],
            [
             0.9,
             "#4d9221"
            ],
            [
             1,
             "#276419"
            ]
           ],
           "sequential": [
            [
             0,
             "#0d0887"
            ],
            [
             0.1111111111111111,
             "#46039f"
            ],
            [
             0.2222222222222222,
             "#7201a8"
            ],
            [
             0.3333333333333333,
             "#9c179e"
            ],
            [
             0.4444444444444444,
             "#bd3786"
            ],
            [
             0.5555555555555556,
             "#d8576b"
            ],
            [
             0.6666666666666666,
             "#ed7953"
            ],
            [
             0.7777777777777778,
             "#fb9f3a"
            ],
            [
             0.8888888888888888,
             "#fdca26"
            ],
            [
             1,
             "#f0f921"
            ]
           ],
           "sequentialminus": [
            [
             0,
             "#0d0887"
            ],
            [
             0.1111111111111111,
             "#46039f"
            ],
            [
             0.2222222222222222,
             "#7201a8"
            ],
            [
             0.3333333333333333,
             "#9c179e"
            ],
            [
             0.4444444444444444,
             "#bd3786"
            ],
            [
             0.5555555555555556,
             "#d8576b"
            ],
            [
             0.6666666666666666,
             "#ed7953"
            ],
            [
             0.7777777777777778,
             "#fb9f3a"
            ],
            [
             0.8888888888888888,
             "#fdca26"
            ],
            [
             1,
             "#f0f921"
            ]
           ]
          },
          "colorway": [
           "#636efa",
           "#EF553B",
           "#00cc96",
           "#ab63fa",
           "#FFA15A",
           "#19d3f3",
           "#FF6692",
           "#B6E880",
           "#FF97FF",
           "#FECB52"
          ],
          "font": {
           "color": "#2a3f5f"
          },
          "geo": {
           "bgcolor": "white",
           "lakecolor": "white",
           "landcolor": "#E5ECF6",
           "showlakes": true,
           "showland": true,
           "subunitcolor": "white"
          },
          "hoverlabel": {
           "align": "left"
          },
          "hovermode": "closest",
          "mapbox": {
           "style": "light"
          },
          "paper_bgcolor": "white",
          "plot_bgcolor": "#E5ECF6",
          "polar": {
           "angularaxis": {
            "gridcolor": "white",
            "linecolor": "white",
            "ticks": ""
           },
           "bgcolor": "#E5ECF6",
           "radialaxis": {
            "gridcolor": "white",
            "linecolor": "white",
            "ticks": ""
           }
          },
          "scene": {
           "xaxis": {
            "backgroundcolor": "#E5ECF6",
            "gridcolor": "white",
            "gridwidth": 2,
            "linecolor": "white",
            "showbackground": true,
            "ticks": "",
            "zerolinecolor": "white"
           },
           "yaxis": {
            "backgroundcolor": "#E5ECF6",
            "gridcolor": "white",
            "gridwidth": 2,
            "linecolor": "white",
            "showbackground": true,
            "ticks": "",
            "zerolinecolor": "white"
           },
           "zaxis": {
            "backgroundcolor": "#E5ECF6",
            "gridcolor": "white",
            "gridwidth": 2,
            "linecolor": "white",
            "showbackground": true,
            "ticks": "",
            "zerolinecolor": "white"
           }
          },
          "shapedefaults": {
           "line": {
            "color": "#2a3f5f"
           }
          },
          "ternary": {
           "aaxis": {
            "gridcolor": "white",
            "linecolor": "white",
            "ticks": ""
           },
           "baxis": {
            "gridcolor": "white",
            "linecolor": "white",
            "ticks": ""
           },
           "bgcolor": "#E5ECF6",
           "caxis": {
            "gridcolor": "white",
            "linecolor": "white",
            "ticks": ""
           }
          },
          "title": {
           "x": 0.05
          },
          "xaxis": {
           "automargin": true,
           "gridcolor": "white",
           "linecolor": "white",
           "ticks": "",
           "title": {
            "standoff": 15
           },
           "zerolinecolor": "white",
           "zerolinewidth": 2
          },
          "yaxis": {
           "automargin": true,
           "gridcolor": "white",
           "linecolor": "white",
           "ticks": "",
           "title": {
            "standoff": 15
           },
           "zerolinecolor": "white",
           "zerolinewidth": 2
          }
         }
        },
        "title": {
         "text": "Skills clustering"
        },
        "width": 800,
        "xaxis": {
         "anchor": "y",
         "domain": [
          0,
          1
         ],
         "title": {
          "text": "x"
         }
        },
        "yaxis": {
         "anchor": "x",
         "domain": [
          0,
          1
         ],
         "title": {
          "text": "y"
         }
        }
       }
      }
     },
     "metadata": {},
     "output_type": "display_data"
    }
   ],
   "source": [
    "# Plot the new clusters\n",
    "fig = px.scatter(x=tsne_df[0], y=tsne_df[1], text=tsne_df.index, color=tsne_df['label'])\n",
    "fig.update_traces(textposition='top center')\n",
    "fig.update_layout(height=800, width=800, title_text='Skills clustering')\n",
    "fig.show()\n"
   ]
  },
  {
   "cell_type": "code",
   "execution_count": 15,
   "metadata": {},
   "outputs": [],
   "source": [
    " # Get the clusters and the skills in dictionary format \n",
    "tsne_df['skill'] = tsne_df.index\n",
    "skills_clusters = {}  \n",
    "for label in tsne_df['label'].unique():\n",
    "    skills_list = tsne_df[ tsne_df['label'] == label]['skill'].to_list()\n",
    "    skills_clusters[label] = skills_list\n",
    "    \n"
   ]
  },
  {
   "cell_type": "code",
   "execution_count": 16,
   "metadata": {},
   "outputs": [
    {
     "name": "stdout",
     "output_type": "stream",
     "text": [
      "skills_group_12\n",
      "['Assembly', 'C', 'C++']\n",
      "skills_group_5\n",
      "['Bash/Shell/PowerShell', 'Perl', 'Python', 'Django', 'Flask']\n",
      "skills_group_0\n",
      "['C#', 'VBA', 'Microsoft SQL Server', 'ASP.NET', 'ASP.NET Core', '.NET', '.NET Core', 'Xamarin']\n",
      "skills_group_14\n",
      "['Dart', 'Firebase', 'Flutter']\n",
      "skills_group_1\n",
      "['Go', 'DynamoDB', 'Elasticsearch', 'PostgreSQL', 'Redis', 'Ansible', 'Teraform']\n",
      "skills_group_10\n",
      "['HTML/CSS', 'JavaScript', 'SQL', 'jQuery']\n",
      "skills_group_6\n",
      "['Haskell', 'Julia', 'Rust']\n",
      "skills_group_9\n",
      "['Java', 'Kotlin', 'IBM DB2', 'Oracle', 'Spring']\n",
      "skills_group_16\n",
      "['Objective-C', 'Swift']\n",
      "skills_group_2\n",
      "['PHP', 'MariaDB', 'MySQL', 'SQLite', 'Drupal', 'Laravel', 'Symfony', 'Vue.js']\n",
      "skills_group_7\n",
      "['R', 'Keras', 'Pandas', 'TensorFlow', 'Torch/PyTorch']\n",
      "skills_group_11\n",
      "['Ruby', 'Ruby on Rails']\n",
      "skills_group_3\n",
      "['Scala', 'Cassandra', 'Couchbase', 'Apache Spark', 'Hadoop']\n",
      "skills_group_8\n",
      "['TypeScript', 'Angular', 'Angular.js', 'Cordova']\n",
      "skills_group_4\n",
      "['MongoDB', 'Express', 'Gatsby', 'React.js', 'Node.js', 'React Native']\n",
      "skills_group_15\n",
      "['Chef', 'Puppet']\n",
      "skills_group_13\n",
      "['Unity 3D', 'Unreal Engine']\n"
     ]
    }
   ],
   "source": [
    "for k,v  in skills_clusters.items():\n",
    "    print(k)\n",
    "    print(v)"
   ]
  },
  {
   "cell_type": "markdown",
   "metadata": {},
   "source": [
    "## Create new feature"
   ]
  },
  {
   "cell_type": "code",
   "execution_count": 67,
   "metadata": {},
   "outputs": [],
   "source": [
    "# DataFrame will contain the new features\n",
    "fe_clustered_skills = pd.DataFrame(index=encoded_tech.index) "
   ]
  },
  {
   "cell_type": "code",
   "execution_count": 68,
   "metadata": {},
   "outputs": [],
   "source": [
    "for cluster, skills in skills_clusters.items():\n",
    "    cluster_sum = encoded_tech[skills].sum(axis=1)\n",
    "    cluster_sum.name = cluster\n",
    "    fe_clustered_skills = pd.concat([fe_clustered_skills, cluster_sum], axis=1)\n"
   ]
  },
  {
   "cell_type": "markdown",
   "metadata": {},
   "source": [
    "## Illustration Model\n"
   ]
  },
  {
   "cell_type": "code",
   "execution_count": 50,
   "metadata": {},
   "outputs": [],
   "source": [
    "# Making new encoded DataFrame for developers type\n",
    "encoded_role = pd.DataFrame()\n",
    "\n",
    "for col in ROLE_COLS:\n",
    "    binarizer = MultiLabelBinarizer()\n",
    "    encoded_col = pd.DataFrame(binarizer.fit_transform(df[col]), columns=binarizer.classes_, index=df[col].index)\n",
    "    encoded_role = pd.concat([encoded_role, encoded_col], axis=1)\n",
    " "
   ]
  },
  {
   "cell_type": "code",
   "execution_count": 45,
   "metadata": {},
   "outputs": [
    {
     "data": {
      "text/plain": [
       "Developer, back-end                              0.000037\n",
       "Developer, full-stack                            0.000037\n",
       "Developer, front-end                             0.000055\n",
       "Developer, desktop or enterprise applications    0.000085\n",
       "Developer, mobile                                0.000105\n",
       "DevOps specialist                                0.000168\n",
       "Database administrator                           0.000175\n",
       "Designer                                         0.000188\n",
       "System administrator                             0.000191\n",
       "Developer, embedded applications or devices      0.000211\n",
       "Data or business analyst                         0.000249\n",
       "Data scientist or machine learning specialist    0.000251\n",
       "Developer, QA or test                            0.000253\n",
       "Engineer, data                                   0.000268\n",
       "Academic researcher                              0.000282\n",
       "Educator                                         0.000342\n",
       "Developer, game or graphics                      0.000359\n",
       "Engineering manager                              0.000367\n",
       "Product manager                                  0.000400\n",
       "Scientist                                        0.000479\n",
       "Engineer, site reliability                       0.000515\n",
       "Senior executive/VP                              0.000758\n",
       "Marketing or sales professional                  0.001558\n",
       "dtype: float64"
      ]
     },
     "execution_count": 45,
     "metadata": {},
     "output_type": "execute_result"
    }
   ],
   "source": [
    "# Get the classes weights \n",
    "(1/encoded_role.loc[:,:].sum()).sort_values(ascending=True) # This will print the most dominated classes to lower classes"
   ]
  },
  {
   "cell_type": "code",
   "execution_count": 34,
   "metadata": {},
   "outputs": [
    {
     "data": {
      "text/plain": [
       "<AxesSubplot:>"
      ]
     },
     "execution_count": 34,
     "metadata": {},
     "output_type": "execute_result"
    },
    {
     "data": {
      "image/png": "[encoded data removed]",
      "text/plain": [
       "<Figure size 720x720 with 1 Axes>"
      ]
     },
     "metadata": {},
     "output_type": "display_data"
    }
   ],
   "source": [
    "plt.figure(figsize=(10,10))\n",
    "encoded_role.loc[:,:].sum().sort_values(ascending=True).plot(kind='barh')"
   ]
  },
  {
   "cell_type": "code",
   "execution_count": 41,
   "metadata": {},
   "outputs": [
    {
     "data": {
      "text/html": [
       "<div>\n",
       "<style scoped>\n",
       "    .dataframe tbody tr th:only-of-type {\n",
       "        vertical-align: middle;\n",
       "    }\n",
       "\n",
       "    .dataframe tbody tr th {\n",
       "        vertical-align: top;\n",
       "    }\n",
       "\n",
       "    .dataframe thead th {\n",
       "        text-align: right;\n",
       "    }\n",
       "</style>\n",
       "<table border=\"1\" class=\"dataframe\">\n",
       "  <thead>\n",
       "    <tr style=\"text-align: right;\">\n",
       "      <th></th>\n",
       "      <th>0</th>\n",
       "    </tr>\n",
       "  </thead>\n",
       "  <tbody>\n",
       "    <tr>\n",
       "      <th>0</th>\n",
       "      <td>1691.695652</td>\n",
       "    </tr>\n",
       "    <tr>\n",
       "      <th>1</th>\n",
       "      <td>1591.608696</td>\n",
       "    </tr>\n",
       "    <tr>\n",
       "      <th>2</th>\n",
       "      <td>0.000000</td>\n",
       "    </tr>\n",
       "    <tr>\n",
       "      <th>3</th>\n",
       "      <td>0.000000</td>\n",
       "    </tr>\n",
       "    <tr>\n",
       "      <th>4</th>\n",
       "      <td>0.000000</td>\n",
       "    </tr>\n",
       "    <tr>\n",
       "      <th>...</th>\n",
       "      <td>...</td>\n",
       "    </tr>\n",
       "    <tr>\n",
       "      <th>64456</th>\n",
       "      <td>57.391304</td>\n",
       "    </tr>\n",
       "    <tr>\n",
       "      <th>64457</th>\n",
       "      <td>0.000000</td>\n",
       "    </tr>\n",
       "    <tr>\n",
       "      <th>64458</th>\n",
       "      <td>0.000000</td>\n",
       "    </tr>\n",
       "    <tr>\n",
       "      <th>64459</th>\n",
       "      <td>0.000000</td>\n",
       "    </tr>\n",
       "    <tr>\n",
       "      <th>64460</th>\n",
       "      <td>0.000000</td>\n",
       "    </tr>\n",
       "  </tbody>\n",
       "</table>\n",
       "<p>64461 rows × 1 columns</p>\n",
       "</div>"
      ],
      "text/plain": [
       "                 0\n",
       "0      1691.695652\n",
       "1      1591.608696\n",
       "2         0.000000\n",
       "3         0.000000\n",
       "4         0.000000\n",
       "...            ...\n",
       "64456    57.391304\n",
       "64457     0.000000\n",
       "64458     0.000000\n",
       "64459     0.000000\n",
       "64460     0.000000\n",
       "\n",
       "[64461 rows x 1 columns]"
      ]
     },
     "execution_count": 41,
     "metadata": {},
     "output_type": "execute_result"
    }
   ],
   "source": [
    "pd.DataFrame(np.multiply(encoded_role.loc[:,:].sum().values, encoded_role.values).mean(axis=1))\n"
   ]
  },
  {
   "cell_type": "markdown",
   "metadata": {},
   "source": [
    "## Create train / test matrices"
   ]
  },
  {
   "cell_type": "code",
   "execution_count": 92,
   "metadata": {},
   "outputs": [],
   "source": [
    "features_df = pd.concat([fe_clustered_skills, encoded_tech], axis=1) # Features\n",
    "roles_df = encoded_role.copy()  # Classes"
   ]
  },
  {
   "cell_type": "code",
   "execution_count": 93,
   "metadata": {},
   "outputs": [],
   "source": [
    "X_train, X_test, Y_train, Y_test = train_test_split(features_df, roles_df, test_size=0.3)"
   ]
  },
  {
   "cell_type": "code",
   "execution_count": 94,
   "metadata": {},
   "outputs": [],
   "source": [
    "# Assign class weight as an inverse of its frequency \n",
    "class_weights = (1 / roles_df.sum(axis=0))\n",
    "# Multiply class weights with the 1 hot encoded values and get the mean of each sample\n",
    "sample_weight = np.multiply(class_weights.values, Y_train.values).mean(axis=1)\n"
   ]
  },
  {
   "cell_type": "code",
   "execution_count": 96,
   "metadata": {},
   "outputs": [],
   "source": [
    "feature_sets = {'original': encoded_tech.columns.tolist(), \n",
    "                'clusters': fe_clustered_skills.columns.tolist()}"
   ]
  },
  {
   "cell_type": "markdown",
   "metadata": {},
   "source": [
    "## Compare F1 score on the original and clustered data set"
   ]
  },
  {
   "cell_type": "code",
   "execution_count": 111,
   "metadata": {},
   "outputs": [
    {
     "name": "stdout",
     "output_type": "stream",
     "text": [
      "Training score for original, is : 0.406873661977902\n",
      "Test score for original, is : 0.40646796295050347\n",
      "----------\n",
      "Training score for clusters, is : 0.43248537057158315\n",
      "Test score for clusters, is : 0.43375666084733966\n",
      "----------\n"
     ]
    }
   ],
   "source": [
    "results = {}\n",
    "for feature_set_name, feature_set in feature_sets.items():\n",
    "    sub_train = X_train[feature_set].copy()\n",
    "    sub_test = X_test[feature_set].copy()\n",
    "\n",
    "    # Train classifier\n",
    "    clf = MultiOutputClassifier(LogisticRegression())\n",
    "    clf.fit(sub_train, Y_train, sample_weight=sample_weight)\n",
    "\n",
    "    # Calculate F1 score for the training data\n",
    "    y_pred = clf.predict(sub_train)\n",
    "    f_score_train = f1_score(Y_train, y_pred, average='micro')\n",
    "    print(f\"Training score for {feature_set_name}, is : {f_score_train}\")\n",
    "\n",
    "    # Calculate F1 score for the testing data\n",
    "    y_pred = clf.predict(sub_test)\n",
    "    f_score_test = f1_score(Y_test, y_pred, average='micro')\n",
    "    print(f\"Test score for {feature_set_name}, is : {f_score_test}\")\n",
    "    print(\"-\" * 10)\n"
   ]
  },
  {
   "cell_type": "markdown",
   "metadata": {},
   "source": [
    "## Export the new features"
   ]
  },
  {
   "cell_type": "code",
   "execution_count": 118,
   "metadata": {},
   "outputs": [],
   "source": [
    "export_path = os.path.join(EXPORT_DIR, 'features_df.pkl')\n",
    "fe_clustered_skills.to_pickle(export_path)\n"
   ]
  },
  {
   "cell_type": "code",
   "execution_count": null,
   "metadata": {},
   "outputs": [],
   "source": []
  },
  {
   "cell_type": "code",
   "execution_count": null,
   "metadata": {},
   "outputs": [],
   "source": []
  }
 ],
 "metadata": {
  "interpreter": {
   "hash": "613f41dc82044734f3e085e0ad96926aab0df142e7f3bbb31dc019d59e11878b"
  },
  "kernelspec": {
   "display_name": "Python 3.9.7 ('base')",
   "language": "python",
   "name": "python3"
  },
  "language_info": {
   "codemirror_mode": {
    "name": "ipython",
    "version": 3
   },
   "file_extension": ".py",
   "mimetype": "text/x-python",
   "name": "python",
   "nbconvert_exporter": "python",
   "pygments_lexer": "ipython3",
   "version": "3.9.7"
  },
  "orig_nbformat": 4
 },
 "nbformat": 4,
 "nbformat_minor": 2
}
