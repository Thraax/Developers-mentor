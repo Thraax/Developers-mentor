{
 "cells": [
  {
   "cell_type": "markdown",
   "id": "04f789f3-78d9-474d-84a3-dd71bc57a925",
   "metadata": {},
   "source": [
    "## Constants"
   ]
  },
  {
   "cell_type": "code",
   "execution_count": 2,
   "id": "9016817c",
   "metadata": {},
   "outputs": [],
   "source": [
    "DATA_PATH = 'C:\\\\Users\\\\Thrax\\\\Stackover_survey\\\\Survey_analysis\\\\data\\\\processed\\\\preprocessed_df.pkl'\n",
    "\n",
    "# Important columns to analysis\n",
    "\n",
    "ROLE_COLS      = ['DevType']\n",
    "TECH_COLS      = ['LanguageWorkedWith',    'DatabaseWorkedWith',    'WebframeWorkedWith',    'MiscTechWorkedWith']\n",
    "TECH_NEXT_COLS = ['LanguageDesireNextYear', 'DatabaseDesireNextYear', 'WebframeDesireNextYear', 'MiscTechDesireNextYear',]\n"
   ]
  },
  {
   "cell_type": "markdown",
   "id": "8735acd7",
   "metadata": {},
   "source": [
    "## Import tools"
   ]
  },
  {
   "cell_type": "code",
   "execution_count": 49,
   "id": "422929dc",
   "metadata": {},
   "outputs": [],
   "source": [
    "# Reading data and preprocessing\n",
    "import pandas as pd\n",
    "import numpy as np\n",
    "\n",
    "# visualize\n",
    "import plotly.express as px\n",
    "import plotly.graph_objects as go\n",
    "import plotly.figure_factory as ff\n",
    "\n",
    "\n",
    "# Sklearn\n",
    "from sklearn.preprocessing import MultiLabelBinarizer\n",
    "from sklearn.preprocessing import StandardScaler"
   ]
  },
  {
   "cell_type": "markdown",
   "id": "ad465196-0012-4466-b94c-2b8c16b69d64",
   "metadata": {},
   "source": [
    "## Read the Data"
   ]
  },
  {
   "cell_type": "code",
   "execution_count": 4,
   "id": "6cb8f6cc-0d42-4b88-86cc-c6adae7fbe49",
   "metadata": {},
   "outputs": [],
   "source": [
    "raw_data = pd.read_pickle(DATA_PATH)"
   ]
  },
  {
   "cell_type": "markdown",
   "id": "3e906a94",
   "metadata": {},
   "source": [
    "## Encode the technologies"
   ]
  },
  {
   "cell_type": "code",
   "execution_count": 5,
   "id": "75e0776a",
   "metadata": {},
   "outputs": [
    {
     "data": {
      "text/html": [
       "<div>\n",
       "<style scoped>\n",
       "    .dataframe tbody tr th:only-of-type {\n",
       "        vertical-align: middle;\n",
       "    }\n",
       "\n",
       "    .dataframe tbody tr th {\n",
       "        vertical-align: top;\n",
       "    }\n",
       "\n",
       "    .dataframe thead th {\n",
       "        text-align: right;\n",
       "    }\n",
       "</style>\n",
       "<table border=\"1\" class=\"dataframe\">\n",
       "  <thead>\n",
       "    <tr style=\"text-align: right;\">\n",
       "      <th></th>\n",
       "      <th>Assembly</th>\n",
       "      <th>Bash/Shell/PowerShell</th>\n",
       "      <th>C</th>\n",
       "      <th>C#</th>\n",
       "      <th>C++</th>\n",
       "      <th>Dart</th>\n",
       "      <th>Go</th>\n",
       "      <th>HTML/CSS</th>\n",
       "      <th>Haskell</th>\n",
       "      <th>Java</th>\n",
       "      <th>...</th>\n",
       "      <th>Node.js</th>\n",
       "      <th>Pandas</th>\n",
       "      <th>Puppet</th>\n",
       "      <th>React Native</th>\n",
       "      <th>TensorFlow</th>\n",
       "      <th>Teraform</th>\n",
       "      <th>Torch/PyTorch</th>\n",
       "      <th>Unity 3D</th>\n",
       "      <th>Unreal Engine</th>\n",
       "      <th>Xamarin</th>\n",
       "    </tr>\n",
       "  </thead>\n",
       "  <tbody>\n",
       "    <tr>\n",
       "      <th>0</th>\n",
       "      <td>0</td>\n",
       "      <td>0</td>\n",
       "      <td>0</td>\n",
       "      <td>1</td>\n",
       "      <td>0</td>\n",
       "      <td>0</td>\n",
       "      <td>0</td>\n",
       "      <td>1</td>\n",
       "      <td>0</td>\n",
       "      <td>0</td>\n",
       "      <td>...</td>\n",
       "      <td>0</td>\n",
       "      <td>0</td>\n",
       "      <td>0</td>\n",
       "      <td>0</td>\n",
       "      <td>0</td>\n",
       "      <td>0</td>\n",
       "      <td>0</td>\n",
       "      <td>0</td>\n",
       "      <td>0</td>\n",
       "      <td>0</td>\n",
       "    </tr>\n",
       "    <tr>\n",
       "      <th>1</th>\n",
       "      <td>0</td>\n",
       "      <td>0</td>\n",
       "      <td>0</td>\n",
       "      <td>0</td>\n",
       "      <td>0</td>\n",
       "      <td>0</td>\n",
       "      <td>0</td>\n",
       "      <td>0</td>\n",
       "      <td>0</td>\n",
       "      <td>0</td>\n",
       "      <td>...</td>\n",
       "      <td>0</td>\n",
       "      <td>0</td>\n",
       "      <td>0</td>\n",
       "      <td>1</td>\n",
       "      <td>0</td>\n",
       "      <td>0</td>\n",
       "      <td>0</td>\n",
       "      <td>0</td>\n",
       "      <td>0</td>\n",
       "      <td>0</td>\n",
       "    </tr>\n",
       "    <tr>\n",
       "      <th>2</th>\n",
       "      <td>0</td>\n",
       "      <td>0</td>\n",
       "      <td>0</td>\n",
       "      <td>0</td>\n",
       "      <td>0</td>\n",
       "      <td>0</td>\n",
       "      <td>0</td>\n",
       "      <td>0</td>\n",
       "      <td>0</td>\n",
       "      <td>0</td>\n",
       "      <td>...</td>\n",
       "      <td>0</td>\n",
       "      <td>0</td>\n",
       "      <td>0</td>\n",
       "      <td>0</td>\n",
       "      <td>0</td>\n",
       "      <td>0</td>\n",
       "      <td>0</td>\n",
       "      <td>0</td>\n",
       "      <td>0</td>\n",
       "      <td>0</td>\n",
       "    </tr>\n",
       "    <tr>\n",
       "      <th>3</th>\n",
       "      <td>0</td>\n",
       "      <td>0</td>\n",
       "      <td>0</td>\n",
       "      <td>0</td>\n",
       "      <td>0</td>\n",
       "      <td>0</td>\n",
       "      <td>0</td>\n",
       "      <td>0</td>\n",
       "      <td>0</td>\n",
       "      <td>0</td>\n",
       "      <td>...</td>\n",
       "      <td>0</td>\n",
       "      <td>0</td>\n",
       "      <td>0</td>\n",
       "      <td>0</td>\n",
       "      <td>0</td>\n",
       "      <td>0</td>\n",
       "      <td>0</td>\n",
       "      <td>0</td>\n",
       "      <td>0</td>\n",
       "      <td>0</td>\n",
       "    </tr>\n",
       "    <tr>\n",
       "      <th>4</th>\n",
       "      <td>0</td>\n",
       "      <td>0</td>\n",
       "      <td>0</td>\n",
       "      <td>0</td>\n",
       "      <td>0</td>\n",
       "      <td>0</td>\n",
       "      <td>0</td>\n",
       "      <td>1</td>\n",
       "      <td>0</td>\n",
       "      <td>0</td>\n",
       "      <td>...</td>\n",
       "      <td>0</td>\n",
       "      <td>0</td>\n",
       "      <td>0</td>\n",
       "      <td>0</td>\n",
       "      <td>0</td>\n",
       "      <td>0</td>\n",
       "      <td>0</td>\n",
       "      <td>0</td>\n",
       "      <td>0</td>\n",
       "      <td>0</td>\n",
       "    </tr>\n",
       "    <tr>\n",
       "      <th>...</th>\n",
       "      <td>...</td>\n",
       "      <td>...</td>\n",
       "      <td>...</td>\n",
       "      <td>...</td>\n",
       "      <td>...</td>\n",
       "      <td>...</td>\n",
       "      <td>...</td>\n",
       "      <td>...</td>\n",
       "      <td>...</td>\n",
       "      <td>...</td>\n",
       "      <td>...</td>\n",
       "      <td>...</td>\n",
       "      <td>...</td>\n",
       "      <td>...</td>\n",
       "      <td>...</td>\n",
       "      <td>...</td>\n",
       "      <td>...</td>\n",
       "      <td>...</td>\n",
       "      <td>...</td>\n",
       "      <td>...</td>\n",
       "      <td>...</td>\n",
       "    </tr>\n",
       "    <tr>\n",
       "      <th>64456</th>\n",
       "      <td>0</td>\n",
       "      <td>0</td>\n",
       "      <td>0</td>\n",
       "      <td>0</td>\n",
       "      <td>0</td>\n",
       "      <td>0</td>\n",
       "      <td>0</td>\n",
       "      <td>0</td>\n",
       "      <td>0</td>\n",
       "      <td>0</td>\n",
       "      <td>...</td>\n",
       "      <td>0</td>\n",
       "      <td>0</td>\n",
       "      <td>0</td>\n",
       "      <td>0</td>\n",
       "      <td>0</td>\n",
       "      <td>0</td>\n",
       "      <td>0</td>\n",
       "      <td>0</td>\n",
       "      <td>0</td>\n",
       "      <td>0</td>\n",
       "    </tr>\n",
       "    <tr>\n",
       "      <th>64457</th>\n",
       "      <td>1</td>\n",
       "      <td>1</td>\n",
       "      <td>1</td>\n",
       "      <td>1</td>\n",
       "      <td>1</td>\n",
       "      <td>1</td>\n",
       "      <td>1</td>\n",
       "      <td>1</td>\n",
       "      <td>1</td>\n",
       "      <td>1</td>\n",
       "      <td>...</td>\n",
       "      <td>0</td>\n",
       "      <td>0</td>\n",
       "      <td>0</td>\n",
       "      <td>0</td>\n",
       "      <td>0</td>\n",
       "      <td>0</td>\n",
       "      <td>0</td>\n",
       "      <td>0</td>\n",
       "      <td>0</td>\n",
       "      <td>0</td>\n",
       "    </tr>\n",
       "    <tr>\n",
       "      <th>64458</th>\n",
       "      <td>0</td>\n",
       "      <td>0</td>\n",
       "      <td>0</td>\n",
       "      <td>0</td>\n",
       "      <td>0</td>\n",
       "      <td>0</td>\n",
       "      <td>0</td>\n",
       "      <td>0</td>\n",
       "      <td>0</td>\n",
       "      <td>0</td>\n",
       "      <td>...</td>\n",
       "      <td>0</td>\n",
       "      <td>0</td>\n",
       "      <td>0</td>\n",
       "      <td>0</td>\n",
       "      <td>0</td>\n",
       "      <td>0</td>\n",
       "      <td>0</td>\n",
       "      <td>0</td>\n",
       "      <td>0</td>\n",
       "      <td>0</td>\n",
       "    </tr>\n",
       "    <tr>\n",
       "      <th>64459</th>\n",
       "      <td>0</td>\n",
       "      <td>0</td>\n",
       "      <td>0</td>\n",
       "      <td>0</td>\n",
       "      <td>0</td>\n",
       "      <td>0</td>\n",
       "      <td>0</td>\n",
       "      <td>1</td>\n",
       "      <td>0</td>\n",
       "      <td>0</td>\n",
       "      <td>...</td>\n",
       "      <td>0</td>\n",
       "      <td>0</td>\n",
       "      <td>0</td>\n",
       "      <td>0</td>\n",
       "      <td>0</td>\n",
       "      <td>0</td>\n",
       "      <td>0</td>\n",
       "      <td>0</td>\n",
       "      <td>0</td>\n",
       "      <td>0</td>\n",
       "    </tr>\n",
       "    <tr>\n",
       "      <th>64460</th>\n",
       "      <td>0</td>\n",
       "      <td>0</td>\n",
       "      <td>0</td>\n",
       "      <td>1</td>\n",
       "      <td>0</td>\n",
       "      <td>0</td>\n",
       "      <td>0</td>\n",
       "      <td>1</td>\n",
       "      <td>0</td>\n",
       "      <td>1</td>\n",
       "      <td>...</td>\n",
       "      <td>0</td>\n",
       "      <td>0</td>\n",
       "      <td>0</td>\n",
       "      <td>0</td>\n",
       "      <td>0</td>\n",
       "      <td>0</td>\n",
       "      <td>0</td>\n",
       "      <td>0</td>\n",
       "      <td>0</td>\n",
       "      <td>0</td>\n",
       "    </tr>\n",
       "  </tbody>\n",
       "</table>\n",
       "<p>64461 rows × 74 columns</p>\n",
       "</div>"
      ],
      "text/plain": [
       "       Assembly  Bash/Shell/PowerShell  C  C#  C++  Dart  Go  HTML/CSS  \\\n",
       "0             0                      0  0   1    0     0   0         1   \n",
       "1             0                      0  0   0    0     0   0         0   \n",
       "2             0                      0  0   0    0     0   0         0   \n",
       "3             0                      0  0   0    0     0   0         0   \n",
       "4             0                      0  0   0    0     0   0         1   \n",
       "...         ...                    ... ..  ..  ...   ...  ..       ...   \n",
       "64456         0                      0  0   0    0     0   0         0   \n",
       "64457         1                      1  1   1    1     1   1         1   \n",
       "64458         0                      0  0   0    0     0   0         0   \n",
       "64459         0                      0  0   0    0     0   0         1   \n",
       "64460         0                      0  0   1    0     0   0         1   \n",
       "\n",
       "       Haskell  Java  ...  Node.js  Pandas  Puppet  React Native  TensorFlow  \\\n",
       "0            0     0  ...        0       0       0             0           0   \n",
       "1            0     0  ...        0       0       0             1           0   \n",
       "2            0     0  ...        0       0       0             0           0   \n",
       "3            0     0  ...        0       0       0             0           0   \n",
       "4            0     0  ...        0       0       0             0           0   \n",
       "...        ...   ...  ...      ...     ...     ...           ...         ...   \n",
       "64456        0     0  ...        0       0       0             0           0   \n",
       "64457        1     1  ...        0       0       0             0           0   \n",
       "64458        0     0  ...        0       0       0             0           0   \n",
       "64459        0     0  ...        0       0       0             0           0   \n",
       "64460        0     1  ...        0       0       0             0           0   \n",
       "\n",
       "       Teraform  Torch/PyTorch  Unity 3D  Unreal Engine  Xamarin  \n",
       "0             0              0         0              0        0  \n",
       "1             0              0         0              0        0  \n",
       "2             0              0         0              0        0  \n",
       "3             0              0         0              0        0  \n",
       "4             0              0         0              0        0  \n",
       "...         ...            ...       ...            ...      ...  \n",
       "64456         0              0         0              0        0  \n",
       "64457         0              0         0              0        0  \n",
       "64458         0              0         0              0        0  \n",
       "64459         0              0         0              0        0  \n",
       "64460         0              0         0              0        0  \n",
       "\n",
       "[64461 rows x 74 columns]"
      ]
     },
     "execution_count": 5,
     "metadata": {},
     "output_type": "execute_result"
    }
   ],
   "source": [
    "df = raw_data.copy()\n",
    "encoded_tech = pd.DataFrame()\n",
    "\n",
    "# Enconde the important categorical columns by ' 1-hot encode '\n",
    "for col in TECH_COLS:\n",
    "    binarizer = MultiLabelBinarizer()\n",
    "    encoded_col = pd.DataFrame(binarizer.fit_transform(df[col]), columns=binarizer.classes_, index=df[col].index)\n",
    "    encoded_tech = pd.concat([encoded_tech, encoded_col], axis=1)\n",
    " \n",
    "\n",
    "encoded_tech"
   ]
  },
  {
   "cell_type": "markdown",
   "id": "c21ab125",
   "metadata": {},
   "source": [
    "## Visualize to get some insights"
   ]
  },
  {
   "cell_type": "code",
   "execution_count": 6,
   "id": "5310a1f1",
   "metadata": {},
   "outputs": [],
   "source": [
    "# Merge the encoded DataFrame\n",
    "df = pd.concat([df, encoded_tech], axis=1)"
   ]
  },
  {
   "cell_type": "code",
   "execution_count": 7,
   "id": "d0f3b5a0",
   "metadata": {},
   "outputs": [],
   "source": [
    "explode_df = pd.DataFrame()  # unzip the list values in the columns\n",
    "\n",
    "for cols in TECH_COLS + TECH_NEXT_COLS:\n",
    "    explode_df[cols] = pd.Series(df.explode(cols)[cols].to_numpy()) "
   ]
  },
  {
   "cell_type": "code",
   "execution_count": 8,
   "metadata": {},
   "outputs": [
    {
     "data": {
      "text/html": [
       "<div>\n",
       "<style scoped>\n",
       "    .dataframe tbody tr th:only-of-type {\n",
       "        vertical-align: middle;\n",
       "    }\n",
       "\n",
       "    .dataframe tbody tr th {\n",
       "        vertical-align: top;\n",
       "    }\n",
       "\n",
       "    .dataframe thead th {\n",
       "        text-align: right;\n",
       "    }\n",
       "</style>\n",
       "<table border=\"1\" class=\"dataframe\">\n",
       "  <thead>\n",
       "    <tr style=\"text-align: right;\">\n",
       "      <th></th>\n",
       "      <th>Group</th>\n",
       "      <th>Skill</th>\n",
       "      <th>Freq</th>\n",
       "    </tr>\n",
       "  </thead>\n",
       "  <tbody>\n",
       "    <tr>\n",
       "      <th>8</th>\n",
       "      <td>LanguageWorkedWith</td>\n",
       "      <td>Assembly</td>\n",
       "      <td>3553.0</td>\n",
       "    </tr>\n",
       "    <tr>\n",
       "      <th>9</th>\n",
       "      <td>LanguageWorkedWith</td>\n",
       "      <td>Bash/Shell/PowerShell</td>\n",
       "      <td>18980.0</td>\n",
       "    </tr>\n",
       "    <tr>\n",
       "      <th>10</th>\n",
       "      <td>LanguageWorkedWith</td>\n",
       "      <td>C</td>\n",
       "      <td>12487.0</td>\n",
       "    </tr>\n",
       "    <tr>\n",
       "      <th>11</th>\n",
       "      <td>LanguageWorkedWith</td>\n",
       "      <td>C#</td>\n",
       "      <td>18041.0</td>\n",
       "    </tr>\n",
       "    <tr>\n",
       "      <th>12</th>\n",
       "      <td>LanguageWorkedWith</td>\n",
       "      <td>C++</td>\n",
       "      <td>13707.0</td>\n",
       "    </tr>\n",
       "    <tr>\n",
       "      <th>...</th>\n",
       "      <td>...</td>\n",
       "      <td>...</td>\n",
       "      <td>...</td>\n",
       "    </tr>\n",
       "    <tr>\n",
       "      <th>583</th>\n",
       "      <td>MiscTechDesireNextYear</td>\n",
       "      <td>Teraform</td>\n",
       "      <td>4104.0</td>\n",
       "    </tr>\n",
       "    <tr>\n",
       "      <th>584</th>\n",
       "      <td>MiscTechDesireNextYear</td>\n",
       "      <td>Torch/PyTorch</td>\n",
       "      <td>5101.0</td>\n",
       "    </tr>\n",
       "    <tr>\n",
       "      <th>586</th>\n",
       "      <td>MiscTechDesireNextYear</td>\n",
       "      <td>Unity 3D</td>\n",
       "      <td>7404.0</td>\n",
       "    </tr>\n",
       "    <tr>\n",
       "      <th>587</th>\n",
       "      <td>MiscTechDesireNextYear</td>\n",
       "      <td>Unreal Engine</td>\n",
       "      <td>4249.0</td>\n",
       "    </tr>\n",
       "    <tr>\n",
       "      <th>590</th>\n",
       "      <td>MiscTechDesireNextYear</td>\n",
       "      <td>Xamarin</td>\n",
       "      <td>3593.0</td>\n",
       "    </tr>\n",
       "  </tbody>\n",
       "</table>\n",
       "<p>148 rows × 3 columns</p>\n",
       "</div>"
      ],
      "text/plain": [
       "                      Group                  Skill     Freq\n",
       "8        LanguageWorkedWith               Assembly   3553.0\n",
       "9        LanguageWorkedWith  Bash/Shell/PowerShell  18980.0\n",
       "10       LanguageWorkedWith                      C  12487.0\n",
       "11       LanguageWorkedWith                     C#  18041.0\n",
       "12       LanguageWorkedWith                    C++  13707.0\n",
       "..                      ...                    ...      ...\n",
       "583  MiscTechDesireNextYear               Teraform   4104.0\n",
       "584  MiscTechDesireNextYear          Torch/PyTorch   5101.0\n",
       "586  MiscTechDesireNextYear               Unity 3D   7404.0\n",
       "587  MiscTechDesireNextYear          Unreal Engine   4249.0\n",
       "590  MiscTechDesireNextYear                Xamarin   3593.0\n",
       "\n",
       "[148 rows x 3 columns]"
      ]
     },
     "execution_count": 8,
     "metadata": {},
     "output_type": "execute_result"
    }
   ],
   "source": [
    "skills_freq = explode_df.apply(pd.Series.value_counts).unstack().reset_index().dropna() # Group the skills and the frequencies\n",
    "skills_freq.columns = ['Group', 'Skill', 'Freq']\n",
    "\n",
    "skills_freq"
   ]
  },
  {
   "cell_type": "code",
   "execution_count": 9,
   "id": "8e939725",
   "metadata": {},
   "outputs": [
    {
     "data": {
      "application/vnd.plotly.v1+json": {
       "config": {
        "plotlyServerURL": "https://plot.ly"
       },
       "data": [
        {
         "branchvalues": "total",
         "customdata": [
          [
           8399
          ],
          [
           14144
          ],
          [
           11602
          ],
          [
           10755
          ],
          [
           4818
          ],
          [
           9258
          ],
          [
           9018
          ],
          [
           8082
          ],
          [
           10762
          ],
          [
           10617
          ],
          [
           5601
          ],
          [
           6826
          ],
          [
           3528
          ],
          [
           2955
          ],
          [
           4025
          ],
          [
           2089
          ],
          [
           2469
          ],
          [
           3553
          ],
          [
           11728
          ],
          [
           18980
          ],
          [
           6091
          ],
          [
           12487
          ],
          [
           13674
          ],
          [
           18041
          ],
          [
           9756
          ],
          [
           13707
          ],
          [
           4227
          ],
          [
           1654
          ],
          [
           1119
          ],
          [
           733
          ],
          [
           1534
          ],
          [
           2419
          ],
          [
           1678
          ],
          [
           937
          ],
          [
           4742
          ],
          [
           2280
          ],
          [
           8237
          ],
          [
           6014
          ],
          [
           889
          ],
          [
           1369
          ],
          [
           4773
          ],
          [
           3497
          ],
          [
           10269
          ],
          [
           6817
          ],
          [
           8128
          ],
          [
           8961
          ],
          [
           8600
          ],
          [
           7128
          ],
          [
           6097
          ],
          [
           6005
          ],
          [
           7881
          ],
          [
           2897
          ],
          [
           2998
          ],
          [
           1703
          ],
          [
           12605
          ],
          [
           5038
          ],
          [
           20771
          ],
          [
           36181
          ],
          [
           3973
          ],
          [
           1798
          ],
          [
           2996
          ],
          [
           1222
          ],
          [
           935
          ],
          [
           1421
          ],
          [
           13264
          ],
          [
           23074
          ],
          [
           26188
          ],
          [
           38822
          ],
          [
           1661
          ],
          [
           519
          ],
          [
           3749
          ],
          [
           2504
          ],
          [
           9575
          ],
          [
           4468
          ],
          [
           4260
          ],
          [
           4680
          ],
          [
           6126
          ],
          [
           8312
          ],
          [
           9876
          ],
          [
           16336
          ],
          [
           16024
          ],
          [
           13086
          ],
          [
           15734
          ],
          [
           27559
          ],
          [
           20612
          ],
          [
           20741
          ],
          [
           1525
          ],
          [
           2340
          ],
          [
           4794
          ],
          [
           8155
          ],
          [
           7106
          ],
          [
           15007
          ],
          [
           6758
          ],
          [
           6253
          ],
          [
           1150
          ],
          [
           1796
          ],
          [
           17681
          ],
          [
           17892
          ],
          [
           1346
          ],
          [
           945
          ],
          [
           26682
          ],
          [
           25287
          ],
          [
           4271
          ],
          [
           3288
          ],
          [
           10175
          ],
          [
           4626
          ],
          [
           20071
          ],
          [
           15167
          ],
          [
           11977
          ],
          [
           9056
          ],
          [
           4184
          ],
          [
           4046
          ],
          [
           3849
          ],
          [
           2944
          ],
          [
           10563
          ],
          [
           2929
          ],
          [
           19970
          ],
          [
           31413
          ],
          [
           10909
          ],
          [
           15434
          ],
          [
           3465
          ],
          [
           2052
          ],
          [
           6241
          ],
          [
           6941
          ],
          [
           5643
          ],
          [
           3397
          ],
          [
           1692
          ],
          [
           1851
          ],
          [
           12211
          ],
          [
           4652
          ],
          [
           4104
          ],
          [
           2518
          ],
          [
           5101
          ],
          [
           1872
          ],
          [
           17150
          ],
          [
           14578
          ],
          [
           7404
          ],
          [
           4413
          ],
          [
           4249
          ],
          [
           1316
          ],
          [
           1055
          ],
          [
           3499
          ],
          [
           13142
          ],
          [
           7322
          ],
          [
           3593
          ],
          [
           2357
          ],
          [
           8382
          ],
          [
           18316
          ],
          [
           11821.694610972225
          ],
          [
           15214.337475598031
          ],
          [
           15494.747947826963
          ],
          [
           22845.057860307497
          ],
          [
           9747.403038817432
          ],
          [
           10034.034504984053
          ],
          [
           10099.26045452555
          ],
          [
           10072.249707037981
          ],
          [
           14835.645187122691
          ]
         ],
         "domain": {
          "x": [
           0,
           1
          ],
          "y": [
           0,
           1
          ]
         },
         "hovertemplate": "labels=%{label}<br>Freq_sum=%{value}<br>parent=%{parent}<br>id=%{id}<br>Freq=%{color}<extra></extra>",
         "ids": [
          "Proportion on languages and frameworks/MiscTechDesireNextYear/.NET",
          "Proportion on languages and frameworks/MiscTechWorkedWith/.NET",
          "Proportion on languages and frameworks/MiscTechDesireNextYear/.NET Core",
          "Proportion on languages and frameworks/MiscTechWorkedWith/.NET Core",
          "Proportion on languages and frameworks/WebframeDesireNextYear/ASP.NET",
          "Proportion on languages and frameworks/WebframeWorkedWith/ASP.NET",
          "Proportion on languages and frameworks/WebframeDesireNextYear/ASP.NET Core",
          "Proportion on languages and frameworks/WebframeWorkedWith/ASP.NET Core",
          "Proportion on languages and frameworks/WebframeDesireNextYear/Angular",
          "Proportion on languages and frameworks/WebframeWorkedWith/Angular",
          "Proportion on languages and frameworks/WebframeDesireNextYear/Angular.js",
          "Proportion on languages and frameworks/WebframeWorkedWith/Angular.js",
          "Proportion on languages and frameworks/MiscTechDesireNextYear/Ansible",
          "Proportion on languages and frameworks/MiscTechWorkedWith/Ansible",
          "Proportion on languages and frameworks/MiscTechDesireNextYear/Apache Spark",
          "Proportion on languages and frameworks/MiscTechWorkedWith/Apache Spark",
          "Proportion on languages and frameworks/LanguageDesireNextYear/Assembly",
          "Proportion on languages and frameworks/LanguageWorkedWith/Assembly",
          "Proportion on languages and frameworks/LanguageDesireNextYear/Bash/Shell/PowerShell",
          "Proportion on languages and frameworks/LanguageWorkedWith/Bash/Shell/PowerShell",
          "Proportion on languages and frameworks/LanguageDesireNextYear/C",
          "Proportion on languages and frameworks/LanguageWorkedWith/C",
          "Proportion on languages and frameworks/LanguageDesireNextYear/C#",
          "Proportion on languages and frameworks/LanguageWorkedWith/C#",
          "Proportion on languages and frameworks/LanguageDesireNextYear/C++",
          "Proportion on languages and frameworks/LanguageWorkedWith/C++",
          "Proportion on languages and frameworks/DatabaseDesireNextYear/Cassandra",
          "Proportion on languages and frameworks/DatabaseWorkedWith/Cassandra",
          "Proportion on languages and frameworks/MiscTechDesireNextYear/Chef",
          "Proportion on languages and frameworks/MiscTechWorkedWith/Chef",
          "Proportion on languages and frameworks/MiscTechDesireNextYear/Cordova",
          "Proportion on languages and frameworks/MiscTechWorkedWith/Cordova",
          "Proportion on languages and frameworks/DatabaseDesireNextYear/Couchbase",
          "Proportion on languages and frameworks/DatabaseWorkedWith/Couchbase",
          "Proportion on languages and frameworks/LanguageDesireNextYear/Dart",
          "Proportion on languages and frameworks/LanguageWorkedWith/Dart",
          "Proportion on languages and frameworks/WebframeDesireNextYear/Django",
          "Proportion on languages and frameworks/WebframeWorkedWith/Django",
          "Proportion on languages and frameworks/WebframeDesireNextYear/Drupal",
          "Proportion on languages and frameworks/WebframeWorkedWith/Drupal",
          "Proportion on languages and frameworks/DatabaseDesireNextYear/DynamoDB",
          "Proportion on languages and frameworks/DatabaseWorkedWith/DynamoDB",
          "Proportion on languages and frameworks/DatabaseDesireNextYear/Elasticsearch",
          "Proportion on languages and frameworks/DatabaseWorkedWith/Elasticsearch",
          "Proportion on languages and frameworks/WebframeDesireNextYear/Express",
          "Proportion on languages and frameworks/WebframeWorkedWith/Express",
          "Proportion on languages and frameworks/DatabaseDesireNextYear/Firebase",
          "Proportion on languages and frameworks/DatabaseWorkedWith/Firebase",
          "Proportion on languages and frameworks/WebframeDesireNextYear/Flask",
          "Proportion on languages and frameworks/WebframeWorkedWith/Flask",
          "Proportion on languages and frameworks/MiscTechDesireNextYear/Flutter",
          "Proportion on languages and frameworks/MiscTechWorkedWith/Flutter",
          "Proportion on languages and frameworks/WebframeDesireNextYear/Gatsby",
          "Proportion on languages and frameworks/WebframeWorkedWith/Gatsby",
          "Proportion on languages and frameworks/LanguageDesireNextYear/Go",
          "Proportion on languages and frameworks/LanguageWorkedWith/Go",
          "Proportion on languages and frameworks/LanguageDesireNextYear/HTML/CSS",
          "Proportion on languages and frameworks/LanguageWorkedWith/HTML/CSS",
          "Proportion on languages and frameworks/MiscTechDesireNextYear/Hadoop",
          "Proportion on languages and frameworks/MiscTechWorkedWith/Hadoop",
          "Proportion on languages and frameworks/LanguageDesireNextYear/Haskell",
          "Proportion on languages and frameworks/LanguageWorkedWith/Haskell",
          "Proportion on languages and frameworks/DatabaseDesireNextYear/IBM DB2",
          "Proportion on languages and frameworks/DatabaseWorkedWith/IBM DB2",
          "Proportion on languages and frameworks/LanguageDesireNextYear/Java",
          "Proportion on languages and frameworks/LanguageWorkedWith/Java",
          "Proportion on languages and frameworks/LanguageDesireNextYear/JavaScript",
          "Proportion on languages and frameworks/LanguageWorkedWith/JavaScript",
          "Proportion on languages and frameworks/LanguageDesireNextYear/Julia",
          "Proportion on languages and frameworks/LanguageWorkedWith/Julia",
          "Proportion on languages and frameworks/MiscTechDesireNextYear/Keras",
          "Proportion on languages and frameworks/MiscTechWorkedWith/Keras",
          "Proportion on languages and frameworks/LanguageDesireNextYear/Kotlin",
          "Proportion on languages and frameworks/LanguageWorkedWith/Kotlin",
          "Proportion on languages and frameworks/WebframeDesireNextYear/Laravel",
          "Proportion on languages and frameworks/WebframeWorkedWith/Laravel",
          "Proportion on languages and frameworks/DatabaseDesireNextYear/MariaDB",
          "Proportion on languages and frameworks/DatabaseWorkedWith/MariaDB",
          "Proportion on languages and frameworks/DatabaseDesireNextYear/Microsoft SQL Server",
          "Proportion on languages and frameworks/DatabaseWorkedWith/Microsoft SQL Server",
          "Proportion on languages and frameworks/DatabaseDesireNextYear/MongoDB",
          "Proportion on languages and frameworks/DatabaseWorkedWith/MongoDB",
          "Proportion on languages and frameworks/DatabaseDesireNextYear/MySQL",
          "Proportion on languages and frameworks/DatabaseWorkedWith/MySQL",
          "Proportion on languages and frameworks/MiscTechDesireNextYear/Node.js",
          "Proportion on languages and frameworks/MiscTechWorkedWith/Node.js",
          "Proportion on languages and frameworks/LanguageDesireNextYear/Objective-C",
          "Proportion on languages and frameworks/LanguageWorkedWith/Objective-C",
          "Proportion on languages and frameworks/DatabaseDesireNextYear/Oracle",
          "Proportion on languages and frameworks/DatabaseWorkedWith/Oracle",
          "Proportion on languages and frameworks/LanguageDesireNextYear/PHP",
          "Proportion on languages and frameworks/LanguageWorkedWith/PHP",
          "Proportion on languages and frameworks/MiscTechDesireNextYear/Pandas",
          "Proportion on languages and frameworks/MiscTechWorkedWith/Pandas",
          "Proportion on languages and frameworks/LanguageDesireNextYear/Perl",
          "Proportion on languages and frameworks/LanguageWorkedWith/Perl",
          "Proportion on languages and frameworks/DatabaseDesireNextYear/PostgreSQL",
          "Proportion on languages and frameworks/DatabaseWorkedWith/PostgreSQL",
          "Proportion on languages and frameworks/MiscTechDesireNextYear/Puppet",
          "Proportion on languages and frameworks/MiscTechWorkedWith/Puppet",
          "Proportion on languages and frameworks/LanguageDesireNextYear/Python",
          "Proportion on languages and frameworks/LanguageWorkedWith/Python",
          "Proportion on languages and frameworks/LanguageDesireNextYear/R",
          "Proportion on languages and frameworks/LanguageWorkedWith/R",
          "Proportion on languages and frameworks/MiscTechDesireNextYear/React Native",
          "Proportion on languages and frameworks/MiscTechWorkedWith/React Native",
          "Proportion on languages and frameworks/WebframeDesireNextYear/React.js",
          "Proportion on languages and frameworks/WebframeWorkedWith/React.js",
          "Proportion on languages and frameworks/DatabaseDesireNextYear/Redis",
          "Proportion on languages and frameworks/DatabaseWorkedWith/Redis",
          "Proportion on languages and frameworks/LanguageDesireNextYear/Ruby",
          "Proportion on languages and frameworks/LanguageWorkedWith/Ruby",
          "Proportion on languages and frameworks/WebframeDesireNextYear/Ruby on Rails",
          "Proportion on languages and frameworks/WebframeWorkedWith/Ruby on Rails",
          "Proportion on languages and frameworks/LanguageDesireNextYear/Rust",
          "Proportion on languages and frameworks/LanguageWorkedWith/Rust",
          "Proportion on languages and frameworks/LanguageDesireNextYear/SQL",
          "Proportion on languages and frameworks/LanguageWorkedWith/SQL",
          "Proportion on languages and frameworks/DatabaseDesireNextYear/SQLite",
          "Proportion on languages and frameworks/DatabaseWorkedWith/SQLite",
          "Proportion on languages and frameworks/LanguageDesireNextYear/Scala",
          "Proportion on languages and frameworks/LanguageWorkedWith/Scala",
          "Proportion on languages and frameworks/WebframeDesireNextYear/Spring",
          "Proportion on languages and frameworks/WebframeWorkedWith/Spring",
          "Proportion on languages and frameworks/LanguageDesireNextYear/Swift",
          "Proportion on languages and frameworks/LanguageWorkedWith/Swift",
          "Proportion on languages and frameworks/WebframeDesireNextYear/Symfony",
          "Proportion on languages and frameworks/WebframeWorkedWith/Symfony",
          "Proportion on languages and frameworks/MiscTechDesireNextYear/TensorFlow",
          "Proportion on languages and frameworks/MiscTechWorkedWith/TensorFlow",
          "Proportion on languages and frameworks/MiscTechDesireNextYear/Teraform",
          "Proportion on languages and frameworks/MiscTechWorkedWith/Teraform",
          "Proportion on languages and frameworks/MiscTechDesireNextYear/Torch/PyTorch",
          "Proportion on languages and frameworks/MiscTechWorkedWith/Torch/PyTorch",
          "Proportion on languages and frameworks/LanguageDesireNextYear/TypeScript",
          "Proportion on languages and frameworks/LanguageWorkedWith/TypeScript",
          "Proportion on languages and frameworks/MiscTechDesireNextYear/Unity 3D",
          "Proportion on languages and frameworks/MiscTechWorkedWith/Unity 3D",
          "Proportion on languages and frameworks/MiscTechDesireNextYear/Unreal Engine",
          "Proportion on languages and frameworks/MiscTechWorkedWith/Unreal Engine",
          "Proportion on languages and frameworks/LanguageDesireNextYear/VBA",
          "Proportion on languages and frameworks/LanguageWorkedWith/VBA",
          "Proportion on languages and frameworks/WebframeDesireNextYear/Vue.js",
          "Proportion on languages and frameworks/WebframeWorkedWith/Vue.js",
          "Proportion on languages and frameworks/MiscTechDesireNextYear/Xamarin",
          "Proportion on languages and frameworks/MiscTechWorkedWith/Xamarin",
          "Proportion on languages and frameworks/WebframeDesireNextYear/jQuery",
          "Proportion on languages and frameworks/WebframeWorkedWith/jQuery",
          "Proportion on languages and frameworks/DatabaseDesireNextYear",
          "Proportion on languages and frameworks/DatabaseWorkedWith",
          "Proportion on languages and frameworks/LanguageDesireNextYear",
          "Proportion on languages and frameworks/LanguageWorkedWith",
          "Proportion on languages and frameworks/MiscTechDesireNextYear",
          "Proportion on languages and frameworks/MiscTechWorkedWith",
          "Proportion on languages and frameworks/WebframeDesireNextYear",
          "Proportion on languages and frameworks/WebframeWorkedWith",
          "Proportion on languages and frameworks"
         ],
         "labels": [
          ".NET",
          ".NET",
          ".NET Core",
          ".NET Core",
          "ASP.NET",
          "ASP.NET",
          "ASP.NET Core",
          "ASP.NET Core",
          "Angular",
          "Angular",
          "Angular.js",
          "Angular.js",
          "Ansible",
          "Ansible",
          "Apache Spark",
          "Apache Spark",
          "Assembly",
          "Assembly",
          "Bash/Shell/PowerShell",
          "Bash/Shell/PowerShell",
          "C",
          "C",
          "C#",
          "C#",
          "C++",
          "C++",
          "Cassandra",
          "Cassandra",
          "Chef",
          "Chef",
          "Cordova",
          "Cordova",
          "Couchbase",
          "Couchbase",
          "Dart",
          "Dart",
          "Django",
          "Django",
          "Drupal",
          "Drupal",
          "DynamoDB",
          "DynamoDB",
          "Elasticsearch",
          "Elasticsearch",
          "Express",
          "Express",
          "Firebase",
          "Firebase",
          "Flask",
          "Flask",
          "Flutter",
          "Flutter",
          "Gatsby",
          "Gatsby",
          "Go",
          "Go",
          "HTML/CSS",
          "HTML/CSS",
          "Hadoop",
          "Hadoop",
          "Haskell",
          "Haskell",
          "IBM DB2",
          "IBM DB2",
          "Java",
          "Java",
          "JavaScript",
          "JavaScript",
          "Julia",
          "Julia",
          "Keras",
          "Keras",
          "Kotlin",
          "Kotlin",
          "Laravel",
          "Laravel",
          "MariaDB",
          "MariaDB",
          "Microsoft SQL Server",
          "Microsoft SQL Server",
          "MongoDB",
          "MongoDB",
          "MySQL",
          "MySQL",
          "Node.js",
          "Node.js",
          "Objective-C",
          "Objective-C",
          "Oracle",
          "Oracle",
          "PHP",
          "PHP",
          "Pandas",
          "Pandas",
          "Perl",
          "Perl",
          "PostgreSQL",
          "PostgreSQL",
          "Puppet",
          "Puppet",
          "Python",
          "Python",
          "R",
          "R",
          "React Native",
          "React Native",
          "React.js",
          "React.js",
          "Redis",
          "Redis",
          "Ruby",
          "Ruby",
          "Ruby on Rails",
          "Ruby on Rails",
          "Rust",
          "Rust",
          "SQL",
          "SQL",
          "SQLite",
          "SQLite",
          "Scala",
          "Scala",
          "Spring",
          "Spring",
          "Swift",
          "Swift",
          "Symfony",
          "Symfony",
          "TensorFlow",
          "TensorFlow",
          "Teraform",
          "Teraform",
          "Torch/PyTorch",
          "Torch/PyTorch",
          "TypeScript",
          "TypeScript",
          "Unity 3D",
          "Unity 3D",
          "Unreal Engine",
          "Unreal Engine",
          "VBA",
          "VBA",
          "Vue.js",
          "Vue.js",
          "Xamarin",
          "Xamarin",
          "jQuery",
          "jQuery",
          "DatabaseDesireNextYear",
          "DatabaseWorkedWith",
          "LanguageDesireNextYear",
          "LanguageWorkedWith",
          "MiscTechDesireNextYear",
          "MiscTechWorkedWith",
          "WebframeDesireNextYear",
          "WebframeWorkedWith",
          "Proportion on languages and frameworks"
         ],
         "marker": {
          "coloraxis": "coloraxis",
          "colors": [
           8399,
           14144,
           11602,
           10755,
           4818,
           9258,
           9018,
           8082,
           10762,
           10617,
           5601,
           6826,
           3528,
           2955,
           4025,
           2089,
           2469,
           3553,
           11728,
           18980,
           6091,
           12487,
           13674,
           18041,
           9756,
           13707,
           4227,
           1654,
           1119,
           733,
           1534,
           2419,
           1678,
           937,
           4742,
           2280,
           8237,
           6014,
           889,
           1369,
           4773,
           3497,
           10269,
           6817,
           8128,
           8961,
           8600,
           7128,
           6097,
           6005,
           7881,
           2897,
           2998,
           1703,
           12605,
           5038,
           20771,
           36181,
           3973,
           1798,
           2996,
           1222,
           935,
           1421,
           13264,
           23074,
           26188,
           38822,
           1661,
           519,
           3749,
           2504,
           9575,
           4468,
           4260,
           4680,
           6126,
           8312,
           9876,
           16336,
           16024,
           13086,
           15734,
           27559,
           20612,
           20741,
           1525,
           2340,
           4794,
           8155,
           7106,
           15007,
           6758,
           6253,
           1150,
           1796,
           17681,
           17892,
           1346,
           945,
           26682,
           25287,
           4271,
           3288,
           10175,
           4626,
           20071,
           15167,
           11977,
           9056,
           4184,
           4046,
           3849,
           2944,
           10563,
           2929,
           19970,
           31413,
           10909,
           15434,
           3465,
           2052,
           6241,
           6941,
           5643,
           3397,
           1692,
           1851,
           12211,
           4652,
           4104,
           2518,
           5101,
           1872,
           17150,
           14578,
           7404,
           4413,
           4249,
           1316,
           1055,
           3499,
           13142,
           7322,
           3593,
           2357,
           8382,
           18316,
           11821.694610972225,
           15214.337475598031,
           15494.747947826963,
           22845.057860307497,
           9747.403038817432,
           10034.034504984053,
           10099.26045452555,
           10072.249707037981,
           14835.645187122691
          ]
         },
         "name": "",
         "parents": [
          "Proportion on languages and frameworks/MiscTechDesireNextYear",
          "Proportion on languages and frameworks/MiscTechWorkedWith",
          "Proportion on languages and frameworks/MiscTechDesireNextYear",
          "Proportion on languages and frameworks/MiscTechWorkedWith",
          "Proportion on languages and frameworks/WebframeDesireNextYear",
          "Proportion on languages and frameworks/WebframeWorkedWith",
          "Proportion on languages and frameworks/WebframeDesireNextYear",
          "Proportion on languages and frameworks/WebframeWorkedWith",
          "Proportion on languages and frameworks/WebframeDesireNextYear",
          "Proportion on languages and frameworks/WebframeWorkedWith",
          "Proportion on languages and frameworks/WebframeDesireNextYear",
          "Proportion on languages and frameworks/WebframeWorkedWith",
          "Proportion on languages and frameworks/MiscTechDesireNextYear",
          "Proportion on languages and frameworks/MiscTechWorkedWith",
          "Proportion on languages and frameworks/MiscTechDesireNextYear",
          "Proportion on languages and frameworks/MiscTechWorkedWith",
          "Proportion on languages and frameworks/LanguageDesireNextYear",
          "Proportion on languages and frameworks/LanguageWorkedWith",
          "Proportion on languages and frameworks/LanguageDesireNextYear",
          "Proportion on languages and frameworks/LanguageWorkedWith",
          "Proportion on languages and frameworks/LanguageDesireNextYear",
          "Proportion on languages and frameworks/LanguageWorkedWith",
          "Proportion on languages and frameworks/LanguageDesireNextYear",
          "Proportion on languages and frameworks/LanguageWorkedWith",
          "Proportion on languages and frameworks/LanguageDesireNextYear",
          "Proportion on languages and frameworks/LanguageWorkedWith",
          "Proportion on languages and frameworks/DatabaseDesireNextYear",
          "Proportion on languages and frameworks/DatabaseWorkedWith",
          "Proportion on languages and frameworks/MiscTechDesireNextYear",
          "Proportion on languages and frameworks/MiscTechWorkedWith",
          "Proportion on languages and frameworks/MiscTechDesireNextYear",
          "Proportion on languages and frameworks/MiscTechWorkedWith",
          "Proportion on languages and frameworks/DatabaseDesireNextYear",
          "Proportion on languages and frameworks/DatabaseWorkedWith",
          "Proportion on languages and frameworks/LanguageDesireNextYear",
          "Proportion on languages and frameworks/LanguageWorkedWith",
          "Proportion on languages and frameworks/WebframeDesireNextYear",
          "Proportion on languages and frameworks/WebframeWorkedWith",
          "Proportion on languages and frameworks/WebframeDesireNextYear",
          "Proportion on languages and frameworks/WebframeWorkedWith",
          "Proportion on languages and frameworks/DatabaseDesireNextYear",
          "Proportion on languages and frameworks/DatabaseWorkedWith",
          "Proportion on languages and frameworks/DatabaseDesireNextYear",
          "Proportion on languages and frameworks/DatabaseWorkedWith",
          "Proportion on languages and frameworks/WebframeDesireNextYear",
          "Proportion on languages and frameworks/WebframeWorkedWith",
          "Proportion on languages and frameworks/DatabaseDesireNextYear",
          "Proportion on languages and frameworks/DatabaseWorkedWith",
          "Proportion on languages and frameworks/WebframeDesireNextYear",
          "Proportion on languages and frameworks/WebframeWorkedWith",
          "Proportion on languages and frameworks/MiscTechDesireNextYear",
          "Proportion on languages and frameworks/MiscTechWorkedWith",
          "Proportion on languages and frameworks/WebframeDesireNextYear",
          "Proportion on languages and frameworks/WebframeWorkedWith",
          "Proportion on languages and frameworks/LanguageDesireNextYear",
          "Proportion on languages and frameworks/LanguageWorkedWith",
          "Proportion on languages and frameworks/LanguageDesireNextYear",
          "Proportion on languages and frameworks/LanguageWorkedWith",
          "Proportion on languages and frameworks/MiscTechDesireNextYear",
          "Proportion on languages and frameworks/MiscTechWorkedWith",
          "Proportion on languages and frameworks/LanguageDesireNextYear",
          "Proportion on languages and frameworks/LanguageWorkedWith",
          "Proportion on languages and frameworks/DatabaseDesireNextYear",
          "Proportion on languages and frameworks/DatabaseWorkedWith",
          "Proportion on languages and frameworks/LanguageDesireNextYear",
          "Proportion on languages and frameworks/LanguageWorkedWith",
          "Proportion on languages and frameworks/LanguageDesireNextYear",
          "Proportion on languages and frameworks/LanguageWorkedWith",
          "Proportion on languages and frameworks/LanguageDesireNextYear",
          "Proportion on languages and frameworks/LanguageWorkedWith",
          "Proportion on languages and frameworks/MiscTechDesireNextYear",
          "Proportion on languages and frameworks/MiscTechWorkedWith",
          "Proportion on languages and frameworks/LanguageDesireNextYear",
          "Proportion on languages and frameworks/LanguageWorkedWith",
          "Proportion on languages and frameworks/WebframeDesireNextYear",
          "Proportion on languages and frameworks/WebframeWorkedWith",
          "Proportion on languages and frameworks/DatabaseDesireNextYear",
          "Proportion on languages and frameworks/DatabaseWorkedWith",
          "Proportion on languages and frameworks/DatabaseDesireNextYear",
          "Proportion on languages and frameworks/DatabaseWorkedWith",
          "Proportion on languages and frameworks/DatabaseDesireNextYear",
          "Proportion on languages and frameworks/DatabaseWorkedWith",
          "Proportion on languages and frameworks/DatabaseDesireNextYear",
          "Proportion on languages and frameworks/DatabaseWorkedWith",
          "Proportion on languages and frameworks/MiscTechDesireNextYear",
          "Proportion on languages and frameworks/MiscTechWorkedWith",
          "Proportion on languages and frameworks/LanguageDesireNextYear",
          "Proportion on languages and frameworks/LanguageWorkedWith",
          "Proportion on languages and frameworks/DatabaseDesireNextYear",
          "Proportion on languages and frameworks/DatabaseWorkedWith",
          "Proportion on languages and frameworks/LanguageDesireNextYear",
          "Proportion on languages and frameworks/LanguageWorkedWith",
          "Proportion on languages and frameworks/MiscTechDesireNextYear",
          "Proportion on languages and frameworks/MiscTechWorkedWith",
          "Proportion on languages and frameworks/LanguageDesireNextYear",
          "Proportion on languages and frameworks/LanguageWorkedWith",
          "Proportion on languages and frameworks/DatabaseDesireNextYear",
          "Proportion on languages and frameworks/DatabaseWorkedWith",
          "Proportion on languages and frameworks/MiscTechDesireNextYear",
          "Proportion on languages and frameworks/MiscTechWorkedWith",
          "Proportion on languages and frameworks/LanguageDesireNextYear",
          "Proportion on languages and frameworks/LanguageWorkedWith",
          "Proportion on languages and frameworks/LanguageDesireNextYear",
          "Proportion on languages and frameworks/LanguageWorkedWith",
          "Proportion on languages and frameworks/MiscTechDesireNextYear",
          "Proportion on languages and frameworks/MiscTechWorkedWith",
          "Proportion on languages and frameworks/WebframeDesireNextYear",
          "Proportion on languages and frameworks/WebframeWorkedWith",
          "Proportion on languages and frameworks/DatabaseDesireNextYear",
          "Proportion on languages and frameworks/DatabaseWorkedWith",
          "Proportion on languages and frameworks/LanguageDesireNextYear",
          "Proportion on languages and frameworks/LanguageWorkedWith",
          "Proportion on languages and frameworks/WebframeDesireNextYear",
          "Proportion on languages and frameworks/WebframeWorkedWith",
          "Proportion on languages and frameworks/LanguageDesireNextYear",
          "Proportion on languages and frameworks/LanguageWorkedWith",
          "Proportion on languages and frameworks/LanguageDesireNextYear",
          "Proportion on languages and frameworks/LanguageWorkedWith",
          "Proportion on languages and frameworks/DatabaseDesireNextYear",
          "Proportion on languages and frameworks/DatabaseWorkedWith",
          "Proportion on languages and frameworks/LanguageDesireNextYear",
          "Proportion on languages and frameworks/LanguageWorkedWith",
          "Proportion on languages and frameworks/WebframeDesireNextYear",
          "Proportion on languages and frameworks/WebframeWorkedWith",
          "Proportion on languages and frameworks/LanguageDesireNextYear",
          "Proportion on languages and frameworks/LanguageWorkedWith",
          "Proportion on languages and frameworks/WebframeDesireNextYear",
          "Proportion on languages and frameworks/WebframeWorkedWith",
          "Proportion on languages and frameworks/MiscTechDesireNextYear",
          "Proportion on languages and frameworks/MiscTechWorkedWith",
          "Proportion on languages and frameworks/MiscTechDesireNextYear",
          "Proportion on languages and frameworks/MiscTechWorkedWith",
          "Proportion on languages and frameworks/MiscTechDesireNextYear",
          "Proportion on languages and frameworks/MiscTechWorkedWith",
          "Proportion on languages and frameworks/LanguageDesireNextYear",
          "Proportion on languages and frameworks/LanguageWorkedWith",
          "Proportion on languages and frameworks/MiscTechDesireNextYear",
          "Proportion on languages and frameworks/MiscTechWorkedWith",
          "Proportion on languages and frameworks/MiscTechDesireNextYear",
          "Proportion on languages and frameworks/MiscTechWorkedWith",
          "Proportion on languages and frameworks/LanguageDesireNextYear",
          "Proportion on languages and frameworks/LanguageWorkedWith",
          "Proportion on languages and frameworks/WebframeDesireNextYear",
          "Proportion on languages and frameworks/WebframeWorkedWith",
          "Proportion on languages and frameworks/MiscTechDesireNextYear",
          "Proportion on languages and frameworks/MiscTechWorkedWith",
          "Proportion on languages and frameworks/WebframeDesireNextYear",
          "Proportion on languages and frameworks/WebframeWorkedWith",
          "Proportion on languages and frameworks",
          "Proportion on languages and frameworks",
          "Proportion on languages and frameworks",
          "Proportion on languages and frameworks",
          "Proportion on languages and frameworks",
          "Proportion on languages and frameworks",
          "Proportion on languages and frameworks",
          "Proportion on languages and frameworks",
          ""
         ],
         "type": "treemap",
         "values": [
          8399,
          14144,
          11602,
          10755,
          4818,
          9258,
          9018,
          8082,
          10762,
          10617,
          5601,
          6826,
          3528,
          2955,
          4025,
          2089,
          2469,
          3553,
          11728,
          18980,
          6091,
          12487,
          13674,
          18041,
          9756,
          13707,
          4227,
          1654,
          1119,
          733,
          1534,
          2419,
          1678,
          937,
          4742,
          2280,
          8237,
          6014,
          889,
          1369,
          4773,
          3497,
          10269,
          6817,
          8128,
          8961,
          8600,
          7128,
          6097,
          6005,
          7881,
          2897,
          2998,
          1703,
          12605,
          5038,
          20771,
          36181,
          3973,
          1798,
          2996,
          1222,
          935,
          1421,
          13264,
          23074,
          26188,
          38822,
          1661,
          519,
          3749,
          2504,
          9575,
          4468,
          4260,
          4680,
          6126,
          8312,
          9876,
          16336,
          16024,
          13086,
          15734,
          27559,
          20612,
          20741,
          1525,
          2340,
          4794,
          8155,
          7106,
          15007,
          6758,
          6253,
          1150,
          1796,
          17681,
          17892,
          1346,
          945,
          26682,
          25287,
          4271,
          3288,
          10175,
          4626,
          20071,
          15167,
          11977,
          9056,
          4184,
          4046,
          3849,
          2944,
          10563,
          2929,
          19970,
          31413,
          10909,
          15434,
          3465,
          2052,
          6241,
          6941,
          5643,
          3397,
          1692,
          1851,
          12211,
          4652,
          4104,
          2518,
          5101,
          1872,
          17150,
          14578,
          7404,
          4413,
          4249,
          1316,
          1055,
          3499,
          13142,
          7322,
          3593,
          2357,
          8382,
          18316,
          123603,
          137284,
          238284,
          288004,
          121363,
          89987,
          114185,
          116056,
          1228766
         ]
        }
       ],
       "layout": {
        "coloraxis": {
         "colorbar": {
          "title": {
           "text": "Freq"
          }
         },
         "colorscale": [
          [
           0,
           "rgb(253, 253, 204)"
          ],
          [
           0.09090909090909091,
           "rgb(206, 236, 179)"
          ],
          [
           0.18181818181818182,
           "rgb(156, 219, 165)"
          ],
          [
           0.2727272727272727,
           "rgb(111, 201, 163)"
          ],
          [
           0.36363636363636365,
           "rgb(86, 177, 163)"
          ],
          [
           0.45454545454545453,
           "rgb(76, 153, 160)"
          ],
          [
           0.5454545454545454,
           "rgb(68, 130, 155)"
          ],
          [
           0.6363636363636364,
           "rgb(62, 108, 150)"
          ],
          [
           0.7272727272727273,
           "rgb(62, 82, 143)"
          ],
          [
           0.8181818181818182,
           "rgb(64, 60, 115)"
          ],
          [
           0.9090909090909091,
           "rgb(54, 43, 77)"
          ],
          [
           1,
           "rgb(39, 26, 44)"
          ]
         ]
        },
        "height": 700,
        "legend": {
         "tracegroupgap": 0
        },
        "margin": {
         "t": 60
        },
        "template": {
         "data": {
          "bar": [
           {
            "error_x": {
             "color": "#2a3f5f"
            },
            "error_y": {
             "color": "#2a3f5f"
            },
            "marker": {
             "line": {
              "color": "#E5ECF6",
              "width": 0.5
             }
            },
            "type": "bar"
           }
          ],
          "barpolar": [
           {
            "marker": {
             "line": {
              "color": "#E5ECF6",
              "width": 0.5
             }
            },
            "type": "barpolar"
           }
          ],
          "carpet": [
           {
            "aaxis": {
             "endlinecolor": "#2a3f5f",
             "gridcolor": "white",
             "linecolor": "white",
             "minorgridcolor": "white",
             "startlinecolor": "#2a3f5f"
            },
            "baxis": {
             "endlinecolor": "#2a3f5f",
             "gridcolor": "white",
             "linecolor": "white",
             "minorgridcolor": "white",
             "startlinecolor": "#2a3f5f"
            },
            "type": "carpet"
           }
          ],
          "choropleth": [
           {
            "colorbar": {
             "outlinewidth": 0,
             "ticks": ""
            },
            "type": "choropleth"
           }
          ],
          "contour": [
           {
            "colorbar": {
             "outlinewidth": 0,
             "ticks": ""
            },
            "colorscale": [
             [
              0,
              "#0d0887"
             ],
             [
              0.1111111111111111,
              "#46039f"
             ],
             [
              0.2222222222222222,
              "#7201a8"
             ],
             [
              0.3333333333333333,
              "#9c179e"
             ],
             [
              0.4444444444444444,
              "#bd3786"
             ],
             [
              0.5555555555555556,
              "#d8576b"
             ],
             [
              0.6666666666666666,
              "#ed7953"
             ],
             [
              0.7777777777777778,
              "#fb9f3a"
             ],
             [
              0.8888888888888888,
              "#fdca26"
             ],
             [
              1,
              "#f0f921"
             ]
            ],
            "type": "contour"
           }
          ],
          "contourcarpet": [
           {
            "colorbar": {
             "outlinewidth": 0,
             "ticks": ""
            },
            "type": "contourcarpet"
           }
          ],
          "heatmap": [
           {
            "colorbar": {
             "outlinewidth": 0,
             "ticks": ""
            },
            "colorscale": [
             [
              0,
              "#0d0887"
             ],
             [
              0.1111111111111111,
              "#46039f"
             ],
             [
              0.2222222222222222,
              "#7201a8"
             ],
             [
              0.3333333333333333,
              "#9c179e"
             ],
             [
              0.4444444444444444,
              "#bd3786"
             ],
             [
              0.5555555555555556,
              "#d8576b"
             ],
             [
              0.6666666666666666,
              "#ed7953"
             ],
             [
              0.7777777777777778,
              "#fb9f3a"
             ],
             [
              0.8888888888888888,
              "#fdca26"
             ],
             [
              1,
              "#f0f921"
             ]
            ],
            "type": "heatmap"
           }
          ],
          "heatmapgl": [
           {
            "colorbar": {
             "outlinewidth": 0,
             "ticks": ""
            },
            "colorscale": [
             [
              0,
              "#0d0887"
             ],
             [
              0.1111111111111111,
              "#46039f"
             ],
             [
              0.2222222222222222,
              "#7201a8"
             ],
             [
              0.3333333333333333,
              "#9c179e"
             ],
             [
              0.4444444444444444,
              "#bd3786"
             ],
             [
              0.5555555555555556,
              "#d8576b"
             ],
             [
              0.6666666666666666,
              "#ed7953"
             ],
             [
              0.7777777777777778,
              "#fb9f3a"
             ],
             [
              0.8888888888888888,
              "#fdca26"
             ],
             [
              1,
              "#f0f921"
             ]
            ],
            "type": "heatmapgl"
           }
          ],
          "histogram": [
           {
            "marker": {
             "colorbar": {
              "outlinewidth": 0,
              "ticks": ""
             }
            },
            "type": "histogram"
           }
          ],
          "histogram2d": [
           {
            "colorbar": {
             "outlinewidth": 0,
             "ticks": ""
            },
            "colorscale": [
             [
              0,
              "#0d0887"
             ],
             [
              0.1111111111111111,
              "#46039f"
             ],
             [
              0.2222222222222222,
              "#7201a8"
             ],
             [
              0.3333333333333333,
              "#9c179e"
             ],
             [
              0.4444444444444444,
              "#bd3786"
             ],
             [
              0.5555555555555556,
              "#d8576b"
             ],
             [
              0.6666666666666666,
              "#ed7953"
             ],
             [
              0.7777777777777778,
              "#fb9f3a"
             ],
             [
              0.8888888888888888,
              "#fdca26"
             ],
             [
              1,
              "#f0f921"
             ]
            ],
            "type": "histogram2d"
           }
          ],
          "histogram2dcontour": [
           {
            "colorbar": {
             "outlinewidth": 0,
             "ticks": ""
            },
            "colorscale": [
             [
              0,
              "#0d0887"
             ],
             [
              0.1111111111111111,
              "#46039f"
             ],
             [
              0.2222222222222222,
              "#7201a8"
             ],
             [
              0.3333333333333333,
              "#9c179e"
             ],
             [
              0.4444444444444444,
              "#bd3786"
             ],
             [
              0.5555555555555556,
              "#d8576b"
             ],
             [
              0.6666666666666666,
              "#ed7953"
             ],
             [
              0.7777777777777778,
              "#fb9f3a"
             ],
             [
              0.8888888888888888,
              "#fdca26"
             ],
             [
              1,
              "#f0f921"
             ]
            ],
            "type": "histogram2dcontour"
           }
          ],
          "mesh3d": [
           {
            "colorbar": {
             "outlinewidth": 0,
             "ticks": ""
            },
            "type": "mesh3d"
           }
          ],
          "parcoords": [
           {
            "line": {
             "colorbar": {
              "outlinewidth": 0,
              "ticks": ""
             }
            },
            "type": "parcoords"
           }
          ],
          "pie": [
           {
            "automargin": true,
            "type": "pie"
           }
          ],
          "scatter": [
           {
            "marker": {
             "colorbar": {
              "outlinewidth": 0,
              "ticks": ""
             }
            },
            "type": "scatter"
           }
          ],
          "scatter3d": [
           {
            "line": {
             "colorbar": {
              "outlinewidth": 0,
              "ticks": ""
             }
            },
            "marker": {
             "colorbar": {
              "outlinewidth": 0,
              "ticks": ""
             }
            },
            "type": "scatter3d"
           }
          ],
          "scattercarpet": [
           {
            "marker": {
             "colorbar": {
              "outlinewidth": 0,
              "ticks": ""
             }
            },
            "type": "scattercarpet"
           }
          ],
          "scattergeo": [
           {
            "marker": {
             "colorbar": {
              "outlinewidth": 0,
              "ticks": ""
             }
            },
            "type": "scattergeo"
           }
          ],
          "scattergl": [
           {
            "marker": {
             "colorbar": {
              "outlinewidth": 0,
              "ticks": ""
             }
            },
            "type": "scattergl"
           }
          ],
          "scattermapbox": [
           {
            "marker": {
             "colorbar": {
              "outlinewidth": 0,
              "ticks": ""
             }
            },
            "type": "scattermapbox"
           }
          ],
          "scatterpolar": [
           {
            "marker": {
             "colorbar": {
              "outlinewidth": 0,
              "ticks": ""
             }
            },
            "type": "scatterpolar"
           }
          ],
          "scatterpolargl": [
           {
            "marker": {
             "colorbar": {
              "outlinewidth": 0,
              "ticks": ""
             }
            },
            "type": "scatterpolargl"
           }
          ],
          "scatterternary": [
           {
            "marker": {
             "colorbar": {
              "outlinewidth": 0,
              "ticks": ""
             }
            },
            "type": "scatterternary"
           }
          ],
          "surface": [
           {
            "colorbar": {
             "outlinewidth": 0,
             "ticks": ""
            },
            "colorscale": [
             [
              0,
              "#0d0887"
             ],
             [
              0.1111111111111111,
              "#46039f"
             ],
             [
              0.2222222222222222,
              "#7201a8"
             ],
             [
              0.3333333333333333,
              "#9c179e"
             ],
             [
              0.4444444444444444,
              "#bd3786"
             ],
             [
              0.5555555555555556,
              "#d8576b"
             ],
             [
              0.6666666666666666,
              "#ed7953"
             ],
             [
              0.7777777777777778,
              "#fb9f3a"
             ],
             [
              0.8888888888888888,
              "#fdca26"
             ],
             [
              1,
              "#f0f921"
             ]
            ],
            "type": "surface"
           }
          ],
          "table": [
           {
            "cells": {
             "fill": {
              "color": "#EBF0F8"
             },
             "line": {
              "color": "white"
             }
            },
            "header": {
             "fill": {
              "color": "#C8D4E3"
             },
             "line": {
              "color": "white"
             }
            },
            "type": "table"
           }
          ]
         },
         "layout": {
          "annotationdefaults": {
           "arrowcolor": "#2a3f5f",
           "arrowhead": 0,
           "arrowwidth": 1
          },
          "autotypenumbers": "strict",
          "coloraxis": {
           "colorbar": {
            "outlinewidth": 0,
            "ticks": ""
           }
          },
          "colorscale": {
           "diverging": [
            [
             0,
             "#8e0152"
            ],
            [
             0.1,
             "#c51b7d"
            ],
            [
             0.2,
             "#de77ae"
            ],
            [
             0.3,
             "#f1b6da"
            ],
            [
             0.4,
             "#fde0ef"
            ],
            [
             0.5,
             "#f7f7f7"
            ],
            [
             0.6,
             "#e6f5d0"
            ],
            [
             0.7,
             "#b8e186"
            ],
            [
             0.8,
             "#7fbc41"
            ],
            [
             0.9,
             "#4d9221"
            ],
            [
             1,
             "#276419"
            ]
           ],
           "sequential": [
            [
             0,
             "#0d0887"
            ],
            [
             0.1111111111111111,
             "#46039f"
            ],
            [
             0.2222222222222222,
             "#7201a8"
            ],
            [
             0.3333333333333333,
             "#9c179e"
            ],
            [
             0.4444444444444444,
             "#bd3786"
            ],
            [
             0.5555555555555556,
             "#d8576b"
            ],
            [
             0.6666666666666666,
             "#ed7953"
            ],
            [
             0.7777777777777778,
             "#fb9f3a"
            ],
            [
             0.8888888888888888,
             "#fdca26"
            ],
            [
             1,
             "#f0f921"
            ]
           ],
           "sequentialminus": [
            [
             0,
             "#0d0887"
            ],
            [
             0.1111111111111111,
             "#46039f"
            ],
            [
             0.2222222222222222,
             "#7201a8"
            ],
            [
             0.3333333333333333,
             "#9c179e"
            ],
            [
             0.4444444444444444,
             "#bd3786"
            ],
            [
             0.5555555555555556,
             "#d8576b"
            ],
            [
             0.6666666666666666,
             "#ed7953"
            ],
            [
             0.7777777777777778,
             "#fb9f3a"
            ],
            [
             0.8888888888888888,
             "#fdca26"
            ],
            [
             1,
             "#f0f921"
            ]
           ]
          },
          "colorway": [
           "#636efa",
           "#EF553B",
           "#00cc96",
           "#ab63fa",
           "#FFA15A",
           "#19d3f3",
           "#FF6692",
           "#B6E880",
           "#FF97FF",
           "#FECB52"
          ],
          "font": {
           "color": "#2a3f5f"
          },
          "geo": {
           "bgcolor": "white",
           "lakecolor": "white",
           "landcolor": "#E5ECF6",
           "showlakes": true,
           "showland": true,
           "subunitcolor": "white"
          },
          "hoverlabel": {
           "align": "left"
          },
          "hovermode": "closest",
          "mapbox": {
           "style": "light"
          },
          "paper_bgcolor": "white",
          "plot_bgcolor": "#E5ECF6",
          "polar": {
           "angularaxis": {
            "gridcolor": "white",
            "linecolor": "white",
            "ticks": ""
           },
           "bgcolor": "#E5ECF6",
           "radialaxis": {
            "gridcolor": "white",
            "linecolor": "white",
            "ticks": ""
           }
          },
          "scene": {
           "xaxis": {
            "backgroundcolor": "#E5ECF6",
            "gridcolor": "white",
            "gridwidth": 2,
            "linecolor": "white",
            "showbackground": true,
            "ticks": "",
            "zerolinecolor": "white"
           },
           "yaxis": {
            "backgroundcolor": "#E5ECF6",
            "gridcolor": "white",
            "gridwidth": 2,
            "linecolor": "white",
            "showbackground": true,
            "ticks": "",
            "zerolinecolor": "white"
           },
           "zaxis": {
            "backgroundcolor": "#E5ECF6",
            "gridcolor": "white",
            "gridwidth": 2,
            "linecolor": "white",
            "showbackground": true,
            "ticks": "",
            "zerolinecolor": "white"
           }
          },
          "shapedefaults": {
           "line": {
            "color": "#2a3f5f"
           }
          },
          "ternary": {
           "aaxis": {
            "gridcolor": "white",
            "linecolor": "white",
            "ticks": ""
           },
           "baxis": {
            "gridcolor": "white",
            "linecolor": "white",
            "ticks": ""
           },
           "bgcolor": "#E5ECF6",
           "caxis": {
            "gridcolor": "white",
            "linecolor": "white",
            "ticks": ""
           }
          },
          "title": {
           "x": 0.05
          },
          "xaxis": {
           "automargin": true,
           "gridcolor": "white",
           "linecolor": "white",
           "ticks": "",
           "title": {
            "standoff": 15
           },
           "zerolinecolor": "white",
           "zerolinewidth": 2
          },
          "yaxis": {
           "automargin": true,
           "gridcolor": "white",
           "linecolor": "white",
           "ticks": "",
           "title": {
            "standoff": 15
           },
           "zerolinecolor": "white",
           "zerolinewidth": 2
          }
         }
        },
        "width": 1400
       }
      }
     },
     "metadata": {},
     "output_type": "display_data"
    }
   ],
   "source": [
    "fig = px.treemap(skills_freq, \n",
    "                 path=[px.Constant('Proportion on languages and frameworks'), 'Group', 'Skill'], \n",
    "                 color_continuous_scale='deep',\n",
    "                 values='Freq',color='Freq')\n",
    "\n",
    "fig.update_layout(width=1400, height=700)\n",
    "\n",
    "fig.show()"
   ]
  },
  {
   "cell_type": "markdown",
   "id": "20d5ccf4",
   "metadata": {},
   "source": [
    "## Get the correlation between skills and Job title"
   ]
  },
  {
   "cell_type": "code",
   "execution_count": 50,
   "id": "d253e67e",
   "metadata": {},
   "outputs": [],
   "source": [
    "roles_skills = pd.DataFrame()\n",
    "roles_skills['DevType'] = df.explode('DevType')['DevType']\n",
    "roles_skills = pd.concat([roles_skills, encoded_tech], axis=1)  \n",
    "roles_skills.dropna(inplace=True)"
   ]
  },
  {
   "cell_type": "code",
   "execution_count": 51,
   "id": "875067f9",
   "metadata": {},
   "outputs": [
    {
     "data": {
      "text/html": [
       "<div>\n",
       "<style scoped>\n",
       "    .dataframe tbody tr th:only-of-type {\n",
       "        vertical-align: middle;\n",
       "    }\n",
       "\n",
       "    .dataframe tbody tr th {\n",
       "        vertical-align: top;\n",
       "    }\n",
       "\n",
       "    .dataframe thead th {\n",
       "        text-align: right;\n",
       "    }\n",
       "</style>\n",
       "<table border=\"1\" class=\"dataframe\">\n",
       "  <thead>\n",
       "    <tr style=\"text-align: right;\">\n",
       "      <th></th>\n",
       "      <th>.NET</th>\n",
       "      <th>.NET Core</th>\n",
       "      <th>ASP.NET</th>\n",
       "      <th>ASP.NET Core</th>\n",
       "      <th>Angular</th>\n",
       "      <th>Angular.js</th>\n",
       "      <th>Ansible</th>\n",
       "      <th>Apache Spark</th>\n",
       "      <th>Assembly</th>\n",
       "      <th>Bash/Shell/PowerShell</th>\n",
       "      <th>...</th>\n",
       "      <th>TensorFlow</th>\n",
       "      <th>Teraform</th>\n",
       "      <th>Torch/PyTorch</th>\n",
       "      <th>TypeScript</th>\n",
       "      <th>Unity 3D</th>\n",
       "      <th>Unreal Engine</th>\n",
       "      <th>VBA</th>\n",
       "      <th>Vue.js</th>\n",
       "      <th>Xamarin</th>\n",
       "      <th>jQuery</th>\n",
       "    </tr>\n",
       "    <tr>\n",
       "      <th>DevType</th>\n",
       "      <th></th>\n",
       "      <th></th>\n",
       "      <th></th>\n",
       "      <th></th>\n",
       "      <th></th>\n",
       "      <th></th>\n",
       "      <th></th>\n",
       "      <th></th>\n",
       "      <th></th>\n",
       "      <th></th>\n",
       "      <th></th>\n",
       "      <th></th>\n",
       "      <th></th>\n",
       "      <th></th>\n",
       "      <th></th>\n",
       "      <th></th>\n",
       "      <th></th>\n",
       "      <th></th>\n",
       "      <th></th>\n",
       "      <th></th>\n",
       "      <th></th>\n",
       "    </tr>\n",
       "  </thead>\n",
       "  <tbody>\n",
       "    <tr>\n",
       "      <th>Designer</th>\n",
       "      <td>0.292426</td>\n",
       "      <td>0.199211</td>\n",
       "      <td>0.207104</td>\n",
       "      <td>0.148092</td>\n",
       "      <td>0.228341</td>\n",
       "      <td>0.169329</td>\n",
       "      <td>0.037399</td>\n",
       "      <td>0.028378</td>\n",
       "      <td>0.070288</td>\n",
       "      <td>0.301823</td>\n",
       "      <td>...</td>\n",
       "      <td>0.061079</td>\n",
       "      <td>0.023492</td>\n",
       "      <td>0.024056</td>\n",
       "      <td>0.278707</td>\n",
       "      <td>0.104680</td>\n",
       "      <td>0.040218</td>\n",
       "      <td>0.095283</td>\n",
       "      <td>0.173088</td>\n",
       "      <td>0.062958</td>\n",
       "      <td>0.457433</td>\n",
       "    </tr>\n",
       "    <tr>\n",
       "      <th>Database administrator</th>\n",
       "      <td>0.353897</td>\n",
       "      <td>0.250961</td>\n",
       "      <td>0.268263</td>\n",
       "      <td>0.200280</td>\n",
       "      <td>0.196435</td>\n",
       "      <td>0.160783</td>\n",
       "      <td>0.080916</td>\n",
       "      <td>0.042642</td>\n",
       "      <td>0.068508</td>\n",
       "      <td>0.434114</td>\n",
       "      <td>...</td>\n",
       "      <td>0.068508</td>\n",
       "      <td>0.053128</td>\n",
       "      <td>0.027962</td>\n",
       "      <td>0.242398</td>\n",
       "      <td>0.074624</td>\n",
       "      <td>0.026739</td>\n",
       "      <td>0.134918</td>\n",
       "      <td>0.165851</td>\n",
       "      <td>0.073051</td>\n",
       "      <td>0.476582</td>\n",
       "    </tr>\n",
       "    <tr>\n",
       "      <th>Data scientist or machine learning specialist</th>\n",
       "      <td>0.172016</td>\n",
       "      <td>0.134403</td>\n",
       "      <td>0.111585</td>\n",
       "      <td>0.093781</td>\n",
       "      <td>0.126379</td>\n",
       "      <td>0.107573</td>\n",
       "      <td>0.060933</td>\n",
       "      <td>0.156971</td>\n",
       "      <td>0.075226</td>\n",
       "      <td>0.395687</td>\n",
       "      <td>...</td>\n",
       "      <td>0.379388</td>\n",
       "      <td>0.051655</td>\n",
       "      <td>0.198345</td>\n",
       "      <td>0.139920</td>\n",
       "      <td>0.066449</td>\n",
       "      <td>0.027583</td>\n",
       "      <td>0.093280</td>\n",
       "      <td>0.098295</td>\n",
       "      <td>0.035858</td>\n",
       "      <td>0.241725</td>\n",
       "    </tr>\n",
       "    <tr>\n",
       "      <th>Data or business analyst</th>\n",
       "      <td>0.284543</td>\n",
       "      <td>0.192594</td>\n",
       "      <td>0.206014</td>\n",
       "      <td>0.152833</td>\n",
       "      <td>0.144881</td>\n",
       "      <td>0.122266</td>\n",
       "      <td>0.045229</td>\n",
       "      <td>0.084990</td>\n",
       "      <td>0.058400</td>\n",
       "      <td>0.346918</td>\n",
       "      <td>...</td>\n",
       "      <td>0.136431</td>\n",
       "      <td>0.033549</td>\n",
       "      <td>0.057903</td>\n",
       "      <td>0.168489</td>\n",
       "      <td>0.051938</td>\n",
       "      <td>0.020129</td>\n",
       "      <td>0.189612</td>\n",
       "      <td>0.104374</td>\n",
       "      <td>0.053181</td>\n",
       "      <td>0.336481</td>\n",
       "    </tr>\n",
       "    <tr>\n",
       "      <th>Academic researcher</th>\n",
       "      <td>0.199887</td>\n",
       "      <td>0.136543</td>\n",
       "      <td>0.130349</td>\n",
       "      <td>0.096284</td>\n",
       "      <td>0.151182</td>\n",
       "      <td>0.116836</td>\n",
       "      <td>0.048423</td>\n",
       "      <td>0.062218</td>\n",
       "      <td>0.108390</td>\n",
       "      <td>0.367680</td>\n",
       "      <td>...</td>\n",
       "      <td>0.199043</td>\n",
       "      <td>0.030968</td>\n",
       "      <td>0.100225</td>\n",
       "      <td>0.157939</td>\n",
       "      <td>0.078829</td>\n",
       "      <td>0.029561</td>\n",
       "      <td>0.079673</td>\n",
       "      <td>0.112331</td>\n",
       "      <td>0.043919</td>\n",
       "      <td>0.298986</td>\n",
       "    </tr>\n",
       "  </tbody>\n",
       "</table>\n",
       "<p>5 rows × 74 columns</p>\n",
       "</div>"
      ],
      "text/plain": [
       "                                                   .NET  .NET Core   ASP.NET  \\\n",
       "DevType                                                                        \n",
       "Designer                                       0.292426   0.199211  0.207104   \n",
       "Database administrator                         0.353897   0.250961  0.268263   \n",
       "Data scientist or machine learning specialist  0.172016   0.134403  0.111585   \n",
       "Data or business analyst                       0.284543   0.192594  0.206014   \n",
       "Academic researcher                            0.199887   0.136543  0.130349   \n",
       "\n",
       "                                               ASP.NET Core   Angular  \\\n",
       "DevType                                                                 \n",
       "Designer                                           0.148092  0.228341   \n",
       "Database administrator                             0.200280  0.196435   \n",
       "Data scientist or machine learning specialist      0.093781  0.126379   \n",
       "Data or business analyst                           0.152833  0.144881   \n",
       "Academic researcher                                0.096284  0.151182   \n",
       "\n",
       "                                               Angular.js   Ansible  \\\n",
       "DevType                                                               \n",
       "Designer                                         0.169329  0.037399   \n",
       "Database administrator                           0.160783  0.080916   \n",
       "Data scientist or machine learning specialist    0.107573  0.060933   \n",
       "Data or business analyst                         0.122266  0.045229   \n",
       "Academic researcher                              0.116836  0.048423   \n",
       "\n",
       "                                               Apache Spark  Assembly  \\\n",
       "DevType                                                                 \n",
       "Designer                                           0.028378  0.070288   \n",
       "Database administrator                             0.042642  0.068508   \n",
       "Data scientist or machine learning specialist      0.156971  0.075226   \n",
       "Data or business analyst                           0.084990  0.058400   \n",
       "Academic researcher                                0.062218  0.108390   \n",
       "\n",
       "                                               Bash/Shell/PowerShell  ...  \\\n",
       "DevType                                                               ...   \n",
       "Designer                                                    0.301823  ...   \n",
       "Database administrator                                      0.434114  ...   \n",
       "Data scientist or machine learning specialist               0.395687  ...   \n",
       "Data or business analyst                                    0.346918  ...   \n",
       "Academic researcher                                         0.367680  ...   \n",
       "\n",
       "                                               TensorFlow  Teraform  \\\n",
       "DevType                                                               \n",
       "Designer                                         0.061079  0.023492   \n",
       "Database administrator                           0.068508  0.053128   \n",
       "Data scientist or machine learning specialist    0.379388  0.051655   \n",
       "Data or business analyst                         0.136431  0.033549   \n",
       "Academic researcher                              0.199043  0.030968   \n",
       "\n",
       "                                               Torch/PyTorch  TypeScript  \\\n",
       "DevType                                                                    \n",
       "Designer                                            0.024056    0.278707   \n",
       "Database administrator                              0.027962    0.242398   \n",
       "Data scientist or machine learning specialist       0.198345    0.139920   \n",
       "Data or business analyst                            0.057903    0.168489   \n",
       "Academic researcher                                 0.100225    0.157939   \n",
       "\n",
       "                                               Unity 3D  Unreal Engine  \\\n",
       "DevType                                                                  \n",
       "Designer                                       0.104680       0.040218   \n",
       "Database administrator                         0.074624       0.026739   \n",
       "Data scientist or machine learning specialist  0.066449       0.027583   \n",
       "Data or business analyst                       0.051938       0.020129   \n",
       "Academic researcher                            0.078829       0.029561   \n",
       "\n",
       "                                                    VBA    Vue.js   Xamarin  \\\n",
       "DevType                                                                       \n",
       "Designer                                       0.095283  0.173088  0.062958   \n",
       "Database administrator                         0.134918  0.165851  0.073051   \n",
       "Data scientist or machine learning specialist  0.093280  0.098295  0.035858   \n",
       "Data or business analyst                       0.189612  0.104374  0.053181   \n",
       "Academic researcher                            0.079673  0.112331  0.043919   \n",
       "\n",
       "                                                 jQuery  \n",
       "DevType                                                  \n",
       "Designer                                       0.457433  \n",
       "Database administrator                         0.476582  \n",
       "Data scientist or machine learning specialist  0.241725  \n",
       "Data or business analyst                       0.336481  \n",
       "Academic researcher                            0.298986  \n",
       "\n",
       "[5 rows x 74 columns]"
      ]
     },
     "execution_count": 51,
     "metadata": {},
     "output_type": "execute_result"
    }
   ],
   "source": [
    "skills_table = pd.pivot_table(data=roles_skills, index=['DevType'])\n",
    "skills_table.head().sort_index(ascending=False)"
   ]
  },
  {
   "cell_type": "code",
   "execution_count": 52,
   "metadata": {},
   "outputs": [
    {
     "data": {
      "application/vnd.plotly.v1+json": {
       "config": {
        "plotlyServerURL": "https://plot.ly"
       },
       "data": [
        {
         "colorscale": [
          [
           0,
           "#000004"
          ],
          [
           0.1111111111111111,
           "#180f3d"
          ],
          [
           0.2222222222222222,
           "#440f76"
          ],
          [
           0.3333333333333333,
           "#721f81"
          ],
          [
           0.4444444444444444,
           "#9e2f7f"
          ],
          [
           0.5555555555555556,
           "#cd4071"
          ],
          [
           0.6666666666666666,
           "#f1605d"
          ],
          [
           0.7777777777777778,
           "#fd9668"
          ],
          [
           0.8888888888888888,
           "#feca8d"
          ],
          [
           1,
           "#fcfdbf"
          ]
         ],
         "type": "heatmap",
         "x": [
          ".NET",
          ".NET Core",
          "ASP.NET",
          "ASP.NET Core",
          "Angular",
          "Angular.js",
          "Ansible",
          "Apache Spark",
          "Assembly",
          "Bash/Shell/PowerShell",
          "C",
          "C#",
          "C++",
          "Cassandra",
          "Chef",
          "Cordova",
          "Couchbase",
          "Dart",
          "Django",
          "Drupal",
          "DynamoDB",
          "Elasticsearch",
          "Express",
          "Firebase",
          "Flask",
          "Flutter",
          "Gatsby",
          "Go",
          "HTML/CSS",
          "Hadoop",
          "Haskell",
          "IBM DB2",
          "Java",
          "JavaScript",
          "Julia",
          "Keras",
          "Kotlin",
          "Laravel",
          "MariaDB",
          "Microsoft SQL Server",
          "MongoDB",
          "MySQL",
          "Node.js",
          "Objective-C",
          "Oracle",
          "PHP",
          "Pandas",
          "Perl",
          "PostgreSQL",
          "Puppet",
          "Python",
          "R",
          "React Native",
          "React.js",
          "Redis",
          "Ruby",
          "Ruby on Rails",
          "Rust",
          "SQL",
          "SQLite",
          "Scala",
          "Spring",
          "Swift",
          "Symfony",
          "TensorFlow",
          "Teraform",
          "Torch/PyTorch",
          "TypeScript",
          "Unity 3D",
          "Unreal Engine",
          "VBA",
          "Vue.js",
          "Xamarin",
          "jQuery"
         ],
         "y": [
          "Academic researcher",
          "Data or business analyst",
          "Data scientist or machine learning specialist",
          "Database administrator",
          "Designer",
          "DevOps specialist",
          "Developer, QA or test",
          "Developer, back-end",
          "Developer, desktop or enterprise applications",
          "Developer, embedded applications or devices",
          "Developer, front-end",
          "Developer, full-stack",
          "Developer, game or graphics",
          "Developer, mobile",
          "Educator",
          "Engineer, data",
          "Engineer, site reliability",
          "Engineering manager",
          "Marketing or sales professional",
          "Product manager",
          "Scientist",
          "Senior executive/VP",
          "System administrator"
         ],
         "ygap": 2,
         "z": [
          [
           0.1998873873873874,
           0.1365427927927928,
           0.13034909909909909,
           0.09628378378378379,
           0.15118243243243243,
           0.11683558558558559,
           0.04842342342342342,
           0.06221846846846847,
           0.10838963963963964,
           0.36768018018018017,
           0.33164414414414417,
           0.24239864864864866,
           0.36768018018018017,
           0.03800675675675676,
           0.015202702702702704,
           0.051238738738738736,
           0.025056306306306307,
           0.04110360360360361,
           0.13992117117117117,
           0.032939189189189186,
           0.04560810810810811,
           0.0990990990990991,
           0.11796171171171171,
           0.12528153153153154,
           0.14076576576576577,
           0.05574324324324324,
           0.02533783783783784,
           0.0785472972972973,
           0.5346283783783784,
           0.05799549549549549,
           0.04504504504504504,
           0.030405405405405407,
           0.39864864864864863,
           0.5419481981981982,
           0.04335585585585586,
           0.13147522522522523,
           0.06587837837837837,
           0.09121621621621621,
           0.16019144144144143,
           0.22804054054054054,
           0.23170045045045046,
           0.47015765765765766,
           0.2829391891891892,
           0.04870495495495496,
           0.1356981981981982,
           0.25788288288288286,
           0.2511261261261261,
           0.05405405405405406,
           0.30236486486486486,
           0.021114864864864864,
           0.5903716216216216,
           0.17989864864864866,
           0.07573198198198199,
           0.18862612612612611,
           0.12443693693693694,
           0.06925675675675676,
           0.05405405405405406,
           0.0678490990990991,
           0.4670608108108108,
           0.32742117117117114,
           0.04983108108108108,
           0.11120495495495496,
           0.05630630630630631,
           0.03350225225225225,
           0.1990427927927928,
           0.030968468468468468,
           0.10022522522522523,
           0.1579391891891892,
           0.07882882882882883,
           0.02956081081081081,
           0.07967342342342343,
           0.11233108108108109,
           0.04391891891891892,
           0.2989864864864865
          ],
          [
           0.2845427435387674,
           0.1925944333996024,
           0.20601391650099404,
           0.15283300198807157,
           0.1448807157057654,
           0.12226640159045726,
           0.045228628230616304,
           0.08499005964214712,
           0.05839960238568589,
           0.34691848906560635,
           0.1754473161033797,
           0.316351888667992,
           0.18961232604373757,
           0.0352882703777336,
           0.019880715705765408,
           0.04796222664015905,
           0.02385685884691849,
           0.031560636182902585,
           0.13543737574552683,
           0.03827037773359841,
           0.05666003976143141,
           0.11456262425447317,
           0.10636182902584493,
           0.09542743538767395,
           0.1441351888667992,
           0.043986083499005964,
           0.022614314115308152,
           0.06312127236580517,
           0.5897117296222664,
           0.07952286282306163,
           0.02360834990059642,
           0.055168986083499,
           0.31088469184890655,
           0.5755467196819085,
           0.018638170974155068,
           0.0775347912524851,
           0.04920477137176938,
           0.08623260437375746,
           0.16575546719681908,
           0.45800198807157055,
           0.19905566600397614,
           0.49652087475149104,
           0.27907554671968193,
           0.036779324055666,
           0.22390656063618292,
           0.25894632206759444,
           0.2698807157057654,
           0.04970178926441352,
           0.34095427435387676,
           0.023111332007952286,
           0.5323061630218688,
           0.1893638170974155,
           0.06535785288270378,
           0.17271371769383698,
           0.11928429423459244,
           0.061630218687872766,
           0.04920477137176938,
           0.03354870775347912,
           0.7345924453280318,
           0.3066600397614314,
           0.04473161033797217,
           0.08722664015904573,
           0.04150099403578529,
           0.03653081510934394,
           0.13643141153081512,
           0.03354870775347912,
           0.057902584493041746,
           0.16848906560636182,
           0.051938369781312124,
           0.020129224652087475,
           0.18961232604373757,
           0.10437375745526839,
           0.053180914512922464,
           0.3364811133200795
          ],
          [
           0.1720160481444333,
           0.13440320962888666,
           0.11158475426278837,
           0.09378134403209629,
           0.12637913741223672,
           0.10757271815446338,
           0.060932798395185554,
           0.15697091273821465,
           0.07522567703109329,
           0.3956870611835506,
           0.25050150451354064,
           0.2133901705115346,
           0.2978936810431294,
           0.05441323971915747,
           0.020812437311935807,
           0.03761283851554664,
           0.02357071213640923,
           0.033600802407221665,
           0.19132397191574724,
           0.028335005015045135,
           0.070962888665998,
           0.1557171514543631,
           0.1078234704112337,
           0.09954864593781344,
           0.264543630892678,
           0.04789368104312939,
           0.02683049147442327,
           0.09553660982948846,
           0.48244734202607825,
           0.12963891675025074,
           0.0366098294884654,
           0.03786359077231695,
           0.3505516549648947,
           0.48269809428284854,
           0.042377131394182546,
           0.272567703109328,
           0.05917753259779338,
           0.062186559679037114,
           0.13665997993981946,
           0.272567703109328,
           0.25827482447342026,
           0.46263791374122365,
           0.2565195586760281,
           0.03811434302908726,
           0.16098294884653963,
           0.18004012036108324,
           0.5007522567703109,
           0.044132397191574725,
           0.39117352056168503,
           0.02432296890672016,
           0.7833500501504513,
           0.27632898696088265,
           0.07246740220661986,
           0.18756268806419257,
           0.15220661985957873,
           0.0641925777331996,
           0.04663991975927784,
           0.062186559679037114,
           0.5845035105315948,
           0.33450351053159477,
           0.08375125376128385,
           0.09553660982948846,
           0.04689067201604814,
           0.028084252758274825,
           0.37938816449348045,
           0.051654964894684054,
           0.19834503510531595,
           0.1399197592778335,
           0.0664493480441324,
           0.027582748244734202,
           0.09327983951855567,
           0.09829488465396188,
           0.035857572718154464,
           0.24172517552657974
          ],
          [
           0.35389723872771756,
           0.2509612023767913,
           0.2682628451590353,
           0.20027962250961204,
           0.1964348130024467,
           0.16078294302691368,
           0.08091576371897938,
           0.04264243271583362,
           0.06850751485494583,
           0.4341139461726669,
           0.1918909472212513,
           0.4038797623208668,
           0.20447396015379238,
           0.03670045438657812,
           0.022719328905976933,
           0.06780845858091576,
           0.026389374344634745,
           0.042292904578818596,
           0.12111149947570779,
           0.045962950017476405,
           0.06815798671793079,
           0.14872422229989515,
           0.15798671793079344,
           0.12320866829779797,
           0.11464522894092974,
           0.05522544564837469,
           0.027787486892694863,
           0.10013981125480602,
           0.7306885704299196,
           0.03862285914016078,
           0.02009786787836421,
           0.04037049982523593,
           0.3504019573575673,
           0.7427472911569382,
           0.009262495630898288,
           0.02883607130373995,
           0.06291506466270534,
           0.15379238028661307,
           0.27455435162530584,
           0.4601537923802866,
           0.23593149248514506,
           0.594023068857043,
           0.3867528836071304,
           0.0517301642782244,
           0.18175463124781546,
           0.41506466270534775,
           0.10013981125480602,
           0.0623907724571828,
           0.3718979377839916,
           0.029010835372247464,
           0.4224047535826634,
           0.06274030059419783,
           0.09140160782943027,
           0.22859140160782943,
           0.19975533030408948,
           0.07444949318420133,
           0.05522544564837469,
           0.045263893743446346,
           0.8007689619014331,
           0.32523593149248514,
           0.030408947920307586,
           0.09664452988465572,
           0.05924501922404753,
           0.06256553652569032,
           0.06850751485494583,
           0.053128276826284515,
           0.027962250961202376,
           0.2423977630199231,
           0.07462425725270884,
           0.026738902481649774,
           0.13491786088780147,
           0.1658511010136316,
           0.07305138063614121,
           0.476581614819993
          ],
          [
           0.2924262356699868,
           0.19921067468520956,
           0.20710392783311407,
           0.14809246382258973,
           0.22834053749295244,
           0.16932907348242812,
           0.0373989851531667,
           0.02837812441270438,
           0.07028753993610223,
           0.30182296560796845,
           0.22533358391279834,
           0.3508738958842323,
           0.24130802480736704,
           0.025559105431309903,
           0.015410637098289794,
           0.06972373613982334,
           0.022364217252396165,
           0.04961473407254276,
           0.10129674873144145,
           0.047735388084946435,
           0.049990603270062016,
           0.0885171960157865,
           0.18248449539560233,
           0.1650065777109566,
           0.0783687276827664,
           0.06897199774478481,
           0.04698364968990791,
           0.06558917496711145,
           0.7487314414583724,
           0.024995301635031008,
           0.01935726367224206,
           0.034579966171772225,
           0.35895508363089645,
           0.7598195827851908,
           0.009208795339221951,
           0.02180041345611727,
           0.07103927833114076,
           0.12666791956399173,
           0.1853035143769968,
           0.3277579402367976,
           0.23003194888178913,
           0.5519639165570381,
           0.41890622063521893,
           0.05713211802292802,
           0.1526028941928209,
           0.37981582409321557,
           0.06483743657207292,
           0.04134561172711896,
           0.25803420409697425,
           0.02161247885735764,
           0.35951888742717536,
           0.04491636910355196,
           0.11069347866942304,
           0.29017102048487126,
           0.11445217064461567,
           0.06840819394850592,
           0.05299755685021613,
           0.036083442961849274,
           0.5880473595188874,
           0.299003946626574,
           0.018793459875963165,
           0.09302762638601766,
           0.0747979703063334,
           0.04134561172711896,
           0.061078744596880286,
           0.023491824844953955,
           0.02405562864123285,
           0.2787070099605337,
           0.10467957150911483,
           0.04021800413456117,
           0.09528284157113324,
           0.17308776545762075,
           0.0629580905844766,
           0.45743281338094344
          ],
          [
           0.287987937678003,
           0.26687887418328027,
           0.20924778019768805,
           0.2204724409448819,
           0.23370748869157312,
           0.15412966996146757,
           0.2085776511978556,
           0.0524375942368906,
           0.05327525548668119,
           0.5868654716032836,
           0.17574133020606467,
           0.3513151281621712,
           0.18261015245434747,
           0.05846875523538281,
           0.05277265873680684,
           0.05763109398559223,
           0.03534930474116267,
           0.03769475624057631,
           0.1363712514659072,
           0.03886748199028313,
           0.13838163846540458,
           0.2700619869324845,
           0.18445300720388674,
           0.10956609147260847,
           0.15915563746021108,
           0.04875188473781203,
           0.03886748199028313,
           0.19919584520020103,
           0.6270732115932317,
           0.04741162673814709,
           0.024794772993801308,
           0.03668956274082761,
           0.38431898140392023,
           0.7029653208242587,
           0.009884402747528899,
           0.037862288490534426,
           0.08175573797956107,
           0.09130507622717374,
           0.23203216619199196,
           0.35918914391020274,
           0.2938515664265371,
           0.48433573462891605,
           0.43457865639135534,
           0.04087786898978053,
           0.1583179762104205,
           0.26553861618361535,
           0.10722063997319484,
           0.06349472273412632,
           0.45049422013737644,
           0.057128497235717876,
           0.5176746523705813,
           0.04288825598927794,
           0.08828949572792763,
           0.2876528731780868,
           0.3283632099179092,
           0.12079075221980232,
           0.07287652873178087,
           0.0732115932316971,
           0.6305913888423521,
           0.2988775339252806,
           0.05411291673647177,
           0.16334394370916402,
           0.048919416987770144,
           0.05428044898642989,
           0.07823756073044061,
           0.17440107220639972,
           0.02680515999329871,
           0.32166191991958454,
           0.0613168034846708,
           0.020606466744848385,
           0.058803819735299044,
           0.16736471770815883,
           0.053945384486513655,
           0.33690735466577315
          ],
          [
           0.315682797061059,
           0.24220927286546745,
           0.2128198631872308,
           0.18191031162908539,
           0.22194071446668356,
           0.17101596148973905,
           0.07347352419559158,
           0.03749683303775019,
           0.06865974157588041,
           0.42386622751456804,
           0.2156067899670636,
           0.38358246769698506,
           0.2343552064859387,
           0.03470990625791741,
           0.02482898403851026,
           0.06485938687610844,
           0.025842411958449454,
           0.041550544717506965,
           0.11147707119331138,
           0.04459082847732455,
           0.07575373701545478,
           0.15252090195084875,
           0.1618951102102863,
           0.13757284013174562,
           0.10615657461363061,
           0.054218393716746895,
           0.030149480618191032,
           0.10134279199391943,
           0.6724094248796554,
           0.032936407398023816,
           0.022802128198631873,
           0.037243476057765394,
           0.43374714973397516,
           0.7154801114770712,
           0.013681276919179123,
           0.02837598175829744,
           0.0879148720547251,
           0.11147707119331138,
           0.1950848745882949,
           0.3539397010387636,
           0.24423612870534583,
           0.5252090195084874,
           0.4068913098555865,
           0.05649860653661008,
           0.18267038256903978,
           0.30833544464149987,
           0.08538130225487713,
           0.05903217633645807,
           0.3318976437800861,
           0.03217633645806942,
           0.44210793007347354,
           0.04079047377755257,
           0.09095515581454269,
           0.25918419052444897,
           0.17329617430960223,
           0.09602229541423866,
           0.06435267291613884,
           0.05117810995692931,
           0.6338991639219661,
           0.3159361540410438,
           0.03775019001773499,
           0.14694704839118317,
           0.06663288573600203,
           0.050924752976944515,
           0.06764631365594122,
           0.05573853559665569,
           0.025842411958449454,
           0.27793260704332406,
           0.08715480111477071,
           0.03166962249809982,
           0.0899417278946035,
           0.15150747403090956,
           0.06257917405624525,
           0.38484925259690905
          ],
          [
           0.2772513588952549,
           0.2262009695901278,
           0.1986190686058469,
           0.18168796826795947,
           0.20761715880711032,
           0.13478771852504776,
           0.0669164095783752,
           0.03926105479653298,
           0.04745115322462171,
           0.3571323637432055,
           0.1717349786983987,
           0.34023799030409874,
           0.19244894961069486,
           0.03782870574408697,
           0.01604965476715146,
           0.04712061113559571,
           0.020603790215954165,
           0.034045835169678275,
           0.11223740267371823,
           0.027030997502570882,
           0.07841192889672396,
           0.16101072425444396,
           0.16203907742030263,
           0.10783017482003819,
           0.11106214191273689,
           0.043925370941677686,
           0.026516820919641547,
           0.11146613779932422,
           0.6138901131188482,
           0.0331276627001616,
           0.020016159835463492,
           0.02743499338915822,
           0.3984868517702365,
           0.6939180255619215,
           0.005619215513442045,
           0.03114441016600558,
           0.07271925958572058,
           0.10327603937123549,
           0.17412222711914205,
           0.3290362861759953,
           0.2463273101219333,
           0.49397678859997063,
           0.3755692669311003,
           0.034009108270897606,
           0.15715439988247393,
           0.2814382253562509,
           0.08939327163214338,
           0.03514764213309828,
           0.3695093286322903,
           0.019869252240340824,
           0.39867048626413987,
           0.035735272513588955,
           0.07973409725282797,
           0.2623402379903041,
           0.2177537828705744,
           0.07988100484795065,
           0.05935066842955781,
           0.05417217570148377,
           0.6137432055237255,
           0.2703099750257088,
           0.04631261936242104,
           0.16369178786543265,
           0.045394446892904367,
           0.043815190245335686,
           0.06335390039665051,
           0.057918319377111796,
           0.022770677244013514,
           0.27838989275745557,
           0.062178639635669164,
           0.01777581900984281,
           0.057183781401498456,
           0.14297781695313647,
           0.04715733803437638,
           0.3554796532980755
          ],
          [
           0.4558723693143245,
           0.3329938900203666,
           0.2861507128309572,
           0.2519517990495587,
           0.22284453496266124,
           0.14867617107942974,
           0.04217583163611677,
           0.028428377460964018,
           0.0673794976238968,
           0.36210115410726407,
           0.2287847929395791,
           0.5133231500339444,
           0.2813136456211813,
           0.027155465037338764,
           0.012983706720977596,
           0.056093007467752885,
           0.021978954514596062,
           0.03699932111337407,
           0.07781737949762389,
           0.023167006109979633,
           0.0518499660556687,
           0.11074338085539714,
           0.1281398506449423,
           0.10140868974881195,
           0.0773082145281738,
           0.04760692464358452,
           0.018584521384928717,
           0.07909029192124915,
           0.6131194840461643,
           0.026476578411405296,
           0.018499660556687034,
           0.03920570264765784,
           0.4073319755600815,
           0.6569925322471147,
           0.00721317040054311,
           0.026391717583163613,
           0.06907671418873049,
           0.06839782756279701,
           0.14850644942294636,
           0.45137474541751527,
           0.2038357094365241,
           0.43737270875763745,
           0.3371520706042091,
           0.05066191446028513,
           0.20086558044806518,
           0.22174134419551936,
           0.06916157501697216,
           0.03699932111337407,
           0.2914969450101833,
           0.017566191446028515,
           0.3610828241683639,
           0.0363204344874406,
           0.0741683638832315,
           0.21452817379497624,
           0.13441955193482688,
           0.05337746096401901,
           0.03513238289205703,
           0.05371690427698574,
           0.6202477936184657,
           0.3155125594025798,
           0.03054989816700611,
           0.1508825526137135,
           0.05762050237610319,
           0.028428377460964018,
           0.058723693143245076,
           0.03250169721656483,
           0.02096062457569586,
           0.28301086218601496,
           0.08630346232179226,
           0.02774949083503055,
           0.10123896809232859,
           0.1161744738628649,
           0.08621860149355058,
           0.3542939579090292
          ],
          [
           0.32610526315789473,
           0.24084210526315789,
           0.1911578947368421,
           0.1656842105263158,
           0.18821052631578947,
           0.1454736842105263,
           0.057473684210526316,
           0.03494736842105263,
           0.15389473684210525,
           0.4397894736842105,
           0.4789473684210526,
           0.3833684210526316,
           0.4747368421052632,
           0.03663157894736842,
           0.01831578947368421,
           0.07284210526315789,
           0.028,
           0.05663157894736842,
           0.10547368421052632,
           0.02926315789473684,
           0.06421052631578947,
           0.10042105263157895,
           0.13094736842105262,
           0.1336842105263158,
           0.10821052631578948,
           0.07178947368421053,
           0.024842105263157895,
           0.10778947368421053,
           0.5410526315789473,
           0.030947368421052633,
           0.02863157894736842,
           0.03494736842105263,
           0.39831578947368423,
           0.5837894736842105,
           0.01263157894736842,
           0.047578947368421054,
           0.09284210526315789,
           0.08063157894736842,
           0.17494736842105263,
           0.3058947368421053,
           0.20968421052631578,
           0.4503157894736842,
           0.34,
           0.0871578947368421,
           0.15073684210526317,
           0.25157894736842107,
           0.09284210526315789,
           0.05642105263157895,
           0.29957894736842106,
           0.02168421052631579,
           0.5027368421052631,
           0.043789473684210524,
           0.09178947368421053,
           0.19747368421052633,
           0.14526315789473684,
           0.07178947368421053,
           0.04905263157894737,
           0.09031578947368421,
           0.49557894736842106,
           0.38821052631578945,
           0.03136842105263158,
           0.10505263157894737,
           0.09263157894736843,
           0.037263157894736845,
           0.10442105263157894,
           0.03452631578947368,
           0.03894736842105263,
           0.22526315789473683,
           0.10063157894736842,
           0.037894736842105266,
           0.09494736842105263,
           0.12021052631578948,
           0.09010526315789473,
           0.3048421052631579
          ],
          [
           0.27169873196327066,
           0.21523830345430695,
           0.20529077393965894,
           0.17539352864013993,
           0.28377787494534323,
           0.18031263664188893,
           0.039516834280717096,
           0.0204962833406209,
           0.039735461303017056,
           0.29334280717096634,
           0.14675338871884566,
           0.3354285089637079,
           0.1604722343681679,
           0.02109750765194578,
           0.010439440314822912,
           0.07121775251421075,
           0.018419326628771316,
           0.04394403148229121,
           0.09368167905553126,
           0.034707039790118056,
           0.060067774376912984,
           0.11368605159597726,
           0.2304875382597289,
           0.15828596414516835,
           0.07804984696108438,
           0.057280279842588544,
           0.053290336685614344,
           0.07542632269348491,
           0.7831219938784434,
           0.017654132050721468,
           0.016178399650196764,
           0.023611718408395276,
           0.33728683865325754,
           0.840128989943157,
           0.004481853957149104,
           0.021425448185395716,
           0.06711849584608658,
           0.11472452995190205,
           0.16708570179274157,
           0.31383909051158726,
           0.26929383471797114,
           0.5084171403585483,
           0.4936051595977263,
           0.043288150415391344,
           0.13609532138172278,
           0.32624617402710976,
           0.05596851770878881,
           0.026125929164844776,
           0.3090839527765632,
           0.01579580236117184,
           0.3129645824223874,
           0.029514648010494096,
           0.1276235242675995,
           0.40107127240926976,
           0.1640249234805422,
           0.0725295146480105,
           0.057116309575863576,
           0.038860953213817225,
           0.5639484040227372,
           0.25912767818102317,
           0.022955837341495408,
           0.11636423261915173,
           0.05875601224311325,
           0.04257761259291649,
           0.050120244862264976,
           0.03219282903366856,
           0.015686488850021864,
           0.390194578049847,
           0.07362264975951027,
           0.021042850896370792,
           0.0634564932225623,
           0.19266506340183648,
           0.05378224748578924,
           0.4356689986882379
          ],
          [
           0.29423041474654377,
           0.24287557603686635,
           0.2255115207373272,
           0.2046820276497696,
           0.2670230414746544,
           0.16943778801843318,
           0.05393548387096774,
           0.02790783410138249,
           0.03845161290322581,
           0.3350046082949309,
           0.14422119815668202,
           0.36376036866359446,
           0.16250691244239632,
           0.0279815668202765,
           0.014414746543778802,
           0.06016589861751152,
           0.019944700460829492,
           0.03911520737327189,
           0.10665437788018434,
           0.030414746543778803,
           0.07472811059907834,
           0.14381566820276498,
           0.2192442396313364,
           0.1312442396313364,
           0.10031336405529954,
           0.05172350230414747,
           0.041732718894009216,
           0.09209216589861752,
           0.7378433179723503,
           0.023483870967741936,
           0.016921658986175116,
           0.026470046082949308,
           0.36781566820276496,
           0.8199078341013825,
           0.005124423963133641,
           0.026764976958525345,
           0.06705990783410139,
           0.11163133640552995,
           0.17142857142857143,
           0.34827649769585256,
           0.271889400921659,
           0.5022672811059908,
           0.4734009216589862,
           0.0344331797235023,
           0.14816589861751153,
           0.3031152073732719,
           0.07498617511520737,
           0.028829493087557605,
           0.360221198156682,
           0.017253456221198157,
           0.36202764976958524,
           0.03288479262672811,
           0.10694930875576036,
           0.36228571428571427,
           0.20903225806451614,
           0.08468202764976958,
           0.06731797235023042,
           0.044976958525345626,
           0.6204608294930876,
           0.26392626728110596,
           0.031889400921658984,
           0.1497511520737327,
           0.04836866359447005,
           0.04313364055299539,
           0.05769585253456221,
           0.04748387096774193,
           0.019649769585253458,
           0.3723502304147465,
           0.0647373271889401,
           0.01824884792626728,
           0.05776958525345622,
           0.1800184331797235,
           0.05131797235023042,
           0.4208663594470046
          ],
          [
           0.36966654714951597,
           0.27895302975977054,
           0.1860882036572248,
           0.16278235926855503,
           0.18644675510935818,
           0.13553244890641808,
           0.045536034420939404,
           0.031911079239870924,
           0.11939763356041593,
           0.3535317318035138,
           0.3133739691645751,
           0.535317318035138,
           0.4259591251344568,
           0.026532807457870206,
           0.020078881319469343,
           0.0760129078522768,
           0.030118321979204016,
           0.060953746862674796,
           0.102545715310147,
           0.03657224811760488,
           0.06704912154894227,
           0.09824309788454644,
           0.17999282897095734,
           0.16780207959842236,
           0.09680889207601291,
           0.08103262818214414,
           0.03728935102187164,
           0.10326281821441377,
           0.62459662961635,
           0.030476873431337398,
           0.03155252778773754,
           0.026174256005736824,
           0.4137683757619218,
           0.6722839727500897,
           0.013983506633201864,
           0.042309071351738975,
           0.10039440659734672,
           0.095016134815346,
           0.18142703477949085,
           0.2678379347436357,
           0.24632484761563284,
           0.4804589458587307,
           0.4123341699533883,
           0.10147006095374686,
           0.13409824309788454,
           0.3036930799569738,
           0.07565435640014342,
           0.03872355683040516,
           0.27321620652563644,
           0.024022947292936535,
           0.43850842595912515,
           0.04195051989960559,
           0.12190749372534959,
           0.27142344926496953,
           0.15059160989602008,
           0.08031552527787737,
           0.058085335245607744,
           0.10362136966654716,
           0.49264969523126567,
           0.3395482251703119,
           0.032628182144137687,
           0.09358192900681248,
           0.09788454643241305,
           0.04697024022947293,
           0.09465758336321262,
           0.04051631409107207,
           0.03513804230907135,
           0.28074578702043745,
           0.43097884546432413,
           0.16098960200788814,
           0.0760129078522768,
           0.16134815346002152,
           0.08246683399067767,
           0.34313373969164573
          ],
          [
           0.26102088167053367,
           0.20702383463404345,
           0.18519299725796246,
           0.15977641847711455,
           0.2254798565703438,
           0.14764817549040288,
           0.030478801940518878,
           0.021619911411094705,
           0.05357519510651761,
           0.26323560430288967,
           0.1952119805948112,
           0.34096182240033746,
           0.22516346762286438,
           0.0227800042185193,
           0.010651761231807635,
           0.11020881670533643,
           0.023096393165998735,
           0.1127399282851719,
           0.0920691837165155,
           0.02773676439569711,
           0.06116852984602405,
           0.09586585108626872,
           0.19721577726218098,
           0.28685931238135415,
           0.07456232862265345,
           0.14226956338325247,
           0.03374815439780637,
           0.07403501371018772,
           0.6069394642480489,
           0.019510651761231807,
           0.014975743514026576,
           0.022041763341067284,
           0.4944104619278633,
           0.6664205863741827,
           0.005484075089643535,
           0.02815861632566969,
           0.20934402024889265,
           0.110630668635309,
           0.1585108626871968,
           0.2811643113267243,
           0.2507909723686986,
           0.5034802784222738,
           0.4082472052309639,
           0.14923012022780005,
           0.12507909723686986,
           0.2933980172959291,
           0.05526260282640793,
           0.024151022990930183,
           0.2754693102720945,
           0.014975743514026576,
           0.31195950221472263,
           0.02963509808057372,
           0.1970048512971947,
           0.3024678337903396,
           0.14047669268086901,
           0.07087112423539338,
           0.05199325036912044,
           0.03459185825775153,
           0.5028475005273149,
           0.4335583210293187,
           0.02214722632356043,
           0.11970048512971947,
           0.21145327989875554,
           0.03627926597764185,
           0.07034380932292765,
           0.02858046825564227,
           0.020987133516135837,
           0.2996203332630247,
           0.11126344653026787,
           0.03290445053786121,
           0.05389158405399705,
           0.13636363636363635,
           0.11569289179497996,
           0.33769246994304997
          ],
          [
           0.25136612021857924,
           0.18237704918032788,
           0.1635928961748634,
           0.13866120218579234,
           0.2032103825136612,
           0.14685792349726776,
           0.06762295081967214,
           0.045423497267759565,
           0.09562841530054644,
           0.3818306010928962,
           0.2537568306010929,
           0.2957650273224044,
           0.2773224043715847,
           0.0351775956284153,
           0.022882513661202187,
           0.0703551912568306,
           0.027663934426229508,
           0.056010928961748634,
           0.13114754098360656,
           0.0467896174863388,
           0.06796448087431695,
           0.12295081967213115,
           0.18954918032786885,
           0.16188524590163936,
           0.12090163934426229,
           0.0741120218579235,
           0.044740437158469946,
           0.09084699453551913,
           0.6680327868852459,
           0.03927595628415301,
           0.042008196721311473,
           0.03790983606557377,
           0.399931693989071,
           0.6840846994535519,
           0.02185792349726776,
           0.055327868852459015,
           0.09870218579234973,
           0.11441256830601093,
           0.21311475409836064,
           0.289275956284153,
           0.26400273224043713,
           0.5385928961748634,
           0.3958333333333333,
           0.05976775956284153,
           0.15881147540983606,
           0.32991803278688525,
           0.12978142076502733,
           0.05669398907103825,
           0.34187158469945356,
           0.028346994535519126,
           0.4525273224043716,
           0.09221311475409837,
           0.11441256830601093,
           0.2786885245901639,
           0.1687158469945355,
           0.08777322404371585,
           0.06489071038251366,
           0.05669398907103825,
           0.5662568306010929,
           0.3480191256830601,
           0.041325136612021855,
           0.13524590163934427,
           0.06864754098360656,
           0.054986338797814206,
           0.10758196721311475,
           0.0467896174863388,
           0.04337431693989071,
           0.26331967213114754,
           0.0942622950819672,
           0.03381147540983607,
           0.08435792349726776,
           0.1523224043715847,
           0.05942622950819672,
           0.37363387978142076
          ],
          [
           0.2174959871589085,
           0.16934189406099517,
           0.14526484751203853,
           0.12413055109684323,
           0.15302300695559123,
           0.12867843766720172,
           0.08507223113964688,
           0.1746923488496522,
           0.07276618512573568,
           0.4390048154093098,
           0.2298020331728197,
           0.2664526484751204,
           0.23809523809523808,
           0.0749063670411985,
           0.023542001070090957,
           0.045211342964151954,
           0.03504547886570358,
           0.03237025147137507,
           0.16559657570893527,
           0.03210272873194221,
           0.10112359550561797,
           0.20278223649010166,
           0.13456393793472446,
           0.1120920278223649,
           0.2236490101658641,
           0.045746388443017656,
           0.027822364901016586,
           0.11797752808988764,
           0.5259497057249867,
           0.14686998394863562,
           0.02835741037988229,
           0.04333868378812199,
           0.4044943820224719,
           0.5690208667736758,
           0.02247191011235955,
           0.10914927768860354,
           0.0671482075976458,
           0.07784911717495988,
           0.16613162118780098,
           0.344836811128946,
           0.27314071696094167,
           0.4967897271268058,
           0.31942215088282505,
           0.04360620652755484,
           0.18726591760299627,
           0.22953451043338685,
           0.32530765115034777,
           0.05778491171749599,
           0.44034242910647403,
           0.028089887640449437,
           0.6508828250401284,
           0.13857677902621723,
           0.07410379882289994,
           0.21187800963081863,
           0.21910112359550563,
           0.07811663991439273,
           0.05591225254146603,
           0.058587479935794544,
           0.6717495987158909,
           0.32102728731942215,
           0.12680577849117175,
           0.14018191546281433,
           0.04628143392188336,
           0.04226859283039058,
           0.17415730337078653,
           0.08801498127340825,
           0.08079186730872125,
           0.18432316746923488,
           0.06821829855537721,
           0.02701979668271803,
           0.1115569823434992,
           0.1198501872659176,
           0.04735152487961477,
           0.29507758159443553
          ],
          [
           0.2036082474226804,
           0.1902061855670103,
           0.14484536082474228,
           0.14896907216494845,
           0.18041237113402062,
           0.15257731958762888,
           0.261340206185567,
           0.07422680412371134,
           0.07628865979381444,
           0.6149484536082475,
           0.20670103092783504,
           0.261340206185567,
           0.21494845360824744,
           0.088659793814433,
           0.08041237113402062,
           0.051030927835051546,
           0.0365979381443299,
           0.042783505154639176,
           0.1634020618556701,
           0.052061855670103095,
           0.18402061855670104,
           0.33762886597938147,
           0.19329896907216496,
           0.1077319587628866,
           0.20412371134020618,
           0.059278350515463915,
           0.04896907216494845,
           0.3020618556701031,
           0.5850515463917526,
           0.06494845360824743,
           0.039690721649484534,
           0.03711340206185567,
           0.39948453608247425,
           0.6587628865979381,
           0.020103092783505156,
           0.042268041237113405,
           0.09175257731958762,
           0.09587628865979382,
           0.24690721649484537,
           0.2804123711340206,
           0.2860824742268041,
           0.5376288659793814,
           0.4262886597938144,
           0.04587628865979381,
           0.12886597938144329,
           0.2809278350515464,
           0.12216494845360824,
           0.09845360824742268,
           0.4943298969072165,
           0.09278350515463918,
           0.5989690721649484,
           0.05309278350515464,
           0.09742268041237113,
           0.2829896907216495,
           0.4,
           0.16391752577319588,
           0.10257731958762886,
           0.11237113402061856,
           0.6170103092783505,
           0.3077319587628866,
           0.07783505154639175,
           0.15206185567010308,
           0.052061855670103095,
           0.06288659793814433,
           0.08350515463917525,
           0.2551546391752577,
           0.03865979381443299,
           0.27010309278350514,
           0.06701030927835051,
           0.031443298969072164,
           0.06855670103092784,
           0.1479381443298969,
           0.04587628865979381,
           0.3097938144329897
          ],
          [
           0.2701908957415565,
           0.23531571218795888,
           0.18869309838472834,
           0.18355359765051396,
           0.21292217327459617,
           0.16079295154185022,
           0.11490455212922174,
           0.06424375917767988,
           0.07856093979441997,
           0.4588839941262849,
           0.2173274596182085,
           0.3333333333333333,
           0.2301762114537445,
           0.06461086637298091,
           0.04331864904552129,
           0.05947136563876652,
           0.04001468428781204,
           0.044419970631424374,
           0.11930983847283406,
           0.046622613803230545,
           0.13876651982378854,
           0.2540381791483113,
           0.1868575624082232,
           0.13215859030837004,
           0.13362701908957417,
           0.05469897209985316,
           0.048091042584434654,
           0.16409691629955947,
           0.6068281938325991,
           0.05837004405286344,
           0.026798825256975037,
           0.0381791483113069,
           0.3799559471365639,
           0.6934654919236417,
           0.0157856093979442,
           0.039647577092511016,
           0.09544787077826726,
           0.08994126284875184,
           0.18318649045521293,
           0.328928046989721,
           0.2852422907488987,
           0.4709985315712188,
           0.434654919236417,
           0.07599118942731277,
           0.14574155653450807,
           0.2643171806167401,
           0.11380323054331865,
           0.06130690161527166,
           0.4486049926578561,
           0.04515418502202643,
           0.46512481644640236,
           0.053964757709251104,
           0.1038913362701909,
           0.33627019089574156,
           0.32305433186490456,
           0.12812041116005873,
           0.10205580029368576,
           0.0763582966226138,
           0.604258443465492,
           0.30726872246696035,
           0.07085168869309838,
           0.144640234948605,
           0.08737151248164464,
           0.053597650513950074,
           0.09140969162995595,
           0.11637298091042585,
           0.0381791483113069,
           0.30066079295154186,
           0.07048458149779736,
           0.026798825256975037,
           0.06571218795888399,
           0.15528634361233482,
           0.05726872246696035,
           0.30837004405286345
          ],
          [
           0.2616822429906542,
           0.19003115264797507,
           0.19003115264797507,
           0.1542056074766355,
           0.19626168224299065,
           0.16355140186915887,
           0.07009345794392523,
           0.06853582554517133,
           0.09813084112149532,
           0.3115264797507788,
           0.21651090342679127,
           0.2570093457943925,
           0.21339563862928349,
           0.059190031152647975,
           0.04672897196261682,
           0.09813084112149532,
           0.06230529595015576,
           0.09034267912772585,
           0.15109034267912771,
           0.09968847352024922,
           0.0778816199376947,
           0.09968847352024922,
           0.19470404984423675,
           0.19470404984423675,
           0.11993769470404984,
           0.1059190031152648,
           0.09034267912772585,
           0.10903426791277258,
           0.7663551401869159,
           0.048286604361370715,
           0.04205607476635514,
           0.05763239875389408,
           0.32242990654205606,
           0.7102803738317757,
           0.040498442367601244,
           0.06074766355140187,
           0.09034267912772585,
           0.1806853582554517,
           0.2398753894080997,
           0.3115264797507788,
           0.24922118380062305,
           0.6137071651090342,
           0.4174454828660436,
           0.09345794392523364,
           0.1573208722741433,
           0.49065420560747663,
           0.11682242990654206,
           0.0778816199376947,
           0.30062305295950154,
           0.045171339563862926,
           0.3862928348909657,
           0.1043613707165109,
           0.14953271028037382,
           0.26635514018691586,
           0.13239875389408098,
           0.11214953271028037,
           0.09345794392523364,
           0.06230529595015576,
           0.5778816199376947,
           0.32398753894080995,
           0.05451713395638629,
           0.09968847352024922,
           0.10124610591900311,
           0.09190031152647975,
           0.11838006230529595,
           0.05451713395638629,
           0.059190031152647975,
           0.22897196261682243,
           0.11059190031152648,
           0.06853582554517133,
           0.13862928348909656,
           0.1822429906542056,
           0.08566978193146417,
           0.45482866043613707
          ],
          [
           0.28994793752503,
           0.223468161794153,
           0.20464557468962755,
           0.16900280336403684,
           0.21105326391670004,
           0.15818982779335203,
           0.06888265919102923,
           0.04685622747296756,
           0.07649179014817781,
           0.3748498197837405,
           0.20945134160993192,
           0.3452142571085302,
           0.22947537044453345,
           0.043251902282739285,
           0.02643171806167401,
           0.07849419303163796,
           0.031237484981978373,
           0.06207448938726472,
           0.12975570684821786,
           0.05246295554665599,
           0.08530236283540249,
           0.1593912695234281,
           0.18622346816179416,
           0.1722066479775731,
           0.1117340808970765,
           0.07889467360833,
           0.048057669203043656,
           0.11533840608730477,
           0.6960352422907489,
           0.040048057669203045,
           0.022827392871445733,
           0.03924709651581898,
           0.3628354024829796,
           0.7300760913095715,
           0.015618742490989187,
           0.03884661593912695,
           0.09130957148578293,
           0.12655186223468162,
           0.20704845814977973,
           0.3532238686423708,
           0.26111333600320386,
           0.5242290748898678,
           0.4257108530236284,
           0.08049659591509811,
           0.15618742490989188,
           0.3488185822987585,
           0.10332398878654385,
           0.05246295554665599,
           0.3672406888265919,
           0.030036043251902282,
           0.4201041249499399,
           0.06888265919102923,
           0.12214657589106928,
           0.2855426511814177,
           0.20504605526631958,
           0.1013215859030837,
           0.07929515418502203,
           0.052062474969963954,
           0.63115738886664,
           0.3496195434521426,
           0.03283940728874649,
           0.10732879455346415,
           0.1001201441730076,
           0.059671605927112535,
           0.08970764917901482,
           0.052062474969963954,
           0.03644373247897477,
           0.2839407288746496,
           0.09010812975570685,
           0.032038446135362435,
           0.10492591109331198,
           0.16940328394072887,
           0.07529034841810173,
           0.41529835802963555
          ],
          [
           0.1912751677852349,
           0.1342281879194631,
           0.11073825503355705,
           0.09683604985618409,
           0.11553211888782358,
           0.09827420901246404,
           0.061361457334611694,
           0.0685522531160115,
           0.11601150527325024,
           0.4242569511025887,
           0.34851390220517736,
           0.2233940556088207,
           0.3983700862895494,
           0.04122722914669223,
           0.021572387344199424,
           0.04650047938638543,
           0.032598274209012464,
           0.03978906999041227,
           0.14285714285714285,
           0.03691275167785235,
           0.055129434324065196,
           0.09491850431447747,
           0.10738255033557047,
           0.10354745925215723,
           0.15771812080536912,
           0.05417066155321189,
           0.029242569511025888,
           0.09491850431447747,
           0.47027804410354745,
           0.0685522531160115,
           0.04554170661553212,
           0.034995206136145734,
           0.32981783317353786,
           0.48465963566634707,
           0.05465004793863854,
           0.16155321188878236,
           0.059443911792905084,
           0.06711409395973154,
           0.14669223394055608,
           0.20949185043144775,
           0.19606903163950143,
           0.39213806327900286,
           0.2598274209012464,
           0.05321188878235858,
           0.11984659635666348,
           0.20086289549376798,
           0.30393096836049854,
           0.06615532118887824,
           0.311601150527325,
           0.023010546500479387,
           0.6768935762224353,
           0.2224352828379674,
           0.0728667305848514,
           0.174496644295302,
           0.1184084372003835,
           0.07766059443911794,
           0.05704697986577181,
           0.08820709491850431,
           0.4367209971236817,
           0.3317353787152445,
           0.05129434324065196,
           0.08964525407478427,
           0.062320230105465,
           0.03883029721955897,
           0.24304889741131352,
           0.03883029721955897,
           0.12224352828379674,
           0.1404602109300096,
           0.087248322147651,
           0.040268456375838924,
           0.09731543624161074,
           0.09683604985618409,
           0.04410354745925216,
           0.25071907957814
          ],
          [
           0.28939393939393937,
           0.26136363636363635,
           0.2053030303030303,
           0.20303030303030303,
           0.20606060606060606,
           0.15075757575757576,
           0.1053030303030303,
           0.056818181818181816,
           0.10606060606060606,
           0.44393939393939397,
           0.2340909090909091,
           0.3484848484848485,
           0.23636363636363636,
           0.0659090909090909,
           0.03939393939393939,
           0.08409090909090909,
           0.05227272727272727,
           0.07348484848484849,
           0.13560606060606062,
           0.06060606060606061,
           0.12727272727272726,
           0.2159090909090909,
           0.18409090909090908,
           0.15757575757575756,
           0.12727272727272726,
           0.07878787878787878,
           0.05227272727272727,
           0.13863636363636364,
           0.6916666666666667,
           0.04772727272727273,
           0.03409090909090909,
           0.05227272727272727,
           0.3333333333333333,
           0.7287878787878788,
           0.02727272727272727,
           0.06439393939393939,
           0.09393939393939393,
           0.12424242424242424,
           0.22954545454545455,
           0.34545454545454546,
           0.25833333333333336,
           0.4954545454545455,
           0.43787878787878787,
           0.09318181818181819,
           0.13712121212121212,
           0.3151515151515151,
           0.12878787878787878,
           0.08333333333333333,
           0.4575757575757576,
           0.048484848484848485,
           0.45984848484848484,
           0.06818181818181818,
           0.15151515151515152,
           0.3143939393939394,
           0.29393939393939394,
           0.125,
           0.10378787878787879,
           0.07954545454545454,
           0.6507575757575758,
           0.33636363636363636,
           0.06212121212121212,
           0.10303030303030303,
           0.10681818181818181,
           0.06666666666666667,
           0.11363636363636363,
           0.09242424242424242,
           0.051515151515151514,
           0.29772727272727273,
           0.08787878787878788,
           0.04318181818181818,
           0.10303030303030303,
           0.19015151515151515,
           0.0893939393939394,
           0.3643939393939394
          ],
          [
           0.26955360549408625,
           0.19896985883250667,
           0.18065623807706982,
           0.14669973292636398,
           0.17798550171690194,
           0.1362075543685616,
           0.15070583746661578,
           0.04120564669973292,
           0.08393742846241893,
           0.5494086226631056,
           0.23998473864937048,
           0.3189622281571919,
           0.2361694009919878,
           0.04311331552842427,
           0.035864173979397174,
           0.05990080122090805,
           0.026898130484547884,
           0.04101487981686379,
           0.14498283098054177,
           0.05112552460892789,
           0.07039297977871041,
           0.173788630293781,
           0.15566577642121326,
           0.10282334986646319,
           0.13639832125143075,
           0.052651659671880964,
           0.02861503243037009,
           0.13964135826020602,
           0.6949637542922549,
           0.03681800839374284,
           0.027088897367417018,
           0.03719954215948111,
           0.3580694391453644,
           0.7104158718046547,
           0.01259061426936284,
           0.030331934376192294,
           0.06447920640976726,
           0.12361694009919878,
           0.3155284242655475,
           0.35234643265929033,
           0.23712323540633345,
           0.5753529187333078,
           0.38744753910721097,
           0.04425791682563907,
           0.15261350629530712,
           0.3975581838992751,
           0.09462037390309043,
           0.08260206028233498,
           0.4049980923311713,
           0.05036245707745136,
           0.5091568103777184,
           0.05207935902327356,
           0.07458985120183136,
           0.22128958412819535,
           0.2373140022892026,
           0.1051125524608928,
           0.0675314765356734,
           0.07306371613887828,
           0.6814193056085464,
           0.35120183136207556,
           0.034528805799313236,
           0.0978634109118657,
           0.053223960320488366,
           0.06447920640976726,
           0.07058374666157954,
           0.09080503624570775,
           0.02918733307897749,
           0.23521556657764212,
           0.07954979015642884,
           0.03414727203357497,
           0.10702022128958413,
           0.1619610835558947,
           0.05589469668065624,
           0.41262876764593664
          ]
         ]
        }
       ],
       "layout": {
        "height": 700,
        "template": {
         "data": {
          "bar": [
           {
            "error_x": {
             "color": "#2a3f5f"
            },
            "error_y": {
             "color": "#2a3f5f"
            },
            "marker": {
             "line": {
              "color": "#E5ECF6",
              "width": 0.5
             }
            },
            "type": "bar"
           }
          ],
          "barpolar": [
           {
            "marker": {
             "line": {
              "color": "#E5ECF6",
              "width": 0.5
             }
            },
            "type": "barpolar"
           }
          ],
          "carpet": [
           {
            "aaxis": {
             "endlinecolor": "#2a3f5f",
             "gridcolor": "white",
             "linecolor": "white",
             "minorgridcolor": "white",
             "startlinecolor": "#2a3f5f"
            },
            "baxis": {
             "endlinecolor": "#2a3f5f",
             "gridcolor": "white",
             "linecolor": "white",
             "minorgridcolor": "white",
             "startlinecolor": "#2a3f5f"
            },
            "type": "carpet"
           }
          ],
          "choropleth": [
           {
            "colorbar": {
             "outlinewidth": 0,
             "ticks": ""
            },
            "type": "choropleth"
           }
          ],
          "contour": [
           {
            "colorbar": {
             "outlinewidth": 0,
             "ticks": ""
            },
            "colorscale": [
             [
              0,
              "#0d0887"
             ],
             [
              0.1111111111111111,
              "#46039f"
             ],
             [
              0.2222222222222222,
              "#7201a8"
             ],
             [
              0.3333333333333333,
              "#9c179e"
             ],
             [
              0.4444444444444444,
              "#bd3786"
             ],
             [
              0.5555555555555556,
              "#d8576b"
             ],
             [
              0.6666666666666666,
              "#ed7953"
             ],
             [
              0.7777777777777778,
              "#fb9f3a"
             ],
             [
              0.8888888888888888,
              "#fdca26"
             ],
             [
              1,
              "#f0f921"
             ]
            ],
            "type": "contour"
           }
          ],
          "contourcarpet": [
           {
            "colorbar": {
             "outlinewidth": 0,
             "ticks": ""
            },
            "type": "contourcarpet"
           }
          ],
          "heatmap": [
           {
            "colorbar": {
             "outlinewidth": 0,
             "ticks": ""
            },
            "colorscale": [
             [
              0,
              "#0d0887"
             ],
             [
              0.1111111111111111,
              "#46039f"
             ],
             [
              0.2222222222222222,
              "#7201a8"
             ],
             [
              0.3333333333333333,
              "#9c179e"
             ],
             [
              0.4444444444444444,
              "#bd3786"
             ],
             [
              0.5555555555555556,
              "#d8576b"
             ],
             [
              0.6666666666666666,
              "#ed7953"
             ],
             [
              0.7777777777777778,
              "#fb9f3a"
             ],
             [
              0.8888888888888888,
              "#fdca26"
             ],
             [
              1,
              "#f0f921"
             ]
            ],
            "type": "heatmap"
           }
          ],
          "heatmapgl": [
           {
            "colorbar": {
             "outlinewidth": 0,
             "ticks": ""
            },
            "colorscale": [
             [
              0,
              "#0d0887"
             ],
             [
              0.1111111111111111,
              "#46039f"
             ],
             [
              0.2222222222222222,
              "#7201a8"
             ],
             [
              0.3333333333333333,
              "#9c179e"
             ],
             [
              0.4444444444444444,
              "#bd3786"
             ],
             [
              0.5555555555555556,
              "#d8576b"
             ],
             [
              0.6666666666666666,
              "#ed7953"
             ],
             [
              0.7777777777777778,
              "#fb9f3a"
             ],
             [
              0.8888888888888888,
              "#fdca26"
             ],
             [
              1,
              "#f0f921"
             ]
            ],
            "type": "heatmapgl"
           }
          ],
          "histogram": [
           {
            "marker": {
             "colorbar": {
              "outlinewidth": 0,
              "ticks": ""
             }
            },
            "type": "histogram"
           }
          ],
          "histogram2d": [
           {
            "colorbar": {
             "outlinewidth": 0,
             "ticks": ""
            },
            "colorscale": [
             [
              0,
              "#0d0887"
             ],
             [
              0.1111111111111111,
              "#46039f"
             ],
             [
              0.2222222222222222,
              "#7201a8"
             ],
             [
              0.3333333333333333,
              "#9c179e"
             ],
             [
              0.4444444444444444,
              "#bd3786"
             ],
             [
              0.5555555555555556,
              "#d8576b"
             ],
             [
              0.6666666666666666,
              "#ed7953"
             ],
             [
              0.7777777777777778,
              "#fb9f3a"
             ],
             [
              0.8888888888888888,
              "#fdca26"
             ],
             [
              1,
              "#f0f921"
             ]
            ],
            "type": "histogram2d"
           }
          ],
          "histogram2dcontour": [
           {
            "colorbar": {
             "outlinewidth": 0,
             "ticks": ""
            },
            "colorscale": [
             [
              0,
              "#0d0887"
             ],
             [
              0.1111111111111111,
              "#46039f"
             ],
             [
              0.2222222222222222,
              "#7201a8"
             ],
             [
              0.3333333333333333,
              "#9c179e"
             ],
             [
              0.4444444444444444,
              "#bd3786"
             ],
             [
              0.5555555555555556,
              "#d8576b"
             ],
             [
              0.6666666666666666,
              "#ed7953"
             ],
             [
              0.7777777777777778,
              "#fb9f3a"
             ],
             [
              0.8888888888888888,
              "#fdca26"
             ],
             [
              1,
              "#f0f921"
             ]
            ],
            "type": "histogram2dcontour"
           }
          ],
          "mesh3d": [
           {
            "colorbar": {
             "outlinewidth": 0,
             "ticks": ""
            },
            "type": "mesh3d"
           }
          ],
          "parcoords": [
           {
            "line": {
             "colorbar": {
              "outlinewidth": 0,
              "ticks": ""
             }
            },
            "type": "parcoords"
           }
          ],
          "pie": [
           {
            "automargin": true,
            "type": "pie"
           }
          ],
          "scatter": [
           {
            "marker": {
             "colorbar": {
              "outlinewidth": 0,
              "ticks": ""
             }
            },
            "type": "scatter"
           }
          ],
          "scatter3d": [
           {
            "line": {
             "colorbar": {
              "outlinewidth": 0,
              "ticks": ""
             }
            },
            "marker": {
             "colorbar": {
              "outlinewidth": 0,
              "ticks": ""
             }
            },
            "type": "scatter3d"
           }
          ],
          "scattercarpet": [
           {
            "marker": {
             "colorbar": {
              "outlinewidth": 0,
              "ticks": ""
             }
            },
            "type": "scattercarpet"
           }
          ],
          "scattergeo": [
           {
            "marker": {
             "colorbar": {
              "outlinewidth": 0,
              "ticks": ""
             }
            },
            "type": "scattergeo"
           }
          ],
          "scattergl": [
           {
            "marker": {
             "colorbar": {
              "outlinewidth": 0,
              "ticks": ""
             }
            },
            "type": "scattergl"
           }
          ],
          "scattermapbox": [
           {
            "marker": {
             "colorbar": {
              "outlinewidth": 0,
              "ticks": ""
             }
            },
            "type": "scattermapbox"
           }
          ],
          "scatterpolar": [
           {
            "marker": {
             "colorbar": {
              "outlinewidth": 0,
              "ticks": ""
             }
            },
            "type": "scatterpolar"
           }
          ],
          "scatterpolargl": [
           {
            "marker": {
             "colorbar": {
              "outlinewidth": 0,
              "ticks": ""
             }
            },
            "type": "scatterpolargl"
           }
          ],
          "scatterternary": [
           {
            "marker": {
             "colorbar": {
              "outlinewidth": 0,
              "ticks": ""
             }
            },
            "type": "scatterternary"
           }
          ],
          "surface": [
           {
            "colorbar": {
             "outlinewidth": 0,
             "ticks": ""
            },
            "colorscale": [
             [
              0,
              "#0d0887"
             ],
             [
              0.1111111111111111,
              "#46039f"
             ],
             [
              0.2222222222222222,
              "#7201a8"
             ],
             [
              0.3333333333333333,
              "#9c179e"
             ],
             [
              0.4444444444444444,
              "#bd3786"
             ],
             [
              0.5555555555555556,
              "#d8576b"
             ],
             [
              0.6666666666666666,
              "#ed7953"
             ],
             [
              0.7777777777777778,
              "#fb9f3a"
             ],
             [
              0.8888888888888888,
              "#fdca26"
             ],
             [
              1,
              "#f0f921"
             ]
            ],
            "type": "surface"
           }
          ],
          "table": [
           {
            "cells": {
             "fill": {
              "color": "#EBF0F8"
             },
             "line": {
              "color": "white"
             }
            },
            "header": {
             "fill": {
              "color": "#C8D4E3"
             },
             "line": {
              "color": "white"
             }
            },
            "type": "table"
           }
          ]
         },
         "layout": {
          "annotationdefaults": {
           "arrowcolor": "#2a3f5f",
           "arrowhead": 0,
           "arrowwidth": 1
          },
          "autotypenumbers": "strict",
          "coloraxis": {
           "colorbar": {
            "outlinewidth": 0,
            "ticks": ""
           }
          },
          "colorscale": {
           "diverging": [
            [
             0,
             "#8e0152"
            ],
            [
             0.1,
             "#c51b7d"
            ],
            [
             0.2,
             "#de77ae"
            ],
            [
             0.3,
             "#f1b6da"
            ],
            [
             0.4,
             "#fde0ef"
            ],
            [
             0.5,
             "#f7f7f7"
            ],
            [
             0.6,
             "#e6f5d0"
            ],
            [
             0.7,
             "#b8e186"
            ],
            [
             0.8,
             "#7fbc41"
            ],
            [
             0.9,
             "#4d9221"
            ],
            [
             1,
             "#276419"
            ]
           ],
           "sequential": [
            [
             0,
             "#0d0887"
            ],
            [
             0.1111111111111111,
             "#46039f"
            ],
            [
             0.2222222222222222,
             "#7201a8"
            ],
            [
             0.3333333333333333,
             "#9c179e"
            ],
            [
             0.4444444444444444,
             "#bd3786"
            ],
            [
             0.5555555555555556,
             "#d8576b"
            ],
            [
             0.6666666666666666,
             "#ed7953"
            ],
            [
             0.7777777777777778,
             "#fb9f3a"
            ],
            [
             0.8888888888888888,
             "#fdca26"
            ],
            [
             1,
             "#f0f921"
            ]
           ],
           "sequentialminus": [
            [
             0,
             "#0d0887"
            ],
            [
             0.1111111111111111,
             "#46039f"
            ],
            [
             0.2222222222222222,
             "#7201a8"
            ],
            [
             0.3333333333333333,
             "#9c179e"
            ],
            [
             0.4444444444444444,
             "#bd3786"
            ],
            [
             0.5555555555555556,
             "#d8576b"
            ],
            [
             0.6666666666666666,
             "#ed7953"
            ],
            [
             0.7777777777777778,
             "#fb9f3a"
            ],
            [
             0.8888888888888888,
             "#fdca26"
            ],
            [
             1,
             "#f0f921"
            ]
           ]
          },
          "colorway": [
           "#636efa",
           "#EF553B",
           "#00cc96",
           "#ab63fa",
           "#FFA15A",
           "#19d3f3",
           "#FF6692",
           "#B6E880",
           "#FF97FF",
           "#FECB52"
          ],
          "font": {
           "color": "#2a3f5f"
          },
          "geo": {
           "bgcolor": "white",
           "lakecolor": "white",
           "landcolor": "#E5ECF6",
           "showlakes": true,
           "showland": true,
           "subunitcolor": "white"
          },
          "hoverlabel": {
           "align": "left"
          },
          "hovermode": "closest",
          "mapbox": {
           "style": "light"
          },
          "paper_bgcolor": "white",
          "plot_bgcolor": "#E5ECF6",
          "polar": {
           "angularaxis": {
            "gridcolor": "white",
            "linecolor": "white",
            "ticks": ""
           },
           "bgcolor": "#E5ECF6",
           "radialaxis": {
            "gridcolor": "white",
            "linecolor": "white",
            "ticks": ""
           }
          },
          "scene": {
           "xaxis": {
            "backgroundcolor": "#E5ECF6",
            "gridcolor": "white",
            "gridwidth": 2,
            "linecolor": "white",
            "showbackground": true,
            "ticks": "",
            "zerolinecolor": "white"
           },
           "yaxis": {
            "backgroundcolor": "#E5ECF6",
            "gridcolor": "white",
            "gridwidth": 2,
            "linecolor": "white",
            "showbackground": true,
            "ticks": "",
            "zerolinecolor": "white"
           },
           "zaxis": {
            "backgroundcolor": "#E5ECF6",
            "gridcolor": "white",
            "gridwidth": 2,
            "linecolor": "white",
            "showbackground": true,
            "ticks": "",
            "zerolinecolor": "white"
           }
          },
          "shapedefaults": {
           "line": {
            "color": "#2a3f5f"
           }
          },
          "ternary": {
           "aaxis": {
            "gridcolor": "white",
            "linecolor": "white",
            "ticks": ""
           },
           "baxis": {
            "gridcolor": "white",
            "linecolor": "white",
            "ticks": ""
           },
           "bgcolor": "#E5ECF6",
           "caxis": {
            "gridcolor": "white",
            "linecolor": "white",
            "ticks": ""
           }
          },
          "title": {
           "x": 0.05
          },
          "xaxis": {
           "automargin": true,
           "gridcolor": "white",
           "linecolor": "white",
           "ticks": "",
           "title": {
            "standoff": 15
           },
           "zerolinecolor": "white",
           "zerolinewidth": 2
          },
          "yaxis": {
           "automargin": true,
           "gridcolor": "white",
           "linecolor": "white",
           "ticks": "",
           "title": {
            "standoff": 15
           },
           "zerolinecolor": "white",
           "zerolinewidth": 2
          }
         }
        },
        "width": 1600
       }
      }
     },
     "metadata": {},
     "output_type": "display_data"
    }
   ],
   "source": [
    "fig = go.Figure(data=go.Heatmap(z=skills_table.values, x=skills_table.columns,y=skills_table.index, colorscale='magma', ygap=2))\n",
    "fig.update_layout(width=1600, height=700)\n",
    "fig.show()\n"
   ]
  },
  {
   "cell_type": "markdown",
   "id": "6ba45f04",
   "metadata": {},
   "source": [
    "## Plot the dendrogram clustering\n",
    "#### This plot will show the correlated titles "
   ]
  },
  {
   "cell_type": "code",
   "execution_count": 53,
   "id": "ff120532",
   "metadata": {},
   "outputs": [
    {
     "data": {
      "application/vnd.plotly.v1+json": {
       "config": {
        "plotlyServerURL": "https://plot.ly"
       },
       "data": [
        {
         "hoverinfo": "text",
         "marker": {
          "color": "rgb(61,153,112)"
         },
         "mode": "lines",
         "type": "scatter",
         "x": [
          0,
          0.4114498935018819,
          0.4114498935018819,
          0
         ],
         "xaxis": "x",
         "y": [
          -5,
          -5,
          -15,
          -15
         ],
         "yaxis": "y"
        },
        {
         "hoverinfo": "text",
         "marker": {
          "color": "rgb(61,153,112)"
         },
         "mode": "lines",
         "type": "scatter",
         "x": [
          0,
          0.23415207784184566,
          0.23415207784184566,
          0
         ],
         "xaxis": "x",
         "y": [
          -35,
          -35,
          -45,
          -45
         ],
         "yaxis": "y"
        },
        {
         "hoverinfo": "text",
         "marker": {
          "color": "rgb(61,153,112)"
         },
         "mode": "lines",
         "type": "scatter",
         "x": [
          0,
          0.523401650126882,
          0.523401650126882,
          0.23415207784184566
         ],
         "xaxis": "x",
         "y": [
          -25,
          -25,
          -40,
          -40
         ],
         "yaxis": "y"
        },
        {
         "hoverinfo": "text",
         "marker": {
          "color": "rgb(61,153,112)"
         },
         "mode": "lines",
         "type": "scatter",
         "x": [
          0.4114498935018819,
          0.6731889053873888,
          0.6731889053873888,
          0.523401650126882
         ],
         "xaxis": "x",
         "y": [
          -10,
          -10,
          -32.5,
          -32.5
         ],
         "yaxis": "y"
        },
        {
         "hoverinfo": "text",
         "marker": {
          "color": "rgb(61,153,112)"
         },
         "mode": "lines",
         "type": "scatter",
         "x": [
          0,
          0.2176348799596409,
          0.2176348799596409,
          0
         ],
         "xaxis": "x",
         "y": [
          -75,
          -75,
          -85,
          -85
         ],
         "yaxis": "y"
        },
        {
         "hoverinfo": "text",
         "marker": {
          "color": "rgb(61,153,112)"
         },
         "mode": "lines",
         "type": "scatter",
         "x": [
          0,
          0.3292909740643205,
          0.3292909740643205,
          0.2176348799596409
         ],
         "xaxis": "x",
         "y": [
          -65,
          -65,
          -80,
          -80
         ],
         "yaxis": "y"
        },
        {
         "hoverinfo": "text",
         "marker": {
          "color": "rgb(61,153,112)"
         },
         "mode": "lines",
         "type": "scatter",
         "x": [
          0,
          0.5105983424128819,
          0.5105983424128819,
          0.3292909740643205
         ],
         "xaxis": "x",
         "y": [
          -55,
          -55,
          -72.5,
          -72.5
         ],
         "yaxis": "y"
        },
        {
         "hoverinfo": "text",
         "marker": {
          "color": "rgb(61,153,112)"
         },
         "mode": "lines",
         "type": "scatter",
         "x": [
          0,
          0.4927575626327805,
          0.4927575626327805,
          0
         ],
         "xaxis": "x",
         "y": [
          -105,
          -105,
          -115,
          -115
         ],
         "yaxis": "y"
        },
        {
         "hoverinfo": "text",
         "marker": {
          "color": "rgb(61,153,112)"
         },
         "mode": "lines",
         "type": "scatter",
         "x": [
          0,
          0.5590828047237968,
          0.5590828047237968,
          0.4927575626327805
         ],
         "xaxis": "x",
         "y": [
          -95,
          -95,
          -110,
          -110
         ],
         "yaxis": "y"
        },
        {
         "hoverinfo": "text",
         "marker": {
          "color": "rgb(61,153,112)"
         },
         "mode": "lines",
         "type": "scatter",
         "x": [
          0,
          0.17827405625265277,
          0.17827405625265277,
          0
         ],
         "xaxis": "x",
         "y": [
          -155,
          -155,
          -165,
          -165
         ],
         "yaxis": "y"
        },
        {
         "hoverinfo": "text",
         "marker": {
          "color": "rgb(61,153,112)"
         },
         "mode": "lines",
         "type": "scatter",
         "x": [
          0,
          0.23285912330283182,
          0.23285912330283182,
          0.17827405625265277
         ],
         "xaxis": "x",
         "y": [
          -145,
          -145,
          -160,
          -160
         ],
         "yaxis": "y"
        },
        {
         "hoverinfo": "text",
         "marker": {
          "color": "rgb(61,153,112)"
         },
         "mode": "lines",
         "type": "scatter",
         "x": [
          0,
          0.27539248553090334,
          0.27539248553090334,
          0.23285912330283182
         ],
         "xaxis": "x",
         "y": [
          -135,
          -135,
          -152.5,
          -152.5
         ],
         "yaxis": "y"
        },
        {
         "hoverinfo": "text",
         "marker": {
          "color": "rgb(61,153,112)"
         },
         "mode": "lines",
         "type": "scatter",
         "x": [
          0,
          0.327709023109349,
          0.327709023109349,
          0
         ],
         "xaxis": "x",
         "y": [
          -175,
          -175,
          -185,
          -185
         ],
         "yaxis": "y"
        },
        {
         "hoverinfo": "text",
         "marker": {
          "color": "rgb(61,153,112)"
         },
         "mode": "lines",
         "type": "scatter",
         "x": [
          0.27539248553090334,
          0.4462429616342112,
          0.4462429616342112,
          0.327709023109349
         ],
         "xaxis": "x",
         "y": [
          -143.75,
          -143.75,
          -180,
          -180
         ],
         "yaxis": "y"
        },
        {
         "hoverinfo": "text",
         "marker": {
          "color": "rgb(61,153,112)"
         },
         "mode": "lines",
         "type": "scatter",
         "x": [
          0,
          0.48367310105793193,
          0.48367310105793193,
          0.4462429616342112
         ],
         "xaxis": "x",
         "y": [
          -125,
          -125,
          -161.875,
          -161.875
         ],
         "yaxis": "y"
        },
        {
         "hoverinfo": "text",
         "marker": {
          "color": "rgb(61,153,112)"
         },
         "mode": "lines",
         "type": "scatter",
         "x": [
          0,
          0.17394169057077574,
          0.17394169057077574,
          0
         ],
         "xaxis": "x",
         "y": [
          -215,
          -215,
          -225,
          -225
         ],
         "yaxis": "y"
        },
        {
         "hoverinfo": "text",
         "marker": {
          "color": "rgb(61,153,112)"
         },
         "mode": "lines",
         "type": "scatter",
         "x": [
          0,
          0.30858646725388145,
          0.30858646725388145,
          0.17394169057077574
         ],
         "xaxis": "x",
         "y": [
          -205,
          -205,
          -220,
          -220
         ],
         "yaxis": "y"
        },
        {
         "hoverinfo": "text",
         "marker": {
          "color": "rgb(61,153,112)"
         },
         "mode": "lines",
         "type": "scatter",
         "x": [
          0,
          0.5333964003463655,
          0.5333964003463655,
          0.30858646725388145
         ],
         "xaxis": "x",
         "y": [
          -195,
          -195,
          -212.5,
          -212.5
         ],
         "yaxis": "y"
        },
        {
         "hoverinfo": "text",
         "marker": {
          "color": "rgb(61,153,112)"
         },
         "mode": "lines",
         "type": "scatter",
         "x": [
          0.48367310105793193,
          0.6814874442316505,
          0.6814874442316505,
          0.5333964003463655
         ],
         "xaxis": "x",
         "y": [
          -143.4375,
          -143.4375,
          -203.75,
          -203.75
         ],
         "yaxis": "y"
        },
        {
         "hoverinfo": "text",
         "marker": {
          "color": "rgb(61,153,112)"
         },
         "mode": "lines",
         "type": "scatter",
         "x": [
          0.5590828047237968,
          0.7797692101887419,
          0.7797692101887419,
          0.6814874442316505
         ],
         "xaxis": "x",
         "y": [
          -102.5,
          -102.5,
          -173.59375,
          -173.59375
         ],
         "yaxis": "y"
        },
        {
         "hoverinfo": "text",
         "marker": {
          "color": "rgb(61,153,112)"
         },
         "mode": "lines",
         "type": "scatter",
         "x": [
          0.5105983424128819,
          0.9068525019578081,
          0.9068525019578081,
          0.7797692101887419
         ],
         "xaxis": "x",
         "y": [
          -63.75,
          -63.75,
          -138.046875,
          -138.046875
         ],
         "yaxis": "y"
        },
        {
         "hoverinfo": "text",
         "marker": {
          "color": "rgb(61,153,112)"
         },
         "mode": "lines",
         "type": "scatter",
         "x": [
          0.6731889053873888,
          1.1779229340286281,
          1.1779229340286281,
          0.9068525019578081
         ],
         "xaxis": "x",
         "y": [
          -21.25,
          -21.25,
          -100.8984375,
          -100.8984375
         ],
         "yaxis": "y"
        }
       ],
       "layout": {
        "autosize": false,
        "height": 600,
        "hovermode": "closest",
        "showlegend": false,
        "template": {
         "data": {
          "bar": [
           {
            "error_x": {
             "color": "#2a3f5f"
            },
            "error_y": {
             "color": "#2a3f5f"
            },
            "marker": {
             "line": {
              "color": "#E5ECF6",
              "width": 0.5
             }
            },
            "type": "bar"
           }
          ],
          "barpolar": [
           {
            "marker": {
             "line": {
              "color": "#E5ECF6",
              "width": 0.5
             }
            },
            "type": "barpolar"
           }
          ],
          "carpet": [
           {
            "aaxis": {
             "endlinecolor": "#2a3f5f",
             "gridcolor": "white",
             "linecolor": "white",
             "minorgridcolor": "white",
             "startlinecolor": "#2a3f5f"
            },
            "baxis": {
             "endlinecolor": "#2a3f5f",
             "gridcolor": "white",
             "linecolor": "white",
             "minorgridcolor": "white",
             "startlinecolor": "#2a3f5f"
            },
            "type": "carpet"
           }
          ],
          "choropleth": [
           {
            "colorbar": {
             "outlinewidth": 0,
             "ticks": ""
            },
            "type": "choropleth"
           }
          ],
          "contour": [
           {
            "colorbar": {
             "outlinewidth": 0,
             "ticks": ""
            },
            "colorscale": [
             [
              0,
              "#0d0887"
             ],
             [
              0.1111111111111111,
              "#46039f"
             ],
             [
              0.2222222222222222,
              "#7201a8"
             ],
             [
              0.3333333333333333,
              "#9c179e"
             ],
             [
              0.4444444444444444,
              "#bd3786"
             ],
             [
              0.5555555555555556,
              "#d8576b"
             ],
             [
              0.6666666666666666,
              "#ed7953"
             ],
             [
              0.7777777777777778,
              "#fb9f3a"
             ],
             [
              0.8888888888888888,
              "#fdca26"
             ],
             [
              1,
              "#f0f921"
             ]
            ],
            "type": "contour"
           }
          ],
          "contourcarpet": [
           {
            "colorbar": {
             "outlinewidth": 0,
             "ticks": ""
            },
            "type": "contourcarpet"
           }
          ],
          "heatmap": [
           {
            "colorbar": {
             "outlinewidth": 0,
             "ticks": ""
            },
            "colorscale": [
             [
              0,
              "#0d0887"
             ],
             [
              0.1111111111111111,
              "#46039f"
             ],
             [
              0.2222222222222222,
              "#7201a8"
             ],
             [
              0.3333333333333333,
              "#9c179e"
             ],
             [
              0.4444444444444444,
              "#bd3786"
             ],
             [
              0.5555555555555556,
              "#d8576b"
             ],
             [
              0.6666666666666666,
              "#ed7953"
             ],
             [
              0.7777777777777778,
              "#fb9f3a"
             ],
             [
              0.8888888888888888,
              "#fdca26"
             ],
             [
              1,
              "#f0f921"
             ]
            ],
            "type": "heatmap"
           }
          ],
          "heatmapgl": [
           {
            "colorbar": {
             "outlinewidth": 0,
             "ticks": ""
            },
            "colorscale": [
             [
              0,
              "#0d0887"
             ],
             [
              0.1111111111111111,
              "#46039f"
             ],
             [
              0.2222222222222222,
              "#7201a8"
             ],
             [
              0.3333333333333333,
              "#9c179e"
             ],
             [
              0.4444444444444444,
              "#bd3786"
             ],
             [
              0.5555555555555556,
              "#d8576b"
             ],
             [
              0.6666666666666666,
              "#ed7953"
             ],
             [
              0.7777777777777778,
              "#fb9f3a"
             ],
             [
              0.8888888888888888,
              "#fdca26"
             ],
             [
              1,
              "#f0f921"
             ]
            ],
            "type": "heatmapgl"
           }
          ],
          "histogram": [
           {
            "marker": {
             "colorbar": {
              "outlinewidth": 0,
              "ticks": ""
             }
            },
            "type": "histogram"
           }
          ],
          "histogram2d": [
           {
            "colorbar": {
             "outlinewidth": 0,
             "ticks": ""
            },
            "colorscale": [
             [
              0,
              "#0d0887"
             ],
             [
              0.1111111111111111,
              "#46039f"
             ],
             [
              0.2222222222222222,
              "#7201a8"
             ],
             [
              0.3333333333333333,
              "#9c179e"
             ],
             [
              0.4444444444444444,
              "#bd3786"
             ],
             [
              0.5555555555555556,
              "#d8576b"
             ],
             [
              0.6666666666666666,
              "#ed7953"
             ],
             [
              0.7777777777777778,
              "#fb9f3a"
             ],
             [
              0.8888888888888888,
              "#fdca26"
             ],
             [
              1,
              "#f0f921"
             ]
            ],
            "type": "histogram2d"
           }
          ],
          "histogram2dcontour": [
           {
            "colorbar": {
             "outlinewidth": 0,
             "ticks": ""
            },
            "colorscale": [
             [
              0,
              "#0d0887"
             ],
             [
              0.1111111111111111,
              "#46039f"
             ],
             [
              0.2222222222222222,
              "#7201a8"
             ],
             [
              0.3333333333333333,
              "#9c179e"
             ],
             [
              0.4444444444444444,
              "#bd3786"
             ],
             [
              0.5555555555555556,
              "#d8576b"
             ],
             [
              0.6666666666666666,
              "#ed7953"
             ],
             [
              0.7777777777777778,
              "#fb9f3a"
             ],
             [
              0.8888888888888888,
              "#fdca26"
             ],
             [
              1,
              "#f0f921"
             ]
            ],
            "type": "histogram2dcontour"
           }
          ],
          "mesh3d": [
           {
            "colorbar": {
             "outlinewidth": 0,
             "ticks": ""
            },
            "type": "mesh3d"
           }
          ],
          "parcoords": [
           {
            "line": {
             "colorbar": {
              "outlinewidth": 0,
              "ticks": ""
             }
            },
            "type": "parcoords"
           }
          ],
          "pie": [
           {
            "automargin": true,
            "type": "pie"
           }
          ],
          "scatter": [
           {
            "marker": {
             "colorbar": {
              "outlinewidth": 0,
              "ticks": ""
             }
            },
            "type": "scatter"
           }
          ],
          "scatter3d": [
           {
            "line": {
             "colorbar": {
              "outlinewidth": 0,
              "ticks": ""
             }
            },
            "marker": {
             "colorbar": {
              "outlinewidth": 0,
              "ticks": ""
             }
            },
            "type": "scatter3d"
           }
          ],
          "scattercarpet": [
           {
            "marker": {
             "colorbar": {
              "outlinewidth": 0,
              "ticks": ""
             }
            },
            "type": "scattercarpet"
           }
          ],
          "scattergeo": [
           {
            "marker": {
             "colorbar": {
              "outlinewidth": 0,
              "ticks": ""
             }
            },
            "type": "scattergeo"
           }
          ],
          "scattergl": [
           {
            "marker": {
             "colorbar": {
              "outlinewidth": 0,
              "ticks": ""
             }
            },
            "type": "scattergl"
           }
          ],
          "scattermapbox": [
           {
            "marker": {
             "colorbar": {
              "outlinewidth": 0,
              "ticks": ""
             }
            },
            "type": "scattermapbox"
           }
          ],
          "scatterpolar": [
           {
            "marker": {
             "colorbar": {
              "outlinewidth": 0,
              "ticks": ""
             }
            },
            "type": "scatterpolar"
           }
          ],
          "scatterpolargl": [
           {
            "marker": {
             "colorbar": {
              "outlinewidth": 0,
              "ticks": ""
             }
            },
            "type": "scatterpolargl"
           }
          ],
          "scatterternary": [
           {
            "marker": {
             "colorbar": {
              "outlinewidth": 0,
              "ticks": ""
             }
            },
            "type": "scatterternary"
           }
          ],
          "surface": [
           {
            "colorbar": {
             "outlinewidth": 0,
             "ticks": ""
            },
            "colorscale": [
             [
              0,
              "#0d0887"
             ],
             [
              0.1111111111111111,
              "#46039f"
             ],
             [
              0.2222222222222222,
              "#7201a8"
             ],
             [
              0.3333333333333333,
              "#9c179e"
             ],
             [
              0.4444444444444444,
              "#bd3786"
             ],
             [
              0.5555555555555556,
              "#d8576b"
             ],
             [
              0.6666666666666666,
              "#ed7953"
             ],
             [
              0.7777777777777778,
              "#fb9f3a"
             ],
             [
              0.8888888888888888,
              "#fdca26"
             ],
             [
              1,
              "#f0f921"
             ]
            ],
            "type": "surface"
           }
          ],
          "table": [
           {
            "cells": {
             "fill": {
              "color": "#EBF0F8"
             },
             "line": {
              "color": "white"
             }
            },
            "header": {
             "fill": {
              "color": "#C8D4E3"
             },
             "line": {
              "color": "white"
             }
            },
            "type": "table"
           }
          ]
         },
         "layout": {
          "annotationdefaults": {
           "arrowcolor": "#2a3f5f",
           "arrowhead": 0,
           "arrowwidth": 1
          },
          "autotypenumbers": "strict",
          "coloraxis": {
           "colorbar": {
            "outlinewidth": 0,
            "ticks": ""
           }
          },
          "colorscale": {
           "diverging": [
            [
             0,
             "#8e0152"
            ],
            [
             0.1,
             "#c51b7d"
            ],
            [
             0.2,
             "#de77ae"
            ],
            [
             0.3,
             "#f1b6da"
            ],
            [
             0.4,
             "#fde0ef"
            ],
            [
             0.5,
             "#f7f7f7"
            ],
            [
             0.6,
             "#e6f5d0"
            ],
            [
             0.7,
             "#b8e186"
            ],
            [
             0.8,
             "#7fbc41"
            ],
            [
             0.9,
             "#4d9221"
            ],
            [
             1,
             "#276419"
            ]
           ],
           "sequential": [
            [
             0,
             "#0d0887"
            ],
            [
             0.1111111111111111,
             "#46039f"
            ],
            [
             0.2222222222222222,
             "#7201a8"
            ],
            [
             0.3333333333333333,
             "#9c179e"
            ],
            [
             0.4444444444444444,
             "#bd3786"
            ],
            [
             0.5555555555555556,
             "#d8576b"
            ],
            [
             0.6666666666666666,
             "#ed7953"
            ],
            [
             0.7777777777777778,
             "#fb9f3a"
            ],
            [
             0.8888888888888888,
             "#fdca26"
            ],
            [
             1,
             "#f0f921"
            ]
           ],
           "sequentialminus": [
            [
             0,
             "#0d0887"
            ],
            [
             0.1111111111111111,
             "#46039f"
            ],
            [
             0.2222222222222222,
             "#7201a8"
            ],
            [
             0.3333333333333333,
             "#9c179e"
            ],
            [
             0.4444444444444444,
             "#bd3786"
            ],
            [
             0.5555555555555556,
             "#d8576b"
            ],
            [
             0.6666666666666666,
             "#ed7953"
            ],
            [
             0.7777777777777778,
             "#fb9f3a"
            ],
            [
             0.8888888888888888,
             "#fdca26"
            ],
            [
             1,
             "#f0f921"
            ]
           ]
          },
          "colorway": [
           "#636efa",
           "#EF553B",
           "#00cc96",
           "#ab63fa",
           "#FFA15A",
           "#19d3f3",
           "#FF6692",
           "#B6E880",
           "#FF97FF",
           "#FECB52"
          ],
          "font": {
           "color": "#2a3f5f"
          },
          "geo": {
           "bgcolor": "white",
           "lakecolor": "white",
           "landcolor": "#E5ECF6",
           "showlakes": true,
           "showland": true,
           "subunitcolor": "white"
          },
          "hoverlabel": {
           "align": "left"
          },
          "hovermode": "closest",
          "mapbox": {
           "style": "light"
          },
          "paper_bgcolor": "white",
          "plot_bgcolor": "#E5ECF6",
          "polar": {
           "angularaxis": {
            "gridcolor": "white",
            "linecolor": "white",
            "ticks": ""
           },
           "bgcolor": "#E5ECF6",
           "radialaxis": {
            "gridcolor": "white",
            "linecolor": "white",
            "ticks": ""
           }
          },
          "scene": {
           "xaxis": {
            "backgroundcolor": "#E5ECF6",
            "gridcolor": "white",
            "gridwidth": 2,
            "linecolor": "white",
            "showbackground": true,
            "ticks": "",
            "zerolinecolor": "white"
           },
           "yaxis": {
            "backgroundcolor": "#E5ECF6",
            "gridcolor": "white",
            "gridwidth": 2,
            "linecolor": "white",
            "showbackground": true,
            "ticks": "",
            "zerolinecolor": "white"
           },
           "zaxis": {
            "backgroundcolor": "#E5ECF6",
            "gridcolor": "white",
            "gridwidth": 2,
            "linecolor": "white",
            "showbackground": true,
            "ticks": "",
            "zerolinecolor": "white"
           }
          },
          "shapedefaults": {
           "line": {
            "color": "#2a3f5f"
           }
          },
          "ternary": {
           "aaxis": {
            "gridcolor": "white",
            "linecolor": "white",
            "ticks": ""
           },
           "baxis": {
            "gridcolor": "white",
            "linecolor": "white",
            "ticks": ""
           },
           "bgcolor": "#E5ECF6",
           "caxis": {
            "gridcolor": "white",
            "linecolor": "white",
            "ticks": ""
           }
          },
          "title": {
           "x": 0.05
          },
          "xaxis": {
           "automargin": true,
           "gridcolor": "white",
           "linecolor": "white",
           "ticks": "",
           "title": {
            "standoff": 15
           },
           "zerolinecolor": "white",
           "zerolinewidth": 2
          },
          "yaxis": {
           "automargin": true,
           "gridcolor": "white",
           "linecolor": "white",
           "ticks": "",
           "title": {
            "standoff": 15
           },
           "zerolinecolor": "white",
           "zerolinewidth": 2
          }
         }
        },
        "width": 600,
        "xaxis": {
         "mirror": "allticks",
         "rangemode": "tozero",
         "showgrid": false,
         "showline": true,
         "showticklabels": true,
         "ticks": "outside",
         "type": "linear",
         "zeroline": false
        },
        "yaxis": {
         "mirror": "allticks",
         "rangemode": "tozero",
         "showgrid": false,
         "showline": true,
         "showticklabels": true,
         "tickmode": "array",
         "ticks": "outside",
         "ticktext": [
          "Data or business analyst",
          "Engineer, data",
          "Data scientist or machine learning specialist",
          "Academic researcher",
          "Scientist",
          "Engineer, site reliability",
          "DevOps specialist",
          "Engineering manager",
          "Senior executive/VP",
          "Developer, desktop or enterprise applications",
          "Developer, embedded applications or devices",
          "Developer, game or graphics",
          "Marketing or sales professional",
          "Developer, back-end",
          "Educator",
          "Developer, QA or test",
          "Product manager",
          "Database administrator",
          "System administrator",
          "Developer, mobile",
          "Designer",
          "Developer, front-end",
          "Developer, full-stack"
         ],
         "tickvals": [
          -5,
          -15,
          -25,
          -35,
          -45,
          -55,
          -65,
          -75,
          -85,
          -95,
          -105,
          -115,
          -125,
          -135,
          -145,
          -155,
          -165,
          -175,
          -185,
          -195,
          -205,
          -215,
          -225
         ],
         "type": "linear",
         "zeroline": false
        }
       }
      }
     },
     "metadata": {},
     "output_type": "display_data"
    }
   ],
   "source": [
    "fig = ff.create_dendrogram(skills_table.values, labels=skills_table.index, orientation='left', color_threshold=1.5)\n",
    "fig.update_layout(height=600, width=600, showlegend=False) \n",
    "fig.show()\n"
   ]
  },
  {
   "cell_type": "markdown",
   "id": "d178d426",
   "metadata": {},
   "source": [
    "## Normalize the Heat map\n",
    "\n",
    "#### The main goal of normalize the skills is to be more specific, the normal heatmap above depend on the frequency and this cause domination\n",
    "#### Normalize the frequency will make the skills more specific to some titles"
   ]
  },
  {
   "cell_type": "code",
   "execution_count": 62,
   "id": "2edce02f",
   "metadata": {},
   "outputs": [],
   "source": [
    "std_skills = StandardScaler().fit_transform(skills_table)\n",
    "std_skills = pd.DataFrame(std_skills, columns=skills_table.columns, index=skills_table.index)"
   ]
  },
  {
   "cell_type": "code",
   "execution_count": 63,
   "id": "f59cc01d",
   "metadata": {},
   "outputs": [
    {
     "data": {
      "application/vnd.plotly.v1+json": {
       "config": {
        "plotlyServerURL": "https://plot.ly"
       },
       "data": [
        {
         "colorscale": [
          [
           0,
           "#000004"
          ],
          [
           0.1111111111111111,
           "#180f3d"
          ],
          [
           0.2222222222222222,
           "#440f76"
          ],
          [
           0.3333333333333333,
           "#721f81"
          ],
          [
           0.4444444444444444,
           "#9e2f7f"
          ],
          [
           0.5555555555555556,
           "#cd4071"
          ],
          [
           0.6666666666666666,
           "#f1605d"
          ],
          [
           0.7777777777777778,
           "#fd9668"
          ],
          [
           0.8888888888888888,
           "#feca8d"
          ],
          [
           1,
           "#fcfdbf"
          ]
         ],
         "type": "heatmap",
         "x": [
          ".NET",
          ".NET Core",
          "ASP.NET",
          "ASP.NET Core",
          "Angular",
          "Angular.js",
          "Ansible",
          "Apache Spark",
          "Assembly",
          "Bash/Shell/PowerShell",
          "C",
          "C#",
          "C++",
          "Cassandra",
          "Chef",
          "Cordova",
          "Couchbase",
          "Dart",
          "Django",
          "Drupal",
          "DynamoDB",
          "Elasticsearch",
          "Express",
          "Firebase",
          "Flask",
          "Flutter",
          "Gatsby",
          "Go",
          "HTML/CSS",
          "Hadoop",
          "Haskell",
          "IBM DB2",
          "Java",
          "JavaScript",
          "Julia",
          "Keras",
          "Kotlin",
          "Laravel",
          "MariaDB",
          "Microsoft SQL Server",
          "MongoDB",
          "MySQL",
          "Node.js",
          "Objective-C",
          "Oracle",
          "PHP",
          "Pandas",
          "Perl",
          "PostgreSQL",
          "Puppet",
          "Python",
          "R",
          "React Native",
          "React.js",
          "Redis",
          "Ruby",
          "Ruby on Rails",
          "Rust",
          "SQL",
          "SQLite",
          "Scala",
          "Spring",
          "Swift",
          "Symfony",
          "TensorFlow",
          "Teraform",
          "Torch/PyTorch",
          "TypeScript",
          "Unity 3D",
          "Unreal Engine",
          "VBA",
          "Vue.js",
          "Xamarin",
          "jQuery"
         ],
         "y": [
          "Academic researcher",
          "Data or business analyst",
          "Data scientist or machine learning specialist",
          "Database administrator",
          "Designer",
          "DevOps specialist",
          "Developer, QA or test",
          "Developer, back-end",
          "Developer, desktop or enterprise applications",
          "Developer, embedded applications or devices",
          "Developer, front-end",
          "Developer, full-stack",
          "Developer, game or graphics",
          "Developer, mobile",
          "Educator",
          "Engineer, data",
          "Engineer, site reliability",
          "Engineering manager",
          "Marketing or sales professional",
          "Product manager",
          "Scientist",
          "Senior executive/VP",
          "System administrator"
         ],
         "ygap": 2,
         "z": [
          [
           -1.2872600417854902,
           -1.6634796280150828,
           -1.4227552573031026,
           -1.7519540379061809,
           -1.1568793793777816,
           -1.4213016646118322,
           -0.6032868842720678,
           0.13890672807020987,
           1.057186872480676,
           -0.3989779048628896,
           1.3309629608829883,
           -1.209634481504083,
           1.3494635174703205,
           -0.31193257429138654,
           -0.7142609719607403,
           -0.7800899633632855,
           -0.48140269869078073,
           -0.4472090268238393,
           0.506645275604236,
           -0.5727027362207947,
           -1.0613777278213372,
           -0.8438398913595582,
           -1.3394381907451047,
           -0.31758099503899084,
           0.23207737417481838,
           -0.37495627906869355,
           -0.8306487882059298,
           -0.6965757131714454,
           -1.1595143628477171,
           0.2614642657079454,
           1.7841387455812723,
           -0.7341399499843625,
           0.5071600317105164,
           -1.4073284165528264,
           1.7986216029083844,
           1.215377409700974,
           -0.5585450323246546,
           -0.4929471920628909,
           -0.7906971884822976,
           -1.6082580946875427,
           -0.6022461326482708,
           -0.6998760695858418,
           -1.5400568975173117,
           -0.47508927731174544,
           -0.833390002055975,
           -0.6008208876773801,
           0.9830141341874882,
           -0.03241759503583063,
           -0.8177055389679154,
           -0.6089870666150128,
           0.9713014632257146,
           1.411629892610541,
           -0.850770440301063,
           -1.2207265766236062,
           -0.9263177275908587,
           -0.7629402711411276,
           -0.6012359951106458,
           0.23011061467401303,
           -1.6034959058309528,
           0.08899603449365212,
           0.10265593795746099,
           -0.35056475713861646,
           -0.47435801279944606,
           -1.050348130582866,
           1.1732231140495142,
           -0.6776153481593508,
           1.2370652637432444,
           -1.5335123504498964,
           -0.23600227390440914,
           -0.26051096378809374,
           -0.41386832894406755,
           -1.2260770875702667,
           -1.038966266279948,
           -0.9567225778737529
          ],
          [
           0.09795224308639254,
           -0.4797939453597696,
           0.39899809109995577,
           -0.2782203343877251,
           -1.3145405484739856,
           -1.1573001226512818,
           -0.6614217875292515,
           0.7413378198639563,
           -0.7666759717335968,
           -0.636208863872344,
           -0.8166037193855273,
           -0.2522034064914313,
           -0.8249109037685195,
           -0.4679056752417876,
           -0.42430977025664113,
           -0.9727138967157238,
           -0.5990033934301555,
           -0.9410680174069562,
           0.3364645005105668,
           -0.2324149717832051,
           -0.7331059884846034,
           -0.600788711873969,
           -1.668421828510607,
           -1.0302673540242109,
           0.30455050499835484,
           -0.9014483539492444,
           -1.0100978640297156,
           -1.000715827282766,
           -0.5249430484795051,
           0.9421121793336109,
           -0.48019340526793736,
           2.0391940119700367,
           -1.6542569297253327,
           -1.0398422728919956,
           -0.009916240249302056,
           0.272650472030615,
           -1.1024663471254146,
           -0.6755080799338187,
           -0.6624878144137163,
           2.046201068440702,
           -1.8163391284629837,
           -0.16432437798628627,
           -1.5994847769938676,
           -0.9098663155190625,
           2.7575484247048387,
           -0.5857217720962119,
           1.1564586249618782,
           -0.26452324965352436,
           -0.23155899353026443,
           -0.4950545427471811,
           0.47677332431323577,
           1.5514992182459755,
           -1.1820768870055218,
           -1.4899295244435298,
           -0.994533507279836,
           -1.0574144436862827,
           -0.8624548523141142,
           -1.3942749074184795,
           1.6381185867871884,
           -0.4708998951204422,
           -0.10945075302845282,
           -1.2940015325813292,
           -0.8891228500950599,
           -0.8415684589930001,
           0.32691103720543446,
           -0.6285355803273869,
           0.20812600394310996,
           -1.3709329918834359,
           -0.6036693207349205,
           -0.5920394295125302,
           3.1380773941877056,
           -1.5014262687022446,
           -0.5602900713950949,
           -0.36443446599371276
          ],
          [
           -1.7433176767700245,
           -1.7086628542426907,
           -1.8745373300010348,
           -1.8171703206452867,
           -1.777427185624602,
           -1.8715859833217248,
           -0.37565686109294705,
           2.645618622561331,
           -0.15278460366290741,
           -0.07896065758627592,
           0.21532424141909937,
           -1.5851909601659182,
           0.4973053364932034,
           0.6293890534649691,
           -0.36656008055165096,
           -1.5811474346898464,
           -0.6270588548760873,
           -0.8354871862308633,
           2.4576193148447314,
           -0.8665860844886859,
           -0.30827336784848863,
           0.04606614667869227,
           -1.626968297203805,
           -0.9318845214829987,
           2.8944231655506134,
           -0.7264639883747208,
           -0.732299978759366,
           -0.36161375925518763,
           -1.7606504243877044,
           2.526671360474745,
           0.8931371403710124,
           0.10112046899473376,
           -0.6773542237183607,
           -2.0553805104496328,
           1.727010518155429,
           3.681276732484011,
           -0.7771379765992937,
           -1.556368670209312,
           -1.3329222037288526,
           -0.9006494976610818,
           0.38608207709528075,
           -0.8526348000741518,
           -1.9464254034912885,
           -0.8611950460393677,
           0.19594531496716053,
           -1.7060621514670447,
           3.291583827472921,
           -0.561538127049256,
           0.5312367597338881,
           -0.4259099788779565,
           2.614847650786926,
           2.8366067922330895,
           -0.9550275123895257,
           -1.238717609364791,
           -0.5586752028293906,
           -0.958477212557162,
           -1.0006170612443344,
           -0.038053878248056124,
           -0.18047182812104026,
           0.2799958842507126,
           1.5135269767983144,
           -0.9670423172803962,
           -0.7381332005886124,
           -1.4238481067771587,
           3.6109343256038575,
           -0.2841291905950077,
           3.622533722307027,
           -1.8112016086816658,
           -0.405264060524029,
           -0.3300415853189993,
           0.025732670377952127,
           -1.7117749646652354,
           -1.4555907923734033,
           -1.8612573503556862
          ],
          [
           1.2327971378976412,
           0.7527820869063669,
           1.8977421324019008,
           0.9582898420755583,
           -0.024720709841986325,
           0.7150568714156148,
           -0.012031750317168893,
           -0.37898473157819756,
           -0.39789357032029776,
           0.3601195082541159,
           -0.590518498998393,
           0.8809708282428962,
           -0.6434365033303977,
           -0.3868816463293471,
           -0.24836769655235863,
           0.19403267513746672,
           -0.35070107752740537,
           -0.3856614019367321,
           -0.20726876473836223,
           0.2585990307135839,
           -0.39158640940934014,
           -0.06384667474947475,
           -0.20429118071683697,
           -0.36706503714849736,
           -0.32975087526845487,
           -0.39814353993959595,
           -0.6692449218285877,
           -0.2708568589525472,
           1.0991385868352521,
           -0.3510558030977963,
           -0.8510013705049222,
           0.3818753447280918,
           -0.681040918796411,
           0.7889254977087362,
           -0.6959134824907681,
           -0.5784660604939146,
           -0.655213347210397,
           1.7993581546176165,
           1.8445165535035979,
           2.080396717570911,
           -0.44488934238540434,
           1.816369586716177,
           0.05673363591737099,
           -0.36479812704592,
           1.0415548519955056,
           1.6309060365442405,
           -0.4133237800896815,
           0.4121783971306728,
           0.23845393651759586,
           -0.15838719002457136,
           -0.4592278850883899,
           -0.319650350698014,
           -0.35034789774106756,
           -0.5446020279174302,
           0.07082164831106627,
           -0.5624395001614864,
           -0.5381360288570757,
           -0.8394713683284332,
           2.4399630325195067,
           0.030063465878749158,
           -0.7051856213232471,
           -0.9234507415924488,
           -0.3920311585653499,
           0.9531839842361753,
           -0.5912098044762153,
           -0.256104732566219,
           -0.5197771724528158,
           -0.2319595913590223,
           -0.29349041168026113,
           -0.3597034986425282,
           1.3709888844856803,
           0.6258890200781239,
           0.46665050722154067,
           1.8486789455654435
          ],
          [
           0.22694951678905523,
           -0.34007368029736296,
           0.425241883952051,
           -0.40176387909328937,
           0.7735211093670231,
           1.1304993419445248,
           -0.8038958790987552,
           -0.7563524244722093,
           -0.3329501978879459,
           -1.1514874227263099,
           -0.1307121561938646,
           0.19473363740271282,
           -0.1936582522170805,
           -1.0261163170390546,
           -0.7013728444936683,
           0.3066305492665928,
           -0.7453505194662591,
           -0.006748725870330694,
           -0.9593302037284165,
           0.3717330875114747,
           -0.9312059755361309,
           -1.0101631585162378,
           0.4904889447202973,
           0.6307477832201086,
           -1.1100243947017043,
           0.21743461780721474,
           0.5955627406959193,
           -0.952058562555766,
           1.3069960995854748,
           -0.7819291394673042,
           -0.929230496015009,
           -0.26662068045283044,
           -0.47039781569818606,
           0.9756548636709083,
           -0.6998426129959134,
           -0.7014295535302837,
           -0.3901877304673523,
           0.8057282755099439,
           -0.21205084603495056,
           -0.02358740768407922,
           -0.6642994162697028,
           0.9619651306386314,
           0.5512940546814837,
           -0.1678571459364676,
           -0.14520442914639692,
           1.1304295674071039,
           -0.7398039930515659,
           -0.7101569946434775,
           -1.491057736115849,
           -0.5805896956525357,
           -0.9948101590206094,
           -0.5830393533621574,
           0.2657540532867124,
           0.49718966551902744,
           -1.0585059379887967,
           -0.7957047874334883,
           -0.6581468848868592,
           -1.274235834589057,
           -0.1375318884851595,
           -0.6773730057786647,
           -1.1883186477459697,
           -1.0657593151050753,
           0.043678477762633006,
           -0.5096514065609488,
           -0.6916237844712383,
           -0.8198315896281764,
           -0.6147541636964515,
           0.3275857382930704,
           0.11744897074862469,
           0.11409866094441412,
           0.09044638321760043,
           0.8763010584066272,
           -0.05498844485569231,
           1.5461927386900882
          ],
          [
           0.1543258201687917,
           1.0889278270590306,
           0.4768586109560952,
           1.484536500156316,
           0.9077955995033554,
           0.39162953622570285,
           2.3110002534003917,
           -0.11985001391967813,
           -0.9536353425074225,
           2.1055163869614173,
           -0.8125612884451855,
           0.20044602396058148,
           -0.9104139678655221,
           0.8620741740891262,
           1.6143887972739113,
           -0.4042877157327113,
           0.5277817865622952,
           -0.6236206023369947,
           0.371909403510942,
           -0.19430203112262923,
           1.6942426587416952,
           1.8433049296727866,
           0.5463178003399145,
           -0.6927449156438612,
           0.6276262670196524,
           -0.688033155272782,
           0.060800079779661384,
           1.682135801266963,
           -0.09453124190500174,
           -0.0731743400333317,
           -0.3548729705483395,
           -0.030361801454796083,
           0.15425450005633412,
           0.35380745622367,
           -0.6504099266060411,
           -0.4207131938493,
           -0.04059865716919735,
           -0.4896920504087162,
           0.8646967219429355,
           0.47590523121543127,
           1.7092175779593877,
           -0.4118576127123734,
           0.7923566350238409,
           -0.7604441807521576,
           0.08745500428902887,
           -0.4921218632026435,
           -0.34783950350199583,
           0.47105190645971384,
           1.432277319557354,
           1.4462052984916238,
           0.35216062157484485,
           -0.6130093232725023,
           -0.44973578777287015,
           0.4545881523090214,
           1.7734599426393334,
           1.2268787705865136,
           0.4126841343590058,
           0.4840656714407474,
           0.3779635678865128,
           -0.6807821627994848,
           0.2807540265557162,
           1.700865455692971,
           -0.6812987304514311,
           0.38203590603476845,
           -0.4596897011546989,
           2.050673819394605,
           -0.5479081279754203,
           0.9895443653206806,
           -0.4754401589524239,
           -0.5752639544090339,
           -1.0881310130050181,
           0.6782650621978384,
           -0.52078092087258,
           -0.35770129638606374
          ],
          [
           0.6074957221016077,
           0.5679608480271607,
           0.5628623095100569,
           0.47956576038723286,
           0.6134054418282793,
           1.212501942409235,
           -0.14745635458696124,
           -0.5151135250541864,
           -0.39233965047025404,
           0.2430251872036808,
           -0.2644468731257978,
           0.6181931513418083,
           -0.27855864250341794,
           -0.5010893049050694,
           -0.11760768360267691,
           0.02065874138498273,
           -0.4043284007654953,
           -0.4240793358554306,
           -0.5729398797283985,
           0.1710170276488847,
           -0.1659724407429732,
           -0.004171571044385353,
           -0.09344548126086154,
           -0.02415901598327564,
           -0.5123338685973247,
           -0.44323987889638045,
           -0.5136165395106335,
           -0.2471388433981483,
           0.42775107759776604,
           -0.530848875577326,
           -0.5653536274089632,
           0.031672305559514384,
           1.3715524125132728,
           0.49068884125587914,
           -0.37260111651715194,
           -0.5865071305462685,
           0.16032273331754607,
           0.2492534027205321,
           0.01333669265819818,
           0.39248309759774996,
           -0.13603140876152728,
           0.41845671427487496,
           0.36648899692348025,
           -0.1909533032817408,
           1.0788348390381548,
           0.1155238476973945,
           -0.5498120816444605,
           0.2330649495636082,
           -0.3691229727262653,
           0.02225867197360186,
           -0.2914211470442002,
           -0.6440088120689499,
           -0.3646057143983463,
           -0.027039335039649885,
           -0.2794708249580318,
           0.2705246873627382,
           -0.046474883790894456,
           -0.5593880568902625,
           0.41804305850730383,
           -0.22073729437924958,
           -0.39983499819907,
           1.0557227850034232,
           -0.18506306523484128,
           0.15070469586184737,
           -0.6028505790545716,
           -0.2064539520454366,
           -0.5713142584345373,
           0.3156517663133605,
           -0.12216317443215116,
           -0.18638439680104943,
           -0.0821162440957723,
           0.12955304960894665,
           -0.07457151635166591,
           0.39961831454382685
          ],
          [
           -0.021356398930998673,
           0.22990117331495188,
           0.22095511978924706,
           0.4737712522498949,
           0.25504777060092354,
           -0.5486168280702587,
           -0.26677455838806297,
           -0.46844036847923876,
           -1.166124956442136,
           -0.5195012569824431,
           -0.8676450383217289,
           0.05703653974131485,
           -0.7902730868723313,
           -0.3221482475379985,
           -0.6617654426169984,
           -1.0221919038104212,
           -0.9179528630730577,
           -0.8124562545348718,
           -0.5440817833211207,
           -0.949820394724258,
           -0.08701707803109582,
           0.1292689804326341,
           -0.0893624350997284,
           -0.7341852631479563,
           -0.4068197167762758,
           -0.9041670956329861,
           -0.7529672821880405,
           -0.04754655944179431,
           -0.2464031948167873,
           -0.5248018044055885,
           -0.8596320921379148,
           -1.0668036561237266,
           0.5031753604393102,
           0.25485204093466274,
           -0.9624841583926049,
           -0.5381227954058193,
           -0.33538389513229344,
           -0.05116880073848418,
           -0.46969628184642825,
           -0.003272424101805666,
           -0.05825822833144715,
           -0.21600584148796406,
           -0.11528503019380107,
           -1.010861074141734,
           0.04008612867442677,
           -0.2663731414662557,
           -0.5127089510914017,
           -1.040693820744894,
           0.2021726090443382,
           -0.6800705254963811,
           -0.6613663565398267,
           -0.7187108731647674,
           -0.7229595583468478,
           0.026354045659639697,
           0.3091029625693189,
           -0.3527191934632744,
           -0.31592048663946337,
           -0.4175961747323818,
           0.17381830738861248,
           -1.4512054904692586,
           -0.043690479171037896,
           1.714551528794432,
           -0.780049342471954,
           -0.3394063707706727,
           -0.6608707202321541,
           -0.16499140921455943,
           -0.6459936354463468,
           0.32269878896512255,
           -0.46365647196034165,
           -0.6747636869884559,
           -1.140471795875351,
           -0.16560072346152202,
           -0.8715990802457464,
           -0.06432188127629328
          ],
          [
           2.901412215098279,
           2.485129558313634,
           2.3284215940865387,
           2.304922572274842,
           0.6360179143067619,
           0.12652533961019913,
           -0.716972777177872,
           -0.7550229609973859,
           -0.4390487449982494,
           -0.4627259732795122,
           -0.08326111889993205,
           2.2978729183169837,
           0.29484765484397046,
           -0.9345252169674949,
           -0.851798116696449,
           -0.49471078330844165,
           -0.7831238835831082,
           -0.6596101299959827,
           -1.8504808641864192,
           -1.1964575154784765,
           -0.8759779597615707,
           -0.6608184659928332,
           -1.0507765497082864,
           -0.8874809714701049,
           -1.1328350380338812,
           -0.7393050975427454,
           -1.2756151331638077,
           -0.6858700098146847,
           -0.25528099713818525,
           -0.7350944321851807,
           -1.0198180746568866,
           0.25142686018305943,
           0.7210096660300861,
           -0.14902308635661152,
           -0.8458580363506261,
           -0.6211864824087001,
           -0.4542098984540094,
           -1.3288359859816539,
           -1.059949269359112,
           1.9408834688890695,
           -1.6385644134648774,
           -1.365881086345265,
           -0.7061918056421084,
           -0.4037436969559221,
           1.8195563924197318,
           -1.113972253328595,
           -0.6998138888997938,
           -0.9419440473207837,
           -0.9827817545220487,
           -0.8114994497466838,
           -0.981490523825304,
           -0.7100637781750536,
           -0.9007058856133685,
           -0.7825209073374064,
           -0.7941579981560792,
           -1.376068068699013,
           -1.620499593698798,
           -0.43915675411835015,
           0.2526327888030112,
           -0.23216099327126183,
           -0.6993229559748337,
           1.210566836599519,
           -0.43754134124911637,
           -1.4001252237453026,
           -0.723456790653631,
           -0.6484511882975063,
           -0.6899992603439863,
           0.39391045211100717,
           -0.13380333346824416,
           -0.3241804380844233,
           0.28287906736449875,
           -1.0930832437859321,
           1.1471556006717913,
           -0.08305185254284096
          ],
          [
           0.7780381275954886,
           0.5390893163623512,
           0.041315242953484196,
           0.05669604032386414,
           -0.23048220472379838,
           -0.02915319391782021,
           -0.4386015121095351,
           -0.5825605796237386,
           2.7174188020612395,
           0.42497023871811496,
           3.3562505439999075,
           0.6154220096210047,
           2.6567251141353108,
           -0.3908333732593594,
           -0.5213065595501166,
           0.48995736391253186,
           -0.1927861188074232,
           0.35638066294457516,
           -0.80079618291172,
           -0.8073424344366127,
           -0.5088364732734391,
           -0.823061811195689,
           -0.9711526917703583,
           -0.11698960316908519,
           -0.4681552938228687,
           0.3436027388112138,
           -0.8633118972679777,
           -0.12003581370436428,
           -1.0855056704704253,
           -0.5937379046534432,
           0.05040419641652823,
           -0.22547440403695052,
           0.498962504014959,
           -0.9496865830673867,
           -0.44940517462337765,
           -0.2508933501126547,
           0.3210574300150534,
           -0.8806862132141069,
           -0.45068291733533794,
           -0.3710290542682912,
           -1.4210526629807145,
           -1.1029507790418431,
           -0.6623869230147602,
           0.9268034535566917,
           -0.22117090173859957,
           -0.6903265710464808,
           -0.4808137613642795,
           0.09381409831684807,
           -0.8600217064873955,
           -0.5764961797066559,
           0.22493924611210178,
           -0.5996917883629822,
           -0.3379610788654304,
           -1.0710453559923248,
           -0.6505996189075577,
           -0.6651475748001789,
           -0.87065024644144,
           1.2940800080865178,
           -1.25794871499337,
           1.7283918765415534,
           -0.6652774266420357,
           -0.5926304809705373,
           0.5432798135021221,
           -0.791083032921188,
           -0.1057699350795273,
           -0.6099401052038164,
           -0.25270927611144506,
           -0.4960132162913371,
           0.06210170173624893,
           0.03243379270554623,
           0.07960779567257416,
           -0.9534227511155727,
           1.3480250998429628,
           -0.8642236338379452
          ],
          [
           -0.11221381645507138,
           -0.0016058942431194856,
           0.38158725964988227,
           0.3097313571134412,
           2.160494820409644,
           1.6644297140502289,
           -0.7653578988173736,
           -0.9648695230879836,
           -1.447628323637686,
           -1.2483849301335923,
           -1.2111195565508468,
           -0.005229114728715877,
           -1.1807385756365898,
           -1.2821003992881264,
           -1.0094960755172,
           0.39446276287331233,
           -1.1321301773646608,
           -0.3002137806753665,
           -1.248357319556847,
           -0.45986149569093115,
           -0.6318872147432955,
           -0.6145664253262089,
           1.8519006152447597,
           0.47031118553286755,
           -1.116883219956531,
           -0.3061269354210241,
           1.0111013106475788,
           -0.758108971179101,
           1.7031821986197964,
           -1.0140407435060417,
           -1.2650100534417532,
           -1.4949815714209382,
           -1.0040350162870448,
           1.8540445377664538,
           -1.0457023653465796,
           -0.707982890894583,
           -0.5180902990881167,
           0.3682151062066599,
           -0.6318358094795625,
           -0.24478043140444164,
           0.795890363030054,
           0.07734055793184993,
           1.7002615320621275,
           -0.6725716792197096,
           -0.8172232253415949,
           0.36982722209270125,
           -0.8218247224004873,
           -1.521820474447957,
           -0.7156472224483198,
           -0.9125303619578693,
           -1.3913008501744673,
           -0.8106347051587446,
           0.806429149576632,
           2.3733779784987092,
           -0.4022128120375236,
           -0.6365732795568847,
           -0.4362798685490114,
           -1.1426995090906502,
           -0.4295329579446733,
           -1.7527749166970996,
           -1.015189286813479,
           -0.14757083014447195,
           -0.4057304914249122,
           -0.42472111179842176,
           -0.8397487815974338,
           -0.6543262940659106,
           -0.8182229537567124,
           2.045670063773048,
           -0.30718516000928364,
           -0.5599246715157876,
           -0.9378107596613241,
           1.5537390025201547,
           -0.5292121275125667,
           1.2023981793027
          ],
          [
           0.25647122852205523,
           0.5820316854862323,
           0.86843457456774,
           1.0730212749338315,
           1.7413095812790762,
           1.135784147232186,
           -0.502985274457706,
           -0.7687941332464802,
           -1.4944689247376182,
           -0.7723413853107187,
           -1.2459349119431715,
           0.36156756493636605,
           -1.1558932604531553,
           -0.8871276438990018,
           -0.7630998347472594,
           -0.25526826340353215,
           -0.9825737953962005,
           -0.5501107042476484,
           -0.7559833971406751,
           -0.73383696306379,
           -0.19643627079320275,
           -0.14099789679548372,
           1.5330300384104691,
           -0.17523735465998222,
           -0.6380158475371354,
           -0.5549624875021677,
           0.2495864340664091,
           -0.42952455123416844,
           1.1815627213413515,
           -0.8297172463280452,
           -1.1865004697799986,
           -1.1748704648212647,
           -0.25218274791617307,
           1.6328742525126463,
           -0.9986869519588378,
           -0.6146629592930101,
           -0.5200015393193346,
           0.25490448370366214,
           -0.5317649934641894,
           0.30248564119207516,
           0.892422130707605,
           -0.047589852271264145,
           1.3894939010985334,
           -0.9954005478426402,
           -0.32583331137905164,
           0.04140492580016085,
           -0.6459473516603103,
           -1.3776397996931316,
           0.061092305822746704,
           -0.8293463317205065,
           -0.9734436943084724,
           -0.7608331768163774,
           0.14618087099041444,
           1.7172116524436871,
           0.1936387922220689,
           -0.16734318089156588,
           0.1132584582700293,
           -0.8530599425626096,
           0.2552140916828294,
           -1.6233643151262,
           -0.6436078609838731,
           1.1660514114639828,
           -0.696727864088616,
           -0.386390279526532,
           -0.7373500142603641,
           -0.36346924356175736,
           -0.7218684948774887,
           1.770678919058855,
           -0.42867212696233437,
           -0.658136308701671,
           -1.121545433714528,
           1.116124618653483,
           -0.6565701933922731,
           0.96856661495769
          ],
          [
           1.490829715431753,
           1.3439070735417473,
           -0.08074580228245702,
           -0.018929337655900758,
           -0.27460958183160034,
           -0.512414171075386,
           -0.6558279926045163,
           -0.6628867629136938,
           1.4588083195591646,
           -0.5606434434921697,
           1.0797643960916594,
           2.58261906206787,
           2.061103739226839,
           -0.9702501829814425,
           -0.41202712850419876,
           0.6763667065989021,
           0.014906293633239337,
           0.580057574924134,
           -0.9119261452795068,
           -0.3408059480051381,
           -0.42452265160952823,
           -0.8572942688541889,
           0.4198229296685581,
           0.6974828822200563,
           -0.7133937530736527,
           0.7575162771080658,
           -0.04318070858934843,
           -0.2092835309381165,
           -0.12306196570305386,
           -0.6086139193675569,
           0.35894048550707447,
           -1.207996718952525,
           0.8795228538366744,
           0.018228097722478267,
           -0.35048764279366773,
           -0.3429959476115897,
           0.5674262972814625,
           -0.3537476445812539,
           -0.30137484355698047,
           -0.9758131632626645,
           -0.058349811464931574,
           -0.4906120673169505,
           0.45020731104097894,
           1.4485872728502844,
           -0.8985237387223547,
           0.04960978138376406,
           -0.639767938230942,
           -0.8499908047769714,
           -1.2604535782854405,
           -0.4430313323605926,
           -0.32207717066999314,
           -0.6268665002679702,
           0.6238829570158768,
           0.18002199989900516,
           -0.580056301856399,
           -0.3359415883558286,
           -0.384080853841925,
           1.924200860369072,
           -1.2934417369586821,
           0.4160441147896942,
           -0.6128790955185078,
           -1.0439500477886199,
           0.6904395737587027,
           -0.1219070713932972,
           -0.23774181921894222,
           -0.49600194153652977,
           -0.34532082213481924,
           0.3590044064889958,
           4.578863713652793,
           4.3593254841124525,
           -0.5321335864416359,
           0.47007244406948534,
           0.9532576686180821,
           -0.25934550137630624
          ],
          [
           -0.2869350635675731,
           -0.17507716159409006,
           -0.10229935003908185,
           -0.09726740130734275,
           0.7019504059805781,
           0.07655266139972684,
           -0.9298207529357482,
           -0.9351435157965797,
           -0.9426921874673823,
           -1.5924012518325694,
           -0.5448572605047686,
           0.06640758747159996,
           -0.3907983388118908,
           -1.185567192849486,
           -0.9963360639938607,
           2.686721092500039,
           -0.6735638018095764,
           3.2600490446623644,
           -1.3095589758721988,
           -0.9047715587516783,
           -0.5991918521800593,
           -0.8946591408639155,
           0.9082820232072705,
           3.5396545337768632,
           -1.1918964685785474,
           3.4997398901843475,
           -0.27650508033691146,
           -0.7855400738010246,
           -0.3264760714674153,
           -0.955341681594013,
           -1.3920451648335135,
           -1.6708046788932263,
           2.865545125398038,
           -0.045903094750386716,
           -0.9723720816244815,
           -0.5903060664013287,
           4.12154731506091,
           0.21824777720839286,
           -0.8294220182418311,
           -0.7640354955786308,
           0.10774994606363869,
           -0.02294859690668152,
           0.38734444294020837,
           3.189793024658084,
           -1.2656907119404364,
           -0.096563449083234,
           -0.8283531002561955,
           -1.627141936367288,
           -1.2262304845665521,
           -0.9593287149880715,
           -1.399860852222851,
           -0.8088547822586959,
           3.0221795712110158,
           0.7052246970926301,
           -0.7139675788807177,
           -0.7006066771615865,
           -0.7122463895893263,
           -1.3448737632907184,
           -1.1698774582885154,
           2.951352474207693,
           -1.0488225432726341,
           -0.01630458656468282,
           3.8720217246347963,
           -0.8589094710781551,
           -0.5663887870577936,
           -0.7230384593835898,
           -0.6893547804844473,
           0.6498714745010796,
           0.20746877596842642,
           -0.14297911601728985,
           -1.2468372953432587,
           -0.3944728034244474,
           2.6704386756015666,
           -0.3452991341442506
          ],
          [
           -0.4449155479546411,
           -0.6955623204441249,
           -0.622356859263901,
           -0.6475527437710872,
           0.14479567065639073,
           0.038137118590336465,
           -0.2539178009963889,
           -0.30541061277431697,
           0.5915996435590951,
           -0.2372898272883877,
           0.2600820634999136,
           -0.5187299411515334,
           0.24611088017903615,
           -0.47425563674289556,
           -0.23825322789945536,
           0.3437533691170635,
           -0.22573591135070625,
           0.3242613480720637,
           0.1736454297224639,
           0.31136490507146375,
           -0.397334047184121,
           -0.4689455021574023,
           0.6908500872959822,
           0.5562343699970881,
           -0.19518135519025961,
           0.4476077224627735,
           0.4477606810652492,
           -0.4540743987900197,
           0.37733132531491204,
           -0.3304063106777937,
           1.46336013440327,
           0.10629959248405778,
           0.5387583787108461,
           0.14729935910977607,
           0.225665866712613,
           -0.11546401662625844,
           0.5122231870712766,
           0.3567872508969133,
           0.42879119774982155,
           -0.6351283437017137,
           0.5991088382923191,
           0.6903415060028952,
           0.19640284086596735,
           -0.07176860922281762,
           0.10754522237921153,
           0.4219616747333678,
           -0.1391949410979119,
           0.10836975933740756,
           -0.21762568132689536,
           -0.19627063941509354,
           -0.20268194094379557,
           0.1158773066740888,
           0.38452627606144535,
           0.3029310932646259,
           -0.34010972757121477,
           -0.04798660100431727,
           -0.017492136999803384,
           -0.29816904966995367,
           -0.4015623253686549,
           0.6444913329903669,
           -0.25113915685313704,
           0.5953362960237976,
           -0.12862331302216845,
           0.4306977466349577,
           -0.06304415375499299,
           -0.37667491788884117,
           -0.14508222228531792,
           0.09045845685165557,
           -0.024984048085993235,
           -0.11109640200511862,
           -0.26251981076059316,
           0.15775227997034696,
           -0.23752122666246903,
           0.22245340986567738
          ],
          [
           -0.9991312117645484,
           -0.9708357347261457,
           -1.0636343930990544,
           -1.0262372052695792,
           -1.1108304781471188,
           -0.8455997428467165,
           0.06360246621607529,
           3.1144459444353783,
           -0.24251800152055183,
           0.416004435594364,
           -0.0692749755310927,
           -0.8982208516727301,
           -0.23288937162168932,
           1.8051818186060953,
           -0.19737707672355437,
           -1.1344364901092283,
           0.497992958586434,
           -0.8991695416499985,
           1.4811456330669759,
           -0.6260936933527673,
           0.5875797738862577,
           0.7858214298749249,
           -0.8685833617986674,
           -0.6324449698186143,
           2.0148182275408186,
           -0.822620931122956,
           -0.6669468598333377,
           0.08083226755934579,
           -1.25949442194489,
           3.071479732054211,
           0.021444102618119663,
           0.7142895257226154,
           0.6511265041320328,
           -1.1112192387060111,
           0.2705898971750237,
           0.8251826967250806,
           -0.5171210514042341,
           -0.9826140333766024,
           -0.6538202650784932,
           0.24782346095412597,
           0.938959856859073,
           -0.15886281599717453,
           -0.9789011830358697,
           -0.6609761925240393,
           1.2659178194818959,
           -1.0033219035385106,
           1.6690529716708769,
           0.16654850700828464,
           1.2780786074868122,
           -0.21094297577711937,
           1.4866593632843221,
           0.8010055736278385,
           -0.90276782454964,
           -0.8273558553739507,
           0.32694039150963256,
           -0.42084445543461907,
           -0.5011394412198588,
           -0.20849779443754718,
           0.8766673935370612,
           -0.08343722419378606,
           3.304331009700809,
           0.7895458142819245,
           -0.7552007594744645,
           -0.4460239698136891,
           0.8368483238512783,
           0.4074892854901731,
           0.7646054983762576,
           -1.126920832636568,
           -0.3810776080239269,
           -0.34982982289553644,
           0.6162371937160916,
           -0.9658916498279788,
           -0.8615631631227035,
           -1.018470035937724
          ],
          [
           -1.2263757544173048,
           -0.5302284149929101,
           -1.0737342162854815,
           -0.3789185188930392,
           -0.4255824156787843,
           0.3161670473494783,
           3.271107504318504,
           0.45659180788033904,
           -0.11400218077495461,
           2.42640319315257,
           -0.38689309444186654,
           -0.9644087714440199,
           -0.515533178200477,
           2.5942844012302095,
           3.3275451777886587,
           -0.7923070260376773,
           0.6502049527776799,
           -0.3602722861121651,
           1.3978536821526917,
           0.647889890108259,
           3.049841647776285,
           2.9053014331544786,
           0.7971976405737147,
           -0.7365299077095586,
           1.594847361986257,
           -0.21665223258424837,
           0.7263793828711059,
           3.710246108454579,
           -0.5786292990616526,
           0.481301478543125,
           1.2185680487497008,
           0.017105000648610577,
           0.5277459458283618,
           -0.12965971366734938,
           0.09726881944203115,
           -0.34371303851102103,
           0.2855151822372323,
           -0.32223827858084886,
           1.2074558989155182,
           -0.7759850408474291,
           1.4202770754114147,
           0.670757856552761,
           0.6648456340583325,
           -0.578214987328509,
           -1.1115277705285767,
           -0.27361985788693294,
           -0.20963290807883123,
           2.3354042377062765,
           2.0981110507752283,
           3.4809320180349124,
           1.0445236734538381,
           -0.46221429096012334,
           -0.1580599337381357,
           0.3756973628451359,
           2.72185861341111,
           2.892080050901663,
           2.0125922349419487,
           2.338569034634509,
           0.2134049936471973,
           -0.4419918807186252,
           1.2674492683027727,
           1.2569670061802327,
           -0.5932645812910363,
           0.9753169560169548,
           -0.38848813602360527,
           3.5867198525895945,
           -0.25970073027766677,
           0.19499467461735553,
           -0.39759416690090693,
           -0.19433986591018546,
           -0.7730314060364145,
           0.006042676450848119,
           -0.9378059612425167,
           -0.7860034001016516
          ],
          [
           -0.1368864816336133,
           0.42238421569052875,
           -0.01802873172030464,
           0.5223915689696125,
           0.3877726802238392,
           0.7155434029743368,
           0.6064538823478053,
           0.19248656286718507,
           -0.031099120637150143,
           0.6431514731513353,
           -0.24078920442087567,
           -0.03235417720880687,
           -0.32958806580137395,
           1.214477676238515,
           1.0284131984211988,
           -0.2960993881434168,
           0.9852023026629833,
           -0.2755834097008184,
           -0.2756501329362717,
           0.3007051226412684,
           1.7056746578634956,
           1.5914473911968223,
           0.6145132588417839,
           -0.15340968814110004,
           0.07852962838384377,
           -0.42171931478323443,
           0.6685272718482581,
           0.9901239389476346,
           -0.3277579290920474,
           0.2733066656746866,
           -0.1431873566554936,
           0.13646052951375853,
           0.04680337076976626,
           0.24990242308648228,
           -0.2186318050445399,
           -0.38951137486783344,
           0.40606191671544,
           -0.539651595639292,
           -0.26083248793116076,
           -0.004992519754083322,
           1.3890297906453974,
           -0.6827942602897017,
           0.7935296574244987,
           0.5196948400157043,
           -0.4245276177334071,
           -0.509464271743101,
           -0.28696298767298956,
           0.3543757211809874,
           1.4035812556545866,
           0.7628664232134088,
           -0.09539241919027178,
           -0.449328894935887,
           0.048521974651394406,
           1.2770862235709872,
           1.7031757648727228,
           1.5098899129915302,
           1.9844992812209679,
           0.6330861120246464,
           0.05889379686301526,
           -0.4544846544225163,
           0.9769842256770006,
           0.9649602500072136,
           0.39592117817201666,
           0.33496591027338196,
           -0.28164326241879706,
           0.9468981870014107,
           -0.27138608401876135,
           0.6659055266628695,
           -0.35009124385477647,
           -0.35759716091404764,
           -0.8649329604437047,
           0.26031418158989156,
           -0.34902497879175404,
           -0.8084941498813021
          ],
          [
           -0.2761132341285496,
           -0.5339247200075788,
           0.0141870974869126,
           -0.242448752845724,
           -0.029052227605526126,
           0.8496365372616722,
           -0.20896258978660798,
           0.3060348084903472,
           0.6828994650024186,
           -1.0406113889216833,
           -0.25201612171011134,
           -1.0204779892222724,
           -0.5344944959944714,
           0.9034573652372525,
           1.2397908126697037,
           1.9766650652683109,
           3.1707014649148695,
           2.1009669297281057,
           0.9305669945807483,
           3.687879037171068,
           -0.10276866334912867,
           -0.834576276059693,
           0.8370470594229019,
           1.3396951646362136,
           -0.2159149003467989,
           1.8719418237385899,
           3.452427065712987,
           -0.09549340174786064,
           1.510024662910988,
           -0.04550947583260382,
           1.4684174343266798,
           2.3150776214497863,
           -1.3699258242108983,
           0.4338163524993678,
           1.589551034536364,
           -0.02074126259875894,
           0.2395219140770377,
           2.784508300874239,
           1.045424630731899,
           -0.28153155502243454,
           0.04936790011888953,
           2.2162392614922575,
           0.5288259953880795,
           1.156486625023335,
           0.046863174429703974,
           2.7041552278616168,
           -0.25904110253245,
           1.2383030629840177,
           -0.8441624618555692,
           0.7638453825987389,
           -0.7667835364828326,
           0.2953953340928885,
           1.5061172389203752,
           0.09427735916279169,
           -0.8209113210442965,
           0.8932259464788795,
           1.5213540364260227,
           -0.03243080888395067,
           -0.2607076348377089,
           -0.003603769998173403,
           0.29756698250245917,
           -0.8036855123577556,
           0.7846123036572249,
           2.9754318225091265,
           0.08291266909780924,
           -0.22968672323927347,
           0.23942613999440415,
           -0.43885850955150835,
           0.19828687934782385,
           1.1094947403445912,
           1.4908988646765216,
           1.1931015153820121,
           1.1187916420635646,
           1.5050559422746534
          ],
          [
           0.18639722108043438,
           0.1721903654505479,
           0.36605303998886446,
           0.1431821539874765,
           0.3410148764250983,
           0.589000967564782,
           -0.23099519723575068,
           -0.26750719112993926,
           -0.10659106595674904,
           -0.3170548828162487,
           -0.3490787824910735,
           0.12146147196700778,
           -0.33814598756200837,
           -0.010992455945975603,
           -0.018267503119184177,
           0.8222397864586845,
           0.12463544068570237,
           0.6380572250850369,
           0.12081888669876224,
           0.6734919447291771,
           0.1176471204807271,
           0.10381486317657439,
           0.5965297466351849,
           0.8026301218454712,
           -0.3923669394143166,
           0.6617774963094559,
           0.6663283475656501,
           0.028799234384310462,
           0.699925258525883,
           -0.305994166412998,
           -0.5626849506121145,
           0.2560626607112726,
           -0.3748348159372593,
           0.6503333763345236,
           -0.2308410842486063,
           -0.40350992103645117,
           0.27106358124340163,
           0.8014768350381416,
           0.2890082347161539,
           0.3811073635851666,
           0.4916492304793113,
           0.39854977361935184,
           0.6559582094660324,
           0.6839500735728771,
           0.0007208407267888813,
           0.6903188932091617,
           -0.3838761588457009,
           -0.11727064935823675,
           0.1677135332885636,
           -0.09988158344712965,
           -0.4788217300954857,
           -0.22888307493318064,
           0.6315182449554214,
           0.4188878380244135,
           0.14086549750989447,
           0.4751396997948998,
           0.7584396028611661,
           -0.5175066186015985,
           0.38482164986573253,
           0.6876521500434769,
           -0.6040934256455043,
           -0.5030739013969566,
           0.753068940582825,
           0.7536854403772784,
           -0.3046496081102557,
           -0.27637777777058004,
           -0.31357715364659305,
           0.4082402057320506,
           -0.08178299282892058,
           -0.1734199248101439,
           0.40199815179816295,
           0.7488060592990005,
           0.5823642934635157,
           0.8806110510558185
          ],
          [
           -1.4281814546206497,
           -1.7123589225353533,
           -1.8949181735452914,
           -1.7375613875734062,
           -2.048806191686599,
           -2.32360290844311,
           -0.3678566596809844,
           0.30646940611513684,
           1.3352670319755882,
           0.2474897431486776,
           1.5629070456028842,
           -1.4556762768269271,
           1.7242158676800436,
           -0.1271580361294994,
           -0.31945708512482285,
           -1.0586490305157956,
           0.25805500587011054,
           -0.5152375775542957,
           0.6180789807001651,
           -0.31907173351723306,
           -0.7785690373817057,
           -0.9095492611923781,
           -1.639473207329514,
           -0.83642359419421,
           0.5967066319772559,
           -0.4453773514122575,
           -0.5733716129432048,
           -0.37380035189348265,
           -1.9008431905004157,
           0.5952456770491733,
           1.8366005058744106,
           -0.22011694133175422,
           -1.1879788095888855,
           -2.033926016417731,
           2.624992433646111,
           1.7410559437846083,
           -0.7684482358621338,
           -1.3758620292960047,
           -1.1017534308869372,
           -1.9030267668322671,
           -1.9274151219011912,
           -2.284793631000353,
           -1.895546151801524,
           -0.31077836098179706,
           -1.4787043986189865,
           -1.4104124396931152,
           1.4713590767878741,
           0.6129412389941027,
           -0.6774127227415392,
           -0.5008060760370955,
           1.7081860451377668,
           2.040205112488038,
           -0.9422746282877317,
           -1.4597663282873148,
           -1.0061289688586976,
           -0.438453180751604,
           -0.4400144884561119,
           1.1942172143523322,
           -1.9711159068413426,
           0.20534360706881039,
           0.16351866476708,
           -1.19884016143716,
           -0.30588036906660665,
           -0.6830493387200637,
           1.7680494386387597,
           -0.5280723456635236,
           1.7723696790443826,
           -1.8028729534943928,
           -0.1208844829113081,
           0.11587210115496689,
           0.15611618503103908,
           -1.762255375650647,
           -1.0294243391372622,
           -1.7191841281638547
          ],
          [
           0.1773321713083851,
           0.9724583005139237,
           0.38188235150072763,
           1.0299755473723053,
           0.21610474341988964,
           0.22770609108134685,
           0.4317373484854491,
           -0.003959905970358465,
           0.972213184900742,
           0.4723888019034069,
           -0.010306767706212649,
           0.1638039821333844,
           -0.2540338422574879,
           1.288963282710353,
           0.7851530195651729,
           1.1512669436179346,
           2.187051003819847,
           1.2285557752424736,
           0.3428668711780648,
           1.1932632852403182,
           1.3642784756695967,
           0.9921455000603158,
           0.5360483555824641,
           0.4533569112637101,
           -0.0581452290990374,
           0.6569951655570465,
           0.9440524844590711,
           0.488142681513439,
           0.6495983863750463,
           -0.06319430946695749,
           0.6270666288867047,
           1.714834904660953,
           -1.101400424219931,
           0.6362434631208727,
           0.6218549753633827,
           0.042985374466749035,
           0.35685284604337414,
           0.7168769376790907,
           0.807396530012035,
           0.2576402580338244,
           0.3882580815694432,
           -0.1859861674692905,
           0.8431169778453489,
           1.14641980894385,
           -0.7754594925585461,
           0.2123010192739945,
           -0.14838332570946275,
           1.5290421534673575,
           1.539840994691497,
           0.9529376176167683,
           -0.14032953857805122,
           -0.2392395899668649,
           1.5694281496492861,
           0.9069881698040273,
           1.317723424022233,
           1.3894052991261692,
           2.0778020631958563,
           0.7840223836933367,
           0.6223122554097723,
           0.33016063015861274,
           0.613849973187126,
           -0.6721998394120345,
           0.9407117571164618,
           1.235903097024403,
           0.01879254602260403,
           0.4913596128860082,
           0.052836058736652786,
           0.6206983775414743,
           -0.1122642703264159,
           0.21827930534968706,
           0.3407541627127686,
           1.4667620885466446,
           1.3112626387506952,
           0.07649364687685767
          ],
          [
           -0.14731443705141686,
           -0.34515917420824427,
           -0.2115291944037428,
           -0.43805995049580626,
           -0.48629969100910886,
           -0.4795961041712592,
           1.2579210763194757,
           -0.4169954512398971,
           0.1650595232159674,
           1.6775202210174425,
           0.07072811717397204,
           -0.21840880678709243,
           -0.25640563713231596,
           -0.01894386816858594,
           0.5663721561921933,
           -0.27085316030575546,
           -0.30081971337224334,
           -0.4518005797264499,
           0.6987586768295775,
           0.5881242298006861,
           -0.32520117626803324,
           0.33010838173419155,
           -0.2701152757995354,
           -0.8537097608599354,
           0.13813773876516702,
           -0.513399090475671,
           -0.6147191320550425,
           0.5079571950342023,
           0.6875815007083239,
           -0.4081212062315099,
           -0.11254739087193606,
           0.026752040845912685,
           -0.4922091273417466,
           0.4352983709135209,
           -0.4524024686968494,
           -0.5523225850042693,
           -0.6041883929063012,
           0.693964049567787,
           2.788663909609682,
           0.3671634873274115,
           -0.4005672015607659,
           1.4370975712563165,
           0.06741834695425422,
           -0.6372165545172012,
           -0.14477241334252872,
           1.3823423662259868,
           -0.4643681389525787,
           1.4900434669420672,
           0.7412224810014443,
           1.0600872326414146,
           0.2796164162958225,
           -0.4771899355701897,
           -0.8872453373090272,
           -0.6681327177136923,
           0.5680604908920319,
           0.6215156478560291,
           0.12475940036468516,
           0.4770625615868804,
           0.9938328347723248,
           0.7303240325514531,
           -0.533824814276948,
           -0.8754933602774166,
           -0.5607086893631614,
           1.085106413712403,
           -0.5631455769050376,
           0.4605600417856733,
           -0.4899932302022711,
           -0.34264116188279314,
           -0.22614473589327658,
           -0.099292858296764,
           0.4696618810810638,
           0.49128181143043503,
           -0.42003704399804087,
           0.8384405647386296
          ]
         ]
        }
       ],
       "layout": {
        "height": 700,
        "template": {
         "data": {
          "bar": [
           {
            "error_x": {
             "color": "#2a3f5f"
            },
            "error_y": {
             "color": "#2a3f5f"
            },
            "marker": {
             "line": {
              "color": "#E5ECF6",
              "width": 0.5
             }
            },
            "type": "bar"
           }
          ],
          "barpolar": [
           {
            "marker": {
             "line": {
              "color": "#E5ECF6",
              "width": 0.5
             }
            },
            "type": "barpolar"
           }
          ],
          "carpet": [
           {
            "aaxis": {
             "endlinecolor": "#2a3f5f",
             "gridcolor": "white",
             "linecolor": "white",
             "minorgridcolor": "white",
             "startlinecolor": "#2a3f5f"
            },
            "baxis": {
             "endlinecolor": "#2a3f5f",
             "gridcolor": "white",
             "linecolor": "white",
             "minorgridcolor": "white",
             "startlinecolor": "#2a3f5f"
            },
            "type": "carpet"
           }
          ],
          "choropleth": [
           {
            "colorbar": {
             "outlinewidth": 0,
             "ticks": ""
            },
            "type": "choropleth"
           }
          ],
          "contour": [
           {
            "colorbar": {
             "outlinewidth": 0,
             "ticks": ""
            },
            "colorscale": [
             [
              0,
              "#0d0887"
             ],
             [
              0.1111111111111111,
              "#46039f"
             ],
             [
              0.2222222222222222,
              "#7201a8"
             ],
             [
              0.3333333333333333,
              "#9c179e"
             ],
             [
              0.4444444444444444,
              "#bd3786"
             ],
             [
              0.5555555555555556,
              "#d8576b"
             ],
             [
              0.6666666666666666,
              "#ed7953"
             ],
             [
              0.7777777777777778,
              "#fb9f3a"
             ],
             [
              0.8888888888888888,
              "#fdca26"
             ],
             [
              1,
              "#f0f921"
             ]
            ],
            "type": "contour"
           }
          ],
          "contourcarpet": [
           {
            "colorbar": {
             "outlinewidth": 0,
             "ticks": ""
            },
            "type": "contourcarpet"
           }
          ],
          "heatmap": [
           {
            "colorbar": {
             "outlinewidth": 0,
             "ticks": ""
            },
            "colorscale": [
             [
              0,
              "#0d0887"
             ],
             [
              0.1111111111111111,
              "#46039f"
             ],
             [
              0.2222222222222222,
              "#7201a8"
             ],
             [
              0.3333333333333333,
              "#9c179e"
             ],
             [
              0.4444444444444444,
              "#bd3786"
             ],
             [
              0.5555555555555556,
              "#d8576b"
             ],
             [
              0.6666666666666666,
              "#ed7953"
             ],
             [
              0.7777777777777778,
              "#fb9f3a"
             ],
             [
              0.8888888888888888,
              "#fdca26"
             ],
             [
              1,
              "#f0f921"
             ]
            ],
            "type": "heatmap"
           }
          ],
          "heatmapgl": [
           {
            "colorbar": {
             "outlinewidth": 0,
             "ticks": ""
            },
            "colorscale": [
             [
              0,
              "#0d0887"
             ],
             [
              0.1111111111111111,
              "#46039f"
             ],
             [
              0.2222222222222222,
              "#7201a8"
             ],
             [
              0.3333333333333333,
              "#9c179e"
             ],
             [
              0.4444444444444444,
              "#bd3786"
             ],
             [
              0.5555555555555556,
              "#d8576b"
             ],
             [
              0.6666666666666666,
              "#ed7953"
             ],
             [
              0.7777777777777778,
              "#fb9f3a"
             ],
             [
              0.8888888888888888,
              "#fdca26"
             ],
             [
              1,
              "#f0f921"
             ]
            ],
            "type": "heatmapgl"
           }
          ],
          "histogram": [
           {
            "marker": {
             "colorbar": {
              "outlinewidth": 0,
              "ticks": ""
             }
            },
            "type": "histogram"
           }
          ],
          "histogram2d": [
           {
            "colorbar": {
             "outlinewidth": 0,
             "ticks": ""
            },
            "colorscale": [
             [
              0,
              "#0d0887"
             ],
             [
              0.1111111111111111,
              "#46039f"
             ],
             [
              0.2222222222222222,
              "#7201a8"
             ],
             [
              0.3333333333333333,
              "#9c179e"
             ],
             [
              0.4444444444444444,
              "#bd3786"
             ],
             [
              0.5555555555555556,
              "#d8576b"
             ],
             [
              0.6666666666666666,
              "#ed7953"
             ],
             [
              0.7777777777777778,
              "#fb9f3a"
             ],
             [
              0.8888888888888888,
              "#fdca26"
             ],
             [
              1,
              "#f0f921"
             ]
            ],
            "type": "histogram2d"
           }
          ],
          "histogram2dcontour": [
           {
            "colorbar": {
             "outlinewidth": 0,
             "ticks": ""
            },
            "colorscale": [
             [
              0,
              "#0d0887"
             ],
             [
              0.1111111111111111,
              "#46039f"
             ],
             [
              0.2222222222222222,
              "#7201a8"
             ],
             [
              0.3333333333333333,
              "#9c179e"
             ],
             [
              0.4444444444444444,
              "#bd3786"
             ],
             [
              0.5555555555555556,
              "#d8576b"
             ],
             [
              0.6666666666666666,
              "#ed7953"
             ],
             [
              0.7777777777777778,
              "#fb9f3a"
             ],
             [
              0.8888888888888888,
              "#fdca26"
             ],
             [
              1,
              "#f0f921"
             ]
            ],
            "type": "histogram2dcontour"
           }
          ],
          "mesh3d": [
           {
            "colorbar": {
             "outlinewidth": 0,
             "ticks": ""
            },
            "type": "mesh3d"
           }
          ],
          "parcoords": [
           {
            "line": {
             "colorbar": {
              "outlinewidth": 0,
              "ticks": ""
             }
            },
            "type": "parcoords"
           }
          ],
          "pie": [
           {
            "automargin": true,
            "type": "pie"
           }
          ],
          "scatter": [
           {
            "marker": {
             "colorbar": {
              "outlinewidth": 0,
              "ticks": ""
             }
            },
            "type": "scatter"
           }
          ],
          "scatter3d": [
           {
            "line": {
             "colorbar": {
              "outlinewidth": 0,
              "ticks": ""
             }
            },
            "marker": {
             "colorbar": {
              "outlinewidth": 0,
              "ticks": ""
             }
            },
            "type": "scatter3d"
           }
          ],
          "scattercarpet": [
           {
            "marker": {
             "colorbar": {
              "outlinewidth": 0,
              "ticks": ""
             }
            },
            "type": "scattercarpet"
           }
          ],
          "scattergeo": [
           {
            "marker": {
             "colorbar": {
              "outlinewidth": 0,
              "ticks": ""
             }
            },
            "type": "scattergeo"
           }
          ],
          "scattergl": [
           {
            "marker": {
             "colorbar": {
              "outlinewidth": 0,
              "ticks": ""
             }
            },
            "type": "scattergl"
           }
          ],
          "scattermapbox": [
           {
            "marker": {
             "colorbar": {
              "outlinewidth": 0,
              "ticks": ""
             }
            },
            "type": "scattermapbox"
           }
          ],
          "scatterpolar": [
           {
            "marker": {
             "colorbar": {
              "outlinewidth": 0,
              "ticks": ""
             }
            },
            "type": "scatterpolar"
           }
          ],
          "scatterpolargl": [
           {
            "marker": {
             "colorbar": {
              "outlinewidth": 0,
              "ticks": ""
             }
            },
            "type": "scatterpolargl"
           }
          ],
          "scatterternary": [
           {
            "marker": {
             "colorbar": {
              "outlinewidth": 0,
              "ticks": ""
             }
            },
            "type": "scatterternary"
           }
          ],
          "surface": [
           {
            "colorbar": {
             "outlinewidth": 0,
             "ticks": ""
            },
            "colorscale": [
             [
              0,
              "#0d0887"
             ],
             [
              0.1111111111111111,
              "#46039f"
             ],
             [
              0.2222222222222222,
              "#7201a8"
             ],
             [
              0.3333333333333333,
              "#9c179e"
             ],
             [
              0.4444444444444444,
              "#bd3786"
             ],
             [
              0.5555555555555556,
              "#d8576b"
             ],
             [
              0.6666666666666666,
              "#ed7953"
             ],
             [
              0.7777777777777778,
              "#fb9f3a"
             ],
             [
              0.8888888888888888,
              "#fdca26"
             ],
             [
              1,
              "#f0f921"
             ]
            ],
            "type": "surface"
           }
          ],
          "table": [
           {
            "cells": {
             "fill": {
              "color": "#EBF0F8"
             },
             "line": {
              "color": "white"
             }
            },
            "header": {
             "fill": {
              "color": "#C8D4E3"
             },
             "line": {
              "color": "white"
             }
            },
            "type": "table"
           }
          ]
         },
         "layout": {
          "annotationdefaults": {
           "arrowcolor": "#2a3f5f",
           "arrowhead": 0,
           "arrowwidth": 1
          },
          "autotypenumbers": "strict",
          "coloraxis": {
           "colorbar": {
            "outlinewidth": 0,
            "ticks": ""
           }
          },
          "colorscale": {
           "diverging": [
            [
             0,
             "#8e0152"
            ],
            [
             0.1,
             "#c51b7d"
            ],
            [
             0.2,
             "#de77ae"
            ],
            [
             0.3,
             "#f1b6da"
            ],
            [
             0.4,
             "#fde0ef"
            ],
            [
             0.5,
             "#f7f7f7"
            ],
            [
             0.6,
             "#e6f5d0"
            ],
            [
             0.7,
             "#b8e186"
            ],
            [
             0.8,
             "#7fbc41"
            ],
            [
             0.9,
             "#4d9221"
            ],
            [
             1,
             "#276419"
            ]
           ],
           "sequential": [
            [
             0,
             "#0d0887"
            ],
            [
             0.1111111111111111,
             "#46039f"
            ],
            [
             0.2222222222222222,
             "#7201a8"
            ],
            [
             0.3333333333333333,
             "#9c179e"
            ],
            [
             0.4444444444444444,
             "#bd3786"
            ],
            [
             0.5555555555555556,
             "#d8576b"
            ],
            [
             0.6666666666666666,
             "#ed7953"
            ],
            [
             0.7777777777777778,
             "#fb9f3a"
            ],
            [
             0.8888888888888888,
             "#fdca26"
            ],
            [
             1,
             "#f0f921"
            ]
           ],
           "sequentialminus": [
            [
             0,
             "#0d0887"
            ],
            [
             0.1111111111111111,
             "#46039f"
            ],
            [
             0.2222222222222222,
             "#7201a8"
            ],
            [
             0.3333333333333333,
             "#9c179e"
            ],
            [
             0.4444444444444444,
             "#bd3786"
            ],
            [
             0.5555555555555556,
             "#d8576b"
            ],
            [
             0.6666666666666666,
             "#ed7953"
            ],
            [
             0.7777777777777778,
             "#fb9f3a"
            ],
            [
             0.8888888888888888,
             "#fdca26"
            ],
            [
             1,
             "#f0f921"
            ]
           ]
          },
          "colorway": [
           "#636efa",
           "#EF553B",
           "#00cc96",
           "#ab63fa",
           "#FFA15A",
           "#19d3f3",
           "#FF6692",
           "#B6E880",
           "#FF97FF",
           "#FECB52"
          ],
          "font": {
           "color": "#2a3f5f"
          },
          "geo": {
           "bgcolor": "white",
           "lakecolor": "white",
           "landcolor": "#E5ECF6",
           "showlakes": true,
           "showland": true,
           "subunitcolor": "white"
          },
          "hoverlabel": {
           "align": "left"
          },
          "hovermode": "closest",
          "mapbox": {
           "style": "light"
          },
          "paper_bgcolor": "white",
          "plot_bgcolor": "#E5ECF6",
          "polar": {
           "angularaxis": {
            "gridcolor": "white",
            "linecolor": "white",
            "ticks": ""
           },
           "bgcolor": "#E5ECF6",
           "radialaxis": {
            "gridcolor": "white",
            "linecolor": "white",
            "ticks": ""
           }
          },
          "scene": {
           "xaxis": {
            "backgroundcolor": "#E5ECF6",
            "gridcolor": "white",
            "gridwidth": 2,
            "linecolor": "white",
            "showbackground": true,
            "ticks": "",
            "zerolinecolor": "white"
           },
           "yaxis": {
            "backgroundcolor": "#E5ECF6",
            "gridcolor": "white",
            "gridwidth": 2,
            "linecolor": "white",
            "showbackground": true,
            "ticks": "",
            "zerolinecolor": "white"
           },
           "zaxis": {
            "backgroundcolor": "#E5ECF6",
            "gridcolor": "white",
            "gridwidth": 2,
            "linecolor": "white",
            "showbackground": true,
            "ticks": "",
            "zerolinecolor": "white"
           }
          },
          "shapedefaults": {
           "line": {
            "color": "#2a3f5f"
           }
          },
          "ternary": {
           "aaxis": {
            "gridcolor": "white",
            "linecolor": "white",
            "ticks": ""
           },
           "baxis": {
            "gridcolor": "white",
            "linecolor": "white",
            "ticks": ""
           },
           "bgcolor": "#E5ECF6",
           "caxis": {
            "gridcolor": "white",
            "linecolor": "white",
            "ticks": ""
           }
          },
          "title": {
           "x": 0.05
          },
          "xaxis": {
           "automargin": true,
           "gridcolor": "white",
           "linecolor": "white",
           "ticks": "",
           "title": {
            "standoff": 15
           },
           "zerolinecolor": "white",
           "zerolinewidth": 2
          },
          "yaxis": {
           "automargin": true,
           "gridcolor": "white",
           "linecolor": "white",
           "ticks": "",
           "title": {
            "standoff": 15
           },
           "zerolinecolor": "white",
           "zerolinewidth": 2
          }
         }
        },
        "width": 1600
       }
      }
     },
     "metadata": {},
     "output_type": "display_data"
    }
   ],
   "source": [
    "fig = go.Figure(data=go.Heatmap(z=std_skills.values, x=std_skills.columns,y=std_skills.index, colorscale='magma', ygap=2))\n",
    "fig.update_layout(width=1600, height=700)\n",
    "fig.show()"
   ]
  },
  {
   "cell_type": "markdown",
   "id": "be6f35d3",
   "metadata": {},
   "source": [
    "## What is the most common technologies in Data science?"
   ]
  },
  {
   "cell_type": "code",
   "execution_count": 118,
   "id": "3d2060a0",
   "metadata": {},
   "outputs": [
    {
     "data": {
      "application/vnd.plotly.v1+json": {
       "config": {
        "plotlyServerURL": "https://plot.ly"
       },
       "data": [
        {
         "alignmentgroup": "True",
         "hovertemplate": "index=%{x}<br>value=%{y}<br>color=%{marker.color}<extra></extra>",
         "legendgroup": "",
         "marker": {
          "color": [
           0.7833500501504513,
           0.5845035105315948,
           0.5007522567703109,
           0.48269809428284854,
           0.48244734202607825,
           0.46263791374122365,
           0.3956870611835506,
           0.39117352056168503,
           0.37938816449348045,
           0.3505516549648947,
           0.33450351053159477,
           0.2978936810431294,
           0.27632898696088265,
           0.272567703109328,
           0.272567703109328
          ],
          "coloraxis": "coloraxis"
         },
         "name": "",
         "offsetgroup": "",
         "orientation": "v",
         "showlegend": false,
         "textposition": "auto",
         "type": "bar",
         "x": [
          "Python",
          "SQL",
          "Pandas",
          "JavaScript",
          "HTML/CSS",
          "MySQL",
          "Bash/Shell/PowerShell",
          "PostgreSQL",
          "TensorFlow",
          "Java",
          "SQLite",
          "C++",
          "R",
          "Keras",
          "Microsoft SQL Server"
         ],
         "xaxis": "x",
         "y": [
          0.7833500501504513,
          0.5845035105315948,
          0.5007522567703109,
          0.48269809428284854,
          0.48244734202607825,
          0.46263791374122365,
          0.3956870611835506,
          0.39117352056168503,
          0.37938816449348045,
          0.3505516549648947,
          0.33450351053159477,
          0.2978936810431294,
          0.27632898696088265,
          0.272567703109328,
          0.272567703109328
         ],
         "yaxis": "y"
        }
       ],
       "layout": {
        "barmode": "relative",
        "coloraxis": {
         "colorbar": {
          "title": {
           "text": "color"
          }
         },
         "colorscale": [
          [
           0,
           "#0d0887"
          ],
          [
           0.1111111111111111,
           "#46039f"
          ],
          [
           0.2222222222222222,
           "#7201a8"
          ],
          [
           0.3333333333333333,
           "#9c179e"
          ],
          [
           0.4444444444444444,
           "#bd3786"
          ],
          [
           0.5555555555555556,
           "#d8576b"
          ],
          [
           0.6666666666666666,
           "#ed7953"
          ],
          [
           0.7777777777777778,
           "#fb9f3a"
          ],
          [
           0.8888888888888888,
           "#fdca26"
          ],
          [
           1,
           "#f0f921"
          ]
         ]
        },
        "height": 800,
        "legend": {
         "tracegroupgap": 0
        },
        "margin": {
         "t": 60
        },
        "showlegend": false,
        "template": {
         "data": {
          "bar": [
           {
            "error_x": {
             "color": "#2a3f5f"
            },
            "error_y": {
             "color": "#2a3f5f"
            },
            "marker": {
             "line": {
              "color": "#E5ECF6",
              "width": 0.5
             }
            },
            "type": "bar"
           }
          ],
          "barpolar": [
           {
            "marker": {
             "line": {
              "color": "#E5ECF6",
              "width": 0.5
             }
            },
            "type": "barpolar"
           }
          ],
          "carpet": [
           {
            "aaxis": {
             "endlinecolor": "#2a3f5f",
             "gridcolor": "white",
             "linecolor": "white",
             "minorgridcolor": "white",
             "startlinecolor": "#2a3f5f"
            },
            "baxis": {
             "endlinecolor": "#2a3f5f",
             "gridcolor": "white",
             "linecolor": "white",
             "minorgridcolor": "white",
             "startlinecolor": "#2a3f5f"
            },
            "type": "carpet"
           }
          ],
          "choropleth": [
           {
            "colorbar": {
             "outlinewidth": 0,
             "ticks": ""
            },
            "type": "choropleth"
           }
          ],
          "contour": [
           {
            "colorbar": {
             "outlinewidth": 0,
             "ticks": ""
            },
            "colorscale": [
             [
              0,
              "#0d0887"
             ],
             [
              0.1111111111111111,
              "#46039f"
             ],
             [
              0.2222222222222222,
              "#7201a8"
             ],
             [
              0.3333333333333333,
              "#9c179e"
             ],
             [
              0.4444444444444444,
              "#bd3786"
             ],
             [
              0.5555555555555556,
              "#d8576b"
             ],
             [
              0.6666666666666666,
              "#ed7953"
             ],
             [
              0.7777777777777778,
              "#fb9f3a"
             ],
             [
              0.8888888888888888,
              "#fdca26"
             ],
             [
              1,
              "#f0f921"
             ]
            ],
            "type": "contour"
           }
          ],
          "contourcarpet": [
           {
            "colorbar": {
             "outlinewidth": 0,
             "ticks": ""
            },
            "type": "contourcarpet"
           }
          ],
          "heatmap": [
           {
            "colorbar": {
             "outlinewidth": 0,
             "ticks": ""
            },
            "colorscale": [
             [
              0,
              "#0d0887"
             ],
             [
              0.1111111111111111,
              "#46039f"
             ],
             [
              0.2222222222222222,
              "#7201a8"
             ],
             [
              0.3333333333333333,
              "#9c179e"
             ],
             [
              0.4444444444444444,
              "#bd3786"
             ],
             [
              0.5555555555555556,
              "#d8576b"
             ],
             [
              0.6666666666666666,
              "#ed7953"
             ],
             [
              0.7777777777777778,
              "#fb9f3a"
             ],
             [
              0.8888888888888888,
              "#fdca26"
             ],
             [
              1,
              "#f0f921"
             ]
            ],
            "type": "heatmap"
           }
          ],
          "heatmapgl": [
           {
            "colorbar": {
             "outlinewidth": 0,
             "ticks": ""
            },
            "colorscale": [
             [
              0,
              "#0d0887"
             ],
             [
              0.1111111111111111,
              "#46039f"
             ],
             [
              0.2222222222222222,
              "#7201a8"
             ],
             [
              0.3333333333333333,
              "#9c179e"
             ],
             [
              0.4444444444444444,
              "#bd3786"
             ],
             [
              0.5555555555555556,
              "#d8576b"
             ],
             [
              0.6666666666666666,
              "#ed7953"
             ],
             [
              0.7777777777777778,
              "#fb9f3a"
             ],
             [
              0.8888888888888888,
              "#fdca26"
             ],
             [
              1,
              "#f0f921"
             ]
            ],
            "type": "heatmapgl"
           }
          ],
          "histogram": [
           {
            "marker": {
             "colorbar": {
              "outlinewidth": 0,
              "ticks": ""
             }
            },
            "type": "histogram"
           }
          ],
          "histogram2d": [
           {
            "colorbar": {
             "outlinewidth": 0,
             "ticks": ""
            },
            "colorscale": [
             [
              0,
              "#0d0887"
             ],
             [
              0.1111111111111111,
              "#46039f"
             ],
             [
              0.2222222222222222,
              "#7201a8"
             ],
             [
              0.3333333333333333,
              "#9c179e"
             ],
             [
              0.4444444444444444,
              "#bd3786"
             ],
             [
              0.5555555555555556,
              "#d8576b"
             ],
             [
              0.6666666666666666,
              "#ed7953"
             ],
             [
              0.7777777777777778,
              "#fb9f3a"
             ],
             [
              0.8888888888888888,
              "#fdca26"
             ],
             [
              1,
              "#f0f921"
             ]
            ],
            "type": "histogram2d"
           }
          ],
          "histogram2dcontour": [
           {
            "colorbar": {
             "outlinewidth": 0,
             "ticks": ""
            },
            "colorscale": [
             [
              0,
              "#0d0887"
             ],
             [
              0.1111111111111111,
              "#46039f"
             ],
             [
              0.2222222222222222,
              "#7201a8"
             ],
             [
              0.3333333333333333,
              "#9c179e"
             ],
             [
              0.4444444444444444,
              "#bd3786"
             ],
             [
              0.5555555555555556,
              "#d8576b"
             ],
             [
              0.6666666666666666,
              "#ed7953"
             ],
             [
              0.7777777777777778,
              "#fb9f3a"
             ],
             [
              0.8888888888888888,
              "#fdca26"
             ],
             [
              1,
              "#f0f921"
             ]
            ],
            "type": "histogram2dcontour"
           }
          ],
          "mesh3d": [
           {
            "colorbar": {
             "outlinewidth": 0,
             "ticks": ""
            },
            "type": "mesh3d"
           }
          ],
          "parcoords": [
           {
            "line": {
             "colorbar": {
              "outlinewidth": 0,
              "ticks": ""
             }
            },
            "type": "parcoords"
           }
          ],
          "pie": [
           {
            "automargin": true,
            "type": "pie"
           }
          ],
          "scatter": [
           {
            "marker": {
             "colorbar": {
              "outlinewidth": 0,
              "ticks": ""
             }
            },
            "type": "scatter"
           }
          ],
          "scatter3d": [
           {
            "line": {
             "colorbar": {
              "outlinewidth": 0,
              "ticks": ""
             }
            },
            "marker": {
             "colorbar": {
              "outlinewidth": 0,
              "ticks": ""
             }
            },
            "type": "scatter3d"
           }
          ],
          "scattercarpet": [
           {
            "marker": {
             "colorbar": {
              "outlinewidth": 0,
              "ticks": ""
             }
            },
            "type": "scattercarpet"
           }
          ],
          "scattergeo": [
           {
            "marker": {
             "colorbar": {
              "outlinewidth": 0,
              "ticks": ""
             }
            },
            "type": "scattergeo"
           }
          ],
          "scattergl": [
           {
            "marker": {
             "colorbar": {
              "outlinewidth": 0,
              "ticks": ""
             }
            },
            "type": "scattergl"
           }
          ],
          "scattermapbox": [
           {
            "marker": {
             "colorbar": {
              "outlinewidth": 0,
              "ticks": ""
             }
            },
            "type": "scattermapbox"
           }
          ],
          "scatterpolar": [
           {
            "marker": {
             "colorbar": {
              "outlinewidth": 0,
              "ticks": ""
             }
            },
            "type": "scatterpolar"
           }
          ],
          "scatterpolargl": [
           {
            "marker": {
             "colorbar": {
              "outlinewidth": 0,
              "ticks": ""
             }
            },
            "type": "scatterpolargl"
           }
          ],
          "scatterternary": [
           {
            "marker": {
             "colorbar": {
              "outlinewidth": 0,
              "ticks": ""
             }
            },
            "type": "scatterternary"
           }
          ],
          "surface": [
           {
            "colorbar": {
             "outlinewidth": 0,
             "ticks": ""
            },
            "colorscale": [
             [
              0,
              "#0d0887"
             ],
             [
              0.1111111111111111,
              "#46039f"
             ],
             [
              0.2222222222222222,
              "#7201a8"
             ],
             [
              0.3333333333333333,
              "#9c179e"
             ],
             [
              0.4444444444444444,
              "#bd3786"
             ],
             [
              0.5555555555555556,
              "#d8576b"
             ],
             [
              0.6666666666666666,
              "#ed7953"
             ],
             [
              0.7777777777777778,
              "#fb9f3a"
             ],
             [
              0.8888888888888888,
              "#fdca26"
             ],
             [
              1,
              "#f0f921"
             ]
            ],
            "type": "surface"
           }
          ],
          "table": [
           {
            "cells": {
             "fill": {
              "color": "#EBF0F8"
             },
             "line": {
              "color": "white"
             }
            },
            "header": {
             "fill": {
              "color": "#C8D4E3"
             },
             "line": {
              "color": "white"
             }
            },
            "type": "table"
           }
          ]
         },
         "layout": {
          "annotationdefaults": {
           "arrowcolor": "#2a3f5f",
           "arrowhead": 0,
           "arrowwidth": 1
          },
          "autotypenumbers": "strict",
          "coloraxis": {
           "colorbar": {
            "outlinewidth": 0,
            "ticks": ""
           }
          },
          "colorscale": {
           "diverging": [
            [
             0,
             "#8e0152"
            ],
            [
             0.1,
             "#c51b7d"
            ],
            [
             0.2,
             "#de77ae"
            ],
            [
             0.3,
             "#f1b6da"
            ],
            [
             0.4,
             "#fde0ef"
            ],
            [
             0.5,
             "#f7f7f7"
            ],
            [
             0.6,
             "#e6f5d0"
            ],
            [
             0.7,
             "#b8e186"
            ],
            [
             0.8,
             "#7fbc41"
            ],
            [
             0.9,
             "#4d9221"
            ],
            [
             1,
             "#276419"
            ]
           ],
           "sequential": [
            [
             0,
             "#0d0887"
            ],
            [
             0.1111111111111111,
             "#46039f"
            ],
            [
             0.2222222222222222,
             "#7201a8"
            ],
            [
             0.3333333333333333,
             "#9c179e"
            ],
            [
             0.4444444444444444,
             "#bd3786"
            ],
            [
             0.5555555555555556,
             "#d8576b"
            ],
            [
             0.6666666666666666,
             "#ed7953"
            ],
            [
             0.7777777777777778,
             "#fb9f3a"
            ],
            [
             0.8888888888888888,
             "#fdca26"
            ],
            [
             1,
             "#f0f921"
            ]
           ],
           "sequentialminus": [
            [
             0,
             "#0d0887"
            ],
            [
             0.1111111111111111,
             "#46039f"
            ],
            [
             0.2222222222222222,
             "#7201a8"
            ],
            [
             0.3333333333333333,
             "#9c179e"
            ],
            [
             0.4444444444444444,
             "#bd3786"
            ],
            [
             0.5555555555555556,
             "#d8576b"
            ],
            [
             0.6666666666666666,
             "#ed7953"
            ],
            [
             0.7777777777777778,
             "#fb9f3a"
            ],
            [
             0.8888888888888888,
             "#fdca26"
            ],
            [
             1,
             "#f0f921"
            ]
           ]
          },
          "colorway": [
           "#636efa",
           "#EF553B",
           "#00cc96",
           "#ab63fa",
           "#FFA15A",
           "#19d3f3",
           "#FF6692",
           "#B6E880",
           "#FF97FF",
           "#FECB52"
          ],
          "font": {
           "color": "#2a3f5f"
          },
          "geo": {
           "bgcolor": "white",
           "lakecolor": "white",
           "landcolor": "#E5ECF6",
           "showlakes": true,
           "showland": true,
           "subunitcolor": "white"
          },
          "hoverlabel": {
           "align": "left"
          },
          "hovermode": "closest",
          "mapbox": {
           "style": "light"
          },
          "paper_bgcolor": "white",
          "plot_bgcolor": "#E5ECF6",
          "polar": {
           "angularaxis": {
            "gridcolor": "white",
            "linecolor": "white",
            "ticks": ""
           },
           "bgcolor": "#E5ECF6",
           "radialaxis": {
            "gridcolor": "white",
            "linecolor": "white",
            "ticks": ""
           }
          },
          "scene": {
           "xaxis": {
            "backgroundcolor": "#E5ECF6",
            "gridcolor": "white",
            "gridwidth": 2,
            "linecolor": "white",
            "showbackground": true,
            "ticks": "",
            "zerolinecolor": "white"
           },
           "yaxis": {
            "backgroundcolor": "#E5ECF6",
            "gridcolor": "white",
            "gridwidth": 2,
            "linecolor": "white",
            "showbackground": true,
            "ticks": "",
            "zerolinecolor": "white"
           },
           "zaxis": {
            "backgroundcolor": "#E5ECF6",
            "gridcolor": "white",
            "gridwidth": 2,
            "linecolor": "white",
            "showbackground": true,
            "ticks": "",
            "zerolinecolor": "white"
           }
          },
          "shapedefaults": {
           "line": {
            "color": "#2a3f5f"
           }
          },
          "ternary": {
           "aaxis": {
            "gridcolor": "white",
            "linecolor": "white",
            "ticks": ""
           },
           "baxis": {
            "gridcolor": "white",
            "linecolor": "white",
            "ticks": ""
           },
           "bgcolor": "#E5ECF6",
           "caxis": {
            "gridcolor": "white",
            "linecolor": "white",
            "ticks": ""
           }
          },
          "title": {
           "x": 0.05
          },
          "xaxis": {
           "automargin": true,
           "gridcolor": "white",
           "linecolor": "white",
           "ticks": "",
           "title": {
            "standoff": 15
           },
           "zerolinecolor": "white",
           "zerolinewidth": 2
          },
          "yaxis": {
           "automargin": true,
           "gridcolor": "white",
           "linecolor": "white",
           "ticks": "",
           "title": {
            "standoff": 15
           },
           "zerolinecolor": "white",
           "zerolinewidth": 2
          }
         }
        },
        "title": {
         "text": "The most common technologies used by Data scientist or machine learning specialist"
        },
        "width": 800,
        "xaxis": {
         "anchor": "y",
         "domain": [
          0,
          1
         ],
         "title": {
          "text": "Technologies"
         }
        },
        "yaxis": {
         "anchor": "x",
         "domain": [
          0,
          1
         ],
         "title": {
          "text": "Ratio"
         }
        }
       }
      }
     },
     "metadata": {},
     "output_type": "display_data"
    }
   ],
   "source": [
    "role = 'Data scientist or machine learning specialist'\n",
    "top_15 = skills_table.loc[role].sort_values(ascending=False)\n",
    "fig = px.bar(top_15.head(15), color=top_15.head(15))\n",
    "\n",
    "\n",
    "fig.update_layout(\n",
    "    title=f\"The most common technologies used by {role}\",\n",
    "    xaxis_title='Technologies',\n",
    "    yaxis_title=\"Ratio\",\n",
    "    width=800, height=800,\n",
    "    showlegend=False\n",
    "   \n",
    ")\n",
    "\n",
    "fig.show()\n"
   ]
  },
  {
   "cell_type": "markdown",
   "id": "4494be1a",
   "metadata": {},
   "source": [
    "## Are men and women code for hobby?"
   ]
  },
  {
   "cell_type": "code",
   "execution_count": 148,
   "id": "d27f4d87",
   "metadata": {},
   "outputs": [],
   "source": [
    "men_vs_momen = df.loc[:, ['Gender', 'Hobbyist']]\n",
    "men_vs_momen = men_vs_momen.explode('Gender')\n",
    "men_vs_momen = men_vs_momen.value_counts().head(4)"
   ]
  },
  {
   "cell_type": "code",
   "execution_count": 150,
   "metadata": {},
   "outputs": [
    {
     "data": {
      "text/plain": [
       "<AxesSubplot:xlabel='Gender,Hobbyist'>"
      ]
     },
     "execution_count": 150,
     "metadata": {},
     "output_type": "execute_result"
    },
    {
     "data": {
      "image/png": "[encoded data removed]",
      "text/plain": [
       "<Figure size 432x288 with 1 Axes>"
      ]
     },
     "metadata": {
      "needs_background": "light"
     },
     "output_type": "display_data"
    }
   ],
   "source": [
    "men_vs_momen.plot(kind='bar')"
   ]
  },
  {
   "cell_type": "markdown",
   "id": "f51ed169",
   "metadata": {},
   "source": [
    "## What is the most common roles in Egypt?"
   ]
  },
  {
   "cell_type": "code",
   "execution_count": 162,
   "id": "1b2792ce",
   "metadata": {},
   "outputs": [
    {
     "data": {
      "text/plain": [
       "281"
      ]
     },
     "execution_count": 162,
     "metadata": {},
     "output_type": "execute_result"
    }
   ],
   "source": [
    "# How many Egyptian respond?\n",
    "len(df[df['Country'] == 'Egypt'])"
   ]
  },
  {
   "cell_type": "code",
   "execution_count": 167,
   "id": "36f96268",
   "metadata": {},
   "outputs": [
    {
     "data": {
      "application/vnd.plotly.v1+json": {
       "config": {
        "plotlyServerURL": "https://plot.ly"
       },
       "data": [
        {
         "alignmentgroup": "True",
         "hovertemplate": "value=%{x}<br>index=%{y}<br>color=%{marker.color}<extra></extra>",
         "legendgroup": "",
         "marker": {
          "color": [
           3,
           3,
           4,
           4,
           4,
           4,
           6,
           6,
           8,
           9,
           10,
           11,
           13,
           15,
           15,
           18,
           20,
           24,
           36,
           53,
           68,
           83,
           94
          ],
          "coloraxis": "coloraxis"
         },
         "name": "",
         "offsetgroup": "",
         "orientation": "h",
         "showlegend": false,
         "textposition": "auto",
         "type": "bar",
         "x": [
          3,
          3,
          4,
          4,
          4,
          4,
          6,
          6,
          8,
          9,
          10,
          11,
          13,
          15,
          15,
          18,
          20,
          24,
          36,
          53,
          68,
          83,
          94
         ],
         "xaxis": "x",
         "y": [
          "Senior executive/VP",
          "Developer, QA or test",
          "Marketing or sales professional",
          "Engineer, site reliability",
          "Product manager",
          "DevOps specialist",
          "Engineering manager",
          "Scientist",
          "Engineer, data",
          "Data scientist or machine learning specialist",
          "Developer, embedded applications or devices",
          "System administrator",
          "Developer, game or graphics",
          "Data or business analyst",
          "Educator",
          "Database administrator",
          "Designer",
          "Academic researcher",
          "Developer, desktop or enterprise applications",
          "Developer, mobile",
          "Developer, front-end",
          "Developer, full-stack",
          "Developer, back-end"
         ],
         "yaxis": "y"
        }
       ],
       "layout": {
        "barmode": "relative",
        "coloraxis": {
         "colorbar": {
          "title": {
           "text": "color"
          }
         },
         "colorscale": [
          [
           0,
           "#0d0887"
          ],
          [
           0.1111111111111111,
           "#46039f"
          ],
          [
           0.2222222222222222,
           "#7201a8"
          ],
          [
           0.3333333333333333,
           "#9c179e"
          ],
          [
           0.4444444444444444,
           "#bd3786"
          ],
          [
           0.5555555555555556,
           "#d8576b"
          ],
          [
           0.6666666666666666,
           "#ed7953"
          ],
          [
           0.7777777777777778,
           "#fb9f3a"
          ],
          [
           0.8888888888888888,
           "#fdca26"
          ],
          [
           1,
           "#f0f921"
          ]
         ]
        },
        "height": 800,
        "legend": {
         "tracegroupgap": 0
        },
        "margin": {
         "t": 60
        },
        "showlegend": false,
        "template": {
         "data": {
          "bar": [
           {
            "error_x": {
             "color": "#2a3f5f"
            },
            "error_y": {
             "color": "#2a3f5f"
            },
            "marker": {
             "line": {
              "color": "#E5ECF6",
              "width": 0.5
             }
            },
            "type": "bar"
           }
          ],
          "barpolar": [
           {
            "marker": {
             "line": {
              "color": "#E5ECF6",
              "width": 0.5
             }
            },
            "type": "barpolar"
           }
          ],
          "carpet": [
           {
            "aaxis": {
             "endlinecolor": "#2a3f5f",
             "gridcolor": "white",
             "linecolor": "white",
             "minorgridcolor": "white",
             "startlinecolor": "#2a3f5f"
            },
            "baxis": {
             "endlinecolor": "#2a3f5f",
             "gridcolor": "white",
             "linecolor": "white",
             "minorgridcolor": "white",
             "startlinecolor": "#2a3f5f"
            },
            "type": "carpet"
           }
          ],
          "choropleth": [
           {
            "colorbar": {
             "outlinewidth": 0,
             "ticks": ""
            },
            "type": "choropleth"
           }
          ],
          "contour": [
           {
            "colorbar": {
             "outlinewidth": 0,
             "ticks": ""
            },
            "colorscale": [
             [
              0,
              "#0d0887"
             ],
             [
              0.1111111111111111,
              "#46039f"
             ],
             [
              0.2222222222222222,
              "#7201a8"
             ],
             [
              0.3333333333333333,
              "#9c179e"
             ],
             [
              0.4444444444444444,
              "#bd3786"
             ],
             [
              0.5555555555555556,
              "#d8576b"
             ],
             [
              0.6666666666666666,
              "#ed7953"
             ],
             [
              0.7777777777777778,
              "#fb9f3a"
             ],
             [
              0.8888888888888888,
              "#fdca26"
             ],
             [
              1,
              "#f0f921"
             ]
            ],
            "type": "contour"
           }
          ],
          "contourcarpet": [
           {
            "colorbar": {
             "outlinewidth": 0,
             "ticks": ""
            },
            "type": "contourcarpet"
           }
          ],
          "heatmap": [
           {
            "colorbar": {
             "outlinewidth": 0,
             "ticks": ""
            },
            "colorscale": [
             [
              0,
              "#0d0887"
             ],
             [
              0.1111111111111111,
              "#46039f"
             ],
             [
              0.2222222222222222,
              "#7201a8"
             ],
             [
              0.3333333333333333,
              "#9c179e"
             ],
             [
              0.4444444444444444,
              "#bd3786"
             ],
             [
              0.5555555555555556,
              "#d8576b"
             ],
             [
              0.6666666666666666,
              "#ed7953"
             ],
             [
              0.7777777777777778,
              "#fb9f3a"
             ],
             [
              0.8888888888888888,
              "#fdca26"
             ],
             [
              1,
              "#f0f921"
             ]
            ],
            "type": "heatmap"
           }
          ],
          "heatmapgl": [
           {
            "colorbar": {
             "outlinewidth": 0,
             "ticks": ""
            },
            "colorscale": [
             [
              0,
              "#0d0887"
             ],
             [
              0.1111111111111111,
              "#46039f"
             ],
             [
              0.2222222222222222,
              "#7201a8"
             ],
             [
              0.3333333333333333,
              "#9c179e"
             ],
             [
              0.4444444444444444,
              "#bd3786"
             ],
             [
              0.5555555555555556,
              "#d8576b"
             ],
             [
              0.6666666666666666,
              "#ed7953"
             ],
             [
              0.7777777777777778,
              "#fb9f3a"
             ],
             [
              0.8888888888888888,
              "#fdca26"
             ],
             [
              1,
              "#f0f921"
             ]
            ],
            "type": "heatmapgl"
           }
          ],
          "histogram": [
           {
            "marker": {
             "colorbar": {
              "outlinewidth": 0,
              "ticks": ""
             }
            },
            "type": "histogram"
           }
          ],
          "histogram2d": [
           {
            "colorbar": {
             "outlinewidth": 0,
             "ticks": ""
            },
            "colorscale": [
             [
              0,
              "#0d0887"
             ],
             [
              0.1111111111111111,
              "#46039f"
             ],
             [
              0.2222222222222222,
              "#7201a8"
             ],
             [
              0.3333333333333333,
              "#9c179e"
             ],
             [
              0.4444444444444444,
              "#bd3786"
             ],
             [
              0.5555555555555556,
              "#d8576b"
             ],
             [
              0.6666666666666666,
              "#ed7953"
             ],
             [
              0.7777777777777778,
              "#fb9f3a"
             ],
             [
              0.8888888888888888,
              "#fdca26"
             ],
             [
              1,
              "#f0f921"
             ]
            ],
            "type": "histogram2d"
           }
          ],
          "histogram2dcontour": [
           {
            "colorbar": {
             "outlinewidth": 0,
             "ticks": ""
            },
            "colorscale": [
             [
              0,
              "#0d0887"
             ],
             [
              0.1111111111111111,
              "#46039f"
             ],
             [
              0.2222222222222222,
              "#7201a8"
             ],
             [
              0.3333333333333333,
              "#9c179e"
             ],
             [
              0.4444444444444444,
              "#bd3786"
             ],
             [
              0.5555555555555556,
              "#d8576b"
             ],
             [
              0.6666666666666666,
              "#ed7953"
             ],
             [
              0.7777777777777778,
              "#fb9f3a"
             ],
             [
              0.8888888888888888,
              "#fdca26"
             ],
             [
              1,
              "#f0f921"
             ]
            ],
            "type": "histogram2dcontour"
           }
          ],
          "mesh3d": [
           {
            "colorbar": {
             "outlinewidth": 0,
             "ticks": ""
            },
            "type": "mesh3d"
           }
          ],
          "parcoords": [
           {
            "line": {
             "colorbar": {
              "outlinewidth": 0,
              "ticks": ""
             }
            },
            "type": "parcoords"
           }
          ],
          "pie": [
           {
            "automargin": true,
            "type": "pie"
           }
          ],
          "scatter": [
           {
            "marker": {
             "colorbar": {
              "outlinewidth": 0,
              "ticks": ""
             }
            },
            "type": "scatter"
           }
          ],
          "scatter3d": [
           {
            "line": {
             "colorbar": {
              "outlinewidth": 0,
              "ticks": ""
             }
            },
            "marker": {
             "colorbar": {
              "outlinewidth": 0,
              "ticks": ""
             }
            },
            "type": "scatter3d"
           }
          ],
          "scattercarpet": [
           {
            "marker": {
             "colorbar": {
              "outlinewidth": 0,
              "ticks": ""
             }
            },
            "type": "scattercarpet"
           }
          ],
          "scattergeo": [
           {
            "marker": {
             "colorbar": {
              "outlinewidth": 0,
              "ticks": ""
             }
            },
            "type": "scattergeo"
           }
          ],
          "scattergl": [
           {
            "marker": {
             "colorbar": {
              "outlinewidth": 0,
              "ticks": ""
             }
            },
            "type": "scattergl"
           }
          ],
          "scattermapbox": [
           {
            "marker": {
             "colorbar": {
              "outlinewidth": 0,
              "ticks": ""
             }
            },
            "type": "scattermapbox"
           }
          ],
          "scatterpolar": [
           {
            "marker": {
             "colorbar": {
              "outlinewidth": 0,
              "ticks": ""
             }
            },
            "type": "scatterpolar"
           }
          ],
          "scatterpolargl": [
           {
            "marker": {
             "colorbar": {
              "outlinewidth": 0,
              "ticks": ""
             }
            },
            "type": "scatterpolargl"
           }
          ],
          "scatterternary": [
           {
            "marker": {
             "colorbar": {
              "outlinewidth": 0,
              "ticks": ""
             }
            },
            "type": "scatterternary"
           }
          ],
          "surface": [
           {
            "colorbar": {
             "outlinewidth": 0,
             "ticks": ""
            },
            "colorscale": [
             [
              0,
              "#0d0887"
             ],
             [
              0.1111111111111111,
              "#46039f"
             ],
             [
              0.2222222222222222,
              "#7201a8"
             ],
             [
              0.3333333333333333,
              "#9c179e"
             ],
             [
              0.4444444444444444,
              "#bd3786"
             ],
             [
              0.5555555555555556,
              "#d8576b"
             ],
             [
              0.6666666666666666,
              "#ed7953"
             ],
             [
              0.7777777777777778,
              "#fb9f3a"
             ],
             [
              0.8888888888888888,
              "#fdca26"
             ],
             [
              1,
              "#f0f921"
             ]
            ],
            "type": "surface"
           }
          ],
          "table": [
           {
            "cells": {
             "fill": {
              "color": "#EBF0F8"
             },
             "line": {
              "color": "white"
             }
            },
            "header": {
             "fill": {
              "color": "#C8D4E3"
             },
             "line": {
              "color": "white"
             }
            },
            "type": "table"
           }
          ]
         },
         "layout": {
          "annotationdefaults": {
           "arrowcolor": "#2a3f5f",
           "arrowhead": 0,
           "arrowwidth": 1
          },
          "autotypenumbers": "strict",
          "coloraxis": {
           "colorbar": {
            "outlinewidth": 0,
            "ticks": ""
           }
          },
          "colorscale": {
           "diverging": [
            [
             0,
             "#8e0152"
            ],
            [
             0.1,
             "#c51b7d"
            ],
            [
             0.2,
             "#de77ae"
            ],
            [
             0.3,
             "#f1b6da"
            ],
            [
             0.4,
             "#fde0ef"
            ],
            [
             0.5,
             "#f7f7f7"
            ],
            [
             0.6,
             "#e6f5d0"
            ],
            [
             0.7,
             "#b8e186"
            ],
            [
             0.8,
             "#7fbc41"
            ],
            [
             0.9,
             "#4d9221"
            ],
            [
             1,
             "#276419"
            ]
           ],
           "sequential": [
            [
             0,
             "#0d0887"
            ],
            [
             0.1111111111111111,
             "#46039f"
            ],
            [
             0.2222222222222222,
             "#7201a8"
            ],
            [
             0.3333333333333333,
             "#9c179e"
            ],
            [
             0.4444444444444444,
             "#bd3786"
            ],
            [
             0.5555555555555556,
             "#d8576b"
            ],
            [
             0.6666666666666666,
             "#ed7953"
            ],
            [
             0.7777777777777778,
             "#fb9f3a"
            ],
            [
             0.8888888888888888,
             "#fdca26"
            ],
            [
             1,
             "#f0f921"
            ]
           ],
           "sequentialminus": [
            [
             0,
             "#0d0887"
            ],
            [
             0.1111111111111111,
             "#46039f"
            ],
            [
             0.2222222222222222,
             "#7201a8"
            ],
            [
             0.3333333333333333,
             "#9c179e"
            ],
            [
             0.4444444444444444,
             "#bd3786"
            ],
            [
             0.5555555555555556,
             "#d8576b"
            ],
            [
             0.6666666666666666,
             "#ed7953"
            ],
            [
             0.7777777777777778,
             "#fb9f3a"
            ],
            [
             0.8888888888888888,
             "#fdca26"
            ],
            [
             1,
             "#f0f921"
            ]
           ]
          },
          "colorway": [
           "#636efa",
           "#EF553B",
           "#00cc96",
           "#ab63fa",
           "#FFA15A",
           "#19d3f3",
           "#FF6692",
           "#B6E880",
           "#FF97FF",
           "#FECB52"
          ],
          "font": {
           "color": "#2a3f5f"
          },
          "geo": {
           "bgcolor": "white",
           "lakecolor": "white",
           "landcolor": "#E5ECF6",
           "showlakes": true,
           "showland": true,
           "subunitcolor": "white"
          },
          "hoverlabel": {
           "align": "left"
          },
          "hovermode": "closest",
          "mapbox": {
           "style": "light"
          },
          "paper_bgcolor": "white",
          "plot_bgcolor": "#E5ECF6",
          "polar": {
           "angularaxis": {
            "gridcolor": "white",
            "linecolor": "white",
            "ticks": ""
           },
           "bgcolor": "#E5ECF6",
           "radialaxis": {
            "gridcolor": "white",
            "linecolor": "white",
            "ticks": ""
           }
          },
          "scene": {
           "xaxis": {
            "backgroundcolor": "#E5ECF6",
            "gridcolor": "white",
            "gridwidth": 2,
            "linecolor": "white",
            "showbackground": true,
            "ticks": "",
            "zerolinecolor": "white"
           },
           "yaxis": {
            "backgroundcolor": "#E5ECF6",
            "gridcolor": "white",
            "gridwidth": 2,
            "linecolor": "white",
            "showbackground": true,
            "ticks": "",
            "zerolinecolor": "white"
           },
           "zaxis": {
            "backgroundcolor": "#E5ECF6",
            "gridcolor": "white",
            "gridwidth": 2,
            "linecolor": "white",
            "showbackground": true,
            "ticks": "",
            "zerolinecolor": "white"
           }
          },
          "shapedefaults": {
           "line": {
            "color": "#2a3f5f"
           }
          },
          "ternary": {
           "aaxis": {
            "gridcolor": "white",
            "linecolor": "white",
            "ticks": ""
           },
           "baxis": {
            "gridcolor": "white",
            "linecolor": "white",
            "ticks": ""
           },
           "bgcolor": "#E5ECF6",
           "caxis": {
            "gridcolor": "white",
            "linecolor": "white",
            "ticks": ""
           }
          },
          "title": {
           "x": 0.05
          },
          "xaxis": {
           "automargin": true,
           "gridcolor": "white",
           "linecolor": "white",
           "ticks": "",
           "title": {
            "standoff": 15
           },
           "zerolinecolor": "white",
           "zerolinewidth": 2
          },
          "yaxis": {
           "automargin": true,
           "gridcolor": "white",
           "linecolor": "white",
           "ticks": "",
           "title": {
            "standoff": 15
           },
           "zerolinecolor": "white",
           "zerolinewidth": 2
          }
         }
        },
        "title": {
         "text": "The most common technologies used by Data scientist or machine learning specialist"
        },
        "width": 800,
        "xaxis": {
         "anchor": "y",
         "domain": [
          0,
          1
         ],
         "title": {
          "text": "Count"
         }
        },
        "yaxis": {
         "anchor": "x",
         "domain": [
          0,
          1
         ],
         "title": {
          "text": "Title"
         }
        }
       }
      }
     },
     "metadata": {},
     "output_type": "display_data"
    }
   ],
   "source": [
    "egypt_data = df[df['Country'] == 'Egypt']\n",
    "egypt_data= egypt_data.explode('DevType')\n",
    "egy_sorted = egypt_data['DevType'].value_counts().sort_values(ascending=True)\n",
    "fig = px.bar(egy_sorted, color=egy_sorted, orientation='h')\n",
    "\n",
    "fig.update_layout(\n",
    "    title=f\"The most common technologies used by {role}\",\n",
    "    xaxis_title='Count',\n",
    "    yaxis_title=\"Title\",\n",
    "    width=800, height=800,\n",
    "    showlegend=False\n",
    "   \n",
    ")\n",
    "\n",
    "fig.show()\n"
   ]
  },
  {
   "cell_type": "markdown",
   "id": "f530b9af",
   "metadata": {},
   "source": [
    "## Which title earn more in Egypt?"
   ]
  },
  {
   "cell_type": "code",
   "execution_count": 174,
   "id": "55a6d9f6",
   "metadata": {},
   "outputs": [
    {
     "data": {
      "text/html": [
       "<div>\n",
       "<style scoped>\n",
       "    .dataframe tbody tr th:only-of-type {\n",
       "        vertical-align: middle;\n",
       "    }\n",
       "\n",
       "    .dataframe tbody tr th {\n",
       "        vertical-align: top;\n",
       "    }\n",
       "\n",
       "    .dataframe thead th {\n",
       "        text-align: right;\n",
       "    }\n",
       "</style>\n",
       "<table border=\"1\" class=\"dataframe\">\n",
       "  <thead>\n",
       "    <tr style=\"text-align: right;\">\n",
       "      <th></th>\n",
       "      <th>median</th>\n",
       "      <th>mean</th>\n",
       "      <th>sum</th>\n",
       "    </tr>\n",
       "    <tr>\n",
       "      <th>DevType</th>\n",
       "      <th></th>\n",
       "      <th></th>\n",
       "      <th></th>\n",
       "    </tr>\n",
       "  </thead>\n",
       "  <tbody>\n",
       "    <tr>\n",
       "      <th>Senior executive/VP</th>\n",
       "      <td>61200.0</td>\n",
       "      <td>61200.000000</td>\n",
       "      <td>61200.0</td>\n",
       "    </tr>\n",
       "    <tr>\n",
       "      <th>Product manager</th>\n",
       "      <td>30768.0</td>\n",
       "      <td>30768.000000</td>\n",
       "      <td>30768.0</td>\n",
       "    </tr>\n",
       "    <tr>\n",
       "      <th>Engineering manager</th>\n",
       "      <td>22692.0</td>\n",
       "      <td>27927.000000</td>\n",
       "      <td>111708.0</td>\n",
       "    </tr>\n",
       "    <tr>\n",
       "      <th>Developer, QA or test</th>\n",
       "      <td>10764.0</td>\n",
       "      <td>10764.000000</td>\n",
       "      <td>10764.0</td>\n",
       "    </tr>\n",
       "    <tr>\n",
       "      <th>Developer, game or graphics</th>\n",
       "      <td>10656.0</td>\n",
       "      <td>19628.000000</td>\n",
       "      <td>117768.0</td>\n",
       "    </tr>\n",
       "    <tr>\n",
       "      <th>Developer, embedded applications or devices</th>\n",
       "      <td>9888.0</td>\n",
       "      <td>9888.000000</td>\n",
       "      <td>19776.0</td>\n",
       "    </tr>\n",
       "    <tr>\n",
       "      <th>Developer, full-stack</th>\n",
       "      <td>9228.0</td>\n",
       "      <td>15886.428571</td>\n",
       "      <td>667230.0</td>\n",
       "    </tr>\n",
       "    <tr>\n",
       "      <th>Developer, back-end</th>\n",
       "      <td>8460.0</td>\n",
       "      <td>14051.444444</td>\n",
       "      <td>632315.0</td>\n",
       "    </tr>\n",
       "    <tr>\n",
       "      <th>System administrator</th>\n",
       "      <td>8268.0</td>\n",
       "      <td>8268.000000</td>\n",
       "      <td>16536.0</td>\n",
       "    </tr>\n",
       "    <tr>\n",
       "      <th>Scientist</th>\n",
       "      <td>8082.0</td>\n",
       "      <td>8082.000000</td>\n",
       "      <td>16164.0</td>\n",
       "    </tr>\n",
       "    <tr>\n",
       "      <th>Engineer, site reliability</th>\n",
       "      <td>7944.0</td>\n",
       "      <td>7944.000000</td>\n",
       "      <td>15888.0</td>\n",
       "    </tr>\n",
       "    <tr>\n",
       "      <th>Developer, desktop or enterprise applications</th>\n",
       "      <td>7692.0</td>\n",
       "      <td>9233.625000</td>\n",
       "      <td>147738.0</td>\n",
       "    </tr>\n",
       "    <tr>\n",
       "      <th>Developer, front-end</th>\n",
       "      <td>7578.0</td>\n",
       "      <td>11764.472222</td>\n",
       "      <td>423521.0</td>\n",
       "    </tr>\n",
       "    <tr>\n",
       "      <th>DevOps specialist</th>\n",
       "      <td>6156.0</td>\n",
       "      <td>10384.000000</td>\n",
       "      <td>31152.0</td>\n",
       "    </tr>\n",
       "    <tr>\n",
       "      <th>Data scientist or machine learning specialist</th>\n",
       "      <td>5958.0</td>\n",
       "      <td>5958.000000</td>\n",
       "      <td>11916.0</td>\n",
       "    </tr>\n",
       "    <tr>\n",
       "      <th>Developer, mobile</th>\n",
       "      <td>5886.0</td>\n",
       "      <td>11276.307692</td>\n",
       "      <td>293184.0</td>\n",
       "    </tr>\n",
       "    <tr>\n",
       "      <th>Educator</th>\n",
       "      <td>5694.0</td>\n",
       "      <td>17647.500000</td>\n",
       "      <td>141180.0</td>\n",
       "    </tr>\n",
       "    <tr>\n",
       "      <th>Designer</th>\n",
       "      <td>5388.0</td>\n",
       "      <td>10461.600000</td>\n",
       "      <td>104616.0</td>\n",
       "    </tr>\n",
       "    <tr>\n",
       "      <th>Data or business analyst</th>\n",
       "      <td>5124.0</td>\n",
       "      <td>6879.600000</td>\n",
       "      <td>34398.0</td>\n",
       "    </tr>\n",
       "    <tr>\n",
       "      <th>Engineer, data</th>\n",
       "      <td>5124.0</td>\n",
       "      <td>5300.000000</td>\n",
       "      <td>15900.0</td>\n",
       "    </tr>\n",
       "    <tr>\n",
       "      <th>Database administrator</th>\n",
       "      <td>5124.0</td>\n",
       "      <td>14517.428571</td>\n",
       "      <td>101622.0</td>\n",
       "    </tr>\n",
       "    <tr>\n",
       "      <th>Academic researcher</th>\n",
       "      <td>4872.0</td>\n",
       "      <td>7803.000000</td>\n",
       "      <td>62424.0</td>\n",
       "    </tr>\n",
       "    <tr>\n",
       "      <th>Marketing or sales professional</th>\n",
       "      <td>NaN</td>\n",
       "      <td>NaN</td>\n",
       "      <td>0.0</td>\n",
       "    </tr>\n",
       "  </tbody>\n",
       "</table>\n",
       "</div>"
      ],
      "text/plain": [
       "                                                median          mean       sum\n",
       "DevType                                                                       \n",
       "Senior executive/VP                            61200.0  61200.000000   61200.0\n",
       "Product manager                                30768.0  30768.000000   30768.0\n",
       "Engineering manager                            22692.0  27927.000000  111708.0\n",
       "Developer, QA or test                          10764.0  10764.000000   10764.0\n",
       "Developer, game or graphics                    10656.0  19628.000000  117768.0\n",
       "Developer, embedded applications or devices     9888.0   9888.000000   19776.0\n",
       "Developer, full-stack                           9228.0  15886.428571  667230.0\n",
       "Developer, back-end                             8460.0  14051.444444  632315.0\n",
       "System administrator                            8268.0   8268.000000   16536.0\n",
       "Scientist                                       8082.0   8082.000000   16164.0\n",
       "Engineer, site reliability                      7944.0   7944.000000   15888.0\n",
       "Developer, desktop or enterprise applications   7692.0   9233.625000  147738.0\n",
       "Developer, front-end                            7578.0  11764.472222  423521.0\n",
       "DevOps specialist                               6156.0  10384.000000   31152.0\n",
       "Data scientist or machine learning specialist   5958.0   5958.000000   11916.0\n",
       "Developer, mobile                               5886.0  11276.307692  293184.0\n",
       "Educator                                        5694.0  17647.500000  141180.0\n",
       "Designer                                        5388.0  10461.600000  104616.0\n",
       "Data or business analyst                        5124.0   6879.600000   34398.0\n",
       "Engineer, data                                  5124.0   5300.000000   15900.0\n",
       "Database administrator                          5124.0  14517.428571  101622.0\n",
       "Academic researcher                             4872.0   7803.000000   62424.0\n",
       "Marketing or sales professional                    NaN           NaN       0.0"
      ]
     },
     "execution_count": 174,
     "metadata": {},
     "output_type": "execute_result"
    }
   ],
   "source": [
    "title_earn = egypt_data.groupby('DevType')['ConvertedComp'].agg([np.median, np.mean, np.sum])\n",
    "title_earn.sort_values(by='median', ascending=False)"
   ]
  },
  {
   "cell_type": "markdown",
   "id": "5d363b53",
   "metadata": {},
   "source": [
    "## From the first look, the data has some problems in salaries\n",
    "#### Let's see it globaly"
   ]
  },
  {
   "cell_type": "code",
   "execution_count": 185,
   "id": "6c62e2d6",
   "metadata": {},
   "outputs": [
    {
     "data": {
      "text/plain": [
       "DevType\n",
       "Senior executive/VP                              155010.026515\n",
       "Engineering manager                              152102.136316\n",
       "Marketing or sales professional                  149901.096096\n",
       "Engineer, site reliability                       147103.356946\n",
       "Engineer, data                                   125454.218274\n",
       "Data scientist or machine learning specialist    123911.183276\n",
       "Product manager                                  120308.004896\n",
       "DevOps specialist                                117256.690296\n",
       "Data or business analyst                         117228.031972\n",
       "Developer, embedded applications or devices      116052.122971\n",
       "Name: ConvertedComp, dtype: float64"
      ]
     },
     "execution_count": 185,
     "metadata": {},
     "output_type": "execute_result"
    }
   ],
   "source": [
    "global_salaris = df.explode('DevType')\n",
    "global_salaris.groupby('DevType')['ConvertedComp'].mean().sort_values(ascending=False).head(10)\n",
    "\n",
    "\"\"\"\"\n",
    "Here we can see: Data scientist or machine learning specialist appears in the first 10\n",
    "seems logical comparable to the Egypt Data\n",
    "\n",
    "\"\"\"\n"
   ]
  },
  {
   "cell_type": "markdown",
   "id": "c50bb8af",
   "metadata": {},
   "source": [
    "## Which countries has the higher salary in the first 10 jobs?"
   ]
  },
  {
   "cell_type": "code",
   "execution_count": 188,
   "id": "327e9f61",
   "metadata": {},
   "outputs": [],
   "source": [
    "# get the names of the jobs\n",
    "highest_ten_jobs = global_salaris.groupby('DevType')['ConvertedComp'].mean().sort_values(ascending=False).head(10).index"
   ]
  },
  {
   "cell_type": "code",
   "execution_count": 198,
   "id": "1ecc1658",
   "metadata": {},
   "outputs": [
    {
     "data": {
      "text/plain": [
       "Country             DevType                                      \n",
       "Nomadic             Marketing or sales professional                  2000000.0\n",
       "                    Developer, embedded applications or devices      2000000.0\n",
       "                    Data scientist or machine learning specialist    2000000.0\n",
       "                    Engineer, site reliability                       1660000.0\n",
       "Hong Kong (S.A.R.)  Product manager                                  1095000.0\n",
       "Nomadic             Senior executive/VP                              1075000.0\n",
       "                    Engineer, data                                   1047500.0\n",
       "                    DevOps specialist                                1047500.0\n",
       "Nepal               Developer, embedded applications or devices      1043776.5\n",
       "Nomadic             Product manager                                  1019457.5\n",
       "Nepal               Engineer, site reliability                       1009456.0\n",
       "Uzbekistan          Data scientist or machine learning specialist    1000000.0\n",
       "Viet Nam            Senior executive/VP                              1000000.0\n",
       "Afghanistan         Developer, embedded applications or devices      1000000.0\n",
       "                    Engineer, data                                   1000000.0\n",
       "Name: ConvertedComp, dtype: float64"
      ]
     },
     "execution_count": 198,
     "metadata": {},
     "output_type": "execute_result"
    }
   ],
   "source": [
    "top_ten = global_salaris.loc[global_salaris['DevType'].isin(highest_ten_jobs)]\n",
    "top_ten.groupby(['Country','DevType'])['ConvertedComp'].mean().sort_values(ascending=False).dropna().head(15)"
   ]
  },
  {
   "cell_type": "code",
   "execution_count": null,
   "id": "0fd3b913",
   "metadata": {},
   "outputs": [],
   "source": []
  }
 ],
 "metadata": {
  "kernelspec": {
   "display_name": "Python 3 (ipykernel)",
   "language": "python",
   "name": "python3"
  },
  "language_info": {
   "codemirror_mode": {
    "name": "ipython",
    "version": 3
   },
   "file_extension": ".py",
   "mimetype": "text/x-python",
   "name": "python",
   "nbconvert_exporter": "python",
   "pygments_lexer": "ipython3",
   "version": "3.9.7"
  }
 },
 "nbformat": 4,
 "nbformat_minor": 5
}
