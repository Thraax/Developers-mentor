{
 "cells": [
  {
   "cell_type": "markdown",
   "id": "04f789f3-78d9-474d-84a3-dd71bc57a925",
   "metadata": {},
   "source": [
    "## Constants"
   ]
  },
  {
   "cell_type": "code",
   "execution_count": 3,
   "id": "9016817c",
   "metadata": {},
   "outputs": [],
   "source": [
    "DATA_PATH = 'C:\\\\Users\\\\Thrax\\\\Stackover_survey\\\\Survey_analysis\\\\data\\\\processed\\\\preprocessed_df.pkl'\n",
    "\n",
    "NA_STRING = 'Not Specified'\n",
    "# Important columns to analysis\n",
    "\n",
    "ROLE_COLS      = ['DevType']\n",
    "TECH_COLS      = ['LanguageWorkedWith',    'DatabaseWorkedWith',    'WebframeWorkedWith',    'MiscTechWorkedWith']\n",
    "TECH_NEXT_COLS = ['LanguageDesireNextYear', 'DatabaseDesireNextYear', 'WebframeDesireNextYear', 'MiscTechDesireNextYear',]\n"
   ]
  },
  {
   "cell_type": "markdown",
   "id": "8735acd7",
   "metadata": {},
   "source": [
    "## Import tools"
   ]
  },
  {
   "cell_type": "code",
   "execution_count": 4,
   "id": "422929dc",
   "metadata": {},
   "outputs": [],
   "source": [
    "# Reading data and preprocessing\n",
    "import pandas as pd\n",
    "import numpy as np\n",
    "\n",
    "\n",
    "# Sklearn\n",
    "from sklearn.preprocessing import MultiLabelBinarizer"
   ]
  },
  {
   "cell_type": "markdown",
   "id": "ad465196-0012-4466-b94c-2b8c16b69d64",
   "metadata": {},
   "source": [
    "## Read the Data"
   ]
  },
  {
   "cell_type": "code",
   "execution_count": 5,
   "id": "6cb8f6cc-0d42-4b88-86cc-c6adae7fbe49",
   "metadata": {},
   "outputs": [],
   "source": [
    "raw_data = pd.read_pickle(DATA_PATH)"
   ]
  },
  {
   "cell_type": "code",
   "execution_count": 6,
   "id": "75e0776a",
   "metadata": {},
   "outputs": [],
   "source": [
    "df = raw_data.copy()\n",
    "encoded_dfs = pd.DataFrame()\n",
    "\n",
    "# Enconde the important categorical columns by ' 1-hot encode '\n",
    "for col in ROLE_COLS + TECH_COLS:\n",
    "    binarizer = MultiLabelBinarizer()\n",
    "    encoded_dfs = pd.DataFrame(binarizer.fit_transform(df[col]), columns=binarizer.classes_, index=df[col].index)\n"
   ]
  },
  {
   "cell_type": "code",
   "execution_count": 7,
   "id": "5310a1f1",
   "metadata": {},
   "outputs": [],
   "source": [
    "# Merge the encoded DataFrame\n",
    "df = pd.concat([df, encoded_dfs], axis=1)"
   ]
  },
  {
   "cell_type": "code",
   "execution_count": 8,
   "id": "b2cd3089",
   "metadata": {},
   "outputs": [
    {
     "name": "stderr",
     "output_type": "stream",
     "text": [
      "C:\\Users\\Thrax\\AppData\\Local\\Temp/ipykernel_24508/3025901881.py:1: FutureWarning: Dropping of nuisance columns in DataFrame reductions (with 'numeric_only=None') is deprecated; in a future version this will raise TypeError.  Select only valid columns before calling the reduction.\n",
      "  skills_freq = df.drop('DevType', axis=1).sum().reset_index()\n"
     ]
    }
   ],
   "source": [
    "skills_freq = df.drop('DevType', axis=1).sum().reset_index()"
   ]
  },
  {
   "cell_type": "code",
   "execution_count": null,
   "id": "a5c2ec9a-1c60-43b6-b3af-768625f4b16d",
   "metadata": {},
   "outputs": [],
   "source": []
  }
 ],
 "metadata": {
  "kernelspec": {
   "display_name": "Python 3 (ipykernel)",
   "language": "python",
   "name": "python3"
  },
  "language_info": {
   "codemirror_mode": {
    "name": "ipython",
    "version": 3
   },
   "file_extension": ".py",
   "mimetype": "text/x-python",
   "name": "python",
   "nbconvert_exporter": "python",
   "pygments_lexer": "ipython3",
   "version": "3.9.7"
  }
 },
 "nbformat": 4,
 "nbformat_minor": 5
}
